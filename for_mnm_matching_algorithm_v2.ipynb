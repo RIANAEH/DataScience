{
  "nbformat": 4,
  "nbformat_minor": 0,
  "metadata": {
    "colab": {
      "name": "for_mnm_matching_algorithm_v2.ipynb",
      "provenance": [],
      "collapsed_sections": []
    },
    "kernelspec": {
      "name": "python3",
      "display_name": "Python 3"
    },
    "language_info": {
      "name": "python"
    }
  },
  "cells": [
    {
      "cell_type": "markdown",
      "metadata": {
        "id": "3kefols1FOZP"
      },
      "source": [
        "# for_mnm_matching_algorithm\n",
        "> KNN 알고리즘을 mnm에 적합하게 직접 구현\n"
      ]
    },
    {
      "cell_type": "markdown",
      "metadata": {
        "id": "GiFLO2lIJDrM"
      },
      "source": [
        "### 라이브러리 불러오기"
      ]
    },
    {
      "cell_type": "code",
      "metadata": {
        "id": "l7s2vOi_JBkt"
      },
      "source": [
        "import pandas as pd\n",
        "import numpy as np"
      ],
      "execution_count": 1,
      "outputs": []
    },
    {
      "cell_type": "markdown",
      "metadata": {
        "id": "IgJnx92pt9PG"
      },
      "source": [
        "### 설문조사 데이터 불러오기"
      ]
    },
    {
      "cell_type": "code",
      "metadata": {
        "colab": {
          "base_uri": "https://localhost:8080/",
          "height": 774
        },
        "id": "Tzdtl0NStO9M",
        "outputId": "0a09a49c-44d3-4def-cea4-736abb5d9acc"
      },
      "source": [
        "df = pd.read_excel(\"하우스 메이트 설문결과.xlsx\")\n",
        "df.head()"
      ],
      "execution_count": 2,
      "outputs": [
        {
          "output_type": "execute_result",
          "data": {
            "text/html": [
              "<div>\n",
              "<style scoped>\n",
              "    .dataframe tbody tr th:only-of-type {\n",
              "        vertical-align: middle;\n",
              "    }\n",
              "\n",
              "    .dataframe tbody tr th {\n",
              "        vertical-align: top;\n",
              "    }\n",
              "\n",
              "    .dataframe thead th {\n",
              "        text-align: right;\n",
              "    }\n",
              "</style>\n",
              "<table border=\"1\" class=\"dataframe\">\n",
              "  <thead>\n",
              "    <tr style=\"text-align: right;\">\n",
              "      <th></th>\n",
              "      <th>TIMESTAMP</th>\n",
              "      <th>1. 성별</th>\n",
              "      <th>2. 나이</th>\n",
              "      <th>3. mbti</th>\n",
              "      <th>4. 흡연 유무</th>\n",
              "      <th>4-1. 원하는 메이트의 흡연여부</th>\n",
              "      <th>5. 반려동물과 같이 살 예정이다.</th>\n",
              "      <th>5-1. 반려동물을 키울 경우 어떤 동물인가?</th>\n",
              "      <th>5-2. 메이트의 반려동물 중 허용가능한 것은?</th>\n",
              "      <th>6. 난방/냉방 관련 문제</th>\n",
              "      <th>7. 벌레를 잡을 수 있는가? (바퀴벌레, 돈벌레, 지네 정도)</th>\n",
              "      <th>7-1. 원하는 메이트</th>\n",
              "      <th>8.집에서 밥을 먹을 경우의 식사 스타일</th>\n",
              "      <th>8-1. 메이트가 집에서 요리하는 게 불편한가요? (냄새 문제 등)</th>\n",
              "      <th>9. 선호하는 식사유형</th>\n",
              "      <th>10. 메이트와 물건을 공유해도 괜찮습니까?</th>\n",
              "      <th>11. 방내에서의 소음문제</th>\n",
              "      <th>12. 음주 문제</th>\n",
              "      <th>13. 정리정돈을 신경쓰는 정도</th>\n",
              "      <th>14. 지인 출입</th>\n",
              "    </tr>\n",
              "  </thead>\n",
              "  <tbody>\n",
              "    <tr>\n",
              "      <th>0</th>\n",
              "      <td>2021-10-20 11:29:52</td>\n",
              "      <td>여자</td>\n",
              "      <td>24 ~ 26</td>\n",
              "      <td>infp</td>\n",
              "      <td>비흡연자</td>\n",
              "      <td>비흡연자</td>\n",
              "      <td>아니다</td>\n",
              "      <td>NaN</td>\n",
              "      <td>고양이\\t강아지</td>\n",
              "      <td>절대 못잡는다</td>\n",
              "      <td>NaN</td>\n",
              "      <td>벌레를 잡을 수 있어야만 한다</td>\n",
              "      <td>직접 요리</td>\n",
              "      <td>NaN</td>\n",
              "      <td>그렇다</td>\n",
              "      <td>NaN</td>\n",
              "      <td>NaN</td>\n",
              "      <td>소음은 없었으면 좋겠다.</td>\n",
              "      <td>2</td>\n",
              "      <td>누구든 데려오면 안된다.</td>\n",
              "    </tr>\n",
              "    <tr>\n",
              "      <th>1</th>\n",
              "      <td>2021-10-22 01:16:34</td>\n",
              "      <td>남자</td>\n",
              "      <td>27 ~ 29</td>\n",
              "      <td>intp</td>\n",
              "      <td>비흡연자</td>\n",
              "      <td>비흡연자</td>\n",
              "      <td>아니다</td>\n",
              "      <td>NaN</td>\n",
              "      <td>고양이\\t강아지</td>\n",
              "      <td>더위를 많이 타서 에어컨을 일찍부터 튼다\\t여름에 항상 에어컨을 켜놓는다\\t과한 난...</td>\n",
              "      <td>시키면 잡을 수 있다</td>\n",
              "      <td>벌레를 못잡아도 상관없다</td>\n",
              "      <td>직접 요리</td>\n",
              "      <td>NaN</td>\n",
              "      <td>혼자 먹는 걸 선호한다</td>\n",
              "      <td>사용하기 전 허락을 받으면 괜찮다</td>\n",
              "      <td>신경쓰지 않는다.</td>\n",
              "      <td>메이트가 술주정만 하지 않으면 된다</td>\n",
              "      <td>내 공간만 아니면 신경쓰이지 않는다</td>\n",
              "      <td>미리 말만 하면 지인이 출입해도 상관없다.</td>\n",
              "    </tr>\n",
              "    <tr>\n",
              "      <th>2</th>\n",
              "      <td>2021-10-22 01:29:18</td>\n",
              "      <td>여자</td>\n",
              "      <td>20 ~ 23</td>\n",
              "      <td>esfp</td>\n",
              "      <td>비흡연자</td>\n",
              "      <td>비흡연자</td>\n",
              "      <td>아니다</td>\n",
              "      <td>NaN</td>\n",
              "      <td>고양이\\t강아지\\t조류</td>\n",
              "      <td>더위를 많이 타서 에어컨을 일찍부터 튼다\\t추위를 많이 타서 난방을 일찍부터 튼다\\...</td>\n",
              "      <td>절대 못잡는다</td>\n",
              "      <td>벌레를 잡을 수 있어야만 한다</td>\n",
              "      <td>외부 음식(포장, 배달)</td>\n",
              "      <td>NaN</td>\n",
              "      <td>혼자 먹는 걸 선호한다</td>\n",
              "      <td>사용하기 전 허락을 받으면 괜찮다</td>\n",
              "      <td>10분 이상의 동영상/음악 소리는 신경쓰인다\\t지속적인 알람소리는 신경쓰인다</td>\n",
              "      <td>메이트가 술주정만 하지 않으면 된다</td>\n",
              "      <td>공유하는 공간의 경우 신경쓰인다</td>\n",
              "      <td>미리 말만 하면 지인이 출입해도 상관없다.</td>\n",
              "    </tr>\n",
              "    <tr>\n",
              "      <th>3</th>\n",
              "      <td>2021-10-22 01:31:02</td>\n",
              "      <td>남자</td>\n",
              "      <td>20 ~ 23</td>\n",
              "      <td>모른다</td>\n",
              "      <td>비흡연자</td>\n",
              "      <td>비흡연자</td>\n",
              "      <td>아니다</td>\n",
              "      <td>NaN</td>\n",
              "      <td>어떠한 동물도 안된다.</td>\n",
              "      <td>NaN</td>\n",
              "      <td>잡는데 거리낌이 없다</td>\n",
              "      <td>벌레를 못잡아도 상관없다</td>\n",
              "      <td>직접 요리</td>\n",
              "      <td>NaN</td>\n",
              "      <td>같이 먹는 걸 선호한다</td>\n",
              "      <td>사용하기 전 허락을 받으면 괜찮다</td>\n",
              "      <td>신경쓰지 않는다.</td>\n",
              "      <td>메이트의 술 문제는 신경쓰지 않는다</td>\n",
              "      <td>공유하는 공간의 경우 신경쓰인다</td>\n",
              "      <td>미리 말만 하면 지인이 출입해도 상관없다.</td>\n",
              "    </tr>\n",
              "    <tr>\n",
              "      <th>4</th>\n",
              "      <td>2021-10-22 01:33:35</td>\n",
              "      <td>남자</td>\n",
              "      <td>20 ~ 23</td>\n",
              "      <td>intp</td>\n",
              "      <td>비흡연자</td>\n",
              "      <td>비흡연자</td>\n",
              "      <td>아니다</td>\n",
              "      <td>NaN</td>\n",
              "      <td>어떠한 동물도 안된다.</td>\n",
              "      <td>과한 난방은 답답해하는 편이다</td>\n",
              "      <td>시키면 잡을 수 있다</td>\n",
              "      <td>벌레를 못잡아도 상관없다</td>\n",
              "      <td>직접 요리</td>\n",
              "      <td>NaN</td>\n",
              "      <td>혼자 먹는 걸 선호한다</td>\n",
              "      <td>괜찮지 않다(안된다)</td>\n",
              "      <td>지속적인 알람소리는 신경쓰인다</td>\n",
              "      <td>메이트가 술 냄새를 풍기는 것은 싫다\\t메이트가 술을 많이 마신 것 같은 모습을 보...</td>\n",
              "      <td>공유하는 공간의 경우 신경쓰인다</td>\n",
              "      <td>미리 말만 하면 지인이 출입해도 상관없다.</td>\n",
              "    </tr>\n",
              "  </tbody>\n",
              "</table>\n",
              "</div>"
            ],
            "text/plain": [
              "            TIMESTAMP 1. 성별  ...    13. 정리정돈을 신경쓰는 정도                14. 지인 출입\n",
              "0 2021-10-20 11:29:52    여자  ...                    2            누구든 데려오면 안된다.\n",
              "1 2021-10-22 01:16:34    남자  ...  내 공간만 아니면 신경쓰이지 않는다  미리 말만 하면 지인이 출입해도 상관없다.\n",
              "2 2021-10-22 01:29:18    여자  ...    공유하는 공간의 경우 신경쓰인다  미리 말만 하면 지인이 출입해도 상관없다.\n",
              "3 2021-10-22 01:31:02    남자  ...    공유하는 공간의 경우 신경쓰인다  미리 말만 하면 지인이 출입해도 상관없다.\n",
              "4 2021-10-22 01:33:35    남자  ...    공유하는 공간의 경우 신경쓰인다  미리 말만 하면 지인이 출입해도 상관없다.\n",
              "\n",
              "[5 rows x 20 columns]"
            ]
          },
          "metadata": {},
          "execution_count": 2
        }
      ]
    },
    {
      "cell_type": "code",
      "metadata": {
        "colab": {
          "base_uri": "https://localhost:8080/"
        },
        "id": "GwnbKh4Ou7ZC",
        "outputId": "586b96d6-5088-467e-a7f8-ce095f6cca5b"
      },
      "source": [
        "df.info()"
      ],
      "execution_count": 3,
      "outputs": [
        {
          "output_type": "stream",
          "name": "stdout",
          "text": [
            "<class 'pandas.core.frame.DataFrame'>\n",
            "RangeIndex: 72 entries, 0 to 71\n",
            "Data columns (total 20 columns):\n",
            " #   Column                                 Non-Null Count  Dtype         \n",
            "---  ------                                 --------------  -----         \n",
            " 0   TIMESTAMP                              72 non-null     datetime64[ns]\n",
            " 1   1. 성별                                  72 non-null     object        \n",
            " 2   2. 나이                                  72 non-null     object        \n",
            " 3   3. mbti                                72 non-null     object        \n",
            " 4   4. 흡연 유무                               72 non-null     object        \n",
            " 5   4-1. 원하는 메이트의 흡연여부                     72 non-null     object        \n",
            " 6   5. 반려동물과 같이 살 예정이다.                    72 non-null     object        \n",
            " 7   5-1. 반려동물을 키울 경우 어떤 동물인가?              15 non-null     object        \n",
            " 8   5-2. 메이트의 반려동물 중 허용가능한 것은?             72 non-null     object        \n",
            " 9   6. 난방/냉방 관련 문제                         71 non-null     object        \n",
            " 10  7. 벌레를 잡을 수 있는가? (바퀴벌레, 돈벌레, 지네 정도)    71 non-null     object        \n",
            " 11  7-1. 원하는 메이트                           72 non-null     object        \n",
            " 12  8.집에서 밥을 먹을 경우의 식사 스타일                 72 non-null     object        \n",
            " 13  8-1. 메이트가 집에서 요리하는 게 불편한가요? (냄새 문제 등)  64 non-null     object        \n",
            " 14  9. 선호하는 식사유형                           72 non-null     object        \n",
            " 15  10. 메이트와 물건을 공유해도 괜찮습니까?               71 non-null     object        \n",
            " 16  11. 방내에서의 소음문제                         70 non-null     object        \n",
            " 17  12. 음주 문제                              71 non-null     object        \n",
            " 18  13. 정리정돈을 신경쓰는 정도                      72 non-null     object        \n",
            " 19  14. 지인 출입                              72 non-null     object        \n",
            "dtypes: datetime64[ns](1), object(19)\n",
            "memory usage: 11.4+ KB\n"
          ]
        }
      ]
    },
    {
      "cell_type": "markdown",
      "metadata": {
        "id": "c-SOep4iL5Oc"
      },
      "source": [
        "### 컬럼 이름 변경\n",
        "- 컬럼 이름을 데이터베이스 테이블 명세서에 맞춰 변경한다.\n",
        "- time 컬럼을 제외하면 총 19개의 컬럼을 가진다."
      ]
    },
    {
      "cell_type": "code",
      "metadata": {
        "colab": {
          "base_uri": "https://localhost:8080/",
          "height": 1000
        },
        "id": "N3nEESWVKE5N",
        "outputId": "cb1f88c2-b8c2-4d91-9919-a360aa00edb7"
      },
      "source": [
        "df.columns = ['time', 'sex', 'age', 'mbti', 'user_smoking', 'mate_smoking', 'user_pet', 'user_pet_category', 'mate_pet_category', \n",
        "              'air', 'user_bug_killer', 'mate_bug_killer', 'user_cooking', 'mate_cooking', 'eat_together', 'share_item', 'noise', 'mate_alcohol', \n",
        "              'mate_clean', 'permission_to_enter']\n",
        "df.head()"
      ],
      "execution_count": 4,
      "outputs": [
        {
          "output_type": "execute_result",
          "data": {
            "text/html": [
              "<div>\n",
              "<style scoped>\n",
              "    .dataframe tbody tr th:only-of-type {\n",
              "        vertical-align: middle;\n",
              "    }\n",
              "\n",
              "    .dataframe tbody tr th {\n",
              "        vertical-align: top;\n",
              "    }\n",
              "\n",
              "    .dataframe thead th {\n",
              "        text-align: right;\n",
              "    }\n",
              "</style>\n",
              "<table border=\"1\" class=\"dataframe\">\n",
              "  <thead>\n",
              "    <tr style=\"text-align: right;\">\n",
              "      <th></th>\n",
              "      <th>time</th>\n",
              "      <th>sex</th>\n",
              "      <th>age</th>\n",
              "      <th>mbti</th>\n",
              "      <th>user_smoking</th>\n",
              "      <th>mate_smoking</th>\n",
              "      <th>user_pet</th>\n",
              "      <th>user_pet_category</th>\n",
              "      <th>mate_pet_category</th>\n",
              "      <th>air</th>\n",
              "      <th>user_bug_killer</th>\n",
              "      <th>mate_bug_killer</th>\n",
              "      <th>user_cooking</th>\n",
              "      <th>mate_cooking</th>\n",
              "      <th>eat_together</th>\n",
              "      <th>share_item</th>\n",
              "      <th>noise</th>\n",
              "      <th>mate_alcohol</th>\n",
              "      <th>mate_clean</th>\n",
              "      <th>permission_to_enter</th>\n",
              "    </tr>\n",
              "  </thead>\n",
              "  <tbody>\n",
              "    <tr>\n",
              "      <th>0</th>\n",
              "      <td>2021-10-20 11:29:52</td>\n",
              "      <td>여자</td>\n",
              "      <td>24 ~ 26</td>\n",
              "      <td>infp</td>\n",
              "      <td>비흡연자</td>\n",
              "      <td>비흡연자</td>\n",
              "      <td>아니다</td>\n",
              "      <td>NaN</td>\n",
              "      <td>고양이\\t강아지</td>\n",
              "      <td>절대 못잡는다</td>\n",
              "      <td>NaN</td>\n",
              "      <td>벌레를 잡을 수 있어야만 한다</td>\n",
              "      <td>직접 요리</td>\n",
              "      <td>NaN</td>\n",
              "      <td>그렇다</td>\n",
              "      <td>NaN</td>\n",
              "      <td>NaN</td>\n",
              "      <td>소음은 없었으면 좋겠다.</td>\n",
              "      <td>2</td>\n",
              "      <td>누구든 데려오면 안된다.</td>\n",
              "    </tr>\n",
              "    <tr>\n",
              "      <th>1</th>\n",
              "      <td>2021-10-22 01:16:34</td>\n",
              "      <td>남자</td>\n",
              "      <td>27 ~ 29</td>\n",
              "      <td>intp</td>\n",
              "      <td>비흡연자</td>\n",
              "      <td>비흡연자</td>\n",
              "      <td>아니다</td>\n",
              "      <td>NaN</td>\n",
              "      <td>고양이\\t강아지</td>\n",
              "      <td>더위를 많이 타서 에어컨을 일찍부터 튼다\\t여름에 항상 에어컨을 켜놓는다\\t과한 난...</td>\n",
              "      <td>시키면 잡을 수 있다</td>\n",
              "      <td>벌레를 못잡아도 상관없다</td>\n",
              "      <td>직접 요리</td>\n",
              "      <td>NaN</td>\n",
              "      <td>혼자 먹는 걸 선호한다</td>\n",
              "      <td>사용하기 전 허락을 받으면 괜찮다</td>\n",
              "      <td>신경쓰지 않는다.</td>\n",
              "      <td>메이트가 술주정만 하지 않으면 된다</td>\n",
              "      <td>내 공간만 아니면 신경쓰이지 않는다</td>\n",
              "      <td>미리 말만 하면 지인이 출입해도 상관없다.</td>\n",
              "    </tr>\n",
              "    <tr>\n",
              "      <th>2</th>\n",
              "      <td>2021-10-22 01:29:18</td>\n",
              "      <td>여자</td>\n",
              "      <td>20 ~ 23</td>\n",
              "      <td>esfp</td>\n",
              "      <td>비흡연자</td>\n",
              "      <td>비흡연자</td>\n",
              "      <td>아니다</td>\n",
              "      <td>NaN</td>\n",
              "      <td>고양이\\t강아지\\t조류</td>\n",
              "      <td>더위를 많이 타서 에어컨을 일찍부터 튼다\\t추위를 많이 타서 난방을 일찍부터 튼다\\...</td>\n",
              "      <td>절대 못잡는다</td>\n",
              "      <td>벌레를 잡을 수 있어야만 한다</td>\n",
              "      <td>외부 음식(포장, 배달)</td>\n",
              "      <td>NaN</td>\n",
              "      <td>혼자 먹는 걸 선호한다</td>\n",
              "      <td>사용하기 전 허락을 받으면 괜찮다</td>\n",
              "      <td>10분 이상의 동영상/음악 소리는 신경쓰인다\\t지속적인 알람소리는 신경쓰인다</td>\n",
              "      <td>메이트가 술주정만 하지 않으면 된다</td>\n",
              "      <td>공유하는 공간의 경우 신경쓰인다</td>\n",
              "      <td>미리 말만 하면 지인이 출입해도 상관없다.</td>\n",
              "    </tr>\n",
              "    <tr>\n",
              "      <th>3</th>\n",
              "      <td>2021-10-22 01:31:02</td>\n",
              "      <td>남자</td>\n",
              "      <td>20 ~ 23</td>\n",
              "      <td>모른다</td>\n",
              "      <td>비흡연자</td>\n",
              "      <td>비흡연자</td>\n",
              "      <td>아니다</td>\n",
              "      <td>NaN</td>\n",
              "      <td>어떠한 동물도 안된다.</td>\n",
              "      <td>NaN</td>\n",
              "      <td>잡는데 거리낌이 없다</td>\n",
              "      <td>벌레를 못잡아도 상관없다</td>\n",
              "      <td>직접 요리</td>\n",
              "      <td>NaN</td>\n",
              "      <td>같이 먹는 걸 선호한다</td>\n",
              "      <td>사용하기 전 허락을 받으면 괜찮다</td>\n",
              "      <td>신경쓰지 않는다.</td>\n",
              "      <td>메이트의 술 문제는 신경쓰지 않는다</td>\n",
              "      <td>공유하는 공간의 경우 신경쓰인다</td>\n",
              "      <td>미리 말만 하면 지인이 출입해도 상관없다.</td>\n",
              "    </tr>\n",
              "    <tr>\n",
              "      <th>4</th>\n",
              "      <td>2021-10-22 01:33:35</td>\n",
              "      <td>남자</td>\n",
              "      <td>20 ~ 23</td>\n",
              "      <td>intp</td>\n",
              "      <td>비흡연자</td>\n",
              "      <td>비흡연자</td>\n",
              "      <td>아니다</td>\n",
              "      <td>NaN</td>\n",
              "      <td>어떠한 동물도 안된다.</td>\n",
              "      <td>과한 난방은 답답해하는 편이다</td>\n",
              "      <td>시키면 잡을 수 있다</td>\n",
              "      <td>벌레를 못잡아도 상관없다</td>\n",
              "      <td>직접 요리</td>\n",
              "      <td>NaN</td>\n",
              "      <td>혼자 먹는 걸 선호한다</td>\n",
              "      <td>괜찮지 않다(안된다)</td>\n",
              "      <td>지속적인 알람소리는 신경쓰인다</td>\n",
              "      <td>메이트가 술 냄새를 풍기는 것은 싫다\\t메이트가 술을 많이 마신 것 같은 모습을 보...</td>\n",
              "      <td>공유하는 공간의 경우 신경쓰인다</td>\n",
              "      <td>미리 말만 하면 지인이 출입해도 상관없다.</td>\n",
              "    </tr>\n",
              "  </tbody>\n",
              "</table>\n",
              "</div>"
            ],
            "text/plain": [
              "                 time sex  ...           mate_clean      permission_to_enter\n",
              "0 2021-10-20 11:29:52  여자  ...                    2            누구든 데려오면 안된다.\n",
              "1 2021-10-22 01:16:34  남자  ...  내 공간만 아니면 신경쓰이지 않는다  미리 말만 하면 지인이 출입해도 상관없다.\n",
              "2 2021-10-22 01:29:18  여자  ...    공유하는 공간의 경우 신경쓰인다  미리 말만 하면 지인이 출입해도 상관없다.\n",
              "3 2021-10-22 01:31:02  남자  ...    공유하는 공간의 경우 신경쓰인다  미리 말만 하면 지인이 출입해도 상관없다.\n",
              "4 2021-10-22 01:33:35  남자  ...    공유하는 공간의 경우 신경쓰인다  미리 말만 하면 지인이 출입해도 상관없다.\n",
              "\n",
              "[5 rows x 20 columns]"
            ]
          },
          "metadata": {},
          "execution_count": 4
        }
      ]
    },
    {
      "cell_type": "markdown",
      "metadata": {
        "id": "yid007nxNClo"
      },
      "source": [
        "### 컬럼 설명\n",
        "- sex : 여자, 남자\n",
        "- age : 10대, 20 ~ 23, 24 ~ 26, 27 ~ 29, 30대, 40대\n",
        "- mbti : 따로 처리 필요\n",
        "- user_smoking : 흡연자, 비흡연자\n",
        "- mate_smoking : 흡연자, 비흡연자, 상관없음\n",
        "  - 상관없음의 경우 해당 컬럼을 사용하지 않는 경우와 중간값을 주는 두가지의 방법을 사용할 수 있다.\n",
        "- user_pet : 그렇다, 아니다\n",
        "- user_pet_category : 강아지, 고양이, '파충류, 어류', 설치류, 조류, '기타'\n",
        "  - \n",
        "- mate_pet_category : 어떠한 동물도 안된다., 어떤 동물이든 괜찮다., 고양이, 강아지, '파충류, 어류', 설치류, 조류\n",
        "  - 어떠한 동물도 안된다. : user_pet == '그렇다' 일 경우를 제외한다.\n",
        "  - 어떤 동물이든 괜찮다. : \n",
        "- air : 더위를 많이 타서 에어컨을 일찍부터 튼다, 여름에 항상 에어컨을 켜놓는다 = air_like_airconditionner / 에어컨을 틀고 못잔다 = air_night_airconditioner / 추위를 많이 타서 난방을 일찍부터 튼다, 과한 난방은 답답해하는 편이다 = air_like_heater / 해당하는 상황 없음 = air = none\n",
        "- user_bug_killer : 잡는데 거리낌이 없다, 시키면 잡을 수 있다, 절대 못잡는다\n",
        "- mate_bug_killer : 벌레를 잡을 수 있어야 한다, 벌레를 못잡아도 상관없다\n",
        "- user_cooking : 직접 요리, 외부 음식(포장, 배달)\n",
        "- mate_cooking : 불편하다, 신경쓰지 않는다(불편하지 않다)\n",
        "- eat_together : 혼자 먹는 걸 선호한다, 같이 먹는 걸 선호한다\n",
        "- shre_item : 말 안하고 사용해도 괜찮다, 사용하기 전 허락을 받으면 괜찮다, 괜찮지 않다(안된다)\n",
        "- noise : 신경쓰지 않는다. = noise_none / 10분 이상의 말소리(통화/게임)은 신경쓰인다, 10분 이전의 말소리(통화/게임)도 신경쓰인다 = noise_talking / 10분 이상의 동영상/음악 소리는 신경쓰인다, 10분 이전의 동영상/음악 소리도 신경쓰인다 = noise_music / 지속적인 알람소리는 신경쓰인다 = noise_alarm\n",
        "- mate_alcohol : 메이트의 술 문제는 신경쓰지 않는다, 메이트가 술 냄새를 풍기는 것은 싫다, 메이트가 술을 많이 마신 것 같은 모습을 보이면 싫다, 메이트가 술주정만 하지 않으면 된다\n",
        "- mate_clean : 내 공간만 아니면 신경쓰이지 않는다, 공유하는 공간의 경우 신경쓰인다, 메이트의 공간까지 신경쓰인다\n",
        "- permission_to_enter : 본인이 없을 때 말없이 지인이 잠깐 출입해도 상관없다., 미리 말만 하면 지인이 출입해도 상관없다., 누구든 데려오면 안된다."
      ]
    },
    {
      "cell_type": "code",
      "metadata": {
        "colab": {
          "base_uri": "https://localhost:8080/"
        },
        "id": "5qwdnI8l_dwC",
        "outputId": "282c9161-e973-48ba-9388-97564f0683f1"
      },
      "source": [
        "df.isnull().sum()"
      ],
      "execution_count": 5,
      "outputs": [
        {
          "output_type": "execute_result",
          "data": {
            "text/plain": [
              "time                    0\n",
              "sex                     0\n",
              "age                     0\n",
              "mbti                    0\n",
              "user_smoking            0\n",
              "mate_smoking            0\n",
              "user_pet                0\n",
              "user_pet_category      57\n",
              "mate_pet_category       0\n",
              "air                     1\n",
              "user_bug_killer         1\n",
              "mate_bug_killer         0\n",
              "user_cooking            0\n",
              "mate_cooking            8\n",
              "eat_together            0\n",
              "share_item              1\n",
              "noise                   2\n",
              "mate_alcohol            1\n",
              "mate_clean              0\n",
              "permission_to_enter     0\n",
              "dtype: int64"
            ]
          },
          "metadata": {},
          "execution_count": 5
        }
      ]
    },
    {
      "cell_type": "markdown",
      "metadata": {
        "id": "RVBdJgMB5H2_"
      },
      "source": [
        "### 컬럼별 데이터 전처리\n",
        "- 컬럼 분리\n",
        "- 데이터를 0~1사이의 숫자로 변환"
      ]
    },
    {
      "cell_type": "markdown",
      "metadata": {
        "id": "_tcwD0uX9pW0"
      },
      "source": [
        "- sex"
      ]
    },
    {
      "cell_type": "code",
      "metadata": {
        "colab": {
          "base_uri": "https://localhost:8080/"
        },
        "id": "pMbuT9BG90kG",
        "outputId": "6c221329-c138-4aa2-a228-33f5d6b2555f"
      },
      "source": [
        "print(df['sex'].value_counts())\n",
        "print(\"NaN : \", df['sex'].isnull().sum())"
      ],
      "execution_count": 6,
      "outputs": [
        {
          "output_type": "stream",
          "name": "stdout",
          "text": [
            "여자    54\n",
            "남자    18\n",
            "Name: sex, dtype: int64\n",
            "NaN :  0\n"
          ]
        }
      ]
    },
    {
      "cell_type": "code",
      "metadata": {
        "colab": {
          "base_uri": "https://localhost:8080/"
        },
        "id": "WmCrEN_q9rDS",
        "outputId": "71166ae2-6f31-43d2-aac0-9cdf620ee85c"
      },
      "source": [
        "df['sex'] = df['sex'].apply(lambda x : 1 if str(x) == '여자' else 0)\n",
        "print(df['sex'].value_counts())\n",
        "print(\"NaN : \", df['sex'].isnull().sum())"
      ],
      "execution_count": 7,
      "outputs": [
        {
          "output_type": "stream",
          "name": "stdout",
          "text": [
            "1    54\n",
            "0    18\n",
            "Name: sex, dtype: int64\n",
            "NaN :  0\n"
          ]
        }
      ]
    },
    {
      "cell_type": "markdown",
      "metadata": {
        "id": "J3LbEmNl9_xR"
      },
      "source": [
        "- age"
      ]
    },
    {
      "cell_type": "code",
      "metadata": {
        "colab": {
          "base_uri": "https://localhost:8080/"
        },
        "id": "6G1wJtEh99Q9",
        "outputId": "ff4832cd-9258-4f11-c4f1-313da419a312"
      },
      "source": [
        "print(df['age'].value_counts())\n",
        "print(\"NaN : \", df['age'].isnull().sum())"
      ],
      "execution_count": 8,
      "outputs": [
        {
          "output_type": "stream",
          "name": "stdout",
          "text": [
            "24 ~ 26    32\n",
            "20 ~ 23    26\n",
            "27 ~ 29     7\n",
            "30대         4\n",
            "10대         3\n",
            "Name: age, dtype: int64\n",
            "NaN :  0\n"
          ]
        }
      ]
    },
    {
      "cell_type": "code",
      "metadata": {
        "colab": {
          "base_uri": "https://localhost:8080/"
        },
        "id": "P02682K2-E9R",
        "outputId": "61997c01-be74-4876-daa2-23a9db4c3895"
      },
      "source": [
        "def func(x):\n",
        "  if '40대 이후' == str(x):\n",
        "    return 1\n",
        "  elif '30대' == str(x):\n",
        "    return 0.8\n",
        "  elif '27 ~ 29' == str(x):\n",
        "    return 0.6\n",
        "  elif '24 ~ 26' == str(x):\n",
        "    return 0.4\n",
        "  elif '20 ~ 23' == str(x):\n",
        "    return 0.2\n",
        "  elif '10대' == str(x):\n",
        "    return 0\n",
        "  else:\n",
        "    return np.nan\n",
        "\n",
        "df['age'] = df['age'].apply(lambda x : func(x))\n",
        "print(df['age'].value_counts())\n",
        "print(\"NaN : \", df['age'].isnull().sum())"
      ],
      "execution_count": 9,
      "outputs": [
        {
          "output_type": "stream",
          "name": "stdout",
          "text": [
            "0.4    32\n",
            "0.2    26\n",
            "0.6     7\n",
            "0.8     4\n",
            "0.0     3\n",
            "Name: age, dtype: int64\n",
            "NaN :  0\n"
          ]
        }
      ]
    },
    {
      "cell_type": "markdown",
      "metadata": {
        "id": "DPzU7Xnr_WEl"
      },
      "source": [
        "- mbti\n",
        "  - '모른다' -> 0.5"
      ]
    },
    {
      "cell_type": "code",
      "metadata": {
        "colab": {
          "base_uri": "https://localhost:8080/"
        },
        "id": "LexBXIdU_aOV",
        "outputId": "48a4c3b3-22ab-466c-efa3-dff24abbc9d1"
      },
      "source": [
        "print(df['mbti'].value_counts())\n",
        "print(\"NaN : \", df['mbti'].isnull().sum())"
      ],
      "execution_count": 10,
      "outputs": [
        {
          "output_type": "stream",
          "name": "stdout",
          "text": [
            "isfj    8\n",
            "infp    8\n",
            "enfj    8\n",
            "isfp    7\n",
            "esfp    6\n",
            "모른다     5\n",
            "intp    5\n",
            "istp    4\n",
            "esfj    4\n",
            "infj    4\n",
            "enfp    4\n",
            "intj    3\n",
            "entp    2\n",
            "istj    2\n",
            "entj    2\n",
            "Name: mbti, dtype: int64\n",
            "NaN :  0\n"
          ]
        }
      ]
    },
    {
      "cell_type": "code",
      "metadata": {
        "colab": {
          "base_uri": "https://localhost:8080/"
        },
        "id": "oHPTbJZ7_iWO",
        "outputId": "f790acfc-59f9-4325-bbb5-9045785fa7cc"
      },
      "source": [
        "df['mbti'] = df['mbti'].apply(lambda x : 0.5 if str(x) == '모른다' else str(x))\n",
        "print(df['mbti'].value_counts())\n",
        "print(\"NaN : \", df['mbti'].isnull().sum())"
      ],
      "execution_count": 11,
      "outputs": [
        {
          "output_type": "stream",
          "name": "stdout",
          "text": [
            "isfj    8\n",
            "infp    8\n",
            "enfj    8\n",
            "isfp    7\n",
            "esfp    6\n",
            "intp    5\n",
            "0.5     5\n",
            "esfj    4\n",
            "infj    4\n",
            "enfp    4\n",
            "istp    4\n",
            "intj    3\n",
            "entp    2\n",
            "istj    2\n",
            "entj    2\n",
            "Name: mbti, dtype: int64\n",
            "NaN :  0\n"
          ]
        }
      ]
    },
    {
      "cell_type": "markdown",
      "metadata": {
        "id": "pkd3oYWmrhaB"
      },
      "source": [
        "- user_smoking : 흡연자, 비흡연자\n",
        "- mate_smoking : 흡연자, 비흡연자, 상관없음\n",
        "  - 상관없음의 경우 해당 컬럼을 사용하지 않는 경우와 중간값을 주는 두가지의 방법을 사용할 수 있다."
      ]
    },
    {
      "cell_type": "code",
      "metadata": {
        "colab": {
          "base_uri": "https://localhost:8080/"
        },
        "id": "wTNKavySriew",
        "outputId": "7ddac4cc-039e-48ba-96f9-cbbdda73cfb3"
      },
      "source": [
        "print(df['user_smoking'].value_counts())\n",
        "print(\"NaN : \", df['user_smoking'].isnull().sum())"
      ],
      "execution_count": 12,
      "outputs": [
        {
          "output_type": "stream",
          "name": "stdout",
          "text": [
            "비흡연자    64\n",
            "흡연자      8\n",
            "Name: user_smoking, dtype: int64\n",
            "NaN :  0\n"
          ]
        }
      ]
    },
    {
      "cell_type": "code",
      "metadata": {
        "colab": {
          "base_uri": "https://localhost:8080/"
        },
        "id": "aUGywn8irz3i",
        "outputId": "93e03318-9266-4457-d25b-a31aeadbe4bc"
      },
      "source": [
        "df['user_smoking'] = df['user_smoking'].apply(lambda x : 1 if str(x) == '흡연자' else 0)\n",
        "print(df['user_smoking'].value_counts())\n",
        "print(\"NaN : \", df['user_smoking'].isnull().sum())"
      ],
      "execution_count": 13,
      "outputs": [
        {
          "output_type": "stream",
          "name": "stdout",
          "text": [
            "0    64\n",
            "1     8\n",
            "Name: user_smoking, dtype: int64\n",
            "NaN :  0\n"
          ]
        }
      ]
    },
    {
      "cell_type": "code",
      "metadata": {
        "colab": {
          "base_uri": "https://localhost:8080/"
        },
        "id": "9n0HXwKGt6iU",
        "outputId": "41542dbd-b5a3-493f-b332-62367da8ead4"
      },
      "source": [
        "print(df['mate_smoking'].value_counts())\n",
        "print(\"NaN : \", df['mate_smoking'].isnull().sum())"
      ],
      "execution_count": 14,
      "outputs": [
        {
          "output_type": "stream",
          "name": "stdout",
          "text": [
            "비흡연자    58\n",
            "상관없음    11\n",
            "흡연자      3\n",
            "Name: mate_smoking, dtype: int64\n",
            "NaN :  0\n"
          ]
        }
      ]
    },
    {
      "cell_type": "code",
      "metadata": {
        "colab": {
          "base_uri": "https://localhost:8080/"
        },
        "id": "xMqI7KSgtZsM",
        "outputId": "40923d14-4861-44ff-ea84-228057d34db1"
      },
      "source": [
        "def func(x):\n",
        "  if '흡연자' == str(x):\n",
        "    return 1\n",
        "  elif '상관없음'== str(x):\n",
        "    return 0.5\n",
        "  elif '비흡연자' == str(x):\n",
        "    return 0\n",
        "  else:\n",
        "    return np.nan\n",
        "\n",
        "df['mate_smoking'] = df['mate_smoking'].apply(lambda x : func(x))\n",
        "print(df['mate_smoking'].value_counts())\n",
        "print(\"NaN : \", df['mate_smoking'].isnull().sum())"
      ],
      "execution_count": 15,
      "outputs": [
        {
          "output_type": "stream",
          "name": "stdout",
          "text": [
            "0.0    58\n",
            "0.5    11\n",
            "1.0     3\n",
            "Name: mate_smoking, dtype: int64\n",
            "NaN :  0\n"
          ]
        }
      ]
    },
    {
      "cell_type": "markdown",
      "metadata": {
        "id": "KJqnpwSQu2cA"
      },
      "source": [
        "- user_pet : 그렇다, 아니다\n",
        "- user_pet_category : 강아지, 고양이, '파충류, 어류', 설치류, 조류, '기타'\n",
        "  - \n",
        "- mate_pet_category : 어떠한 동물도 안된다., 어떤 동물이든 괜찮다., 고양이, 강아지, '파충류, 어류', 설치류, 조류\n",
        "  - 어떠한 동물도 안된다. : user_pet == '그렇다' 일 경우를 제외한다.\n",
        "  - 어떤 동물이든 괜찮다. : "
      ]
    },
    {
      "cell_type": "code",
      "metadata": {
        "colab": {
          "base_uri": "https://localhost:8080/"
        },
        "id": "NvHWaiPau3VG",
        "outputId": "b788e6eb-8f26-4424-8856-be637d35edc1"
      },
      "source": [
        "print(df['user_pet'].value_counts())\n",
        "print(\"NaN : \", df['user_pet'].isnull().sum())"
      ],
      "execution_count": 16,
      "outputs": [
        {
          "output_type": "stream",
          "name": "stdout",
          "text": [
            "아니다    60\n",
            "그렇다    12\n",
            "Name: user_pet, dtype: int64\n",
            "NaN :  0\n"
          ]
        }
      ]
    },
    {
      "cell_type": "code",
      "metadata": {
        "colab": {
          "base_uri": "https://localhost:8080/"
        },
        "id": "RYV4zT-y03WF",
        "outputId": "ba012af6-6f29-4685-c851-6d0385b5dcc8"
      },
      "source": [
        "df['user_pet'] = df['user_pet'].apply(lambda x : 1 if str(x) == '그렇다' else 0)\n",
        "print(df['user_pet'].value_counts())\n",
        "print(\"NaN : \", df['user_pet'].isnull().sum())"
      ],
      "execution_count": 17,
      "outputs": [
        {
          "output_type": "stream",
          "name": "stdout",
          "text": [
            "0    60\n",
            "1    12\n",
            "Name: user_pet, dtype: int64\n",
            "NaN :  0\n"
          ]
        }
      ]
    },
    {
      "cell_type": "markdown",
      "metadata": {
        "id": "kZjw6vtE1LeQ"
      },
      "source": [
        "- user_pet_category 컬럼을 분리해야한다."
      ]
    },
    {
      "cell_type": "code",
      "metadata": {
        "colab": {
          "base_uri": "https://localhost:8080/"
        },
        "id": "v7O8E30su-Vt",
        "outputId": "5c69a462-c848-456d-9ce4-1e0ebfa48dbb"
      },
      "source": [
        "print(df['user_pet_category'].value_counts())\n",
        "print(\"NaN : \", df['user_pet_category'].isnull().sum())"
      ],
      "execution_count": 18,
      "outputs": [
        {
          "output_type": "stream",
          "name": "stdout",
          "text": [
            "강아지              7\n",
            "고양이              3\n",
            "강아지\\t고양이         3\n",
            "강아지\\t고양이\\t해파리    1\n",
            "동물털 알러지 있음       1\n",
            "Name: user_pet_category, dtype: int64\n",
            "NaN :  57\n"
          ]
        }
      ]
    },
    {
      "cell_type": "code",
      "metadata": {
        "colab": {
          "base_uri": "https://localhost:8080/"
        },
        "id": "tQ-v5a9B1RY2",
        "outputId": "9f5b7c21-1d76-4389-ef68-3c3820dfbae9"
      },
      "source": [
        "df['user_pet_dog'] = df['user_pet_category'].apply(lambda x : 1 if '강아지' in str(x) else 0)\n",
        "print(df['user_pet_dog'].value_counts())\n",
        "print(\"NaN : \", df['user_pet_dog'].isnull().sum())"
      ],
      "execution_count": 19,
      "outputs": [
        {
          "output_type": "stream",
          "name": "stdout",
          "text": [
            "0    61\n",
            "1    11\n",
            "Name: user_pet_dog, dtype: int64\n",
            "NaN :  0\n"
          ]
        }
      ]
    },
    {
      "cell_type": "code",
      "metadata": {
        "colab": {
          "base_uri": "https://localhost:8080/"
        },
        "id": "FXCT5U-j1orO",
        "outputId": "bf9264fe-f8d7-43f6-c410-cd63b9611537"
      },
      "source": [
        "df['user_pet_cat'] = df['user_pet_category'].apply(lambda x : 1 if '고양이' in str(x) else 0)\n",
        "print(df['user_pet_cat'].value_counts())\n",
        "print(\"NaN : \", df['user_pet_cat'].isnull().sum())"
      ],
      "execution_count": 20,
      "outputs": [
        {
          "output_type": "stream",
          "name": "stdout",
          "text": [
            "0    65\n",
            "1     7\n",
            "Name: user_pet_cat, dtype: int64\n",
            "NaN :  0\n"
          ]
        }
      ]
    },
    {
      "cell_type": "code",
      "metadata": {
        "colab": {
          "base_uri": "https://localhost:8080/"
        },
        "id": "XHj_GgjT1vss",
        "outputId": "b0162813-5e7c-4aad-e885-f61c7e311254"
      },
      "source": [
        "df['user_pet_reptie_fish'] = df['user_pet_category'].apply(lambda x : 1 if '파충류, 어류' in str(x) else 0)\n",
        "print(df['user_pet_reptie_fish'].value_counts())\n",
        "print(\"NaN : \", df['user_pet_reptie_fish'].isnull().sum())"
      ],
      "execution_count": 21,
      "outputs": [
        {
          "output_type": "stream",
          "name": "stdout",
          "text": [
            "0    72\n",
            "Name: user_pet_reptie_fish, dtype: int64\n",
            "NaN :  0\n"
          ]
        }
      ]
    },
    {
      "cell_type": "code",
      "metadata": {
        "colab": {
          "base_uri": "https://localhost:8080/"
        },
        "id": "TwTSk9mg14BR",
        "outputId": "484e937a-c12c-442b-a1c7-fe587a2ab426"
      },
      "source": [
        "df['user_pet_rodent'] = df['user_pet_category'].apply(lambda x : 1 if '설치류' in str(x) else 0)\n",
        "print(df['user_pet_rodent'].value_counts())\n",
        "print(\"NaN : \", df['user_pet_rodent'].isnull().sum())"
      ],
      "execution_count": 22,
      "outputs": [
        {
          "output_type": "stream",
          "name": "stdout",
          "text": [
            "0    72\n",
            "Name: user_pet_rodent, dtype: int64\n",
            "NaN :  0\n"
          ]
        }
      ]
    },
    {
      "cell_type": "code",
      "metadata": {
        "colab": {
          "base_uri": "https://localhost:8080/"
        },
        "id": "EJCH0EMZ2FpC",
        "outputId": "4e1764af-3f34-4d87-b490-afab31ad3175"
      },
      "source": [
        "df['user_pet_bird'] = df['user_pet_category'].apply(lambda x : 1 if '조류' in str(x) else 0)\n",
        "print(df['user_pet_bird'].value_counts())\n",
        "print(\"NaN : \", df['user_pet_bird'].isnull().sum())"
      ],
      "execution_count": 23,
      "outputs": [
        {
          "output_type": "stream",
          "name": "stdout",
          "text": [
            "0    72\n",
            "Name: user_pet_bird, dtype: int64\n",
            "NaN :  0\n"
          ]
        }
      ]
    },
    {
      "cell_type": "code",
      "metadata": {
        "colab": {
          "base_uri": "https://localhost:8080/"
        },
        "id": "6WWZhV1a3NL8",
        "outputId": "545f845e-dfc2-4216-b2b8-6d40ca0c6a45"
      },
      "source": [
        "# user_pet_category 삭제\n",
        "df = df.drop(columns='user_pet_category')\n",
        "df.columns"
      ],
      "execution_count": 24,
      "outputs": [
        {
          "output_type": "execute_result",
          "data": {
            "text/plain": [
              "Index(['time', 'sex', 'age', 'mbti', 'user_smoking', 'mate_smoking',\n",
              "       'user_pet', 'mate_pet_category', 'air', 'user_bug_killer',\n",
              "       'mate_bug_killer', 'user_cooking', 'mate_cooking', 'eat_together',\n",
              "       'share_item', 'noise', 'mate_alcohol', 'mate_clean',\n",
              "       'permission_to_enter', 'user_pet_dog', 'user_pet_cat',\n",
              "       'user_pet_reptie_fish', 'user_pet_rodent', 'user_pet_bird'],\n",
              "      dtype='object')"
            ]
          },
          "metadata": {},
          "execution_count": 24
        }
      ]
    },
    {
      "cell_type": "markdown",
      "metadata": {
        "id": "-a_Wrmz-2RZD"
      },
      "source": [
        "- mate_pet_category 컬럼을 분리해야한다."
      ]
    },
    {
      "cell_type": "code",
      "metadata": {
        "colab": {
          "base_uri": "https://localhost:8080/"
        },
        "id": "NfdaWXcIvBfn",
        "outputId": "eb8f872b-7c0e-4480-a6d6-e27a899ac552"
      },
      "source": [
        "print(df['mate_pet_category'].value_counts())\n",
        "print(\"NaN : \", df['mate_pet_category'].isnull().sum())"
      ],
      "execution_count": 25,
      "outputs": [
        {
          "output_type": "stream",
          "name": "stdout",
          "text": [
            "어떠한 동물도 안된다.                  21\n",
            "고양이\\t강아지                      20\n",
            "강아지                           11\n",
            "고양이                            5\n",
            "어떤 동물이든 괜찮다.                   3\n",
            "고양이\\t강아지\\t파충류, 어류              3\n",
            "고양이\\t강아지\\t조류                   2\n",
            "파충류, 어류                        2\n",
            "고양이\\t강아지\\t파충류, 어류\\t설치류         1\n",
            "어떠한 동물도 안된다.\\t어떤 동물이든 괜찮다.     1\n",
            "고양이\\t강아지\\t설치류                  1\n",
            "고양이\\t강아지\\t파충류, 어류\\t조류          1\n",
            "고양이\\t파충류, 어류\\t설치류\\t조류          1\n",
            "Name: mate_pet_category, dtype: int64\n",
            "NaN :  0\n"
          ]
        }
      ]
    },
    {
      "cell_type": "code",
      "metadata": {
        "colab": {
          "base_uri": "https://localhost:8080/"
        },
        "id": "tZr6hACx2UWq",
        "outputId": "fddb450f-2566-4987-a78e-28684329a8a2"
      },
      "source": [
        "def func(x):\n",
        "  if '어떠한 동물도 안된다.' in str(x):\n",
        "    return 1\n",
        "  elif '어떤 동물이든 괜찮다.' in str(x):\n",
        "    return 0\n",
        "  else:\n",
        "    return 0.5 # NaN, 그 외\n",
        "\n",
        "df['mate_pet'] = df['mate_pet_category'].apply(lambda x : func(x))\n",
        "print(df['mate_pet'].value_counts())\n",
        "print(\"NaN : \", df['mate_pet'].isnull().sum())"
      ],
      "execution_count": 26,
      "outputs": [
        {
          "output_type": "stream",
          "name": "stdout",
          "text": [
            "0.5    47\n",
            "1.0    22\n",
            "0.0     3\n",
            "Name: mate_pet, dtype: int64\n",
            "NaN :  0\n"
          ]
        }
      ]
    },
    {
      "cell_type": "code",
      "metadata": {
        "colab": {
          "base_uri": "https://localhost:8080/"
        },
        "id": "drp_mfyJ2y-R",
        "outputId": "a5c1a497-0c1f-407e-a73e-e1e9312d9335"
      },
      "source": [
        "df['mate_pet_dog'] = df['mate_pet_category'].apply(lambda x : 1 if '강아지' in str(x) or '어떤 동물이든 괜찮다.' in str(x) else 0)\n",
        "print(df['mate_pet_dog'].value_counts())\n",
        "print(\"NaN : \", df['mate_pet_dog'].isnull().sum())"
      ],
      "execution_count": 27,
      "outputs": [
        {
          "output_type": "stream",
          "name": "stdout",
          "text": [
            "1    43\n",
            "0    29\n",
            "Name: mate_pet_dog, dtype: int64\n",
            "NaN :  0\n"
          ]
        }
      ]
    },
    {
      "cell_type": "code",
      "metadata": {
        "colab": {
          "base_uri": "https://localhost:8080/"
        },
        "id": "W3Quv6Gu3DdP",
        "outputId": "641da673-6db4-4a01-f2c3-9a4a1ad23456"
      },
      "source": [
        "df['mate_pet_cat'] = df['mate_pet_category'].apply(lambda x : 1 if '고양이' in str(x) or '어떤 동물이든 괜찮다.' in str(x) else 0)\n",
        "print(df['mate_pet_cat'].value_counts())\n",
        "print(\"NaN : \", df['mate_pet_cat'].isnull().sum())"
      ],
      "execution_count": 28,
      "outputs": [
        {
          "output_type": "stream",
          "name": "stdout",
          "text": [
            "1    38\n",
            "0    34\n",
            "Name: mate_pet_cat, dtype: int64\n",
            "NaN :  0\n"
          ]
        }
      ]
    },
    {
      "cell_type": "code",
      "metadata": {
        "colab": {
          "base_uri": "https://localhost:8080/"
        },
        "id": "V8Y05GlE3Wyl",
        "outputId": "b063fcdf-fc00-4427-81fe-9d0373208b36"
      },
      "source": [
        "df['mate_pet_reptie_fish'] = df['mate_pet_category'].apply(lambda x : 1 if '파충류, 어류' in str(x) or '어떤 동물이든 괜찮다.' in str(x) else 0)\n",
        "print(df['mate_pet_reptie_fish'].value_counts())\n",
        "print(\"NaN : \", df['mate_pet_reptie_fish'].isnull().sum())"
      ],
      "execution_count": 29,
      "outputs": [
        {
          "output_type": "stream",
          "name": "stdout",
          "text": [
            "0    60\n",
            "1    12\n",
            "Name: mate_pet_reptie_fish, dtype: int64\n",
            "NaN :  0\n"
          ]
        }
      ]
    },
    {
      "cell_type": "code",
      "metadata": {
        "colab": {
          "base_uri": "https://localhost:8080/"
        },
        "id": "rAW49NFV3h0f",
        "outputId": "d86bf462-06ab-4cef-a4e3-ec7c850aa6c9"
      },
      "source": [
        "df['mate_pet_rodent'] = df['mate_pet_category'].apply(lambda x : 1 if '설치류' in str(x) or '어떤 동물이든 괜찮다.' in str(x) else 0)\n",
        "print(df['mate_pet_rodent'].value_counts())\n",
        "print(\"NaN : \", df['mate_pet_rodent'].isnull().sum())"
      ],
      "execution_count": 30,
      "outputs": [
        {
          "output_type": "stream",
          "name": "stdout",
          "text": [
            "0    65\n",
            "1     7\n",
            "Name: mate_pet_rodent, dtype: int64\n",
            "NaN :  0\n"
          ]
        }
      ]
    },
    {
      "cell_type": "code",
      "metadata": {
        "colab": {
          "base_uri": "https://localhost:8080/"
        },
        "id": "es0muy_p3qbk",
        "outputId": "eb0d6ba9-a640-460c-b673-04579a82ea6b"
      },
      "source": [
        "df['mate_pet_bird'] = df['mate_pet_category'].apply(lambda x : 1 if '조류' in str(x) or '어떤 동물이든 괜찮다.' in str(x) else 0)\n",
        "print(df['mate_pet_bird'].value_counts())\n",
        "print(\"NaN : \", df['mate_pet_bird'].isnull().sum())"
      ],
      "execution_count": 31,
      "outputs": [
        {
          "output_type": "stream",
          "name": "stdout",
          "text": [
            "0    64\n",
            "1     8\n",
            "Name: mate_pet_bird, dtype: int64\n",
            "NaN :  0\n"
          ]
        }
      ]
    },
    {
      "cell_type": "code",
      "metadata": {
        "colab": {
          "base_uri": "https://localhost:8080/"
        },
        "id": "Guj5N_c44Y-a",
        "outputId": "40744fe1-95e4-4207-d822-1a5663fdc870"
      },
      "source": [
        "# mate_pet_category 삭제\n",
        "df = df.drop(columns='mate_pet_category')\n",
        "df.columns"
      ],
      "execution_count": 32,
      "outputs": [
        {
          "output_type": "execute_result",
          "data": {
            "text/plain": [
              "Index(['time', 'sex', 'age', 'mbti', 'user_smoking', 'mate_smoking',\n",
              "       'user_pet', 'air', 'user_bug_killer', 'mate_bug_killer', 'user_cooking',\n",
              "       'mate_cooking', 'eat_together', 'share_item', 'noise', 'mate_alcohol',\n",
              "       'mate_clean', 'permission_to_enter', 'user_pet_dog', 'user_pet_cat',\n",
              "       'user_pet_reptie_fish', 'user_pet_rodent', 'user_pet_bird', 'mate_pet',\n",
              "       'mate_pet_dog', 'mate_pet_cat', 'mate_pet_reptie_fish',\n",
              "       'mate_pet_rodent', 'mate_pet_bird'],\n",
              "      dtype='object')"
            ]
          },
          "metadata": {},
          "execution_count": 32
        }
      ]
    },
    {
      "cell_type": "markdown",
      "metadata": {
        "id": "-hbdYOmF7Nhi"
      },
      "source": [
        "- air 컬럼을 분리해야한다.\n",
        "  - 더위를 많이 타서 에어컨을 일찍부터 튼다, 여름에 항상 에어컨을 켜놓는다 = air_like_airconditionner / 에어컨을 틀고 못잔다 = air_night_airconditioner / 추위를 많이 타서 난방을 일찍부터 튼다, 과한 난방은 답답해하는 편이다 = air_like_heater / 해당하는 상황 없음 = air = none"
      ]
    },
    {
      "cell_type": "code",
      "metadata": {
        "colab": {
          "base_uri": "https://localhost:8080/"
        },
        "id": "2EWkssqJ7wwL",
        "outputId": "7010a36b-e425-49b1-d18e-77102dab42ef"
      },
      "source": [
        "df['air'].value_counts()"
      ],
      "execution_count": 33,
      "outputs": [
        {
          "output_type": "execute_result",
          "data": {
            "text/plain": [
              "과한 난방은 답답해하는 편이다                                                                     12\n",
              "해당하는 상황 없음                                                                            8\n",
              "더위를 많이 타서 에어컨을 일찍부터 튼다\\t과한 난방은 답답해하는 편이다                                              8\n",
              "추위를 많이 타서 난방을 일찍부터 튼다                                                                 6\n",
              "더위를 많이 타서 에어컨을 일찍부터 튼다\\t여름에 항상 에어컨을 켜놓는다\\t과한 난방은 답답해하는 편이다                            6\n",
              "더위를 많이 타서 에어컨을 일찍부터 튼다                                                                5\n",
              "더위를 많이 타서 에어컨을 일찍부터 튼다\\t추위를 많이 타서 난방을 일찍부터 튼다                                         4\n",
              "여름에 항상 에어컨을 켜놓는다\\t과한 난방은 답답해하는 편이다                                                    4\n",
              "에어컨을 틀고 못잔다\\t과한 난방은 답답해하는 편이다                                                         3\n",
              "여름에 항상 에어컨을 켜놓는다                                                                      3\n",
              "추위를 많이 타서 난방을 일찍부터 튼다\\t과한 난방은 답답해하는 편이다                                               3\n",
              "더위를 많이 타서 에어컨을 일찍부터 튼다\\t추위를 많이 타서 난방을 일찍부터 튼다\\t과한 난방은 답답해하는 편이다                       3\n",
              "더위를 많이 타서 에어컨을 일찍부터 튼다\\t여름에 항상 에어컨을 켜놓는다\\t추위를 많이 타서 난방을 일찍부터 튼다\\t과한 난방은 답답해하는 편이다     2\n",
              "에어컨을 틀고 못잔다\\t추위를 많이 타서 난방을 일찍부터 튼다\\t과한 난방은 답답해하는 편이다                                  2\n",
              "절대 못잡는다                                                                               1\n",
              "에어컨을 틀고 못잔다                                                                           1\n",
              "Name: air, dtype: int64"
            ]
          },
          "metadata": {},
          "execution_count": 33
        }
      ]
    },
    {
      "cell_type": "code",
      "metadata": {
        "id": "NpSnc8ZzAKpO"
      },
      "source": [
        "# NaN -> '해당하는 상황 없음'\n",
        "df['air'] = df['air'].fillna('해당하는 상황 없음')"
      ],
      "execution_count": 34,
      "outputs": []
    },
    {
      "cell_type": "code",
      "metadata": {
        "colab": {
          "base_uri": "https://localhost:8080/"
        },
        "id": "KK0w6X7U5Dot",
        "outputId": "83707ba0-906e-4e49-fb29-e5daabfc5cd2"
      },
      "source": [
        "df['air_like_airconditioner'] = df['air'].apply(lambda x : 1 if '더위를 많이 타서 에어컨을 일찍부터 튼다' in str(x) or '여름에 항상 에어컨을 켜놓는다' in str(x) else 0)\n",
        "df['air_like_airconditioner'].value_counts()"
      ],
      "execution_count": 35,
      "outputs": [
        {
          "output_type": "execute_result",
          "data": {
            "text/plain": [
              "0    37\n",
              "1    35\n",
              "Name: air_like_airconditioner, dtype: int64"
            ]
          },
          "metadata": {},
          "execution_count": 35
        }
      ]
    },
    {
      "cell_type": "code",
      "metadata": {
        "colab": {
          "base_uri": "https://localhost:8080/"
        },
        "id": "VIzA5zL8ankn",
        "outputId": "a72d1562-f14c-4468-b65a-5f1c9b106883"
      },
      "source": [
        "df['air_like_airconditioner'].isnull().sum()"
      ],
      "execution_count": 36,
      "outputs": [
        {
          "output_type": "execute_result",
          "data": {
            "text/plain": [
              "0"
            ]
          },
          "metadata": {},
          "execution_count": 36
        }
      ]
    },
    {
      "cell_type": "code",
      "metadata": {
        "colab": {
          "base_uri": "https://localhost:8080/"
        },
        "id": "ydX2aOMa7RPW",
        "outputId": "762bb5d0-5b9b-4912-aad2-6802efe911c5"
      },
      "source": [
        "df['air_night_airconditioner'] = df['air'].apply(lambda x : 1 if '에어컨을 틀고 못잔다' in str(x) else 0)\n",
        "df['air_night_airconditioner'].value_counts()"
      ],
      "execution_count": 37,
      "outputs": [
        {
          "output_type": "execute_result",
          "data": {
            "text/plain": [
              "0    66\n",
              "1     6\n",
              "Name: air_night_airconditioner, dtype: int64"
            ]
          },
          "metadata": {},
          "execution_count": 37
        }
      ]
    },
    {
      "cell_type": "code",
      "metadata": {
        "colab": {
          "base_uri": "https://localhost:8080/"
        },
        "id": "Mwags1NqayN1",
        "outputId": "025e5b54-a019-4205-e3e2-a07c31417aaf"
      },
      "source": [
        "df['air_night_airconditioner'].isnull().sum()"
      ],
      "execution_count": 38,
      "outputs": [
        {
          "output_type": "execute_result",
          "data": {
            "text/plain": [
              "0"
            ]
          },
          "metadata": {},
          "execution_count": 38
        }
      ]
    },
    {
      "cell_type": "code",
      "metadata": {
        "colab": {
          "base_uri": "https://localhost:8080/"
        },
        "id": "fsYYGDNF9lZG",
        "outputId": "cd889742-5123-469c-e461-929587ef5a50"
      },
      "source": [
        "def func(x):\n",
        "  if '추위를 많이 타서 난방을 일찍부터 튼다' in str(x):\n",
        "    return 1\n",
        "  elif '과한 난방은 답답해하는 편이다'in str(x):\n",
        "    return 0\n",
        "  else:\n",
        "    return 0.5 # 난방에 대해 신경쓰지 않는다고 판단\n",
        "\n",
        "df['air_like_heater'] = df['air'].apply(lambda x : func(x))\n",
        "df['air_like_heater'].value_counts()"
      ],
      "execution_count": 39,
      "outputs": [
        {
          "output_type": "execute_result",
          "data": {
            "text/plain": [
              "0.0    33\n",
              "1.0    20\n",
              "0.5    19\n",
              "Name: air_like_heater, dtype: int64"
            ]
          },
          "metadata": {},
          "execution_count": 39
        }
      ]
    },
    {
      "cell_type": "code",
      "metadata": {
        "colab": {
          "base_uri": "https://localhost:8080/"
        },
        "id": "f40uysPPa4AZ",
        "outputId": "4105a6c3-d646-40a1-82d3-469888dae19a"
      },
      "source": [
        "df['air_like_heater'].isnull().sum()"
      ],
      "execution_count": 40,
      "outputs": [
        {
          "output_type": "execute_result",
          "data": {
            "text/plain": [
              "0"
            ]
          },
          "metadata": {},
          "execution_count": 40
        }
      ]
    },
    {
      "cell_type": "code",
      "metadata": {
        "colab": {
          "base_uri": "https://localhost:8080/"
        },
        "id": "ZFuOOPAvBoXj",
        "outputId": "743c0513-c981-4fbc-85f8-df58e1ea09c4"
      },
      "source": [
        "# air 삭제\n",
        "df = df.drop(columns='air')\n",
        "df.columns"
      ],
      "execution_count": 41,
      "outputs": [
        {
          "output_type": "execute_result",
          "data": {
            "text/plain": [
              "Index(['time', 'sex', 'age', 'mbti', 'user_smoking', 'mate_smoking',\n",
              "       'user_pet', 'user_bug_killer', 'mate_bug_killer', 'user_cooking',\n",
              "       'mate_cooking', 'eat_together', 'share_item', 'noise', 'mate_alcohol',\n",
              "       'mate_clean', 'permission_to_enter', 'user_pet_dog', 'user_pet_cat',\n",
              "       'user_pet_reptie_fish', 'user_pet_rodent', 'user_pet_bird', 'mate_pet',\n",
              "       'mate_pet_dog', 'mate_pet_cat', 'mate_pet_reptie_fish',\n",
              "       'mate_pet_rodent', 'mate_pet_bird', 'air_like_airconditioner',\n",
              "       'air_night_airconditioner', 'air_like_heater'],\n",
              "      dtype='object')"
            ]
          },
          "metadata": {},
          "execution_count": 41
        }
      ]
    },
    {
      "cell_type": "markdown",
      "metadata": {
        "id": "KbYMmfKe-o-Y"
      },
      "source": [
        "- noise 컬럼을 분리해야한다.\n",
        "  - 신경쓰지 않는다. = noise_none / 10분 이상의 말소리(통화/게임)은 신경쓰인다, 10분 이전의 말소리(통화/게임)도 신경쓰인다 = noise_talking / 10분 이상의 동영상/음악 소리는 신경쓰인다, 10분 이전의 동영상/음악 소리도 신경쓰인다 = noise_music / 지속적인 알람소리는 신경쓰인다 = noise_alarm"
      ]
    },
    {
      "cell_type": "code",
      "metadata": {
        "id": "Bd08KsZNCIRN"
      },
      "source": [
        "# NaN -> '신경쓰지 않는다.'\n",
        "df['noise'] = df['noise'].fillna('신경쓰지 않는다.')"
      ],
      "execution_count": 42,
      "outputs": []
    },
    {
      "cell_type": "code",
      "metadata": {
        "colab": {
          "base_uri": "https://localhost:8080/"
        },
        "id": "twxS7wLHChyR",
        "outputId": "bed72c93-7622-40d6-ddf5-da4edf598642"
      },
      "source": [
        "def func(x):\n",
        "  if '10분 이전의 말소리(통화/게임)도 신경쓰인다' in str(x):\n",
        "    return 1\n",
        "  elif '10분 이상의 말소리(통화/게임)은 신경쓰인다'in str(x):\n",
        "    return 0.5\n",
        "  else:\n",
        "    return 0\n",
        "\n",
        "df['noise_talking'] = df['noise'].apply(lambda x : func(x))\n",
        "df['noise_talking'].value_counts()"
      ],
      "execution_count": 43,
      "outputs": [
        {
          "output_type": "execute_result",
          "data": {
            "text/plain": [
              "0.0    43\n",
              "0.5    24\n",
              "1.0     5\n",
              "Name: noise_talking, dtype: int64"
            ]
          },
          "metadata": {},
          "execution_count": 43
        }
      ]
    },
    {
      "cell_type": "code",
      "metadata": {
        "colab": {
          "base_uri": "https://localhost:8080/"
        },
        "id": "5jleo6EOEJt6",
        "outputId": "1abd0932-b275-4ac7-aad1-a306dc895913"
      },
      "source": [
        "# 결측치 확인\n",
        "df['noise_talking'].isnull().sum()"
      ],
      "execution_count": 44,
      "outputs": [
        {
          "output_type": "execute_result",
          "data": {
            "text/plain": [
              "0"
            ]
          },
          "metadata": {},
          "execution_count": 44
        }
      ]
    },
    {
      "cell_type": "code",
      "metadata": {
        "colab": {
          "base_uri": "https://localhost:8080/"
        },
        "id": "AnQVrm7ZEbMy",
        "outputId": "a9db3e21-cecd-4a51-8e9b-fb5cb0065b20"
      },
      "source": [
        "def func(x):\n",
        "  if '10분 이전의 동영상/음악 소리도 신경쓰인다' in str(x):\n",
        "    return 1\n",
        "  elif '10분 이상의 동영상/음악 소리는 신경쓰인다'in str(x):\n",
        "    return 0.5\n",
        "  else:\n",
        "    return 0\n",
        "\n",
        "df['noise_music'] = df['noise'].apply(lambda x : func(x))\n",
        "df['noise_music'].value_counts()"
      ],
      "execution_count": 45,
      "outputs": [
        {
          "output_type": "execute_result",
          "data": {
            "text/plain": [
              "0.0    43\n",
              "0.5    24\n",
              "1.0     5\n",
              "Name: noise_music, dtype: int64"
            ]
          },
          "metadata": {},
          "execution_count": 45
        }
      ]
    },
    {
      "cell_type": "code",
      "metadata": {
        "colab": {
          "base_uri": "https://localhost:8080/"
        },
        "id": "0jqyCt41EteO",
        "outputId": "455c8ebf-9f8c-4ad1-d8a3-c2872ecfeb04"
      },
      "source": [
        "df['noise_music'].isnull().sum()"
      ],
      "execution_count": 46,
      "outputs": [
        {
          "output_type": "execute_result",
          "data": {
            "text/plain": [
              "0"
            ]
          },
          "metadata": {},
          "execution_count": 46
        }
      ]
    },
    {
      "cell_type": "code",
      "metadata": {
        "colab": {
          "base_uri": "https://localhost:8080/"
        },
        "id": "bZG9LL36E2nE",
        "outputId": "5c2cef60-5dd4-465d-963e-0dfc302115e2"
      },
      "source": [
        "df['noise_alarm'] = df['noise'].apply(lambda x : 1 if '지속적인 알람소리는 신경쓰인다' in str(x) else 0)\n",
        "df['noise_alarm'].value_counts()"
      ],
      "execution_count": 47,
      "outputs": [
        {
          "output_type": "execute_result",
          "data": {
            "text/plain": [
              "1    46\n",
              "0    26\n",
              "Name: noise_alarm, dtype: int64"
            ]
          },
          "metadata": {},
          "execution_count": 47
        }
      ]
    },
    {
      "cell_type": "code",
      "metadata": {
        "colab": {
          "base_uri": "https://localhost:8080/"
        },
        "id": "YhQf7FhXHuoe",
        "outputId": "e6a594e0-a5c8-49e4-f4e7-ad1023f27ae6"
      },
      "source": [
        "df['noise_alarm'].isnull().sum()"
      ],
      "execution_count": 48,
      "outputs": [
        {
          "output_type": "execute_result",
          "data": {
            "text/plain": [
              "0"
            ]
          },
          "metadata": {},
          "execution_count": 48
        }
      ]
    },
    {
      "cell_type": "code",
      "metadata": {
        "colab": {
          "base_uri": "https://localhost:8080/"
        },
        "id": "PwgpnBaqI0X4",
        "outputId": "799a81c9-e2da-4a79-9119-0be584c9eb0e"
      },
      "source": [
        "# noise 삭제\n",
        "df = df.drop(columns='noise')\n",
        "df.columns"
      ],
      "execution_count": 49,
      "outputs": [
        {
          "output_type": "execute_result",
          "data": {
            "text/plain": [
              "Index(['time', 'sex', 'age', 'mbti', 'user_smoking', 'mate_smoking',\n",
              "       'user_pet', 'user_bug_killer', 'mate_bug_killer', 'user_cooking',\n",
              "       'mate_cooking', 'eat_together', 'share_item', 'mate_alcohol',\n",
              "       'mate_clean', 'permission_to_enter', 'user_pet_dog', 'user_pet_cat',\n",
              "       'user_pet_reptie_fish', 'user_pet_rodent', 'user_pet_bird', 'mate_pet',\n",
              "       'mate_pet_dog', 'mate_pet_cat', 'mate_pet_reptie_fish',\n",
              "       'mate_pet_rodent', 'mate_pet_bird', 'air_like_airconditioner',\n",
              "       'air_night_airconditioner', 'air_like_heater', 'noise_talking',\n",
              "       'noise_music', 'noise_alarm'],\n",
              "      dtype='object')"
            ]
          },
          "metadata": {},
          "execution_count": 49
        }
      ]
    },
    {
      "cell_type": "markdown",
      "metadata": {
        "id": "kpnO0-TJJFCF"
      },
      "source": [
        "- user_bug_killer : 잡는데 거리낌이 없다, 시키면 잡을 수 있다, 절대 못잡는다\n",
        "- mate_bug_killer : 벌레를 잡을 수 있어야 한다, 벌레를 못잡아도 상관없다"
      ]
    },
    {
      "cell_type": "code",
      "metadata": {
        "colab": {
          "base_uri": "https://localhost:8080/"
        },
        "id": "a59D9xJMgWEW",
        "outputId": "f83e8d46-345f-48ca-dc07-905b43ad35a7"
      },
      "source": [
        "df['user_bug_killer'].value_counts()"
      ],
      "execution_count": 50,
      "outputs": [
        {
          "output_type": "execute_result",
          "data": {
            "text/plain": [
              "시키면 잡을 수 있다    29\n",
              "절대 못잡는다        23\n",
              "잡는데 거리낌이 없다    19\n",
              "Name: user_bug_killer, dtype: int64"
            ]
          },
          "metadata": {},
          "execution_count": 50
        }
      ]
    },
    {
      "cell_type": "code",
      "metadata": {
        "colab": {
          "base_uri": "https://localhost:8080/"
        },
        "id": "zmnVbHEBhCSF",
        "outputId": "f8455bed-9bb0-47ce-bf01-6c33bec8f9bc"
      },
      "source": [
        "df['user_bug_killer'].isnull().sum()"
      ],
      "execution_count": 51,
      "outputs": [
        {
          "output_type": "execute_result",
          "data": {
            "text/plain": [
              "1"
            ]
          },
          "metadata": {},
          "execution_count": 51
        }
      ]
    },
    {
      "cell_type": "code",
      "metadata": {
        "colab": {
          "base_uri": "https://localhost:8080/"
        },
        "id": "TdyjFVKUg0ez",
        "outputId": "d3f1ddfd-bb47-4ecc-d84b-877beb5ad976"
      },
      "source": [
        "def func(x):\n",
        "  if '잡는데 거리낌이 없다' in str(x):\n",
        "    return 1\n",
        "  elif '시키면 잡을 수 있다'in str(x):\n",
        "    return 0.75\n",
        "  elif '절대 못잡는다' in str(x):\n",
        "    return 0\n",
        "  else:\n",
        "    return np.nan\n",
        "\n",
        "df['user_bug_killer'] = df['user_bug_killer'].apply(lambda x : func(x))\n",
        "df['user_bug_killer'].value_counts()"
      ],
      "execution_count": 52,
      "outputs": [
        {
          "output_type": "execute_result",
          "data": {
            "text/plain": [
              "0.75    29\n",
              "0.00    23\n",
              "1.00    19\n",
              "Name: user_bug_killer, dtype: int64"
            ]
          },
          "metadata": {},
          "execution_count": 52
        }
      ]
    },
    {
      "cell_type": "code",
      "metadata": {
        "colab": {
          "base_uri": "https://localhost:8080/"
        },
        "id": "hi5A6iX4h9KF",
        "outputId": "cfa8e3a0-c796-4fc3-b265-f8684488cb47"
      },
      "source": [
        "# mean으로 결측치 채움\n",
        "df['user_bug_killer'] = df['user_bug_killer'].fillna(df['user_bug_killer'].mean())\n",
        "df['user_bug_killer'].value_counts()"
      ],
      "execution_count": 53,
      "outputs": [
        {
          "output_type": "execute_result",
          "data": {
            "text/plain": [
              "0.750000    29\n",
              "0.000000    23\n",
              "1.000000    19\n",
              "0.573944     1\n",
              "Name: user_bug_killer, dtype: int64"
            ]
          },
          "metadata": {},
          "execution_count": 53
        }
      ]
    },
    {
      "cell_type": "code",
      "metadata": {
        "colab": {
          "base_uri": "https://localhost:8080/"
        },
        "id": "U2RbvKspgqZ5",
        "outputId": "d26919b3-05ac-4ea4-e444-2478e25a1e44"
      },
      "source": [
        "df['mate_bug_killer'].value_counts()"
      ],
      "execution_count": 54,
      "outputs": [
        {
          "output_type": "execute_result",
          "data": {
            "text/plain": [
              "벌레를 못잡아도 상관없다       40\n",
              "벌레를 잡을 수 있어야만 한다    32\n",
              "Name: mate_bug_killer, dtype: int64"
            ]
          },
          "metadata": {},
          "execution_count": 54
        }
      ]
    },
    {
      "cell_type": "code",
      "metadata": {
        "colab": {
          "base_uri": "https://localhost:8080/"
        },
        "id": "hKXrqg8bhVOQ",
        "outputId": "5648a1e6-9d4a-4dde-a674-fc58c4f9c98b"
      },
      "source": [
        "df['mate_bug_killer'].isnull().sum()"
      ],
      "execution_count": 55,
      "outputs": [
        {
          "output_type": "execute_result",
          "data": {
            "text/plain": [
              "0"
            ]
          },
          "metadata": {},
          "execution_count": 55
        }
      ]
    },
    {
      "cell_type": "code",
      "metadata": {
        "colab": {
          "base_uri": "https://localhost:8080/"
        },
        "id": "lXIw-g99ioIk",
        "outputId": "a3d1f12a-39a6-4424-a688-b170bf2344a0"
      },
      "source": [
        "df['mate_bug_killer'] = df['mate_bug_killer'].apply(lambda x : 1 if '벌레를 잡을 수 있어야만 한다' in str(x) else 0)\n",
        "df['mate_bug_killer'].value_counts()"
      ],
      "execution_count": 56,
      "outputs": [
        {
          "output_type": "execute_result",
          "data": {
            "text/plain": [
              "0    40\n",
              "1    32\n",
              "Name: mate_bug_killer, dtype: int64"
            ]
          },
          "metadata": {},
          "execution_count": 56
        }
      ]
    },
    {
      "cell_type": "markdown",
      "metadata": {
        "id": "jZCc27nljDls"
      },
      "source": [
        "- user_cooking : 직접 요리, 외부 음식(포장, 배달)\n",
        "- mate_cooking : 불편하다, 신경쓰지 않는다(불편하지 않다)\n"
      ]
    },
    {
      "cell_type": "code",
      "metadata": {
        "colab": {
          "base_uri": "https://localhost:8080/"
        },
        "id": "eq7WdHa5jEjh",
        "outputId": "0252a125-4fa6-45f3-ef02-b30cba983762"
      },
      "source": [
        "df['user_cooking'].value_counts()"
      ],
      "execution_count": 57,
      "outputs": [
        {
          "output_type": "execute_result",
          "data": {
            "text/plain": [
              "직접 요리            42\n",
              "외부 음식(포장, 배달)    30\n",
              "Name: user_cooking, dtype: int64"
            ]
          },
          "metadata": {},
          "execution_count": 57
        }
      ]
    },
    {
      "cell_type": "code",
      "metadata": {
        "colab": {
          "base_uri": "https://localhost:8080/"
        },
        "id": "J98GGUw1jLIL",
        "outputId": "62ca761d-cd53-4d4e-bed6-530874a6ee3b"
      },
      "source": [
        "df['user_cooking'].isnull().sum()"
      ],
      "execution_count": 58,
      "outputs": [
        {
          "output_type": "execute_result",
          "data": {
            "text/plain": [
              "0"
            ]
          },
          "metadata": {},
          "execution_count": 58
        }
      ]
    },
    {
      "cell_type": "code",
      "metadata": {
        "colab": {
          "base_uri": "https://localhost:8080/"
        },
        "id": "4uIK5rlyjuR7",
        "outputId": "e6b145e1-8d5a-4809-d1d4-e7ddb23586c5"
      },
      "source": [
        "df['user_cooking'] = df['user_cooking'].apply(lambda x : 1 if '외부 음식(포장, 배달)' in str(x) else 0)\n",
        "df['user_cooking'].value_counts()"
      ],
      "execution_count": 59,
      "outputs": [
        {
          "output_type": "execute_result",
          "data": {
            "text/plain": [
              "0    42\n",
              "1    30\n",
              "Name: user_cooking, dtype: int64"
            ]
          },
          "metadata": {},
          "execution_count": 59
        }
      ]
    },
    {
      "cell_type": "code",
      "metadata": {
        "colab": {
          "base_uri": "https://localhost:8080/"
        },
        "id": "IAYXHrZqjYy-",
        "outputId": "08b8d09e-ded2-472b-c22b-577c1b083395"
      },
      "source": [
        "df['mate_cooking'].value_counts()"
      ],
      "execution_count": 60,
      "outputs": [
        {
          "output_type": "execute_result",
          "data": {
            "text/plain": [
              "신경쓰지 않는다(불편하지 않다)    64\n",
              "Name: mate_cooking, dtype: int64"
            ]
          },
          "metadata": {},
          "execution_count": 60
        }
      ]
    },
    {
      "cell_type": "code",
      "metadata": {
        "colab": {
          "base_uri": "https://localhost:8080/"
        },
        "id": "l5I1WjHcjfJH",
        "outputId": "8a62e6b5-c3a4-4396-c06b-89e5f0fe317f"
      },
      "source": [
        "df['mate_cooking'].isnull().sum()"
      ],
      "execution_count": 61,
      "outputs": [
        {
          "output_type": "execute_result",
          "data": {
            "text/plain": [
              "8"
            ]
          },
          "metadata": {},
          "execution_count": 61
        }
      ]
    },
    {
      "cell_type": "code",
      "metadata": {
        "colab": {
          "base_uri": "https://localhost:8080/"
        },
        "id": "gmh-NN9Hkm5i",
        "outputId": "e74791d8-b6d1-4502-ae5b-e0a865a2c0b7"
      },
      "source": [
        "df['mate_cooking'] = df['mate_cooking'].apply(lambda x : 1 if '불편하다' in str(x) else 0)\n",
        "df['mate_cooking'].value_counts()"
      ],
      "execution_count": 62,
      "outputs": [
        {
          "output_type": "execute_result",
          "data": {
            "text/plain": [
              "0    72\n",
              "Name: mate_cooking, dtype: int64"
            ]
          },
          "metadata": {},
          "execution_count": 62
        }
      ]
    },
    {
      "cell_type": "markdown",
      "metadata": {
        "id": "bcPp5_WAkzz-"
      },
      "source": [
        "- eat_together : 혼자 먹는 걸 선호한다, 같이 먹는 걸 선호한다"
      ]
    },
    {
      "cell_type": "code",
      "metadata": {
        "colab": {
          "base_uri": "https://localhost:8080/"
        },
        "id": "BgcvVaVvk2Nu",
        "outputId": "422be6a7-dd2f-45ba-e13c-a284ad60c745"
      },
      "source": [
        "df['eat_together'].value_counts()"
      ],
      "execution_count": 63,
      "outputs": [
        {
          "output_type": "execute_result",
          "data": {
            "text/plain": [
              "같이 먹는 걸 선호한다    43\n",
              "혼자 먹는 걸 선호한다    28\n",
              "그렇다              1\n",
              "Name: eat_together, dtype: int64"
            ]
          },
          "metadata": {},
          "execution_count": 63
        }
      ]
    },
    {
      "cell_type": "code",
      "metadata": {
        "colab": {
          "base_uri": "https://localhost:8080/"
        },
        "id": "y0DKlMcilKhb",
        "outputId": "3a0b58f7-065f-48b6-f19e-29fb3f5f7d6a"
      },
      "source": [
        "df['eat_together'].isnull().sum()"
      ],
      "execution_count": 64,
      "outputs": [
        {
          "output_type": "execute_result",
          "data": {
            "text/plain": [
              "0"
            ]
          },
          "metadata": {},
          "execution_count": 64
        }
      ]
    },
    {
      "cell_type": "code",
      "metadata": {
        "colab": {
          "base_uri": "https://localhost:8080/"
        },
        "id": "RwCHJ7tulJDi",
        "outputId": "8d582799-3f89-4e0d-de6e-3d706d4ead2b"
      },
      "source": [
        "df['eat_together'] = df['eat_together'].apply(lambda x : 1 if '같이 먹는 걸 선호한다' in str(x) else 0)\n",
        "df['eat_together'].value_counts()"
      ],
      "execution_count": 65,
      "outputs": [
        {
          "output_type": "execute_result",
          "data": {
            "text/plain": [
              "1    43\n",
              "0    29\n",
              "Name: eat_together, dtype: int64"
            ]
          },
          "metadata": {},
          "execution_count": 65
        }
      ]
    },
    {
      "cell_type": "markdown",
      "metadata": {
        "id": "vkljb5KylXcv"
      },
      "source": [
        "- share_item : 말 안하고 사용해도 괜찮다, 사용하기 전 허락을 받으면 괜찮다, 괜찮지 않다(안된다)"
      ]
    },
    {
      "cell_type": "code",
      "metadata": {
        "colab": {
          "base_uri": "https://localhost:8080/"
        },
        "id": "qxUP-0lNlZyY",
        "outputId": "00fcd1fe-f5ab-4916-e6d1-314983981d47"
      },
      "source": [
        "df['share_item'].value_counts()"
      ],
      "execution_count": 66,
      "outputs": [
        {
          "output_type": "execute_result",
          "data": {
            "text/plain": [
              "사용하기 전 허락을 받으면 괜찮다    64\n",
              "괜찮지 않다(안된다)            5\n",
              "말 안하고 사용해도 괜찮다         2\n",
              "Name: share_item, dtype: int64"
            ]
          },
          "metadata": {},
          "execution_count": 66
        }
      ]
    },
    {
      "cell_type": "code",
      "metadata": {
        "colab": {
          "base_uri": "https://localhost:8080/"
        },
        "id": "QMds5mRNlgnH",
        "outputId": "9559b171-c274-4a34-e215-5dcdbff27954"
      },
      "source": [
        "df['share_item'].isnull().sum()"
      ],
      "execution_count": 67,
      "outputs": [
        {
          "output_type": "execute_result",
          "data": {
            "text/plain": [
              "1"
            ]
          },
          "metadata": {},
          "execution_count": 67
        }
      ]
    },
    {
      "cell_type": "code",
      "metadata": {
        "colab": {
          "base_uri": "https://localhost:8080/"
        },
        "id": "iTmwUD3PllE9",
        "outputId": "e1fdb84f-7fee-428a-801d-a00595d577f4"
      },
      "source": [
        "def func(x):\n",
        "  if '말 안하고 사용해도 괜찮다' in str(x):\n",
        "    return 1\n",
        "  elif '사용하기 전 허락을 받으면 괜찮다'in str(x):\n",
        "    return 0.75\n",
        "  elif '괜찮지 않다(안된다)' in str(x):\n",
        "    return 0\n",
        "  else:\n",
        "    return np.nan\n",
        "\n",
        "df['share_item'] = df['share_item'].apply(lambda x : func(x))\n",
        "df['share_item'].value_counts()"
      ],
      "execution_count": 68,
      "outputs": [
        {
          "output_type": "execute_result",
          "data": {
            "text/plain": [
              "0.75    64\n",
              "0.00     5\n",
              "1.00     2\n",
              "Name: share_item, dtype: int64"
            ]
          },
          "metadata": {},
          "execution_count": 68
        }
      ]
    },
    {
      "cell_type": "code",
      "metadata": {
        "colab": {
          "base_uri": "https://localhost:8080/"
        },
        "id": "lPqRMR1Hm8Ju",
        "outputId": "09a8097b-15d0-42a1-a6bf-f4bf659cb9f3"
      },
      "source": [
        "# mean으로 결측치 채움\n",
        "df['share_item'] = df['share_item'].fillna(df['share_item'].mean())\n",
        "df['share_item'].value_counts()"
      ],
      "execution_count": 69,
      "outputs": [
        {
          "output_type": "execute_result",
          "data": {
            "text/plain": [
              "0.750000    64\n",
              "0.000000     5\n",
              "1.000000     2\n",
              "0.704225     1\n",
              "Name: share_item, dtype: int64"
            ]
          },
          "metadata": {},
          "execution_count": 69
        }
      ]
    },
    {
      "cell_type": "markdown",
      "metadata": {
        "id": "qCkrsR-anSJj"
      },
      "source": [
        "- mate_alcohol : 메이트의 술 문제는 신경쓰지 않는다, 메이트가 술 냄새를 풍기는 것은 싫다, 메이트가 술을 많이 마신 것 같은 모습을 보이면 싫다, 메이트가 술주정만 하지 않으면 된다\n"
      ]
    },
    {
      "cell_type": "code",
      "metadata": {
        "colab": {
          "base_uri": "https://localhost:8080/"
        },
        "id": "k9ArQG4DnRwI",
        "outputId": "40645638-7e73-424e-90e2-3e525a7fae78"
      },
      "source": [
        "print(df['mate_alcohol'].value_counts())\n",
        "print(\"NaN : \", df['mate_alcohol'].isnull().sum())"
      ],
      "execution_count": 70,
      "outputs": [
        {
          "output_type": "stream",
          "name": "stdout",
          "text": [
            "메이트가 술주정만 하지 않으면 된다                                                         41\n",
            "메이트의 술 문제는 신경쓰지 않는다                                                          9\n",
            "메이트의 술 문제는 신경쓰지 않는다\\t메이트가 술주정만 하지 않으면 된다                                     6\n",
            "메이트가 술 냄새를 풍기는 것은 싫다                                                         5\n",
            "메이트가 술 냄새를 풍기는 것은 싫다\\t메이트가 술을 많이 마신 것 같은 모습을 보이면 싫다                          5\n",
            "메이트가 술을 많이 마신 것 같은 모습을 보이면 싫다                                                2\n",
            "메이트가 술 냄새를 풍기는 것은 싫다\\t메이트가 술을 많이 마신 것 같은 모습을 보이면 싫다\\t메이트가 술주정만 하지 않으면 된다     1\n",
            "메이트의 술 문제는 신경쓰지 않는다\\t메이트가 술 냄새를 풍기는 것은 싫다\\t메이트가 술을 많이 마신 것 같은 모습을 보이면 싫다     1\n",
            "소음은 없었으면 좋겠다.                                                                1\n",
            "Name: mate_alcohol, dtype: int64\n",
            "NaN :  1\n"
          ]
        }
      ]
    },
    {
      "cell_type": "code",
      "metadata": {
        "colab": {
          "base_uri": "https://localhost:8080/"
        },
        "id": "CDsCzmCJnvZN",
        "outputId": "3b925c69-ff2f-40bc-ce18-44045219c2c2"
      },
      "source": [
        "def func(x):\n",
        "  if '메이트가 술 냄새를 풍기는 것은 싫다' in str(x):\n",
        "    return 1\n",
        "  elif '메이트가 술을 많이 마신 것 같은 모습을 보이면 싫다'in str(x):\n",
        "    return 0.66\n",
        "  elif '메이트가 술주정만 하지 않으면 된다' in str(x):\n",
        "    return 0.33\n",
        "  elif '메이트의 술 문제는 신경쓰지 않는다' in str(x):\n",
        "    return 0\n",
        "  else:\n",
        "    return np.nan\n",
        "\n",
        "df['mate_alcohol'] = df['mate_alcohol'].apply(lambda x : func(x))\n",
        "print(df['mate_alcohol'].value_counts())\n",
        "print(\"NaN : \", df['mate_alcohol'].isnull().sum())"
      ],
      "execution_count": 71,
      "outputs": [
        {
          "output_type": "stream",
          "name": "stdout",
          "text": [
            "0.33    47\n",
            "1.00    12\n",
            "0.00     9\n",
            "0.66     2\n",
            "Name: mate_alcohol, dtype: int64\n",
            "NaN :  2\n"
          ]
        }
      ]
    },
    {
      "cell_type": "code",
      "metadata": {
        "colab": {
          "base_uri": "https://localhost:8080/"
        },
        "id": "xo8mWjfCpeSR",
        "outputId": "1e6528a3-5161-4e24-d3e2-999f02f3c86b"
      },
      "source": [
        "# mean으로 결측치 채움\n",
        "df['mate_alcohol'] = df['mate_alcohol'].fillna(df['mate_alcohol'].mean())\n",
        "print(df['mate_alcohol'].value_counts())\n",
        "print(\"NaN : \", df['mate_alcohol'].isnull().sum())"
      ],
      "execution_count": 72,
      "outputs": [
        {
          "output_type": "stream",
          "name": "stdout",
          "text": [
            "0.330000    47\n",
            "1.000000    12\n",
            "0.000000     9\n",
            "0.411857     2\n",
            "0.660000     2\n",
            "Name: mate_alcohol, dtype: int64\n",
            "NaN :  0\n"
          ]
        }
      ]
    },
    {
      "cell_type": "markdown",
      "metadata": {
        "id": "Gqgpn10rpqOs"
      },
      "source": [
        "- mate_clean : 내 공간만 아니면 신경쓰이지 않는다, 공유하는 공간의 경우 신경쓰인다, 메이트의 공간까지 신경쓰인다"
      ]
    },
    {
      "cell_type": "code",
      "metadata": {
        "colab": {
          "base_uri": "https://localhost:8080/"
        },
        "id": "IIU9WylUputv",
        "outputId": "aec000da-1f11-4e25-d709-b89f893b91a6"
      },
      "source": [
        "print(df['mate_clean'].value_counts())\n",
        "print(\"NaN : \", df['mate_clean'].isnull().sum())"
      ],
      "execution_count": 73,
      "outputs": [
        {
          "output_type": "stream",
          "name": "stdout",
          "text": [
            "공유하는 공간의 경우 신경쓰인다      50\n",
            "내 공간만 아니면 신경쓰이지 않는다    16\n",
            "메이트의 공간까지 신경쓰인다         5\n",
            "2                       1\n",
            "Name: mate_clean, dtype: int64\n",
            "NaN :  0\n"
          ]
        }
      ]
    },
    {
      "cell_type": "code",
      "metadata": {
        "colab": {
          "base_uri": "https://localhost:8080/"
        },
        "id": "4isUouqJqA92",
        "outputId": "ce30adc4-e309-4c8d-d1eb-6b6304d01306"
      },
      "source": [
        "def func(x):\n",
        "  if '메이트의 공간까지 신경쓰인다' in str(x):\n",
        "    return 1\n",
        "  elif '공유하는 공간의 경우 신경쓰인다'in str(x):\n",
        "    return 0.5\n",
        "  elif '내 공간만 아니면 신경쓰이지 않는다' in str(x):\n",
        "    return 0\n",
        "  else:\n",
        "    return np.nan\n",
        "\n",
        "df['mate_clean'] = df['mate_clean'].apply(lambda x : func(x))\n",
        "print(df['mate_clean'].value_counts())\n",
        "print(\"NaN : \", df['mate_clean'].isnull().sum())"
      ],
      "execution_count": 74,
      "outputs": [
        {
          "output_type": "stream",
          "name": "stdout",
          "text": [
            "0.5    50\n",
            "0.0    16\n",
            "1.0     5\n",
            "Name: mate_clean, dtype: int64\n",
            "NaN :  1\n"
          ]
        }
      ]
    },
    {
      "cell_type": "code",
      "metadata": {
        "colab": {
          "base_uri": "https://localhost:8080/"
        },
        "id": "yaD3cSGFqYAn",
        "outputId": "4414c5c8-349a-4538-9cc9-c9c2c2b4c2af"
      },
      "source": [
        "# mean으로 결측치 채움\n",
        "df['mate_clean'] = df['mate_clean'].fillna(df['mate_clean'].mean())\n",
        "print(df['mate_clean'].value_counts())\n",
        "print(\"NaN : \", df['mate_clean'].isnull().sum())"
      ],
      "execution_count": 75,
      "outputs": [
        {
          "output_type": "stream",
          "name": "stdout",
          "text": [
            "0.500000    50\n",
            "0.000000    16\n",
            "1.000000     5\n",
            "0.422535     1\n",
            "Name: mate_clean, dtype: int64\n",
            "NaN :  0\n"
          ]
        }
      ]
    },
    {
      "cell_type": "markdown",
      "metadata": {
        "id": "sldCYKj3qsvm"
      },
      "source": [
        "- permission_to_enter : 본인이 없을 때 말없이 지인이 잠깐 출입해도 상관없다., 미리 말만 하면 지인이 출입해도 상관없다., 누구든 데려오면 안된다."
      ]
    },
    {
      "cell_type": "code",
      "metadata": {
        "colab": {
          "base_uri": "https://localhost:8080/"
        },
        "id": "brzEUVbXqtlr",
        "outputId": "9f12711f-7d44-47c8-cbb5-6a57a1baae67"
      },
      "source": [
        "print(df['permission_to_enter'].value_counts())\n",
        "print(\"NaN : \", df['permission_to_enter'].isnull().sum())"
      ],
      "execution_count": 76,
      "outputs": [
        {
          "output_type": "stream",
          "name": "stdout",
          "text": [
            "미리 말만 하면 지인이 출입해도 상관없다.           56\n",
            "누구든 데려오면 안된다.                     10\n",
            "본인이 없을 때 말없이 지인이 잠깐 출입해도 상관없다.     6\n",
            "Name: permission_to_enter, dtype: int64\n",
            "NaN :  0\n"
          ]
        }
      ]
    },
    {
      "cell_type": "code",
      "metadata": {
        "colab": {
          "base_uri": "https://localhost:8080/"
        },
        "id": "01GW6r6ArI5F",
        "outputId": "b5880b1f-873f-4a7c-a0eb-e3124cb88f00"
      },
      "source": [
        "def func(x):\n",
        "  if '누구든 데려오면 안된다.' in str(x):\n",
        "    return 1\n",
        "  elif '미리 말만 하면 지인이 출입해도 상관없다.'in str(x):\n",
        "    return 0.5\n",
        "  elif '본인이 없을 때 말없이 지인이 잠깐 출입해도 상관없다.' in str(x):\n",
        "    return 0\n",
        "  else:\n",
        "    return np.nan\n",
        "\n",
        "df['permission_to_enter'] = df['permission_to_enter'].apply(lambda x : func(x))\n",
        "print(df['permission_to_enter'].value_counts())\n",
        "print(\"NaN : \", df['permission_to_enter'].isnull().sum())"
      ],
      "execution_count": 77,
      "outputs": [
        {
          "output_type": "stream",
          "name": "stdout",
          "text": [
            "0.5    56\n",
            "1.0    10\n",
            "0.0     6\n",
            "Name: permission_to_enter, dtype: int64\n",
            "NaN :  0\n"
          ]
        }
      ]
    },
    {
      "cell_type": "markdown",
      "metadata": {
        "id": "t3HUzgnx8dPR"
      },
      "source": [
        "### 데이터 전처리 후 테이블 확인"
      ]
    },
    {
      "cell_type": "code",
      "metadata": {
        "colab": {
          "base_uri": "https://localhost:8080/"
        },
        "id": "j1vapL7R8k-8",
        "outputId": "3dd0fe90-c3de-4b6c-dbbb-5835ffcafdea"
      },
      "source": [
        "df.columns"
      ],
      "execution_count": 78,
      "outputs": [
        {
          "output_type": "execute_result",
          "data": {
            "text/plain": [
              "Index(['time', 'sex', 'age', 'mbti', 'user_smoking', 'mate_smoking',\n",
              "       'user_pet', 'user_bug_killer', 'mate_bug_killer', 'user_cooking',\n",
              "       'mate_cooking', 'eat_together', 'share_item', 'mate_alcohol',\n",
              "       'mate_clean', 'permission_to_enter', 'user_pet_dog', 'user_pet_cat',\n",
              "       'user_pet_reptie_fish', 'user_pet_rodent', 'user_pet_bird', 'mate_pet',\n",
              "       'mate_pet_dog', 'mate_pet_cat', 'mate_pet_reptie_fish',\n",
              "       'mate_pet_rodent', 'mate_pet_bird', 'air_like_airconditioner',\n",
              "       'air_night_airconditioner', 'air_like_heater', 'noise_talking',\n",
              "       'noise_music', 'noise_alarm'],\n",
              "      dtype='object')"
            ]
          },
          "metadata": {},
          "execution_count": 78
        }
      ]
    },
    {
      "cell_type": "code",
      "metadata": {
        "colab": {
          "base_uri": "https://localhost:8080/"
        },
        "id": "osisrxDV8qQj",
        "outputId": "f5296190-c524-4782-c6d9-6afb039e862a"
      },
      "source": [
        "df.info()"
      ],
      "execution_count": 79,
      "outputs": [
        {
          "output_type": "stream",
          "name": "stdout",
          "text": [
            "<class 'pandas.core.frame.DataFrame'>\n",
            "RangeIndex: 72 entries, 0 to 71\n",
            "Data columns (total 33 columns):\n",
            " #   Column                    Non-Null Count  Dtype         \n",
            "---  ------                    --------------  -----         \n",
            " 0   time                      72 non-null     datetime64[ns]\n",
            " 1   sex                       72 non-null     int64         \n",
            " 2   age                       72 non-null     float64       \n",
            " 3   mbti                      72 non-null     object        \n",
            " 4   user_smoking              72 non-null     int64         \n",
            " 5   mate_smoking              72 non-null     float64       \n",
            " 6   user_pet                  72 non-null     int64         \n",
            " 7   user_bug_killer           72 non-null     float64       \n",
            " 8   mate_bug_killer           72 non-null     int64         \n",
            " 9   user_cooking              72 non-null     int64         \n",
            " 10  mate_cooking              72 non-null     int64         \n",
            " 11  eat_together              72 non-null     int64         \n",
            " 12  share_item                72 non-null     float64       \n",
            " 13  mate_alcohol              72 non-null     float64       \n",
            " 14  mate_clean                72 non-null     float64       \n",
            " 15  permission_to_enter       72 non-null     float64       \n",
            " 16  user_pet_dog              72 non-null     int64         \n",
            " 17  user_pet_cat              72 non-null     int64         \n",
            " 18  user_pet_reptie_fish      72 non-null     int64         \n",
            " 19  user_pet_rodent           72 non-null     int64         \n",
            " 20  user_pet_bird             72 non-null     int64         \n",
            " 21  mate_pet                  72 non-null     float64       \n",
            " 22  mate_pet_dog              72 non-null     int64         \n",
            " 23  mate_pet_cat              72 non-null     int64         \n",
            " 24  mate_pet_reptie_fish      72 non-null     int64         \n",
            " 25  mate_pet_rodent           72 non-null     int64         \n",
            " 26  mate_pet_bird             72 non-null     int64         \n",
            " 27  air_like_airconditioner   72 non-null     int64         \n",
            " 28  air_night_airconditioner  72 non-null     int64         \n",
            " 29  air_like_heater           72 non-null     float64       \n",
            " 30  noise_talking             72 non-null     float64       \n",
            " 31  noise_music               72 non-null     float64       \n",
            " 32  noise_alarm               72 non-null     int64         \n",
            "dtypes: datetime64[ns](1), float64(11), int64(20), object(1)\n",
            "memory usage: 18.7+ KB\n"
          ]
        }
      ]
    },
    {
      "cell_type": "code",
      "metadata": {
        "colab": {
          "base_uri": "https://localhost:8080/",
          "height": 391
        },
        "id": "chHczIb88hKt",
        "outputId": "4be59309-40f0-4e81-d3c7-c1c2a9e46bef"
      },
      "source": [
        "df.head()"
      ],
      "execution_count": 80,
      "outputs": [
        {
          "output_type": "execute_result",
          "data": {
            "text/html": [
              "<div>\n",
              "<style scoped>\n",
              "    .dataframe tbody tr th:only-of-type {\n",
              "        vertical-align: middle;\n",
              "    }\n",
              "\n",
              "    .dataframe tbody tr th {\n",
              "        vertical-align: top;\n",
              "    }\n",
              "\n",
              "    .dataframe thead th {\n",
              "        text-align: right;\n",
              "    }\n",
              "</style>\n",
              "<table border=\"1\" class=\"dataframe\">\n",
              "  <thead>\n",
              "    <tr style=\"text-align: right;\">\n",
              "      <th></th>\n",
              "      <th>time</th>\n",
              "      <th>sex</th>\n",
              "      <th>age</th>\n",
              "      <th>mbti</th>\n",
              "      <th>user_smoking</th>\n",
              "      <th>mate_smoking</th>\n",
              "      <th>user_pet</th>\n",
              "      <th>user_bug_killer</th>\n",
              "      <th>mate_bug_killer</th>\n",
              "      <th>user_cooking</th>\n",
              "      <th>mate_cooking</th>\n",
              "      <th>eat_together</th>\n",
              "      <th>share_item</th>\n",
              "      <th>mate_alcohol</th>\n",
              "      <th>mate_clean</th>\n",
              "      <th>permission_to_enter</th>\n",
              "      <th>user_pet_dog</th>\n",
              "      <th>user_pet_cat</th>\n",
              "      <th>user_pet_reptie_fish</th>\n",
              "      <th>user_pet_rodent</th>\n",
              "      <th>user_pet_bird</th>\n",
              "      <th>mate_pet</th>\n",
              "      <th>mate_pet_dog</th>\n",
              "      <th>mate_pet_cat</th>\n",
              "      <th>mate_pet_reptie_fish</th>\n",
              "      <th>mate_pet_rodent</th>\n",
              "      <th>mate_pet_bird</th>\n",
              "      <th>air_like_airconditioner</th>\n",
              "      <th>air_night_airconditioner</th>\n",
              "      <th>air_like_heater</th>\n",
              "      <th>noise_talking</th>\n",
              "      <th>noise_music</th>\n",
              "      <th>noise_alarm</th>\n",
              "    </tr>\n",
              "  </thead>\n",
              "  <tbody>\n",
              "    <tr>\n",
              "      <th>0</th>\n",
              "      <td>2021-10-20 11:29:52</td>\n",
              "      <td>1</td>\n",
              "      <td>0.4</td>\n",
              "      <td>infp</td>\n",
              "      <td>0</td>\n",
              "      <td>0.0</td>\n",
              "      <td>0</td>\n",
              "      <td>0.573944</td>\n",
              "      <td>1</td>\n",
              "      <td>0</td>\n",
              "      <td>0</td>\n",
              "      <td>0</td>\n",
              "      <td>0.704225</td>\n",
              "      <td>0.411857</td>\n",
              "      <td>0.422535</td>\n",
              "      <td>1.0</td>\n",
              "      <td>0</td>\n",
              "      <td>0</td>\n",
              "      <td>0</td>\n",
              "      <td>0</td>\n",
              "      <td>0</td>\n",
              "      <td>0.5</td>\n",
              "      <td>1</td>\n",
              "      <td>1</td>\n",
              "      <td>0</td>\n",
              "      <td>0</td>\n",
              "      <td>0</td>\n",
              "      <td>0</td>\n",
              "      <td>0</td>\n",
              "      <td>0.5</td>\n",
              "      <td>0.0</td>\n",
              "      <td>0.0</td>\n",
              "      <td>0</td>\n",
              "    </tr>\n",
              "    <tr>\n",
              "      <th>1</th>\n",
              "      <td>2021-10-22 01:16:34</td>\n",
              "      <td>0</td>\n",
              "      <td>0.6</td>\n",
              "      <td>intp</td>\n",
              "      <td>0</td>\n",
              "      <td>0.0</td>\n",
              "      <td>0</td>\n",
              "      <td>0.750000</td>\n",
              "      <td>0</td>\n",
              "      <td>0</td>\n",
              "      <td>0</td>\n",
              "      <td>0</td>\n",
              "      <td>0.750000</td>\n",
              "      <td>0.330000</td>\n",
              "      <td>0.000000</td>\n",
              "      <td>0.5</td>\n",
              "      <td>0</td>\n",
              "      <td>0</td>\n",
              "      <td>0</td>\n",
              "      <td>0</td>\n",
              "      <td>0</td>\n",
              "      <td>0.5</td>\n",
              "      <td>1</td>\n",
              "      <td>1</td>\n",
              "      <td>0</td>\n",
              "      <td>0</td>\n",
              "      <td>0</td>\n",
              "      <td>1</td>\n",
              "      <td>0</td>\n",
              "      <td>0.0</td>\n",
              "      <td>0.0</td>\n",
              "      <td>0.0</td>\n",
              "      <td>0</td>\n",
              "    </tr>\n",
              "    <tr>\n",
              "      <th>2</th>\n",
              "      <td>2021-10-22 01:29:18</td>\n",
              "      <td>1</td>\n",
              "      <td>0.2</td>\n",
              "      <td>esfp</td>\n",
              "      <td>0</td>\n",
              "      <td>0.0</td>\n",
              "      <td>0</td>\n",
              "      <td>0.000000</td>\n",
              "      <td>1</td>\n",
              "      <td>1</td>\n",
              "      <td>0</td>\n",
              "      <td>0</td>\n",
              "      <td>0.750000</td>\n",
              "      <td>0.330000</td>\n",
              "      <td>0.500000</td>\n",
              "      <td>0.5</td>\n",
              "      <td>0</td>\n",
              "      <td>0</td>\n",
              "      <td>0</td>\n",
              "      <td>0</td>\n",
              "      <td>0</td>\n",
              "      <td>0.5</td>\n",
              "      <td>1</td>\n",
              "      <td>1</td>\n",
              "      <td>0</td>\n",
              "      <td>0</td>\n",
              "      <td>1</td>\n",
              "      <td>1</td>\n",
              "      <td>0</td>\n",
              "      <td>1.0</td>\n",
              "      <td>0.0</td>\n",
              "      <td>0.5</td>\n",
              "      <td>1</td>\n",
              "    </tr>\n",
              "    <tr>\n",
              "      <th>3</th>\n",
              "      <td>2021-10-22 01:31:02</td>\n",
              "      <td>0</td>\n",
              "      <td>0.2</td>\n",
              "      <td>0.5</td>\n",
              "      <td>0</td>\n",
              "      <td>0.0</td>\n",
              "      <td>0</td>\n",
              "      <td>1.000000</td>\n",
              "      <td>0</td>\n",
              "      <td>0</td>\n",
              "      <td>0</td>\n",
              "      <td>1</td>\n",
              "      <td>0.750000</td>\n",
              "      <td>0.000000</td>\n",
              "      <td>0.500000</td>\n",
              "      <td>0.5</td>\n",
              "      <td>0</td>\n",
              "      <td>0</td>\n",
              "      <td>0</td>\n",
              "      <td>0</td>\n",
              "      <td>0</td>\n",
              "      <td>1.0</td>\n",
              "      <td>0</td>\n",
              "      <td>0</td>\n",
              "      <td>0</td>\n",
              "      <td>0</td>\n",
              "      <td>0</td>\n",
              "      <td>0</td>\n",
              "      <td>0</td>\n",
              "      <td>0.5</td>\n",
              "      <td>0.0</td>\n",
              "      <td>0.0</td>\n",
              "      <td>0</td>\n",
              "    </tr>\n",
              "    <tr>\n",
              "      <th>4</th>\n",
              "      <td>2021-10-22 01:33:35</td>\n",
              "      <td>0</td>\n",
              "      <td>0.2</td>\n",
              "      <td>intp</td>\n",
              "      <td>0</td>\n",
              "      <td>0.0</td>\n",
              "      <td>0</td>\n",
              "      <td>0.750000</td>\n",
              "      <td>0</td>\n",
              "      <td>0</td>\n",
              "      <td>0</td>\n",
              "      <td>0</td>\n",
              "      <td>0.000000</td>\n",
              "      <td>1.000000</td>\n",
              "      <td>0.500000</td>\n",
              "      <td>0.5</td>\n",
              "      <td>0</td>\n",
              "      <td>0</td>\n",
              "      <td>0</td>\n",
              "      <td>0</td>\n",
              "      <td>0</td>\n",
              "      <td>1.0</td>\n",
              "      <td>0</td>\n",
              "      <td>0</td>\n",
              "      <td>0</td>\n",
              "      <td>0</td>\n",
              "      <td>0</td>\n",
              "      <td>0</td>\n",
              "      <td>0</td>\n",
              "      <td>0.0</td>\n",
              "      <td>0.0</td>\n",
              "      <td>0.0</td>\n",
              "      <td>1</td>\n",
              "    </tr>\n",
              "  </tbody>\n",
              "</table>\n",
              "</div>"
            ],
            "text/plain": [
              "                 time  sex  age  ... noise_talking  noise_music  noise_alarm\n",
              "0 2021-10-20 11:29:52    1  0.4  ...           0.0          0.0            0\n",
              "1 2021-10-22 01:16:34    0  0.6  ...           0.0          0.0            0\n",
              "2 2021-10-22 01:29:18    1  0.2  ...           0.0          0.5            1\n",
              "3 2021-10-22 01:31:02    0  0.2  ...           0.0          0.0            0\n",
              "4 2021-10-22 01:33:35    0  0.2  ...           0.0          0.0            1\n",
              "\n",
              "[5 rows x 33 columns]"
            ]
          },
          "metadata": {},
          "execution_count": 80
        }
      ]
    },
    {
      "cell_type": "markdown",
      "metadata": {
        "id": "eGBM21YLZV17"
      },
      "source": [
        "### KNN"
      ]
    },
    {
      "cell_type": "markdown",
      "metadata": {
        "id": "wzzjILKQ-RHL"
      },
      "source": [
        "- KNN 알고리즘 직접 구현\n",
        "- 참고 : https://iludaslab.tistory.com/36"
      ]
    },
    {
      "cell_type": "code",
      "metadata": {
        "id": "gUom46tRzZpe"
      },
      "source": [
        "# 사용자 사이의 거리를 구하는 함수\n",
        "def distance(u1, u2):\n",
        "  ''' 사용자 사이의 거리 리턴 '''\n",
        "  return np.sqrt(np.sum(np.power((u2-u1),2)))"
      ],
      "execution_count": 108,
      "outputs": []
    },
    {
      "cell_type": "code",
      "metadata": {
        "colab": {
          "base_uri": "https://localhost:8080/"
        },
        "id": "5iL24Cil67oe",
        "outputId": "367c5fd7-5540-43bd-b885-54cf9d9c6413"
      },
      "source": [
        "# 사용자 사이의 거리 구하기 테스트\n",
        "u1 = np.array([1,3,5,6])\n",
        "u2 = np.array([2,6,8,4])\n",
        "\n",
        "print(distance(u1, u2))"
      ],
      "execution_count": 109,
      "outputs": [
        {
          "output_type": "stream",
          "name": "stdout",
          "text": [
            "4.795831523312719\n"
          ]
        }
      ]
    },
    {
      "cell_type": "code",
      "metadata": {
        "colab": {
          "base_uri": "https://localhost:8080/"
        },
        "id": "sDdG5sDc7j5b",
        "outputId": "f29d896c-141f-4f95-f9e1-e0eafc89fa39"
      },
      "source": [
        "# 일부 컬럼만 가져온 사용자 매칭 정보 데이터세트\n",
        "dataset = df[['time', 'sex', 'age', 'air_night_airconditioner', 'noise_alarm', 'eat_together', 'share_item', 'mate_alcohol', 'mate_clean', 'permission_to_enter']]\n",
        "\n",
        "distance_result = np.zeros(len(dataset))\n",
        "\n",
        "# 기준 사용자와 다른 사용자 간의 거리를 구한다.\n",
        "for i in range(len(dataset)):\n",
        "  distance_result[i] = distance(dataset.iloc[0, 1:], dataset.iloc[i, 1:])\n",
        "\n",
        "print(distance_result)"
      ],
      "execution_count": 110,
      "outputs": [
        {
          "output_type": "stream",
          "name": "stdout",
          "text": [
            "[0.         1.21545544 1.14227698 1.5708986  1.77139667 1.73631699\n",
            " 1.8422834  1.67825604 1.50492415 0.55208396 1.50492415 1.67825604\n",
            " 1.12463181 1.50492415 1.533055   1.50492415 1.47896312 1.96303566\n",
            " 1.85062063 1.68755627 1.51815569 1.12463181 0.7169436  1.71206599\n",
            " 1.00737118 1.56119567 1.14227698 0.79514872 1.61369394 1.2775999\n",
            " 1.81790998 1.17906065 1.61005015 1.33984596 0.69089212 1.56119567\n",
            " 1.49242484 0.41808696 1.80687484 2.01365258 1.56119567 1.66253064\n",
            " 0.51458401 1.75825849 1.79647764 0.800161   1.51815569 1.50492415\n",
            " 1.86218217 1.80687484 1.17621573 1.51815569 1.19888778 1.80687484\n",
            " 1.80687484 1.73631699 1.32815968 1.12463181 1.14227698 1.12463181\n",
            " 1.62488696 1.19487339 1.83139513 1.18068122 1.21545544 1.02703296\n",
            " 1.21149594 1.50492415 1.14227698 1.60863993 1.14227698 0.90194735]\n"
          ]
        }
      ]
    },
    {
      "cell_type": "code",
      "metadata": {
        "colab": {
          "base_uri": "https://localhost:8080/"
        },
        "id": "oV0laB0f8gU0",
        "outputId": "5dbb9b05-4600-44e6-e3c7-adab79e0350d"
      },
      "source": [
        "# 오름차순으로 정렬하여 인덱스 리턴\n",
        "print(np.argsort(distance_result))"
      ],
      "execution_count": 111,
      "outputs": [
        {
          "output_type": "stream",
          "name": "stdout",
          "text": [
            "[ 0 37 42  9 34 22 27 45 71 24 65 21 12 59 57 26  2 58 70 68 50 31 63 61\n",
            " 52 66  1 64 29 56 33 16 36 13 67 15  8 10 47 46 20 51 14 40 35 25  3 69\n",
            " 32 28 60 41 11  7 19 23 55  5 43  4 44 53 54 38 49 30 62  6 18 48 17 39]\n"
          ]
        }
      ]
    },
    {
      "cell_type": "markdown",
      "metadata": {
        "id": "l5sP67zb-g4C"
      },
      "source": [
        "- 아래의 sklearn의 KNN 알고리즘을 사용한 결과와 같다."
      ]
    },
    {
      "cell_type": "markdown",
      "metadata": {
        "id": "3wlB-tmX-byq"
      },
      "source": [
        "- sklearn의 KNN 알고리즘 사용"
      ]
    },
    {
      "cell_type": "code",
      "metadata": {
        "colab": {
          "base_uri": "https://localhost:8080/"
        },
        "id": "tazRw2gDZzFI",
        "outputId": "492b1be8-6951-48b0-b3a2-cdbe9a88698d"
      },
      "source": [
        "# KNN에 사용할 컬럼 뽑기\n",
        "train_dataset = df[['sex', 'age', 'air_night_airconditioner', 'noise_alarm', 'eat_together', 'share_item', 'mate_alcohol', 'mate_clean', 'permission_to_enter']]\n",
        "train_dataset.columns"
      ],
      "execution_count": 82,
      "outputs": [
        {
          "output_type": "execute_result",
          "data": {
            "text/plain": [
              "Index(['sex', 'age', 'air_night_airconditioner', 'noise_alarm', 'eat_together',\n",
              "       'share_item', 'mate_alcohol', 'mate_clean', 'permission_to_enter'],\n",
              "      dtype='object')"
            ]
          },
          "metadata": {},
          "execution_count": 82
        }
      ]
    },
    {
      "cell_type": "code",
      "metadata": {
        "colab": {
          "base_uri": "https://localhost:8080/"
        },
        "id": "7U3r-ZihZYFn",
        "outputId": "b100938b-13b7-4a94-a73d-0e0a25913b87"
      },
      "source": [
        "# Fitting the KNN model\n",
        "from sklearn.neighbors import NearestNeighbors\n",
        "\n",
        "knn = NearestNeighbors(n_neighbors = 5)\n",
        "knn.fit(train_dataset)"
      ],
      "execution_count": 83,
      "outputs": [
        {
          "output_type": "execute_result",
          "data": {
            "text/plain": [
              "NearestNeighbors(algorithm='auto', leaf_size=30, metric='minkowski',\n",
              "                 metric_params=None, n_jobs=None, n_neighbors=5, p=2,\n",
              "                 radius=1.0)"
            ]
          },
          "metadata": {},
          "execution_count": 83
        }
      ]
    },
    {
      "cell_type": "code",
      "metadata": {
        "colab": {
          "base_uri": "https://localhost:8080/"
        },
        "id": "OZtsahw9c7WZ",
        "outputId": "6e1b1ba3-da58-4c21-ed74-28cb359cfd46"
      },
      "source": [
        "# 0행의 데이터와 가장 가까운 이웃\n",
        "neighbors = knn.kneighbors([train_dataset.loc[0]], return_distance=False)\n",
        "neighbors"
      ],
      "execution_count": 84,
      "outputs": [
        {
          "output_type": "execute_result",
          "data": {
            "text/plain": [
              "array([[ 0, 37, 42,  9, 34]])"
            ]
          },
          "metadata": {},
          "execution_count": 84
        }
      ]
    }
  ]
}