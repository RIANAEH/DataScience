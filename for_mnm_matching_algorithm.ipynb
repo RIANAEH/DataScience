{
  "nbformat": 4,
  "nbformat_minor": 0,
  "metadata": {
    "colab": {
      "name": "for_mnm_matching_algorithm.ipynb",
      "provenance": [],
      "collapsed_sections": []
    },
    "kernelspec": {
      "name": "python3",
      "display_name": "Python 3"
    },
    "language_info": {
      "name": "python"
    }
  },
  "cells": [
    {
      "cell_type": "markdown",
      "metadata": {
        "id": "3kefols1FOZP"
      },
      "source": [
        "# for_mnm_matching_algorithm\n",
        "\n"
      ]
    },
    {
      "cell_type": "markdown",
      "metadata": {
        "id": "IgJnx92pt9PG"
      },
      "source": [
        "### 설문조사 결과(.xlsx) 불러오기"
      ]
    },
    {
      "cell_type": "code",
      "metadata": {
        "colab": {
          "base_uri": "https://localhost:8080/"
        },
        "id": "Tzdtl0NStO9M",
        "outputId": "a58a4335-2016-437c-a4fa-52d68039f407"
      },
      "source": [
        "import pandas as pd\n",
        "\n",
        "filename = \"하우스 메이트 설문결과.xlsx\"\n",
        "df = pd.read_excel(filename)\n",
        "\n",
        "print(df)"
      ],
      "execution_count": 13,
      "outputs": [
        {
          "output_type": "stream",
          "name": "stdout",
          "text": [
            "             TIMESTAMP 1. 성별  ...    13. 정리정돈을 신경쓰는 정도                14. 지인 출입\n",
            "0  2021-10-20 11:29:52    여자  ...                    2            누구든 데려오면 안된다.\n",
            "1  2021-10-22 01:16:34    남자  ...  내 공간만 아니면 신경쓰이지 않는다  미리 말만 하면 지인이 출입해도 상관없다.\n",
            "2  2021-10-22 01:29:18    여자  ...    공유하는 공간의 경우 신경쓰인다  미리 말만 하면 지인이 출입해도 상관없다.\n",
            "3  2021-10-22 01:31:02    남자  ...    공유하는 공간의 경우 신경쓰인다  미리 말만 하면 지인이 출입해도 상관없다.\n",
            "4  2021-10-22 01:33:35    남자  ...    공유하는 공간의 경우 신경쓰인다  미리 말만 하면 지인이 출입해도 상관없다.\n",
            "..                 ...   ...  ...                  ...                      ...\n",
            "67 2021-10-23 00:31:12    남자  ...    공유하는 공간의 경우 신경쓰인다  미리 말만 하면 지인이 출입해도 상관없다.\n",
            "68 2021-10-23 14:23:31    여자  ...    공유하는 공간의 경우 신경쓰인다  미리 말만 하면 지인이 출입해도 상관없다.\n",
            "69 2021-10-23 15:38:02    여자  ...    공유하는 공간의 경우 신경쓰인다  미리 말만 하면 지인이 출입해도 상관없다.\n",
            "70 2021-10-23 16:10:43    여자  ...    공유하는 공간의 경우 신경쓰인다  미리 말만 하면 지인이 출입해도 상관없다.\n",
            "71 2021-10-23 19:32:47    여자  ...    공유하는 공간의 경우 신경쓰인다  미리 말만 하면 지인이 출입해도 상관없다.\n",
            "\n",
            "[72 rows x 20 columns]\n"
          ]
        }
      ]
    },
    {
      "cell_type": "code",
      "metadata": {
        "colab": {
          "base_uri": "https://localhost:8080/",
          "height": 1000
        },
        "id": "PpbES_h6ukoi",
        "outputId": "a6993ffa-d02a-464a-ba84-613dad018558"
      },
      "source": [
        "df.head()"
      ],
      "execution_count": 14,
      "outputs": [
        {
          "output_type": "execute_result",
          "data": {
            "text/html": [
              "<div>\n",
              "<style scoped>\n",
              "    .dataframe tbody tr th:only-of-type {\n",
              "        vertical-align: middle;\n",
              "    }\n",
              "\n",
              "    .dataframe tbody tr th {\n",
              "        vertical-align: top;\n",
              "    }\n",
              "\n",
              "    .dataframe thead th {\n",
              "        text-align: right;\n",
              "    }\n",
              "</style>\n",
              "<table border=\"1\" class=\"dataframe\">\n",
              "  <thead>\n",
              "    <tr style=\"text-align: right;\">\n",
              "      <th></th>\n",
              "      <th>TIMESTAMP</th>\n",
              "      <th>1. 성별</th>\n",
              "      <th>2. 나이</th>\n",
              "      <th>3. mbti</th>\n",
              "      <th>4. 흡연 유무</th>\n",
              "      <th>4-1. 원하는 메이트의 흡연여부</th>\n",
              "      <th>5. 반려동물과 같이 살 예정이다.</th>\n",
              "      <th>5-1. 반려동물을 키울 경우 어떤 동물인가?</th>\n",
              "      <th>5-2. 메이트의 반려동물 중 허용가능한 것은?</th>\n",
              "      <th>6. 난방/냉방 관련 문제</th>\n",
              "      <th>7. 벌레를 잡을 수 있는가? (바퀴벌레, 돈벌레, 지네 정도)</th>\n",
              "      <th>7-1. 원하는 메이트</th>\n",
              "      <th>8.집에서 밥을 먹을 경우의 식사 스타일</th>\n",
              "      <th>8-1. 메이트가 집에서 요리하는 게 불편한가요? (냄새 문제 등)</th>\n",
              "      <th>9. 선호하는 식사유형</th>\n",
              "      <th>10. 메이트와 물건을 공유해도 괜찮습니까?</th>\n",
              "      <th>11. 방내에서의 소음문제</th>\n",
              "      <th>12. 음주 문제</th>\n",
              "      <th>13. 정리정돈을 신경쓰는 정도</th>\n",
              "      <th>14. 지인 출입</th>\n",
              "    </tr>\n",
              "  </thead>\n",
              "  <tbody>\n",
              "    <tr>\n",
              "      <th>0</th>\n",
              "      <td>2021-10-20 11:29:52</td>\n",
              "      <td>여자</td>\n",
              "      <td>24 ~ 26</td>\n",
              "      <td>infp</td>\n",
              "      <td>비흡연자</td>\n",
              "      <td>비흡연자</td>\n",
              "      <td>아니다</td>\n",
              "      <td>NaN</td>\n",
              "      <td>고양이\\t강아지</td>\n",
              "      <td>절대 못잡는다</td>\n",
              "      <td>NaN</td>\n",
              "      <td>벌레를 잡을 수 있어야만 한다</td>\n",
              "      <td>직접 요리</td>\n",
              "      <td>NaN</td>\n",
              "      <td>그렇다</td>\n",
              "      <td>NaN</td>\n",
              "      <td>NaN</td>\n",
              "      <td>소음은 없었으면 좋겠다.</td>\n",
              "      <td>2</td>\n",
              "      <td>누구든 데려오면 안된다.</td>\n",
              "    </tr>\n",
              "    <tr>\n",
              "      <th>1</th>\n",
              "      <td>2021-10-22 01:16:34</td>\n",
              "      <td>남자</td>\n",
              "      <td>27 ~ 29</td>\n",
              "      <td>intp</td>\n",
              "      <td>비흡연자</td>\n",
              "      <td>비흡연자</td>\n",
              "      <td>아니다</td>\n",
              "      <td>NaN</td>\n",
              "      <td>고양이\\t강아지</td>\n",
              "      <td>더위를 많이 타서 에어컨을 일찍부터 튼다\\t여름에 항상 에어컨을 켜놓는다\\t과한 난...</td>\n",
              "      <td>시키면 잡을 수 있다</td>\n",
              "      <td>벌레를 못잡아도 상관없다</td>\n",
              "      <td>직접 요리</td>\n",
              "      <td>NaN</td>\n",
              "      <td>혼자 먹는 걸 선호한다</td>\n",
              "      <td>사용하기 전 허락을 받으면 괜찮다</td>\n",
              "      <td>신경쓰지 않는다.</td>\n",
              "      <td>메이트가 술주정만 하지 않으면 된다</td>\n",
              "      <td>내 공간만 아니면 신경쓰이지 않는다</td>\n",
              "      <td>미리 말만 하면 지인이 출입해도 상관없다.</td>\n",
              "    </tr>\n",
              "    <tr>\n",
              "      <th>2</th>\n",
              "      <td>2021-10-22 01:29:18</td>\n",
              "      <td>여자</td>\n",
              "      <td>20 ~ 23</td>\n",
              "      <td>esfp</td>\n",
              "      <td>비흡연자</td>\n",
              "      <td>비흡연자</td>\n",
              "      <td>아니다</td>\n",
              "      <td>NaN</td>\n",
              "      <td>고양이\\t강아지\\t조류</td>\n",
              "      <td>더위를 많이 타서 에어컨을 일찍부터 튼다\\t추위를 많이 타서 난방을 일찍부터 튼다\\...</td>\n",
              "      <td>절대 못잡는다</td>\n",
              "      <td>벌레를 잡을 수 있어야만 한다</td>\n",
              "      <td>외부 음식(포장, 배달)</td>\n",
              "      <td>NaN</td>\n",
              "      <td>혼자 먹는 걸 선호한다</td>\n",
              "      <td>사용하기 전 허락을 받으면 괜찮다</td>\n",
              "      <td>10분 이상의 동영상/음악 소리는 신경쓰인다\\t지속적인 알람소리는 신경쓰인다</td>\n",
              "      <td>메이트가 술주정만 하지 않으면 된다</td>\n",
              "      <td>공유하는 공간의 경우 신경쓰인다</td>\n",
              "      <td>미리 말만 하면 지인이 출입해도 상관없다.</td>\n",
              "    </tr>\n",
              "    <tr>\n",
              "      <th>3</th>\n",
              "      <td>2021-10-22 01:31:02</td>\n",
              "      <td>남자</td>\n",
              "      <td>20 ~ 23</td>\n",
              "      <td>모른다</td>\n",
              "      <td>비흡연자</td>\n",
              "      <td>비흡연자</td>\n",
              "      <td>아니다</td>\n",
              "      <td>NaN</td>\n",
              "      <td>어떠한 동물도 안된다.</td>\n",
              "      <td>NaN</td>\n",
              "      <td>잡는데 거리낌이 없다</td>\n",
              "      <td>벌레를 못잡아도 상관없다</td>\n",
              "      <td>직접 요리</td>\n",
              "      <td>NaN</td>\n",
              "      <td>같이 먹는 걸 선호한다</td>\n",
              "      <td>사용하기 전 허락을 받으면 괜찮다</td>\n",
              "      <td>신경쓰지 않는다.</td>\n",
              "      <td>메이트의 술 문제는 신경쓰지 않는다</td>\n",
              "      <td>공유하는 공간의 경우 신경쓰인다</td>\n",
              "      <td>미리 말만 하면 지인이 출입해도 상관없다.</td>\n",
              "    </tr>\n",
              "    <tr>\n",
              "      <th>4</th>\n",
              "      <td>2021-10-22 01:33:35</td>\n",
              "      <td>남자</td>\n",
              "      <td>20 ~ 23</td>\n",
              "      <td>intp</td>\n",
              "      <td>비흡연자</td>\n",
              "      <td>비흡연자</td>\n",
              "      <td>아니다</td>\n",
              "      <td>NaN</td>\n",
              "      <td>어떠한 동물도 안된다.</td>\n",
              "      <td>과한 난방은 답답해하는 편이다</td>\n",
              "      <td>시키면 잡을 수 있다</td>\n",
              "      <td>벌레를 못잡아도 상관없다</td>\n",
              "      <td>직접 요리</td>\n",
              "      <td>NaN</td>\n",
              "      <td>혼자 먹는 걸 선호한다</td>\n",
              "      <td>괜찮지 않다(안된다)</td>\n",
              "      <td>지속적인 알람소리는 신경쓰인다</td>\n",
              "      <td>메이트가 술 냄새를 풍기는 것은 싫다\\t메이트가 술을 많이 마신 것 같은 모습을 보...</td>\n",
              "      <td>공유하는 공간의 경우 신경쓰인다</td>\n",
              "      <td>미리 말만 하면 지인이 출입해도 상관없다.</td>\n",
              "    </tr>\n",
              "  </tbody>\n",
              "</table>\n",
              "</div>"
            ],
            "text/plain": [
              "            TIMESTAMP 1. 성별  ...    13. 정리정돈을 신경쓰는 정도                14. 지인 출입\n",
              "0 2021-10-20 11:29:52    여자  ...                    2            누구든 데려오면 안된다.\n",
              "1 2021-10-22 01:16:34    남자  ...  내 공간만 아니면 신경쓰이지 않는다  미리 말만 하면 지인이 출입해도 상관없다.\n",
              "2 2021-10-22 01:29:18    여자  ...    공유하는 공간의 경우 신경쓰인다  미리 말만 하면 지인이 출입해도 상관없다.\n",
              "3 2021-10-22 01:31:02    남자  ...    공유하는 공간의 경우 신경쓰인다  미리 말만 하면 지인이 출입해도 상관없다.\n",
              "4 2021-10-22 01:33:35    남자  ...    공유하는 공간의 경우 신경쓰인다  미리 말만 하면 지인이 출입해도 상관없다.\n",
              "\n",
              "[5 rows x 20 columns]"
            ]
          },
          "metadata": {},
          "execution_count": 14
        }
      ]
    },
    {
      "cell_type": "code",
      "metadata": {
        "colab": {
          "base_uri": "https://localhost:8080/",
          "height": 1000
        },
        "id": "jG7P8xvPuw8j",
        "outputId": "5c04e7fe-2802-4b67-82cd-085190b6bbbc"
      },
      "source": [
        "df.tail()"
      ],
      "execution_count": 15,
      "outputs": [
        {
          "output_type": "execute_result",
          "data": {
            "text/html": [
              "<div>\n",
              "<style scoped>\n",
              "    .dataframe tbody tr th:only-of-type {\n",
              "        vertical-align: middle;\n",
              "    }\n",
              "\n",
              "    .dataframe tbody tr th {\n",
              "        vertical-align: top;\n",
              "    }\n",
              "\n",
              "    .dataframe thead th {\n",
              "        text-align: right;\n",
              "    }\n",
              "</style>\n",
              "<table border=\"1\" class=\"dataframe\">\n",
              "  <thead>\n",
              "    <tr style=\"text-align: right;\">\n",
              "      <th></th>\n",
              "      <th>TIMESTAMP</th>\n",
              "      <th>1. 성별</th>\n",
              "      <th>2. 나이</th>\n",
              "      <th>3. mbti</th>\n",
              "      <th>4. 흡연 유무</th>\n",
              "      <th>4-1. 원하는 메이트의 흡연여부</th>\n",
              "      <th>5. 반려동물과 같이 살 예정이다.</th>\n",
              "      <th>5-1. 반려동물을 키울 경우 어떤 동물인가?</th>\n",
              "      <th>5-2. 메이트의 반려동물 중 허용가능한 것은?</th>\n",
              "      <th>6. 난방/냉방 관련 문제</th>\n",
              "      <th>7. 벌레를 잡을 수 있는가? (바퀴벌레, 돈벌레, 지네 정도)</th>\n",
              "      <th>7-1. 원하는 메이트</th>\n",
              "      <th>8.집에서 밥을 먹을 경우의 식사 스타일</th>\n",
              "      <th>8-1. 메이트가 집에서 요리하는 게 불편한가요? (냄새 문제 등)</th>\n",
              "      <th>9. 선호하는 식사유형</th>\n",
              "      <th>10. 메이트와 물건을 공유해도 괜찮습니까?</th>\n",
              "      <th>11. 방내에서의 소음문제</th>\n",
              "      <th>12. 음주 문제</th>\n",
              "      <th>13. 정리정돈을 신경쓰는 정도</th>\n",
              "      <th>14. 지인 출입</th>\n",
              "    </tr>\n",
              "  </thead>\n",
              "  <tbody>\n",
              "    <tr>\n",
              "      <th>67</th>\n",
              "      <td>2021-10-23 00:31:12</td>\n",
              "      <td>남자</td>\n",
              "      <td>24 ~ 26</td>\n",
              "      <td>isfj</td>\n",
              "      <td>비흡연자</td>\n",
              "      <td>비흡연자</td>\n",
              "      <td>아니다</td>\n",
              "      <td>NaN</td>\n",
              "      <td>고양이\\t강아지</td>\n",
              "      <td>여름에 항상 에어컨을 켜놓는다</td>\n",
              "      <td>시키면 잡을 수 있다</td>\n",
              "      <td>벌레를 못잡아도 상관없다</td>\n",
              "      <td>외부 음식(포장, 배달)</td>\n",
              "      <td>신경쓰지 않는다(불편하지 않다)</td>\n",
              "      <td>같이 먹는 걸 선호한다</td>\n",
              "      <td>사용하기 전 허락을 받으면 괜찮다</td>\n",
              "      <td>신경쓰지 않는다.</td>\n",
              "      <td>메이트가 술주정만 하지 않으면 된다</td>\n",
              "      <td>공유하는 공간의 경우 신경쓰인다</td>\n",
              "      <td>미리 말만 하면 지인이 출입해도 상관없다.</td>\n",
              "    </tr>\n",
              "    <tr>\n",
              "      <th>68</th>\n",
              "      <td>2021-10-23 14:23:31</td>\n",
              "      <td>여자</td>\n",
              "      <td>20 ~ 23</td>\n",
              "      <td>isfj</td>\n",
              "      <td>비흡연자</td>\n",
              "      <td>비흡연자</td>\n",
              "      <td>아니다</td>\n",
              "      <td>NaN</td>\n",
              "      <td>강아지</td>\n",
              "      <td>추위를 많이 타서 난방을 일찍부터 튼다</td>\n",
              "      <td>잡는데 거리낌이 없다</td>\n",
              "      <td>벌레를 못잡아도 상관없다</td>\n",
              "      <td>외부 음식(포장, 배달)</td>\n",
              "      <td>신경쓰지 않는다(불편하지 않다)</td>\n",
              "      <td>같이 먹는 걸 선호한다</td>\n",
              "      <td>사용하기 전 허락을 받으면 괜찮다</td>\n",
              "      <td>10분 이상의 말소리(통화/게임)은 신경쓰인다\\t10분 이상의 동영상/음악 소리는 ...</td>\n",
              "      <td>메이트가 술주정만 하지 않으면 된다</td>\n",
              "      <td>공유하는 공간의 경우 신경쓰인다</td>\n",
              "      <td>미리 말만 하면 지인이 출입해도 상관없다.</td>\n",
              "    </tr>\n",
              "    <tr>\n",
              "      <th>69</th>\n",
              "      <td>2021-10-23 15:38:02</td>\n",
              "      <td>여자</td>\n",
              "      <td>30대</td>\n",
              "      <td>모른다</td>\n",
              "      <td>비흡연자</td>\n",
              "      <td>상관없음</td>\n",
              "      <td>아니다</td>\n",
              "      <td>NaN</td>\n",
              "      <td>어떤 동물이든 괜찮다.</td>\n",
              "      <td>해당하는 상황 없음</td>\n",
              "      <td>잡는데 거리낌이 없다</td>\n",
              "      <td>벌레를 못잡아도 상관없다</td>\n",
              "      <td>직접 요리</td>\n",
              "      <td>신경쓰지 않는다(불편하지 않다)</td>\n",
              "      <td>같이 먹는 걸 선호한다</td>\n",
              "      <td>사용하기 전 허락을 받으면 괜찮다</td>\n",
              "      <td>지속적인 알람소리는 신경쓰인다</td>\n",
              "      <td>메이트의 술 문제는 신경쓰지 않는다</td>\n",
              "      <td>공유하는 공간의 경우 신경쓰인다</td>\n",
              "      <td>미리 말만 하면 지인이 출입해도 상관없다.</td>\n",
              "    </tr>\n",
              "    <tr>\n",
              "      <th>70</th>\n",
              "      <td>2021-10-23 16:10:43</td>\n",
              "      <td>여자</td>\n",
              "      <td>20 ~ 23</td>\n",
              "      <td>intp</td>\n",
              "      <td>비흡연자</td>\n",
              "      <td>비흡연자</td>\n",
              "      <td>아니다</td>\n",
              "      <td>NaN</td>\n",
              "      <td>고양이\\t강아지</td>\n",
              "      <td>더위를 많이 타서 에어컨을 일찍부터 튼다\\t여름에 항상 에어컨을 켜놓는다\\t과한 난...</td>\n",
              "      <td>절대 못잡는다</td>\n",
              "      <td>벌레를 못잡아도 상관없다</td>\n",
              "      <td>외부 음식(포장, 배달)</td>\n",
              "      <td>신경쓰지 않는다(불편하지 않다)</td>\n",
              "      <td>혼자 먹는 걸 선호한다</td>\n",
              "      <td>사용하기 전 허락을 받으면 괜찮다</td>\n",
              "      <td>지속적인 알람소리는 신경쓰인다\\t10분 이전의 말소리(통화/게임)도 신경쓰인다\\t1...</td>\n",
              "      <td>메이트의 술 문제는 신경쓰지 않는다\\t메이트가 술주정만 하지 않으면 된다</td>\n",
              "      <td>공유하는 공간의 경우 신경쓰인다</td>\n",
              "      <td>미리 말만 하면 지인이 출입해도 상관없다.</td>\n",
              "    </tr>\n",
              "    <tr>\n",
              "      <th>71</th>\n",
              "      <td>2021-10-23 19:32:47</td>\n",
              "      <td>여자</td>\n",
              "      <td>24 ~ 26</td>\n",
              "      <td>istp</td>\n",
              "      <td>비흡연자</td>\n",
              "      <td>비흡연자</td>\n",
              "      <td>아니다</td>\n",
              "      <td>NaN</td>\n",
              "      <td>강아지</td>\n",
              "      <td>해당하는 상황 없음</td>\n",
              "      <td>절대 못잡는다</td>\n",
              "      <td>벌레를 잡을 수 있어야만 한다</td>\n",
              "      <td>직접 요리</td>\n",
              "      <td>신경쓰지 않는다(불편하지 않다)</td>\n",
              "      <td>혼자 먹는 걸 선호한다</td>\n",
              "      <td>괜찮지 않다(안된다)</td>\n",
              "      <td>10분 이상의 말소리(통화/게임)은 신경쓰인다\\t10분 이상의 동영상/음악 소리는 ...</td>\n",
              "      <td>메이트가 술을 많이 마신 것 같은 모습을 보이면 싫다</td>\n",
              "      <td>공유하는 공간의 경우 신경쓰인다</td>\n",
              "      <td>미리 말만 하면 지인이 출입해도 상관없다.</td>\n",
              "    </tr>\n",
              "  </tbody>\n",
              "</table>\n",
              "</div>"
            ],
            "text/plain": [
              "             TIMESTAMP 1. 성별  ...  13. 정리정돈을 신경쓰는 정도                14. 지인 출입\n",
              "67 2021-10-23 00:31:12    남자  ...  공유하는 공간의 경우 신경쓰인다  미리 말만 하면 지인이 출입해도 상관없다.\n",
              "68 2021-10-23 14:23:31    여자  ...  공유하는 공간의 경우 신경쓰인다  미리 말만 하면 지인이 출입해도 상관없다.\n",
              "69 2021-10-23 15:38:02    여자  ...  공유하는 공간의 경우 신경쓰인다  미리 말만 하면 지인이 출입해도 상관없다.\n",
              "70 2021-10-23 16:10:43    여자  ...  공유하는 공간의 경우 신경쓰인다  미리 말만 하면 지인이 출입해도 상관없다.\n",
              "71 2021-10-23 19:32:47    여자  ...  공유하는 공간의 경우 신경쓰인다  미리 말만 하면 지인이 출입해도 상관없다.\n",
              "\n",
              "[5 rows x 20 columns]"
            ]
          },
          "metadata": {},
          "execution_count": 15
        }
      ]
    },
    {
      "cell_type": "code",
      "metadata": {
        "colab": {
          "base_uri": "https://localhost:8080/"
        },
        "id": "GwnbKh4Ou7ZC",
        "outputId": "51b01f7f-b548-446a-fe20-e2448e91ddfc"
      },
      "source": [
        "df.info()"
      ],
      "execution_count": 16,
      "outputs": [
        {
          "output_type": "stream",
          "name": "stdout",
          "text": [
            "<class 'pandas.core.frame.DataFrame'>\n",
            "RangeIndex: 72 entries, 0 to 71\n",
            "Data columns (total 20 columns):\n",
            " #   Column                                 Non-Null Count  Dtype         \n",
            "---  ------                                 --------------  -----         \n",
            " 0   TIMESTAMP                              72 non-null     datetime64[ns]\n",
            " 1   1. 성별                                  72 non-null     object        \n",
            " 2   2. 나이                                  72 non-null     object        \n",
            " 3   3. mbti                                72 non-null     object        \n",
            " 4   4. 흡연 유무                               72 non-null     object        \n",
            " 5   4-1. 원하는 메이트의 흡연여부                     72 non-null     object        \n",
            " 6   5. 반려동물과 같이 살 예정이다.                    72 non-null     object        \n",
            " 7   5-1. 반려동물을 키울 경우 어떤 동물인가?              15 non-null     object        \n",
            " 8   5-2. 메이트의 반려동물 중 허용가능한 것은?             72 non-null     object        \n",
            " 9   6. 난방/냉방 관련 문제                         71 non-null     object        \n",
            " 10  7. 벌레를 잡을 수 있는가? (바퀴벌레, 돈벌레, 지네 정도)    71 non-null     object        \n",
            " 11  7-1. 원하는 메이트                           72 non-null     object        \n",
            " 12  8.집에서 밥을 먹을 경우의 식사 스타일                 72 non-null     object        \n",
            " 13  8-1. 메이트가 집에서 요리하는 게 불편한가요? (냄새 문제 등)  64 non-null     object        \n",
            " 14  9. 선호하는 식사유형                           72 non-null     object        \n",
            " 15  10. 메이트와 물건을 공유해도 괜찮습니까?               71 non-null     object        \n",
            " 16  11. 방내에서의 소음문제                         70 non-null     object        \n",
            " 17  12. 음주 문제                              71 non-null     object        \n",
            " 18  13. 정리정돈을 신경쓰는 정도                      72 non-null     object        \n",
            " 19  14. 지인 출입                              72 non-null     object        \n",
            "dtypes: datetime64[ns](1), object(19)\n",
            "memory usage: 11.4+ KB\n"
          ]
        }
      ]
    },
    {
      "cell_type": "markdown",
      "metadata": {
        "id": "QXl5j8J0vfXA"
      },
      "source": [
        "### 결측치 처리\n",
        "샘플이 충분하지 않은 경우 pandas의 fillna() 함수 사용"
      ]
    },
    {
      "cell_type": "code",
      "metadata": {
        "colab": {
          "base_uri": "https://localhost:8080/"
        },
        "id": "EdLzaz07vPaa",
        "outputId": "99ba88dd-b4df-4ba3-fb37-58ad6113998c"
      },
      "source": [
        "df.isnull().sum()"
      ],
      "execution_count": 17,
      "outputs": [
        {
          "output_type": "execute_result",
          "data": {
            "text/plain": [
              "TIMESTAMP                                 0\n",
              "1. 성별                                     0\n",
              "2. 나이                                     0\n",
              "3. mbti                                   0\n",
              "4. 흡연 유무                                  0\n",
              "4-1. 원하는 메이트의 흡연여부                        0\n",
              "5. 반려동물과 같이 살 예정이다.                       0\n",
              "5-1. 반려동물을 키울 경우 어떤 동물인가?                57\n",
              "5-2. 메이트의 반려동물 중 허용가능한 것은?                0\n",
              "6. 난방/냉방 관련 문제                            1\n",
              "7. 벌레를 잡을 수 있는가? (바퀴벌레, 돈벌레, 지네 정도)       1\n",
              "7-1. 원하는 메이트                              0\n",
              "8.집에서 밥을 먹을 경우의 식사 스타일                    0\n",
              "8-1. 메이트가 집에서 요리하는 게 불편한가요? (냄새 문제 등)     8\n",
              "9. 선호하는 식사유형                              0\n",
              "10. 메이트와 물건을 공유해도 괜찮습니까?                  1\n",
              "11. 방내에서의 소음문제                            2\n",
              "12. 음주 문제                                 1\n",
              "13. 정리정돈을 신경쓰는 정도                         0\n",
              "14. 지인 출입                                 0\n",
              "dtype: int64"
            ]
          },
          "metadata": {},
          "execution_count": 17
        }
      ]
    },
    {
      "cell_type": "code",
      "metadata": {
        "colab": {
          "base_uri": "https://localhost:8080/"
        },
        "id": "BaIDKwq3wDNR",
        "outputId": "afc75d93-fee2-43a6-879a-b75a265660ca"
      },
      "source": [
        "# DataFrame의 칼럼 이름 확인\n",
        "df.columns"
      ],
      "execution_count": 18,
      "outputs": [
        {
          "output_type": "execute_result",
          "data": {
            "text/plain": [
              "Index(['TIMESTAMP', '1. 성별', '2. 나이', '3. mbti', '4. 흡연 유무',\n",
              "       '4-1. 원하는 메이트의 흡연여부', '5. 반려동물과 같이 살 예정이다.',\n",
              "       '5-1. 반려동물을 키울 경우 어떤 동물인가?', '5-2. 메이트의 반려동물 중 허용가능한 것은?',\n",
              "       '6. 난방/냉방 관련 문제', '7. 벌레를 잡을 수 있는가? (바퀴벌레, 돈벌레, 지네 정도)', '7-1. 원하는 메이트',\n",
              "       '8.집에서 밥을 먹을 경우의 식사 스타일', '8-1. 메이트가 집에서 요리하는 게 불편한가요? (냄새 문제 등)',\n",
              "       '9. 선호하는 식사유형', '10. 메이트와 물건을 공유해도 괜찮습니까?', '11. 방내에서의 소음문제',\n",
              "       '12. 음주 문제', '13. 정리정돈을 신경쓰는 정도', '14. 지인 출입'],\n",
              "      dtype='object')"
            ]
          },
          "metadata": {},
          "execution_count": 18
        }
      ]
    },
    {
      "cell_type": "code",
      "metadata": {
        "colab": {
          "base_uri": "https://localhost:8080/",
          "height": 35
        },
        "id": "G1UnVxunwrNE",
        "outputId": "58d87454-8f5d-466f-edd2-60158e04cdef"
      },
      "source": [
        "df.columns[5]"
      ],
      "execution_count": 19,
      "outputs": [
        {
          "output_type": "execute_result",
          "data": {
            "application/vnd.google.colaboratory.intrinsic+json": {
              "type": "string"
            },
            "text/plain": [
              "'4-1. 원하는 메이트의 흡연여부'"
            ]
          },
          "metadata": {},
          "execution_count": 19
        }
      ]
    },
    {
      "cell_type": "code",
      "metadata": {
        "colab": {
          "base_uri": "https://localhost:8080/"
        },
        "id": "VLu2tWqexD-g",
        "outputId": "4aa04d5e-b086-4cc3-c328-67c993d5e975"
      },
      "source": [
        "df['3. mbti']"
      ],
      "execution_count": 20,
      "outputs": [
        {
          "output_type": "execute_result",
          "data": {
            "text/plain": [
              "0     infp\n",
              "1     intp\n",
              "2     esfp\n",
              "3      모른다\n",
              "4     intp\n",
              "      ... \n",
              "67    isfj\n",
              "68    isfj\n",
              "69     모른다\n",
              "70    intp\n",
              "71    istp\n",
              "Name: 3. mbti, Length: 72, dtype: object"
            ]
          },
          "metadata": {},
          "execution_count": 20
        }
      ]
    },
    {
      "cell_type": "code",
      "metadata": {
        "colab": {
          "base_uri": "https://localhost:8080/",
          "height": 1000
        },
        "id": "wINRvS3zxtoq",
        "outputId": "1271fdaf-a2e1-4503-d198-e4e475530806"
      },
      "source": [
        "# 인덱스 이름 생성\n",
        "df.index.name = 'udi'\n",
        "df.head()"
      ],
      "execution_count": 21,
      "outputs": [
        {
          "output_type": "execute_result",
          "data": {
            "text/html": [
              "<div>\n",
              "<style scoped>\n",
              "    .dataframe tbody tr th:only-of-type {\n",
              "        vertical-align: middle;\n",
              "    }\n",
              "\n",
              "    .dataframe tbody tr th {\n",
              "        vertical-align: top;\n",
              "    }\n",
              "\n",
              "    .dataframe thead th {\n",
              "        text-align: right;\n",
              "    }\n",
              "</style>\n",
              "<table border=\"1\" class=\"dataframe\">\n",
              "  <thead>\n",
              "    <tr style=\"text-align: right;\">\n",
              "      <th></th>\n",
              "      <th>TIMESTAMP</th>\n",
              "      <th>1. 성별</th>\n",
              "      <th>2. 나이</th>\n",
              "      <th>3. mbti</th>\n",
              "      <th>4. 흡연 유무</th>\n",
              "      <th>4-1. 원하는 메이트의 흡연여부</th>\n",
              "      <th>5. 반려동물과 같이 살 예정이다.</th>\n",
              "      <th>5-1. 반려동물을 키울 경우 어떤 동물인가?</th>\n",
              "      <th>5-2. 메이트의 반려동물 중 허용가능한 것은?</th>\n",
              "      <th>6. 난방/냉방 관련 문제</th>\n",
              "      <th>7. 벌레를 잡을 수 있는가? (바퀴벌레, 돈벌레, 지네 정도)</th>\n",
              "      <th>7-1. 원하는 메이트</th>\n",
              "      <th>8.집에서 밥을 먹을 경우의 식사 스타일</th>\n",
              "      <th>8-1. 메이트가 집에서 요리하는 게 불편한가요? (냄새 문제 등)</th>\n",
              "      <th>9. 선호하는 식사유형</th>\n",
              "      <th>10. 메이트와 물건을 공유해도 괜찮습니까?</th>\n",
              "      <th>11. 방내에서의 소음문제</th>\n",
              "      <th>12. 음주 문제</th>\n",
              "      <th>13. 정리정돈을 신경쓰는 정도</th>\n",
              "      <th>14. 지인 출입</th>\n",
              "    </tr>\n",
              "    <tr>\n",
              "      <th>udi</th>\n",
              "      <th></th>\n",
              "      <th></th>\n",
              "      <th></th>\n",
              "      <th></th>\n",
              "      <th></th>\n",
              "      <th></th>\n",
              "      <th></th>\n",
              "      <th></th>\n",
              "      <th></th>\n",
              "      <th></th>\n",
              "      <th></th>\n",
              "      <th></th>\n",
              "      <th></th>\n",
              "      <th></th>\n",
              "      <th></th>\n",
              "      <th></th>\n",
              "      <th></th>\n",
              "      <th></th>\n",
              "      <th></th>\n",
              "      <th></th>\n",
              "    </tr>\n",
              "  </thead>\n",
              "  <tbody>\n",
              "    <tr>\n",
              "      <th>0</th>\n",
              "      <td>2021-10-20 11:29:52</td>\n",
              "      <td>여자</td>\n",
              "      <td>24 ~ 26</td>\n",
              "      <td>infp</td>\n",
              "      <td>비흡연자</td>\n",
              "      <td>비흡연자</td>\n",
              "      <td>아니다</td>\n",
              "      <td>NaN</td>\n",
              "      <td>고양이\\t강아지</td>\n",
              "      <td>절대 못잡는다</td>\n",
              "      <td>NaN</td>\n",
              "      <td>벌레를 잡을 수 있어야만 한다</td>\n",
              "      <td>직접 요리</td>\n",
              "      <td>NaN</td>\n",
              "      <td>그렇다</td>\n",
              "      <td>NaN</td>\n",
              "      <td>NaN</td>\n",
              "      <td>소음은 없었으면 좋겠다.</td>\n",
              "      <td>2</td>\n",
              "      <td>누구든 데려오면 안된다.</td>\n",
              "    </tr>\n",
              "    <tr>\n",
              "      <th>1</th>\n",
              "      <td>2021-10-22 01:16:34</td>\n",
              "      <td>남자</td>\n",
              "      <td>27 ~ 29</td>\n",
              "      <td>intp</td>\n",
              "      <td>비흡연자</td>\n",
              "      <td>비흡연자</td>\n",
              "      <td>아니다</td>\n",
              "      <td>NaN</td>\n",
              "      <td>고양이\\t강아지</td>\n",
              "      <td>더위를 많이 타서 에어컨을 일찍부터 튼다\\t여름에 항상 에어컨을 켜놓는다\\t과한 난...</td>\n",
              "      <td>시키면 잡을 수 있다</td>\n",
              "      <td>벌레를 못잡아도 상관없다</td>\n",
              "      <td>직접 요리</td>\n",
              "      <td>NaN</td>\n",
              "      <td>혼자 먹는 걸 선호한다</td>\n",
              "      <td>사용하기 전 허락을 받으면 괜찮다</td>\n",
              "      <td>신경쓰지 않는다.</td>\n",
              "      <td>메이트가 술주정만 하지 않으면 된다</td>\n",
              "      <td>내 공간만 아니면 신경쓰이지 않는다</td>\n",
              "      <td>미리 말만 하면 지인이 출입해도 상관없다.</td>\n",
              "    </tr>\n",
              "    <tr>\n",
              "      <th>2</th>\n",
              "      <td>2021-10-22 01:29:18</td>\n",
              "      <td>여자</td>\n",
              "      <td>20 ~ 23</td>\n",
              "      <td>esfp</td>\n",
              "      <td>비흡연자</td>\n",
              "      <td>비흡연자</td>\n",
              "      <td>아니다</td>\n",
              "      <td>NaN</td>\n",
              "      <td>고양이\\t강아지\\t조류</td>\n",
              "      <td>더위를 많이 타서 에어컨을 일찍부터 튼다\\t추위를 많이 타서 난방을 일찍부터 튼다\\...</td>\n",
              "      <td>절대 못잡는다</td>\n",
              "      <td>벌레를 잡을 수 있어야만 한다</td>\n",
              "      <td>외부 음식(포장, 배달)</td>\n",
              "      <td>NaN</td>\n",
              "      <td>혼자 먹는 걸 선호한다</td>\n",
              "      <td>사용하기 전 허락을 받으면 괜찮다</td>\n",
              "      <td>10분 이상의 동영상/음악 소리는 신경쓰인다\\t지속적인 알람소리는 신경쓰인다</td>\n",
              "      <td>메이트가 술주정만 하지 않으면 된다</td>\n",
              "      <td>공유하는 공간의 경우 신경쓰인다</td>\n",
              "      <td>미리 말만 하면 지인이 출입해도 상관없다.</td>\n",
              "    </tr>\n",
              "    <tr>\n",
              "      <th>3</th>\n",
              "      <td>2021-10-22 01:31:02</td>\n",
              "      <td>남자</td>\n",
              "      <td>20 ~ 23</td>\n",
              "      <td>모른다</td>\n",
              "      <td>비흡연자</td>\n",
              "      <td>비흡연자</td>\n",
              "      <td>아니다</td>\n",
              "      <td>NaN</td>\n",
              "      <td>어떠한 동물도 안된다.</td>\n",
              "      <td>NaN</td>\n",
              "      <td>잡는데 거리낌이 없다</td>\n",
              "      <td>벌레를 못잡아도 상관없다</td>\n",
              "      <td>직접 요리</td>\n",
              "      <td>NaN</td>\n",
              "      <td>같이 먹는 걸 선호한다</td>\n",
              "      <td>사용하기 전 허락을 받으면 괜찮다</td>\n",
              "      <td>신경쓰지 않는다.</td>\n",
              "      <td>메이트의 술 문제는 신경쓰지 않는다</td>\n",
              "      <td>공유하는 공간의 경우 신경쓰인다</td>\n",
              "      <td>미리 말만 하면 지인이 출입해도 상관없다.</td>\n",
              "    </tr>\n",
              "    <tr>\n",
              "      <th>4</th>\n",
              "      <td>2021-10-22 01:33:35</td>\n",
              "      <td>남자</td>\n",
              "      <td>20 ~ 23</td>\n",
              "      <td>intp</td>\n",
              "      <td>비흡연자</td>\n",
              "      <td>비흡연자</td>\n",
              "      <td>아니다</td>\n",
              "      <td>NaN</td>\n",
              "      <td>어떠한 동물도 안된다.</td>\n",
              "      <td>과한 난방은 답답해하는 편이다</td>\n",
              "      <td>시키면 잡을 수 있다</td>\n",
              "      <td>벌레를 못잡아도 상관없다</td>\n",
              "      <td>직접 요리</td>\n",
              "      <td>NaN</td>\n",
              "      <td>혼자 먹는 걸 선호한다</td>\n",
              "      <td>괜찮지 않다(안된다)</td>\n",
              "      <td>지속적인 알람소리는 신경쓰인다</td>\n",
              "      <td>메이트가 술 냄새를 풍기는 것은 싫다\\t메이트가 술을 많이 마신 것 같은 모습을 보...</td>\n",
              "      <td>공유하는 공간의 경우 신경쓰인다</td>\n",
              "      <td>미리 말만 하면 지인이 출입해도 상관없다.</td>\n",
              "    </tr>\n",
              "  </tbody>\n",
              "</table>\n",
              "</div>"
            ],
            "text/plain": [
              "              TIMESTAMP 1. 성별  ...    13. 정리정돈을 신경쓰는 정도                14. 지인 출입\n",
              "udi                            ...                                              \n",
              "0   2021-10-20 11:29:52    여자  ...                    2            누구든 데려오면 안된다.\n",
              "1   2021-10-22 01:16:34    남자  ...  내 공간만 아니면 신경쓰이지 않는다  미리 말만 하면 지인이 출입해도 상관없다.\n",
              "2   2021-10-22 01:29:18    여자  ...    공유하는 공간의 경우 신경쓰인다  미리 말만 하면 지인이 출입해도 상관없다.\n",
              "3   2021-10-22 01:31:02    남자  ...    공유하는 공간의 경우 신경쓰인다  미리 말만 하면 지인이 출입해도 상관없다.\n",
              "4   2021-10-22 01:33:35    남자  ...    공유하는 공간의 경우 신경쓰인다  미리 말만 하면 지인이 출입해도 상관없다.\n",
              "\n",
              "[5 rows x 20 columns]"
            ]
          },
          "metadata": {},
          "execution_count": 21
        }
      ]
    },
    {
      "cell_type": "code",
      "metadata": {
        "colab": {
          "base_uri": "https://localhost:8080/"
        },
        "id": "sXuyTLQ_yLre",
        "outputId": "ce62018f-4375-4237-fead-65c668ad5c3a"
      },
      "source": [
        "# 인덱스는 컬럼에 들어가지 않는다.\n",
        "df.columns"
      ],
      "execution_count": 22,
      "outputs": [
        {
          "output_type": "execute_result",
          "data": {
            "text/plain": [
              "Index(['TIMESTAMP', '1. 성별', '2. 나이', '3. mbti', '4. 흡연 유무',\n",
              "       '4-1. 원하는 메이트의 흡연여부', '5. 반려동물과 같이 살 예정이다.',\n",
              "       '5-1. 반려동물을 키울 경우 어떤 동물인가?', '5-2. 메이트의 반려동물 중 허용가능한 것은?',\n",
              "       '6. 난방/냉방 관련 문제', '7. 벌레를 잡을 수 있는가? (바퀴벌레, 돈벌레, 지네 정도)', '7-1. 원하는 메이트',\n",
              "       '8.집에서 밥을 먹을 경우의 식사 스타일', '8-1. 메이트가 집에서 요리하는 게 불편한가요? (냄새 문제 등)',\n",
              "       '9. 선호하는 식사유형', '10. 메이트와 물건을 공유해도 괜찮습니까?', '11. 방내에서의 소음문제',\n",
              "       '12. 음주 문제', '13. 정리정돈을 신경쓰는 정도', '14. 지인 출입'],\n",
              "      dtype='object')"
            ]
          },
          "metadata": {},
          "execution_count": 22
        }
      ]
    },
    {
      "cell_type": "markdown",
      "metadata": {
        "id": "hM4de8Y4zdzx"
      },
      "source": [
        "### 컬럼 이름 변경"
      ]
    },
    {
      "cell_type": "code",
      "metadata": {
        "colab": {
          "base_uri": "https://localhost:8080/"
        },
        "id": "fdBnuk_lyk8J",
        "outputId": "a8285f8a-a7ad-4467-e264-5a7d361ed442"
      },
      "source": [
        "df = df.rename(columns={'1. 성별': 'sex', '2. 나이': 'age', '3. mbti': 'mbti', '4. 흡연 유무': 'user_smoking', '4-1. 원하는 메이트의 흡연여부': 'mate_smoking'})\n",
        "df.columns"
      ],
      "execution_count": 23,
      "outputs": [
        {
          "output_type": "execute_result",
          "data": {
            "text/plain": [
              "Index(['TIMESTAMP', 'sex', 'age', 'mbti', 'user_smoking', 'mate_smoking',\n",
              "       '5. 반려동물과 같이 살 예정이다.', '5-1. 반려동물을 키울 경우 어떤 동물인가?',\n",
              "       '5-2. 메이트의 반려동물 중 허용가능한 것은?', '6. 난방/냉방 관련 문제',\n",
              "       '7. 벌레를 잡을 수 있는가? (바퀴벌레, 돈벌레, 지네 정도)', '7-1. 원하는 메이트',\n",
              "       '8.집에서 밥을 먹을 경우의 식사 스타일', '8-1. 메이트가 집에서 요리하는 게 불편한가요? (냄새 문제 등)',\n",
              "       '9. 선호하는 식사유형', '10. 메이트와 물건을 공유해도 괜찮습니까?', '11. 방내에서의 소음문제',\n",
              "       '12. 음주 문제', '13. 정리정돈을 신경쓰는 정도', '14. 지인 출입'],\n",
              "      dtype='object')"
            ]
          },
          "metadata": {},
          "execution_count": 23
        }
      ]
    },
    {
      "cell_type": "code",
      "metadata": {
        "id": "2kPQeWXnzbUm"
      },
      "source": [
        "df = df.rename(columns={'5. 반려동물과 같이 살 예정이다.': 'user_pet'})"
      ],
      "execution_count": 24,
      "outputs": []
    }
  ]
}