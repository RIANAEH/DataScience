{
  "nbformat": 4,
  "nbformat_minor": 0,
  "metadata": {
    "colab": {
      "name": "for_mnm_matching_algorithm.ipynb",
      "provenance": [],
      "collapsed_sections": []
    },
    "kernelspec": {
      "name": "python3",
      "display_name": "Python 3"
    },
    "language_info": {
      "name": "python"
    }
  },
  "cells": [
    {
      "cell_type": "markdown",
      "metadata": {
        "id": "3kefols1FOZP"
      },
      "source": [
        "# for_mnm_matching_algorithm\n",
        "\n"
      ]
    },
    {
      "cell_type": "markdown",
      "metadata": {
        "id": "GiFLO2lIJDrM"
      },
      "source": [
        "### 라이브러리 불러오기"
      ]
    },
    {
      "cell_type": "code",
      "metadata": {
        "id": "l7s2vOi_JBkt"
      },
      "source": [
        "import pandas as pd\n",
        "import numpy as np"
      ],
      "execution_count": 31,
      "outputs": []
    },
    {
      "cell_type": "markdown",
      "metadata": {
        "id": "IgJnx92pt9PG"
      },
      "source": [
        "### 설문조사 데이터 불러오기"
      ]
    },
    {
      "cell_type": "code",
      "metadata": {
        "colab": {
          "base_uri": "https://localhost:8080/",
          "height": 774
        },
        "id": "Tzdtl0NStO9M",
        "outputId": "e29b6bd7-29dd-46e9-b6bf-a1a0db0c4b8c"
      },
      "source": [
        "df = pd.read_excel(\"하우스 메이트 설문결과.xlsx\")\n",
        "df.head()"
      ],
      "execution_count": 14,
      "outputs": [
        {
          "output_type": "execute_result",
          "data": {
            "text/html": [
              "<div>\n",
              "<style scoped>\n",
              "    .dataframe tbody tr th:only-of-type {\n",
              "        vertical-align: middle;\n",
              "    }\n",
              "\n",
              "    .dataframe tbody tr th {\n",
              "        vertical-align: top;\n",
              "    }\n",
              "\n",
              "    .dataframe thead th {\n",
              "        text-align: right;\n",
              "    }\n",
              "</style>\n",
              "<table border=\"1\" class=\"dataframe\">\n",
              "  <thead>\n",
              "    <tr style=\"text-align: right;\">\n",
              "      <th></th>\n",
              "      <th>TIMESTAMP</th>\n",
              "      <th>1. 성별</th>\n",
              "      <th>2. 나이</th>\n",
              "      <th>3. mbti</th>\n",
              "      <th>4. 흡연 유무</th>\n",
              "      <th>4-1. 원하는 메이트의 흡연여부</th>\n",
              "      <th>5. 반려동물과 같이 살 예정이다.</th>\n",
              "      <th>5-1. 반려동물을 키울 경우 어떤 동물인가?</th>\n",
              "      <th>5-2. 메이트의 반려동물 중 허용가능한 것은?</th>\n",
              "      <th>6. 난방/냉방 관련 문제</th>\n",
              "      <th>7. 벌레를 잡을 수 있는가? (바퀴벌레, 돈벌레, 지네 정도)</th>\n",
              "      <th>7-1. 원하는 메이트</th>\n",
              "      <th>8.집에서 밥을 먹을 경우의 식사 스타일</th>\n",
              "      <th>8-1. 메이트가 집에서 요리하는 게 불편한가요? (냄새 문제 등)</th>\n",
              "      <th>9. 선호하는 식사유형</th>\n",
              "      <th>10. 메이트와 물건을 공유해도 괜찮습니까?</th>\n",
              "      <th>11. 방내에서의 소음문제</th>\n",
              "      <th>12. 음주 문제</th>\n",
              "      <th>13. 정리정돈을 신경쓰는 정도</th>\n",
              "      <th>14. 지인 출입</th>\n",
              "    </tr>\n",
              "  </thead>\n",
              "  <tbody>\n",
              "    <tr>\n",
              "      <th>0</th>\n",
              "      <td>2021-10-20 11:29:52</td>\n",
              "      <td>여자</td>\n",
              "      <td>24 ~ 26</td>\n",
              "      <td>infp</td>\n",
              "      <td>비흡연자</td>\n",
              "      <td>비흡연자</td>\n",
              "      <td>아니다</td>\n",
              "      <td>NaN</td>\n",
              "      <td>고양이\\t강아지</td>\n",
              "      <td>절대 못잡는다</td>\n",
              "      <td>NaN</td>\n",
              "      <td>벌레를 잡을 수 있어야만 한다</td>\n",
              "      <td>직접 요리</td>\n",
              "      <td>NaN</td>\n",
              "      <td>그렇다</td>\n",
              "      <td>NaN</td>\n",
              "      <td>NaN</td>\n",
              "      <td>소음은 없었으면 좋겠다.</td>\n",
              "      <td>2</td>\n",
              "      <td>누구든 데려오면 안된다.</td>\n",
              "    </tr>\n",
              "    <tr>\n",
              "      <th>1</th>\n",
              "      <td>2021-10-22 01:16:34</td>\n",
              "      <td>남자</td>\n",
              "      <td>27 ~ 29</td>\n",
              "      <td>intp</td>\n",
              "      <td>비흡연자</td>\n",
              "      <td>비흡연자</td>\n",
              "      <td>아니다</td>\n",
              "      <td>NaN</td>\n",
              "      <td>고양이\\t강아지</td>\n",
              "      <td>더위를 많이 타서 에어컨을 일찍부터 튼다\\t여름에 항상 에어컨을 켜놓는다\\t과한 난...</td>\n",
              "      <td>시키면 잡을 수 있다</td>\n",
              "      <td>벌레를 못잡아도 상관없다</td>\n",
              "      <td>직접 요리</td>\n",
              "      <td>NaN</td>\n",
              "      <td>혼자 먹는 걸 선호한다</td>\n",
              "      <td>사용하기 전 허락을 받으면 괜찮다</td>\n",
              "      <td>신경쓰지 않는다.</td>\n",
              "      <td>메이트가 술주정만 하지 않으면 된다</td>\n",
              "      <td>내 공간만 아니면 신경쓰이지 않는다</td>\n",
              "      <td>미리 말만 하면 지인이 출입해도 상관없다.</td>\n",
              "    </tr>\n",
              "    <tr>\n",
              "      <th>2</th>\n",
              "      <td>2021-10-22 01:29:18</td>\n",
              "      <td>여자</td>\n",
              "      <td>20 ~ 23</td>\n",
              "      <td>esfp</td>\n",
              "      <td>비흡연자</td>\n",
              "      <td>비흡연자</td>\n",
              "      <td>아니다</td>\n",
              "      <td>NaN</td>\n",
              "      <td>고양이\\t강아지\\t조류</td>\n",
              "      <td>더위를 많이 타서 에어컨을 일찍부터 튼다\\t추위를 많이 타서 난방을 일찍부터 튼다\\...</td>\n",
              "      <td>절대 못잡는다</td>\n",
              "      <td>벌레를 잡을 수 있어야만 한다</td>\n",
              "      <td>외부 음식(포장, 배달)</td>\n",
              "      <td>NaN</td>\n",
              "      <td>혼자 먹는 걸 선호한다</td>\n",
              "      <td>사용하기 전 허락을 받으면 괜찮다</td>\n",
              "      <td>10분 이상의 동영상/음악 소리는 신경쓰인다\\t지속적인 알람소리는 신경쓰인다</td>\n",
              "      <td>메이트가 술주정만 하지 않으면 된다</td>\n",
              "      <td>공유하는 공간의 경우 신경쓰인다</td>\n",
              "      <td>미리 말만 하면 지인이 출입해도 상관없다.</td>\n",
              "    </tr>\n",
              "    <tr>\n",
              "      <th>3</th>\n",
              "      <td>2021-10-22 01:31:02</td>\n",
              "      <td>남자</td>\n",
              "      <td>20 ~ 23</td>\n",
              "      <td>모른다</td>\n",
              "      <td>비흡연자</td>\n",
              "      <td>비흡연자</td>\n",
              "      <td>아니다</td>\n",
              "      <td>NaN</td>\n",
              "      <td>어떠한 동물도 안된다.</td>\n",
              "      <td>NaN</td>\n",
              "      <td>잡는데 거리낌이 없다</td>\n",
              "      <td>벌레를 못잡아도 상관없다</td>\n",
              "      <td>직접 요리</td>\n",
              "      <td>NaN</td>\n",
              "      <td>같이 먹는 걸 선호한다</td>\n",
              "      <td>사용하기 전 허락을 받으면 괜찮다</td>\n",
              "      <td>신경쓰지 않는다.</td>\n",
              "      <td>메이트의 술 문제는 신경쓰지 않는다</td>\n",
              "      <td>공유하는 공간의 경우 신경쓰인다</td>\n",
              "      <td>미리 말만 하면 지인이 출입해도 상관없다.</td>\n",
              "    </tr>\n",
              "    <tr>\n",
              "      <th>4</th>\n",
              "      <td>2021-10-22 01:33:35</td>\n",
              "      <td>남자</td>\n",
              "      <td>20 ~ 23</td>\n",
              "      <td>intp</td>\n",
              "      <td>비흡연자</td>\n",
              "      <td>비흡연자</td>\n",
              "      <td>아니다</td>\n",
              "      <td>NaN</td>\n",
              "      <td>어떠한 동물도 안된다.</td>\n",
              "      <td>과한 난방은 답답해하는 편이다</td>\n",
              "      <td>시키면 잡을 수 있다</td>\n",
              "      <td>벌레를 못잡아도 상관없다</td>\n",
              "      <td>직접 요리</td>\n",
              "      <td>NaN</td>\n",
              "      <td>혼자 먹는 걸 선호한다</td>\n",
              "      <td>괜찮지 않다(안된다)</td>\n",
              "      <td>지속적인 알람소리는 신경쓰인다</td>\n",
              "      <td>메이트가 술 냄새를 풍기는 것은 싫다\\t메이트가 술을 많이 마신 것 같은 모습을 보...</td>\n",
              "      <td>공유하는 공간의 경우 신경쓰인다</td>\n",
              "      <td>미리 말만 하면 지인이 출입해도 상관없다.</td>\n",
              "    </tr>\n",
              "  </tbody>\n",
              "</table>\n",
              "</div>"
            ],
            "text/plain": [
              "            TIMESTAMP 1. 성별  ...    13. 정리정돈을 신경쓰는 정도                14. 지인 출입\n",
              "0 2021-10-20 11:29:52    여자  ...                    2            누구든 데려오면 안된다.\n",
              "1 2021-10-22 01:16:34    남자  ...  내 공간만 아니면 신경쓰이지 않는다  미리 말만 하면 지인이 출입해도 상관없다.\n",
              "2 2021-10-22 01:29:18    여자  ...    공유하는 공간의 경우 신경쓰인다  미리 말만 하면 지인이 출입해도 상관없다.\n",
              "3 2021-10-22 01:31:02    남자  ...    공유하는 공간의 경우 신경쓰인다  미리 말만 하면 지인이 출입해도 상관없다.\n",
              "4 2021-10-22 01:33:35    남자  ...    공유하는 공간의 경우 신경쓰인다  미리 말만 하면 지인이 출입해도 상관없다.\n",
              "\n",
              "[5 rows x 20 columns]"
            ]
          },
          "metadata": {},
          "execution_count": 14
        }
      ]
    },
    {
      "cell_type": "code",
      "metadata": {
        "colab": {
          "base_uri": "https://localhost:8080/"
        },
        "id": "GwnbKh4Ou7ZC",
        "outputId": "4edcbe41-e959-4ae4-d043-7a574f3b924d"
      },
      "source": [
        "df.info()"
      ],
      "execution_count": 15,
      "outputs": [
        {
          "output_type": "stream",
          "name": "stdout",
          "text": [
            "<class 'pandas.core.frame.DataFrame'>\n",
            "RangeIndex: 72 entries, 0 to 71\n",
            "Data columns (total 20 columns):\n",
            " #   Column                                 Non-Null Count  Dtype         \n",
            "---  ------                                 --------------  -----         \n",
            " 0   TIMESTAMP                              72 non-null     datetime64[ns]\n",
            " 1   1. 성별                                  72 non-null     object        \n",
            " 2   2. 나이                                  72 non-null     object        \n",
            " 3   3. mbti                                72 non-null     object        \n",
            " 4   4. 흡연 유무                               72 non-null     object        \n",
            " 5   4-1. 원하는 메이트의 흡연여부                     72 non-null     object        \n",
            " 6   5. 반려동물과 같이 살 예정이다.                    72 non-null     object        \n",
            " 7   5-1. 반려동물을 키울 경우 어떤 동물인가?              15 non-null     object        \n",
            " 8   5-2. 메이트의 반려동물 중 허용가능한 것은?             72 non-null     object        \n",
            " 9   6. 난방/냉방 관련 문제                         71 non-null     object        \n",
            " 10  7. 벌레를 잡을 수 있는가? (바퀴벌레, 돈벌레, 지네 정도)    71 non-null     object        \n",
            " 11  7-1. 원하는 메이트                           72 non-null     object        \n",
            " 12  8.집에서 밥을 먹을 경우의 식사 스타일                 72 non-null     object        \n",
            " 13  8-1. 메이트가 집에서 요리하는 게 불편한가요? (냄새 문제 등)  64 non-null     object        \n",
            " 14  9. 선호하는 식사유형                           72 non-null     object        \n",
            " 15  10. 메이트와 물건을 공유해도 괜찮습니까?               71 non-null     object        \n",
            " 16  11. 방내에서의 소음문제                         70 non-null     object        \n",
            " 17  12. 음주 문제                              71 non-null     object        \n",
            " 18  13. 정리정돈을 신경쓰는 정도                      72 non-null     object        \n",
            " 19  14. 지인 출입                              72 non-null     object        \n",
            "dtypes: datetime64[ns](1), object(19)\n",
            "memory usage: 11.4+ KB\n"
          ]
        }
      ]
    },
    {
      "cell_type": "markdown",
      "metadata": {
        "id": "c-SOep4iL5Oc"
      },
      "source": [
        "### 컬럼 이름 변경\n",
        "- 컬럼 이름을 데이터베이스 테이블 명세서에 맞춰 변경한다.\n",
        "- time 컬럼을 제외하면 총 19개의 컬럼을 가진다."
      ]
    },
    {
      "cell_type": "code",
      "metadata": {
        "colab": {
          "base_uri": "https://localhost:8080/",
          "height": 1000
        },
        "id": "N3nEESWVKE5N",
        "outputId": "2f0b4a73-bded-457e-ebb9-92ac8b2f73b3"
      },
      "source": [
        "df.columns = ['time', 'sex', 'age', 'mbti', 'user_smoking', 'mate_smoking', 'user_pet', 'user_pet_category', 'mate_pet_category', \n",
        "              'air', 'user_bug_killer', 'mate_bug_killer', 'user_cooking', 'mate_cooking', 'eat_together', 'share_item', 'noise', 'mate_alcohol', \n",
        "              'mate_clean', 'permission_to_enter']\n",
        "df.head()"
      ],
      "execution_count": 16,
      "outputs": [
        {
          "output_type": "execute_result",
          "data": {
            "text/html": [
              "<div>\n",
              "<style scoped>\n",
              "    .dataframe tbody tr th:only-of-type {\n",
              "        vertical-align: middle;\n",
              "    }\n",
              "\n",
              "    .dataframe tbody tr th {\n",
              "        vertical-align: top;\n",
              "    }\n",
              "\n",
              "    .dataframe thead th {\n",
              "        text-align: right;\n",
              "    }\n",
              "</style>\n",
              "<table border=\"1\" class=\"dataframe\">\n",
              "  <thead>\n",
              "    <tr style=\"text-align: right;\">\n",
              "      <th></th>\n",
              "      <th>time</th>\n",
              "      <th>sex</th>\n",
              "      <th>age</th>\n",
              "      <th>mbti</th>\n",
              "      <th>user_smoking</th>\n",
              "      <th>mate_smoking</th>\n",
              "      <th>user_pet</th>\n",
              "      <th>user_pet_category</th>\n",
              "      <th>mate_pet_category</th>\n",
              "      <th>air</th>\n",
              "      <th>user_bug_killer</th>\n",
              "      <th>mate_bug_killer</th>\n",
              "      <th>user_cooking</th>\n",
              "      <th>mate_cooking</th>\n",
              "      <th>eat_together</th>\n",
              "      <th>share_item</th>\n",
              "      <th>noise</th>\n",
              "      <th>mate_alcohol</th>\n",
              "      <th>mate_clean</th>\n",
              "      <th>permission_to_enter</th>\n",
              "    </tr>\n",
              "  </thead>\n",
              "  <tbody>\n",
              "    <tr>\n",
              "      <th>0</th>\n",
              "      <td>2021-10-20 11:29:52</td>\n",
              "      <td>여자</td>\n",
              "      <td>24 ~ 26</td>\n",
              "      <td>infp</td>\n",
              "      <td>비흡연자</td>\n",
              "      <td>비흡연자</td>\n",
              "      <td>아니다</td>\n",
              "      <td>NaN</td>\n",
              "      <td>고양이\\t강아지</td>\n",
              "      <td>절대 못잡는다</td>\n",
              "      <td>NaN</td>\n",
              "      <td>벌레를 잡을 수 있어야만 한다</td>\n",
              "      <td>직접 요리</td>\n",
              "      <td>NaN</td>\n",
              "      <td>그렇다</td>\n",
              "      <td>NaN</td>\n",
              "      <td>NaN</td>\n",
              "      <td>소음은 없었으면 좋겠다.</td>\n",
              "      <td>2</td>\n",
              "      <td>누구든 데려오면 안된다.</td>\n",
              "    </tr>\n",
              "    <tr>\n",
              "      <th>1</th>\n",
              "      <td>2021-10-22 01:16:34</td>\n",
              "      <td>남자</td>\n",
              "      <td>27 ~ 29</td>\n",
              "      <td>intp</td>\n",
              "      <td>비흡연자</td>\n",
              "      <td>비흡연자</td>\n",
              "      <td>아니다</td>\n",
              "      <td>NaN</td>\n",
              "      <td>고양이\\t강아지</td>\n",
              "      <td>더위를 많이 타서 에어컨을 일찍부터 튼다\\t여름에 항상 에어컨을 켜놓는다\\t과한 난...</td>\n",
              "      <td>시키면 잡을 수 있다</td>\n",
              "      <td>벌레를 못잡아도 상관없다</td>\n",
              "      <td>직접 요리</td>\n",
              "      <td>NaN</td>\n",
              "      <td>혼자 먹는 걸 선호한다</td>\n",
              "      <td>사용하기 전 허락을 받으면 괜찮다</td>\n",
              "      <td>신경쓰지 않는다.</td>\n",
              "      <td>메이트가 술주정만 하지 않으면 된다</td>\n",
              "      <td>내 공간만 아니면 신경쓰이지 않는다</td>\n",
              "      <td>미리 말만 하면 지인이 출입해도 상관없다.</td>\n",
              "    </tr>\n",
              "    <tr>\n",
              "      <th>2</th>\n",
              "      <td>2021-10-22 01:29:18</td>\n",
              "      <td>여자</td>\n",
              "      <td>20 ~ 23</td>\n",
              "      <td>esfp</td>\n",
              "      <td>비흡연자</td>\n",
              "      <td>비흡연자</td>\n",
              "      <td>아니다</td>\n",
              "      <td>NaN</td>\n",
              "      <td>고양이\\t강아지\\t조류</td>\n",
              "      <td>더위를 많이 타서 에어컨을 일찍부터 튼다\\t추위를 많이 타서 난방을 일찍부터 튼다\\...</td>\n",
              "      <td>절대 못잡는다</td>\n",
              "      <td>벌레를 잡을 수 있어야만 한다</td>\n",
              "      <td>외부 음식(포장, 배달)</td>\n",
              "      <td>NaN</td>\n",
              "      <td>혼자 먹는 걸 선호한다</td>\n",
              "      <td>사용하기 전 허락을 받으면 괜찮다</td>\n",
              "      <td>10분 이상의 동영상/음악 소리는 신경쓰인다\\t지속적인 알람소리는 신경쓰인다</td>\n",
              "      <td>메이트가 술주정만 하지 않으면 된다</td>\n",
              "      <td>공유하는 공간의 경우 신경쓰인다</td>\n",
              "      <td>미리 말만 하면 지인이 출입해도 상관없다.</td>\n",
              "    </tr>\n",
              "    <tr>\n",
              "      <th>3</th>\n",
              "      <td>2021-10-22 01:31:02</td>\n",
              "      <td>남자</td>\n",
              "      <td>20 ~ 23</td>\n",
              "      <td>모른다</td>\n",
              "      <td>비흡연자</td>\n",
              "      <td>비흡연자</td>\n",
              "      <td>아니다</td>\n",
              "      <td>NaN</td>\n",
              "      <td>어떠한 동물도 안된다.</td>\n",
              "      <td>NaN</td>\n",
              "      <td>잡는데 거리낌이 없다</td>\n",
              "      <td>벌레를 못잡아도 상관없다</td>\n",
              "      <td>직접 요리</td>\n",
              "      <td>NaN</td>\n",
              "      <td>같이 먹는 걸 선호한다</td>\n",
              "      <td>사용하기 전 허락을 받으면 괜찮다</td>\n",
              "      <td>신경쓰지 않는다.</td>\n",
              "      <td>메이트의 술 문제는 신경쓰지 않는다</td>\n",
              "      <td>공유하는 공간의 경우 신경쓰인다</td>\n",
              "      <td>미리 말만 하면 지인이 출입해도 상관없다.</td>\n",
              "    </tr>\n",
              "    <tr>\n",
              "      <th>4</th>\n",
              "      <td>2021-10-22 01:33:35</td>\n",
              "      <td>남자</td>\n",
              "      <td>20 ~ 23</td>\n",
              "      <td>intp</td>\n",
              "      <td>비흡연자</td>\n",
              "      <td>비흡연자</td>\n",
              "      <td>아니다</td>\n",
              "      <td>NaN</td>\n",
              "      <td>어떠한 동물도 안된다.</td>\n",
              "      <td>과한 난방은 답답해하는 편이다</td>\n",
              "      <td>시키면 잡을 수 있다</td>\n",
              "      <td>벌레를 못잡아도 상관없다</td>\n",
              "      <td>직접 요리</td>\n",
              "      <td>NaN</td>\n",
              "      <td>혼자 먹는 걸 선호한다</td>\n",
              "      <td>괜찮지 않다(안된다)</td>\n",
              "      <td>지속적인 알람소리는 신경쓰인다</td>\n",
              "      <td>메이트가 술 냄새를 풍기는 것은 싫다\\t메이트가 술을 많이 마신 것 같은 모습을 보...</td>\n",
              "      <td>공유하는 공간의 경우 신경쓰인다</td>\n",
              "      <td>미리 말만 하면 지인이 출입해도 상관없다.</td>\n",
              "    </tr>\n",
              "  </tbody>\n",
              "</table>\n",
              "</div>"
            ],
            "text/plain": [
              "                 time sex  ...           mate_clean      permission_to_enter\n",
              "0 2021-10-20 11:29:52  여자  ...                    2            누구든 데려오면 안된다.\n",
              "1 2021-10-22 01:16:34  남자  ...  내 공간만 아니면 신경쓰이지 않는다  미리 말만 하면 지인이 출입해도 상관없다.\n",
              "2 2021-10-22 01:29:18  여자  ...    공유하는 공간의 경우 신경쓰인다  미리 말만 하면 지인이 출입해도 상관없다.\n",
              "3 2021-10-22 01:31:02  남자  ...    공유하는 공간의 경우 신경쓰인다  미리 말만 하면 지인이 출입해도 상관없다.\n",
              "4 2021-10-22 01:33:35  남자  ...    공유하는 공간의 경우 신경쓰인다  미리 말만 하면 지인이 출입해도 상관없다.\n",
              "\n",
              "[5 rows x 20 columns]"
            ]
          },
          "metadata": {},
          "execution_count": 16
        }
      ]
    },
    {
      "cell_type": "markdown",
      "metadata": {
        "id": "yid007nxNClo"
      },
      "source": [
        "### 컬럼 설명\n",
        "- sex : 여자, 남자\n",
        "- age : 10대, 20 ~ 23, 24 ~ 26, 27 ~ 29, 30대, 40대\n",
        "- mbti : 따로 처리 필요\n",
        "- user_smoking : 흡연자, 비흡연자\n",
        "- mate_smoking : 흡연자, 비흡연자, 상관없음\n",
        "  - 상관없음의 경우 해당 컬럼을 사용하지 않는 경우와 중간값을 주는 두가지의 방법을 사용할 수 있다.\n",
        "- user_pet : 그렇다, 아니다\n",
        "- user_pet_category : 강아지, 고양이, '파충류, 어류', 설치류, 조류, '기타'\n",
        "  - \n",
        "- mate_pet_category : 어떠한 동물도 안된다., 어떤 동물이든 괜찮다., 고양이, 강아지, '파충류, 어류', 설치류, 조류\n",
        "  - 어떠한 동물도 안된다. : user_pet == '그렇다' 일 경우를 제외한다.\n",
        "  - 어떤 동물이든 괜찮다. : \n",
        "- air : 더위를 많이 타서 에어컨을 일찍부터 튼다, 여름에 항상 에어컨을 켜놓는다 = air_like_airconditionner / 에어컨을 틀고 못잔다 = air_night_airconditioner / 추위를 많이 타서 난방을 일찍부터 튼다, 과한 난방은 답답해하는 편이다 = air_like_heater / 해당하는 상황 없음 = air = none\n",
        "- user_bug_killer : 잡는데 거리낌이 없다, 시키면 잡을 수 있다, 절대 못잡는다\n",
        "- mate_bug_killer : 벌레를 잡을 수 있어야 한다, 벌레를 못잡아도 상관없다\n",
        "- user_cooking : 직접 요리, 외부 음식(포장, 배달)\n",
        "- mate_cooking : 불편하다, 신경쓰지 않는다(불편하지 않다)\n",
        "- eat_together : 혼자 먹는 걸 선호한다, 같이 먹는 걸 선호한다\n",
        "- shre_item : 말 안하고 사용해도 괜찮다, 사용하기 전 허락을 받으면 괜찮다, 괜찮지 않다(안된다)\n",
        "- noise : 신경쓰지 않는다. = noise_none / 10분 이상의 말소리(통화/게임)은 신경쓰인다, 10분 이전의 말소리(통화/게임)도 신경쓰인다 = noise_talking / 10분 이상의 동영상/음악 소리는 신경쓰인다, 10분 이전의 동영상/음악 소리도 신경쓰인다 = noise_music / 지속적인 알람소리는 신경쓰인다 = noise_alarm\n",
        "- mate_alcohol : 메이트의 술 문제는 신경쓰지 않는다, 메이트가 술 냄새를 풍기는 것은 싫다, 메이트가 술을 많이 마신 것 같은 모습을 보이면 싫다, 메이트가 술주정만 하지 않으면 된다\n",
        "- mate_clean : 내 공간만 아니면 신경쓰이지 않는다, 공유하는 공간의 경우 신경쓰인다, 메이트의 공간까지 신경쓰인다\n",
        "- permission_to_enter : 본인이 없을 때 말없이 지인이 잠깐 출입해도 상관없다., 미리 말만 하면 지인이 출입해도 상관없다., 누구든 데려오면 안된다."
      ]
    },
    {
      "cell_type": "code",
      "metadata": {
        "colab": {
          "base_uri": "https://localhost:8080/"
        },
        "id": "5qwdnI8l_dwC",
        "outputId": "7d92a41b-2d2b-4698-e9fc-0424380cb93a"
      },
      "source": [
        "df.isnull().sum()"
      ],
      "execution_count": 42,
      "outputs": [
        {
          "output_type": "execute_result",
          "data": {
            "text/plain": [
              "time                         0\n",
              "sex                          0\n",
              "age                          0\n",
              "mbti                         0\n",
              "user_smoking                 0\n",
              "mate_smoking                 0\n",
              "user_pet                     0\n",
              "user_pet_category           57\n",
              "mate_pet_category            0\n",
              "air                          1\n",
              "user_bug_killer              1\n",
              "mate_bug_killer              0\n",
              "user_cooking                 0\n",
              "mate_cooking                 8\n",
              "eat_together                 0\n",
              "share_item                   1\n",
              "noise                        2\n",
              "mate_alcohol                 1\n",
              "mate_clean                   0\n",
              "permission_to_enter          0\n",
              "air_like_airconditioner      0\n",
              "air_night_airconditioner     0\n",
              "air_like_heater             19\n",
              "air_none                     0\n",
              "dtype: int64"
            ]
          },
          "metadata": {},
          "execution_count": 42
        }
      ]
    },
    {
      "cell_type": "markdown",
      "metadata": {
        "id": "-hbdYOmF7Nhi"
      },
      "source": [
        "- air"
      ]
    },
    {
      "cell_type": "code",
      "metadata": {
        "colab": {
          "base_uri": "https://localhost:8080/"
        },
        "id": "2EWkssqJ7wwL",
        "outputId": "e888aed6-27bd-4ee1-ce37-0f6f73406469"
      },
      "source": [
        "df['air'].value_counts()"
      ],
      "execution_count": 20,
      "outputs": [
        {
          "output_type": "execute_result",
          "data": {
            "text/plain": [
              "과한 난방은 답답해하는 편이다                                                                     12\n",
              "더위를 많이 타서 에어컨을 일찍부터 튼다\\t과한 난방은 답답해하는 편이다                                              8\n",
              "해당하는 상황 없음                                                                            8\n",
              "추위를 많이 타서 난방을 일찍부터 튼다                                                                 6\n",
              "더위를 많이 타서 에어컨을 일찍부터 튼다\\t여름에 항상 에어컨을 켜놓는다\\t과한 난방은 답답해하는 편이다                            6\n",
              "더위를 많이 타서 에어컨을 일찍부터 튼다                                                                5\n",
              "더위를 많이 타서 에어컨을 일찍부터 튼다\\t추위를 많이 타서 난방을 일찍부터 튼다                                         4\n",
              "여름에 항상 에어컨을 켜놓는다\\t과한 난방은 답답해하는 편이다                                                    4\n",
              "더위를 많이 타서 에어컨을 일찍부터 튼다\\t추위를 많이 타서 난방을 일찍부터 튼다\\t과한 난방은 답답해하는 편이다                       3\n",
              "여름에 항상 에어컨을 켜놓는다                                                                      3\n",
              "추위를 많이 타서 난방을 일찍부터 튼다\\t과한 난방은 답답해하는 편이다                                               3\n",
              "에어컨을 틀고 못잔다\\t과한 난방은 답답해하는 편이다                                                         3\n",
              "더위를 많이 타서 에어컨을 일찍부터 튼다\\t여름에 항상 에어컨을 켜놓는다\\t추위를 많이 타서 난방을 일찍부터 튼다\\t과한 난방은 답답해하는 편이다     2\n",
              "에어컨을 틀고 못잔다\\t추위를 많이 타서 난방을 일찍부터 튼다\\t과한 난방은 답답해하는 편이다                                  2\n",
              "에어컨을 틀고 못잔다                                                                           1\n",
              "절대 못잡는다                                                                               1\n",
              "Name: air, dtype: int64"
            ]
          },
          "metadata": {},
          "execution_count": 20
        }
      ]
    },
    {
      "cell_type": "code",
      "metadata": {
        "id": "NpSnc8ZzAKpO"
      },
      "source": [
        "# NaN -> '해당하는 상황 없음'\n",
        "df['air'] = df['air'].fillna('해당하는 상황 없음')"
      ],
      "execution_count": 44,
      "outputs": []
    },
    {
      "cell_type": "code",
      "metadata": {
        "colab": {
          "base_uri": "https://localhost:8080/"
        },
        "id": "KK0w6X7U5Dot",
        "outputId": "5d25892a-3044-4a45-bacd-a0550196a22f"
      },
      "source": [
        "df['air_like_airconditioner'] = df['air'].apply(lambda x : 1 if '더위를 많이 타서 에어컨을 일찍부터 튼다' in str(x) or '여름에 항상 에어컨을 켜놓는다' in str(x) else 0)\n",
        "df['air_like_airconditioner'].value_counts()"
      ],
      "execution_count": 28,
      "outputs": [
        {
          "output_type": "execute_result",
          "data": {
            "text/plain": [
              "0    37\n",
              "1    35\n",
              "Name: air_like_airconditioner, dtype: int64"
            ]
          },
          "metadata": {},
          "execution_count": 28
        }
      ]
    },
    {
      "cell_type": "code",
      "metadata": {
        "colab": {
          "base_uri": "https://localhost:8080/"
        },
        "id": "ydX2aOMa7RPW",
        "outputId": "a0b32a0a-680a-4972-f2aa-34c6228ec350"
      },
      "source": [
        "df['air_night_airconditioner'] = df['air'].apply(lambda x : 1 if '에어컨을 틀고 못잔다' in str(x) else 0)\n",
        "df['air_night_airconditioner'].value_counts()"
      ],
      "execution_count": 25,
      "outputs": [
        {
          "output_type": "execute_result",
          "data": {
            "text/plain": [
              "0    66\n",
              "1     6\n",
              "Name: air_night_airconditioner, dtype: int64"
            ]
          },
          "metadata": {},
          "execution_count": 25
        }
      ]
    },
    {
      "cell_type": "code",
      "metadata": {
        "colab": {
          "base_uri": "https://localhost:8080/"
        },
        "id": "fsYYGDNF9lZG",
        "outputId": "270616e4-8f99-4f98-a484-b384a7d65db2"
      },
      "source": [
        "def func(x):\n",
        "  if '추위를 많이 타서 난방을 일찍부터 튼다' in str(x):\n",
        "    return 1\n",
        "  elif '과한 난방은 답답해하는 편이다'in str(x):\n",
        "    return 0\n",
        "  else:\n",
        "    return np.nan\n",
        "\n",
        "df['air_like_heater'] = df['air'].apply(lambda x : func(x))\n",
        "df['air_like_heater'].value_counts()"
      ],
      "execution_count": 32,
      "outputs": [
        {
          "output_type": "execute_result",
          "data": {
            "text/plain": [
              "0.0    33\n",
              "1.0    20\n",
              "Name: air_like_heater, dtype: int64"
            ]
          },
          "metadata": {},
          "execution_count": 32
        }
      ]
    },
    {
      "cell_type": "code",
      "metadata": {
        "colab": {
          "base_uri": "https://localhost:8080/"
        },
        "id": "dUrlEzpY-1ML",
        "outputId": "792336e5-b593-432b-dbe3-9a5132bffeb8"
      },
      "source": [
        "df['air_none'] = df['air'].apply(lambda x : 1 if '해당하는 상황 없음' in str(x) else 0)\n",
        "df['air_none'].value_counts()"
      ],
      "execution_count": 45,
      "outputs": [
        {
          "output_type": "execute_result",
          "data": {
            "text/plain": [
              "0    63\n",
              "1     9\n",
              "Name: air_none, dtype: int64"
            ]
          },
          "metadata": {},
          "execution_count": 45
        }
      ]
    },
    {
      "cell_type": "code",
      "metadata": {
        "colab": {
          "base_uri": "https://localhost:8080/"
        },
        "id": "ZFuOOPAvBoXj",
        "outputId": "ebb6d272-d3ff-41db-db60-589a355e6f95"
      },
      "source": [
        "# air 삭제\n",
        "df = df.drop(columns='air')\n",
        "df.columns"
      ],
      "execution_count": 46,
      "outputs": [
        {
          "output_type": "execute_result",
          "data": {
            "text/plain": [
              "Index(['time', 'sex', 'age', 'mbti', 'user_smoking', 'mate_smoking',\n",
              "       'user_pet', 'user_pet_category', 'mate_pet_category', 'user_bug_killer',\n",
              "       'mate_bug_killer', 'user_cooking', 'mate_cooking', 'eat_together',\n",
              "       'share_item', 'noise', 'mate_alcohol', 'mate_clean',\n",
              "       'permission_to_enter', 'air_like_airconditioner',\n",
              "       'air_night_airconditioner', 'air_like_heater', 'air_none'],\n",
              "      dtype='object')"
            ]
          },
          "metadata": {},
          "execution_count": 46
        }
      ]
    },
    {
      "cell_type": "markdown",
      "metadata": {
        "id": "KbYMmfKe-o-Y"
      },
      "source": [
        "- noise\n",
        "  - 신경쓰지 않는다. = noise_none / 10분 이상의 말소리(통화/게임)은 신경쓰인다, 10분 이전의 말소리(통화/게임)도 신경쓰인다 = noise_talking / 10분 이상의 동영상/음악 소리는 신경쓰인다, 10분 이전의 동영상/음악 소리도 신경쓰인다 = noise_music / 지속적인 알람소리는 신경쓰인다 = noise_alarm"
      ]
    },
    {
      "cell_type": "code",
      "metadata": {
        "id": "Bd08KsZNCIRN"
      },
      "source": [
        "# NaN -> '신경쓰지 않는다.'\n",
        "df['noise'] = df['noise'].fillna('신경쓰지 않는다.')"
      ],
      "execution_count": 47,
      "outputs": []
    },
    {
      "cell_type": "code",
      "metadata": {
        "colab": {
          "base_uri": "https://localhost:8080/"
        },
        "id": "twxS7wLHChyR",
        "outputId": "13b57731-2e99-4ddc-968c-fecba39eda3d"
      },
      "source": [
        "def func(x):\n",
        "  if '10분 이전의 말소리(통화/게임)도 신경쓰인다' in str(x):\n",
        "    return 1\n",
        "  elif '10분 이상의 말소리(통화/게임)은 신경쓰인다'in str(x):\n",
        "    return 0.5\n",
        "  elif '신경쓰지 않는다.' in str(x):\n",
        "    return 0\n",
        "  else:\n",
        "    return np.nan\n",
        "\n",
        "df['noise_talking'] = df['noise'].apply(lambda x : func(x))\n",
        "df['noise_talking'].value_counts()"
      ],
      "execution_count": 64,
      "outputs": [
        {
          "output_type": "execute_result",
          "data": {
            "text/plain": [
              "0.5    24\n",
              "0.0    17\n",
              "1.0     5\n",
              "Name: noise_talking, dtype: int64"
            ]
          },
          "metadata": {},
          "execution_count": 64
        }
      ]
    },
    {
      "cell_type": "code",
      "metadata": {
        "colab": {
          "base_uri": "https://localhost:8080/"
        },
        "id": "5jleo6EOEJt6",
        "outputId": "7b4ed839-fc86-4646-d5c5-45228d236859"
      },
      "source": [
        "# 결측치 확인\n",
        "df['noise_talking'].isnull().sum()"
      ],
      "execution_count": 70,
      "outputs": [
        {
          "output_type": "execute_result",
          "data": {
            "text/plain": [
              "0"
            ]
          },
          "metadata": {},
          "execution_count": 70
        }
      ]
    },
    {
      "cell_type": "code",
      "metadata": {
        "colab": {
          "base_uri": "https://localhost:8080/"
        },
        "id": "i_AQ8iBWG5Mt",
        "outputId": "fd302053-6a90-4304-85b3-6f5f1f25821a"
      },
      "source": [
        "# 범주형이므로 결측치를 mode로 채움\n",
        "df['noise_talking'] = df['noise_talking'].fillna(df['noise_talking'].mode().values[0])\n",
        "df['noise_talking'].value_counts()"
      ],
      "execution_count": 68,
      "outputs": [
        {
          "output_type": "execute_result",
          "data": {
            "text/plain": [
              "0.5    50\n",
              "0.0    17\n",
              "1.0     5\n",
              "Name: noise_talking, dtype: int64"
            ]
          },
          "metadata": {},
          "execution_count": 68
        }
      ]
    },
    {
      "cell_type": "code",
      "metadata": {
        "colab": {
          "base_uri": "https://localhost:8080/"
        },
        "id": "AnQVrm7ZEbMy",
        "outputId": "0b6faf30-5e32-44c3-fd58-d9d1fefbf6e5"
      },
      "source": [
        "def func(x):\n",
        "  if '10분 이전의 동영상/음악 소리도 신경쓰인다' in str(x):\n",
        "    return 1\n",
        "  elif '10분 이상의 동영상/음악 소리는 신경쓰인다'in str(x):\n",
        "    return 0.5\n",
        "  elif '신경쓰지 않는다.' in str(x):\n",
        "    return 0\n",
        "  else:\n",
        "    return np.nan\n",
        "\n",
        "df['noise_music'] = df['noise'].apply(lambda x : func(x))\n",
        "df['noise_music'].value_counts()"
      ],
      "execution_count": 60,
      "outputs": [
        {
          "output_type": "execute_result",
          "data": {
            "text/plain": [
              "0.5    24\n",
              "0.0    17\n",
              "1.0     5\n",
              "Name: noise_music, dtype: int64"
            ]
          },
          "metadata": {},
          "execution_count": 60
        }
      ]
    },
    {
      "cell_type": "code",
      "metadata": {
        "colab": {
          "base_uri": "https://localhost:8080/"
        },
        "id": "0jqyCt41EteO",
        "outputId": "7c06c6d2-bca1-4657-a992-d70edbb06649"
      },
      "source": [
        "df['noise_music'].isnull().sum()"
      ],
      "execution_count": 72,
      "outputs": [
        {
          "output_type": "execute_result",
          "data": {
            "text/plain": [
              "0"
            ]
          },
          "metadata": {},
          "execution_count": 72
        }
      ]
    },
    {
      "cell_type": "code",
      "metadata": {
        "colab": {
          "base_uri": "https://localhost:8080/"
        },
        "id": "jGvvJNdXHltN",
        "outputId": "06a1c5d6-57e3-47df-d5fa-cfe474843d11"
      },
      "source": [
        "# 범주형이므로 결측치를 mode로 채움\n",
        "df['noise_music'] = df['noise_music'].fillna(df['noise_music'].mode().values[0])\n",
        "df['noise_music'].value_counts()"
      ],
      "execution_count": 71,
      "outputs": [
        {
          "output_type": "execute_result",
          "data": {
            "text/plain": [
              "0.5    50\n",
              "0.0    17\n",
              "1.0     5\n",
              "Name: noise_music, dtype: int64"
            ]
          },
          "metadata": {},
          "execution_count": 71
        }
      ]
    },
    {
      "cell_type": "code",
      "metadata": {
        "colab": {
          "base_uri": "https://localhost:8080/"
        },
        "id": "bZG9LL36E2nE",
        "outputId": "bb8a232d-3645-4ac4-b5a1-a2eab288cfcf"
      },
      "source": [
        "df['noise_alarm'] = df['noise'].apply(lambda x : 1 if '지속적인 알람소리는 신경쓰인다' in str(x) else 0)\n",
        "df['noise_alarm'].value_counts()"
      ],
      "execution_count": 56,
      "outputs": [
        {
          "output_type": "execute_result",
          "data": {
            "text/plain": [
              "1    46\n",
              "0    26\n",
              "Name: noise_alarm, dtype: int64"
            ]
          },
          "metadata": {},
          "execution_count": 56
        }
      ]
    },
    {
      "cell_type": "code",
      "metadata": {
        "colab": {
          "base_uri": "https://localhost:8080/"
        },
        "id": "YhQf7FhXHuoe",
        "outputId": "2b93f177-95ba-4b09-94f8-599595459b30"
      },
      "source": [
        "df['noise_alarm'].isnull().sum()"
      ],
      "execution_count": 73,
      "outputs": [
        {
          "output_type": "execute_result",
          "data": {
            "text/plain": [
              "0"
            ]
          },
          "metadata": {},
          "execution_count": 73
        }
      ]
    },
    {
      "cell_type": "code",
      "metadata": {
        "colab": {
          "base_uri": "https://localhost:8080/"
        },
        "id": "PwgpnBaqI0X4",
        "outputId": "58875214-7093-41b6-eaa2-3720ae52b8f1"
      },
      "source": [
        "# noise 삭제\n",
        "df = df.drop(columns='noise')\n",
        "df.columns"
      ],
      "execution_count": 74,
      "outputs": [
        {
          "output_type": "execute_result",
          "data": {
            "text/plain": [
              "Index(['time', 'sex', 'age', 'mbti', 'user_smoking', 'mate_smoking',\n",
              "       'user_pet', 'user_pet_category', 'mate_pet_category', 'user_bug_killer',\n",
              "       'mate_bug_killer', 'user_cooking', 'mate_cooking', 'eat_together',\n",
              "       'share_item', 'mate_alcohol', 'mate_clean', 'permission_to_enter',\n",
              "       'air_like_airconditioner', 'air_night_airconditioner',\n",
              "       'air_like_heater', 'air_none', 'noise_talking', 'noise_music',\n",
              "       'noise_alarm'],\n",
              "      dtype='object')"
            ]
          },
          "metadata": {},
          "execution_count": 74
        }
      ]
    },
    {
      "cell_type": "markdown",
      "metadata": {
        "id": "kpnO0-TJJFCF"
      },
      "source": [
        ""
      ]
    }
  ]
}