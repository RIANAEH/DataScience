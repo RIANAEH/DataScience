{
  "nbformat": 4,
  "nbformat_minor": 0,
  "metadata": {
    "colab": {
      "name": "for_mnm_matching_algorithm.ipynb",
      "provenance": [],
      "collapsed_sections": []
    },
    "kernelspec": {
      "name": "python3",
      "display_name": "Python 3"
    },
    "language_info": {
      "name": "python"
    }
  },
  "cells": [
    {
      "cell_type": "markdown",
      "metadata": {
        "id": "3kefols1FOZP"
      },
      "source": [
        "# for_mnm_matching_algorithm\n",
        "\n"
      ]
    },
    {
      "cell_type": "markdown",
      "metadata": {
        "id": "GiFLO2lIJDrM"
      },
      "source": [
        "### 라이브러리 불러오기"
      ]
    },
    {
      "cell_type": "code",
      "metadata": {
        "id": "l7s2vOi_JBkt"
      },
      "source": [
        "import pandas as pd\n",
        "import numpy as np"
      ],
      "execution_count": 216,
      "outputs": []
    },
    {
      "cell_type": "markdown",
      "metadata": {
        "id": "IgJnx92pt9PG"
      },
      "source": [
        "### 설문조사 데이터 불러오기"
      ]
    },
    {
      "cell_type": "code",
      "metadata": {
        "colab": {
          "base_uri": "https://localhost:8080/",
          "height": 774
        },
        "id": "Tzdtl0NStO9M",
        "outputId": "0b2711e7-58f3-4979-e90a-d6289564f86c"
      },
      "source": [
        "df = pd.read_excel(\"하우스 메이트 설문결과.xlsx\")\n",
        "df.head()"
      ],
      "execution_count": 217,
      "outputs": [
        {
          "output_type": "execute_result",
          "data": {
            "text/html": [
              "<div>\n",
              "<style scoped>\n",
              "    .dataframe tbody tr th:only-of-type {\n",
              "        vertical-align: middle;\n",
              "    }\n",
              "\n",
              "    .dataframe tbody tr th {\n",
              "        vertical-align: top;\n",
              "    }\n",
              "\n",
              "    .dataframe thead th {\n",
              "        text-align: right;\n",
              "    }\n",
              "</style>\n",
              "<table border=\"1\" class=\"dataframe\">\n",
              "  <thead>\n",
              "    <tr style=\"text-align: right;\">\n",
              "      <th></th>\n",
              "      <th>TIMESTAMP</th>\n",
              "      <th>1. 성별</th>\n",
              "      <th>2. 나이</th>\n",
              "      <th>3. mbti</th>\n",
              "      <th>4. 흡연 유무</th>\n",
              "      <th>4-1. 원하는 메이트의 흡연여부</th>\n",
              "      <th>5. 반려동물과 같이 살 예정이다.</th>\n",
              "      <th>5-1. 반려동물을 키울 경우 어떤 동물인가?</th>\n",
              "      <th>5-2. 메이트의 반려동물 중 허용가능한 것은?</th>\n",
              "      <th>6. 난방/냉방 관련 문제</th>\n",
              "      <th>7. 벌레를 잡을 수 있는가? (바퀴벌레, 돈벌레, 지네 정도)</th>\n",
              "      <th>7-1. 원하는 메이트</th>\n",
              "      <th>8.집에서 밥을 먹을 경우의 식사 스타일</th>\n",
              "      <th>8-1. 메이트가 집에서 요리하는 게 불편한가요? (냄새 문제 등)</th>\n",
              "      <th>9. 선호하는 식사유형</th>\n",
              "      <th>10. 메이트와 물건을 공유해도 괜찮습니까?</th>\n",
              "      <th>11. 방내에서의 소음문제</th>\n",
              "      <th>12. 음주 문제</th>\n",
              "      <th>13. 정리정돈을 신경쓰는 정도</th>\n",
              "      <th>14. 지인 출입</th>\n",
              "    </tr>\n",
              "  </thead>\n",
              "  <tbody>\n",
              "    <tr>\n",
              "      <th>0</th>\n",
              "      <td>2021-10-20 11:29:52</td>\n",
              "      <td>여자</td>\n",
              "      <td>24 ~ 26</td>\n",
              "      <td>infp</td>\n",
              "      <td>비흡연자</td>\n",
              "      <td>비흡연자</td>\n",
              "      <td>아니다</td>\n",
              "      <td>NaN</td>\n",
              "      <td>고양이\\t강아지</td>\n",
              "      <td>절대 못잡는다</td>\n",
              "      <td>NaN</td>\n",
              "      <td>벌레를 잡을 수 있어야만 한다</td>\n",
              "      <td>직접 요리</td>\n",
              "      <td>NaN</td>\n",
              "      <td>그렇다</td>\n",
              "      <td>NaN</td>\n",
              "      <td>NaN</td>\n",
              "      <td>소음은 없었으면 좋겠다.</td>\n",
              "      <td>2</td>\n",
              "      <td>누구든 데려오면 안된다.</td>\n",
              "    </tr>\n",
              "    <tr>\n",
              "      <th>1</th>\n",
              "      <td>2021-10-22 01:16:34</td>\n",
              "      <td>남자</td>\n",
              "      <td>27 ~ 29</td>\n",
              "      <td>intp</td>\n",
              "      <td>비흡연자</td>\n",
              "      <td>비흡연자</td>\n",
              "      <td>아니다</td>\n",
              "      <td>NaN</td>\n",
              "      <td>고양이\\t강아지</td>\n",
              "      <td>더위를 많이 타서 에어컨을 일찍부터 튼다\\t여름에 항상 에어컨을 켜놓는다\\t과한 난...</td>\n",
              "      <td>시키면 잡을 수 있다</td>\n",
              "      <td>벌레를 못잡아도 상관없다</td>\n",
              "      <td>직접 요리</td>\n",
              "      <td>NaN</td>\n",
              "      <td>혼자 먹는 걸 선호한다</td>\n",
              "      <td>사용하기 전 허락을 받으면 괜찮다</td>\n",
              "      <td>신경쓰지 않는다.</td>\n",
              "      <td>메이트가 술주정만 하지 않으면 된다</td>\n",
              "      <td>내 공간만 아니면 신경쓰이지 않는다</td>\n",
              "      <td>미리 말만 하면 지인이 출입해도 상관없다.</td>\n",
              "    </tr>\n",
              "    <tr>\n",
              "      <th>2</th>\n",
              "      <td>2021-10-22 01:29:18</td>\n",
              "      <td>여자</td>\n",
              "      <td>20 ~ 23</td>\n",
              "      <td>esfp</td>\n",
              "      <td>비흡연자</td>\n",
              "      <td>비흡연자</td>\n",
              "      <td>아니다</td>\n",
              "      <td>NaN</td>\n",
              "      <td>고양이\\t강아지\\t조류</td>\n",
              "      <td>더위를 많이 타서 에어컨을 일찍부터 튼다\\t추위를 많이 타서 난방을 일찍부터 튼다\\...</td>\n",
              "      <td>절대 못잡는다</td>\n",
              "      <td>벌레를 잡을 수 있어야만 한다</td>\n",
              "      <td>외부 음식(포장, 배달)</td>\n",
              "      <td>NaN</td>\n",
              "      <td>혼자 먹는 걸 선호한다</td>\n",
              "      <td>사용하기 전 허락을 받으면 괜찮다</td>\n",
              "      <td>10분 이상의 동영상/음악 소리는 신경쓰인다\\t지속적인 알람소리는 신경쓰인다</td>\n",
              "      <td>메이트가 술주정만 하지 않으면 된다</td>\n",
              "      <td>공유하는 공간의 경우 신경쓰인다</td>\n",
              "      <td>미리 말만 하면 지인이 출입해도 상관없다.</td>\n",
              "    </tr>\n",
              "    <tr>\n",
              "      <th>3</th>\n",
              "      <td>2021-10-22 01:31:02</td>\n",
              "      <td>남자</td>\n",
              "      <td>20 ~ 23</td>\n",
              "      <td>모른다</td>\n",
              "      <td>비흡연자</td>\n",
              "      <td>비흡연자</td>\n",
              "      <td>아니다</td>\n",
              "      <td>NaN</td>\n",
              "      <td>어떠한 동물도 안된다.</td>\n",
              "      <td>NaN</td>\n",
              "      <td>잡는데 거리낌이 없다</td>\n",
              "      <td>벌레를 못잡아도 상관없다</td>\n",
              "      <td>직접 요리</td>\n",
              "      <td>NaN</td>\n",
              "      <td>같이 먹는 걸 선호한다</td>\n",
              "      <td>사용하기 전 허락을 받으면 괜찮다</td>\n",
              "      <td>신경쓰지 않는다.</td>\n",
              "      <td>메이트의 술 문제는 신경쓰지 않는다</td>\n",
              "      <td>공유하는 공간의 경우 신경쓰인다</td>\n",
              "      <td>미리 말만 하면 지인이 출입해도 상관없다.</td>\n",
              "    </tr>\n",
              "    <tr>\n",
              "      <th>4</th>\n",
              "      <td>2021-10-22 01:33:35</td>\n",
              "      <td>남자</td>\n",
              "      <td>20 ~ 23</td>\n",
              "      <td>intp</td>\n",
              "      <td>비흡연자</td>\n",
              "      <td>비흡연자</td>\n",
              "      <td>아니다</td>\n",
              "      <td>NaN</td>\n",
              "      <td>어떠한 동물도 안된다.</td>\n",
              "      <td>과한 난방은 답답해하는 편이다</td>\n",
              "      <td>시키면 잡을 수 있다</td>\n",
              "      <td>벌레를 못잡아도 상관없다</td>\n",
              "      <td>직접 요리</td>\n",
              "      <td>NaN</td>\n",
              "      <td>혼자 먹는 걸 선호한다</td>\n",
              "      <td>괜찮지 않다(안된다)</td>\n",
              "      <td>지속적인 알람소리는 신경쓰인다</td>\n",
              "      <td>메이트가 술 냄새를 풍기는 것은 싫다\\t메이트가 술을 많이 마신 것 같은 모습을 보...</td>\n",
              "      <td>공유하는 공간의 경우 신경쓰인다</td>\n",
              "      <td>미리 말만 하면 지인이 출입해도 상관없다.</td>\n",
              "    </tr>\n",
              "  </tbody>\n",
              "</table>\n",
              "</div>"
            ],
            "text/plain": [
              "            TIMESTAMP 1. 성별  ...    13. 정리정돈을 신경쓰는 정도                14. 지인 출입\n",
              "0 2021-10-20 11:29:52    여자  ...                    2            누구든 데려오면 안된다.\n",
              "1 2021-10-22 01:16:34    남자  ...  내 공간만 아니면 신경쓰이지 않는다  미리 말만 하면 지인이 출입해도 상관없다.\n",
              "2 2021-10-22 01:29:18    여자  ...    공유하는 공간의 경우 신경쓰인다  미리 말만 하면 지인이 출입해도 상관없다.\n",
              "3 2021-10-22 01:31:02    남자  ...    공유하는 공간의 경우 신경쓰인다  미리 말만 하면 지인이 출입해도 상관없다.\n",
              "4 2021-10-22 01:33:35    남자  ...    공유하는 공간의 경우 신경쓰인다  미리 말만 하면 지인이 출입해도 상관없다.\n",
              "\n",
              "[5 rows x 20 columns]"
            ]
          },
          "metadata": {},
          "execution_count": 217
        }
      ]
    },
    {
      "cell_type": "code",
      "metadata": {
        "colab": {
          "base_uri": "https://localhost:8080/"
        },
        "id": "GwnbKh4Ou7ZC",
        "outputId": "2072c7ff-37c9-48bf-8c59-5c88e4f5637a"
      },
      "source": [
        "df.info()"
      ],
      "execution_count": 218,
      "outputs": [
        {
          "output_type": "stream",
          "name": "stdout",
          "text": [
            "<class 'pandas.core.frame.DataFrame'>\n",
            "RangeIndex: 72 entries, 0 to 71\n",
            "Data columns (total 20 columns):\n",
            " #   Column                                 Non-Null Count  Dtype         \n",
            "---  ------                                 --------------  -----         \n",
            " 0   TIMESTAMP                              72 non-null     datetime64[ns]\n",
            " 1   1. 성별                                  72 non-null     object        \n",
            " 2   2. 나이                                  72 non-null     object        \n",
            " 3   3. mbti                                72 non-null     object        \n",
            " 4   4. 흡연 유무                               72 non-null     object        \n",
            " 5   4-1. 원하는 메이트의 흡연여부                     72 non-null     object        \n",
            " 6   5. 반려동물과 같이 살 예정이다.                    72 non-null     object        \n",
            " 7   5-1. 반려동물을 키울 경우 어떤 동물인가?              15 non-null     object        \n",
            " 8   5-2. 메이트의 반려동물 중 허용가능한 것은?             72 non-null     object        \n",
            " 9   6. 난방/냉방 관련 문제                         71 non-null     object        \n",
            " 10  7. 벌레를 잡을 수 있는가? (바퀴벌레, 돈벌레, 지네 정도)    71 non-null     object        \n",
            " 11  7-1. 원하는 메이트                           72 non-null     object        \n",
            " 12  8.집에서 밥을 먹을 경우의 식사 스타일                 72 non-null     object        \n",
            " 13  8-1. 메이트가 집에서 요리하는 게 불편한가요? (냄새 문제 등)  64 non-null     object        \n",
            " 14  9. 선호하는 식사유형                           72 non-null     object        \n",
            " 15  10. 메이트와 물건을 공유해도 괜찮습니까?               71 non-null     object        \n",
            " 16  11. 방내에서의 소음문제                         70 non-null     object        \n",
            " 17  12. 음주 문제                              71 non-null     object        \n",
            " 18  13. 정리정돈을 신경쓰는 정도                      72 non-null     object        \n",
            " 19  14. 지인 출입                              72 non-null     object        \n",
            "dtypes: datetime64[ns](1), object(19)\n",
            "memory usage: 11.4+ KB\n"
          ]
        }
      ]
    },
    {
      "cell_type": "markdown",
      "metadata": {
        "id": "c-SOep4iL5Oc"
      },
      "source": [
        "### 컬럼 이름 변경\n",
        "- 컬럼 이름을 데이터베이스 테이블 명세서에 맞춰 변경한다.\n",
        "- time 컬럼을 제외하면 총 19개의 컬럼을 가진다."
      ]
    },
    {
      "cell_type": "code",
      "metadata": {
        "colab": {
          "base_uri": "https://localhost:8080/",
          "height": 1000
        },
        "id": "N3nEESWVKE5N",
        "outputId": "9263e0bc-81cf-4e0b-c993-b6b5fd04575d"
      },
      "source": [
        "df.columns = ['time', 'sex', 'age', 'mbti', 'user_smoking', 'mate_smoking', 'user_pet', 'user_pet_category', 'mate_pet_category', \n",
        "              'air', 'user_bug_killer', 'mate_bug_killer', 'user_cooking', 'mate_cooking', 'eat_together', 'share_item', 'noise', 'mate_alcohol', \n",
        "              'mate_clean', 'permission_to_enter']\n",
        "df.head()"
      ],
      "execution_count": 219,
      "outputs": [
        {
          "output_type": "execute_result",
          "data": {
            "text/html": [
              "<div>\n",
              "<style scoped>\n",
              "    .dataframe tbody tr th:only-of-type {\n",
              "        vertical-align: middle;\n",
              "    }\n",
              "\n",
              "    .dataframe tbody tr th {\n",
              "        vertical-align: top;\n",
              "    }\n",
              "\n",
              "    .dataframe thead th {\n",
              "        text-align: right;\n",
              "    }\n",
              "</style>\n",
              "<table border=\"1\" class=\"dataframe\">\n",
              "  <thead>\n",
              "    <tr style=\"text-align: right;\">\n",
              "      <th></th>\n",
              "      <th>time</th>\n",
              "      <th>sex</th>\n",
              "      <th>age</th>\n",
              "      <th>mbti</th>\n",
              "      <th>user_smoking</th>\n",
              "      <th>mate_smoking</th>\n",
              "      <th>user_pet</th>\n",
              "      <th>user_pet_category</th>\n",
              "      <th>mate_pet_category</th>\n",
              "      <th>air</th>\n",
              "      <th>user_bug_killer</th>\n",
              "      <th>mate_bug_killer</th>\n",
              "      <th>user_cooking</th>\n",
              "      <th>mate_cooking</th>\n",
              "      <th>eat_together</th>\n",
              "      <th>share_item</th>\n",
              "      <th>noise</th>\n",
              "      <th>mate_alcohol</th>\n",
              "      <th>mate_clean</th>\n",
              "      <th>permission_to_enter</th>\n",
              "    </tr>\n",
              "  </thead>\n",
              "  <tbody>\n",
              "    <tr>\n",
              "      <th>0</th>\n",
              "      <td>2021-10-20 11:29:52</td>\n",
              "      <td>여자</td>\n",
              "      <td>24 ~ 26</td>\n",
              "      <td>infp</td>\n",
              "      <td>비흡연자</td>\n",
              "      <td>비흡연자</td>\n",
              "      <td>아니다</td>\n",
              "      <td>NaN</td>\n",
              "      <td>고양이\\t강아지</td>\n",
              "      <td>절대 못잡는다</td>\n",
              "      <td>NaN</td>\n",
              "      <td>벌레를 잡을 수 있어야만 한다</td>\n",
              "      <td>직접 요리</td>\n",
              "      <td>NaN</td>\n",
              "      <td>그렇다</td>\n",
              "      <td>NaN</td>\n",
              "      <td>NaN</td>\n",
              "      <td>소음은 없었으면 좋겠다.</td>\n",
              "      <td>2</td>\n",
              "      <td>누구든 데려오면 안된다.</td>\n",
              "    </tr>\n",
              "    <tr>\n",
              "      <th>1</th>\n",
              "      <td>2021-10-22 01:16:34</td>\n",
              "      <td>남자</td>\n",
              "      <td>27 ~ 29</td>\n",
              "      <td>intp</td>\n",
              "      <td>비흡연자</td>\n",
              "      <td>비흡연자</td>\n",
              "      <td>아니다</td>\n",
              "      <td>NaN</td>\n",
              "      <td>고양이\\t강아지</td>\n",
              "      <td>더위를 많이 타서 에어컨을 일찍부터 튼다\\t여름에 항상 에어컨을 켜놓는다\\t과한 난...</td>\n",
              "      <td>시키면 잡을 수 있다</td>\n",
              "      <td>벌레를 못잡아도 상관없다</td>\n",
              "      <td>직접 요리</td>\n",
              "      <td>NaN</td>\n",
              "      <td>혼자 먹는 걸 선호한다</td>\n",
              "      <td>사용하기 전 허락을 받으면 괜찮다</td>\n",
              "      <td>신경쓰지 않는다.</td>\n",
              "      <td>메이트가 술주정만 하지 않으면 된다</td>\n",
              "      <td>내 공간만 아니면 신경쓰이지 않는다</td>\n",
              "      <td>미리 말만 하면 지인이 출입해도 상관없다.</td>\n",
              "    </tr>\n",
              "    <tr>\n",
              "      <th>2</th>\n",
              "      <td>2021-10-22 01:29:18</td>\n",
              "      <td>여자</td>\n",
              "      <td>20 ~ 23</td>\n",
              "      <td>esfp</td>\n",
              "      <td>비흡연자</td>\n",
              "      <td>비흡연자</td>\n",
              "      <td>아니다</td>\n",
              "      <td>NaN</td>\n",
              "      <td>고양이\\t강아지\\t조류</td>\n",
              "      <td>더위를 많이 타서 에어컨을 일찍부터 튼다\\t추위를 많이 타서 난방을 일찍부터 튼다\\...</td>\n",
              "      <td>절대 못잡는다</td>\n",
              "      <td>벌레를 잡을 수 있어야만 한다</td>\n",
              "      <td>외부 음식(포장, 배달)</td>\n",
              "      <td>NaN</td>\n",
              "      <td>혼자 먹는 걸 선호한다</td>\n",
              "      <td>사용하기 전 허락을 받으면 괜찮다</td>\n",
              "      <td>10분 이상의 동영상/음악 소리는 신경쓰인다\\t지속적인 알람소리는 신경쓰인다</td>\n",
              "      <td>메이트가 술주정만 하지 않으면 된다</td>\n",
              "      <td>공유하는 공간의 경우 신경쓰인다</td>\n",
              "      <td>미리 말만 하면 지인이 출입해도 상관없다.</td>\n",
              "    </tr>\n",
              "    <tr>\n",
              "      <th>3</th>\n",
              "      <td>2021-10-22 01:31:02</td>\n",
              "      <td>남자</td>\n",
              "      <td>20 ~ 23</td>\n",
              "      <td>모른다</td>\n",
              "      <td>비흡연자</td>\n",
              "      <td>비흡연자</td>\n",
              "      <td>아니다</td>\n",
              "      <td>NaN</td>\n",
              "      <td>어떠한 동물도 안된다.</td>\n",
              "      <td>NaN</td>\n",
              "      <td>잡는데 거리낌이 없다</td>\n",
              "      <td>벌레를 못잡아도 상관없다</td>\n",
              "      <td>직접 요리</td>\n",
              "      <td>NaN</td>\n",
              "      <td>같이 먹는 걸 선호한다</td>\n",
              "      <td>사용하기 전 허락을 받으면 괜찮다</td>\n",
              "      <td>신경쓰지 않는다.</td>\n",
              "      <td>메이트의 술 문제는 신경쓰지 않는다</td>\n",
              "      <td>공유하는 공간의 경우 신경쓰인다</td>\n",
              "      <td>미리 말만 하면 지인이 출입해도 상관없다.</td>\n",
              "    </tr>\n",
              "    <tr>\n",
              "      <th>4</th>\n",
              "      <td>2021-10-22 01:33:35</td>\n",
              "      <td>남자</td>\n",
              "      <td>20 ~ 23</td>\n",
              "      <td>intp</td>\n",
              "      <td>비흡연자</td>\n",
              "      <td>비흡연자</td>\n",
              "      <td>아니다</td>\n",
              "      <td>NaN</td>\n",
              "      <td>어떠한 동물도 안된다.</td>\n",
              "      <td>과한 난방은 답답해하는 편이다</td>\n",
              "      <td>시키면 잡을 수 있다</td>\n",
              "      <td>벌레를 못잡아도 상관없다</td>\n",
              "      <td>직접 요리</td>\n",
              "      <td>NaN</td>\n",
              "      <td>혼자 먹는 걸 선호한다</td>\n",
              "      <td>괜찮지 않다(안된다)</td>\n",
              "      <td>지속적인 알람소리는 신경쓰인다</td>\n",
              "      <td>메이트가 술 냄새를 풍기는 것은 싫다\\t메이트가 술을 많이 마신 것 같은 모습을 보...</td>\n",
              "      <td>공유하는 공간의 경우 신경쓰인다</td>\n",
              "      <td>미리 말만 하면 지인이 출입해도 상관없다.</td>\n",
              "    </tr>\n",
              "  </tbody>\n",
              "</table>\n",
              "</div>"
            ],
            "text/plain": [
              "                 time sex  ...           mate_clean      permission_to_enter\n",
              "0 2021-10-20 11:29:52  여자  ...                    2            누구든 데려오면 안된다.\n",
              "1 2021-10-22 01:16:34  남자  ...  내 공간만 아니면 신경쓰이지 않는다  미리 말만 하면 지인이 출입해도 상관없다.\n",
              "2 2021-10-22 01:29:18  여자  ...    공유하는 공간의 경우 신경쓰인다  미리 말만 하면 지인이 출입해도 상관없다.\n",
              "3 2021-10-22 01:31:02  남자  ...    공유하는 공간의 경우 신경쓰인다  미리 말만 하면 지인이 출입해도 상관없다.\n",
              "4 2021-10-22 01:33:35  남자  ...    공유하는 공간의 경우 신경쓰인다  미리 말만 하면 지인이 출입해도 상관없다.\n",
              "\n",
              "[5 rows x 20 columns]"
            ]
          },
          "metadata": {},
          "execution_count": 219
        }
      ]
    },
    {
      "cell_type": "markdown",
      "metadata": {
        "id": "yid007nxNClo"
      },
      "source": [
        "### 컬럼 설명\n",
        "- sex : 여자, 남자\n",
        "- age : 10대, 20 ~ 23, 24 ~ 26, 27 ~ 29, 30대, 40대\n",
        "- mbti : 따로 처리 필요\n",
        "- user_smoking : 흡연자, 비흡연자\n",
        "- mate_smoking : 흡연자, 비흡연자, 상관없음\n",
        "  - 상관없음의 경우 해당 컬럼을 사용하지 않는 경우와 중간값을 주는 두가지의 방법을 사용할 수 있다.\n",
        "- user_pet : 그렇다, 아니다\n",
        "- user_pet_category : 강아지, 고양이, '파충류, 어류', 설치류, 조류, '기타'\n",
        "  - \n",
        "- mate_pet_category : 어떠한 동물도 안된다., 어떤 동물이든 괜찮다., 고양이, 강아지, '파충류, 어류', 설치류, 조류\n",
        "  - 어떠한 동물도 안된다. : user_pet == '그렇다' 일 경우를 제외한다.\n",
        "  - 어떤 동물이든 괜찮다. : \n",
        "- air : 더위를 많이 타서 에어컨을 일찍부터 튼다, 여름에 항상 에어컨을 켜놓는다 = air_like_airconditionner / 에어컨을 틀고 못잔다 = air_night_airconditioner / 추위를 많이 타서 난방을 일찍부터 튼다, 과한 난방은 답답해하는 편이다 = air_like_heater / 해당하는 상황 없음 = air = none\n",
        "- user_bug_killer : 잡는데 거리낌이 없다, 시키면 잡을 수 있다, 절대 못잡는다\n",
        "- mate_bug_killer : 벌레를 잡을 수 있어야 한다, 벌레를 못잡아도 상관없다\n",
        "- user_cooking : 직접 요리, 외부 음식(포장, 배달)\n",
        "- mate_cooking : 불편하다, 신경쓰지 않는다(불편하지 않다)\n",
        "- eat_together : 혼자 먹는 걸 선호한다, 같이 먹는 걸 선호한다\n",
        "- shre_item : 말 안하고 사용해도 괜찮다, 사용하기 전 허락을 받으면 괜찮다, 괜찮지 않다(안된다)\n",
        "- noise : 신경쓰지 않는다. = noise_none / 10분 이상의 말소리(통화/게임)은 신경쓰인다, 10분 이전의 말소리(통화/게임)도 신경쓰인다 = noise_talking / 10분 이상의 동영상/음악 소리는 신경쓰인다, 10분 이전의 동영상/음악 소리도 신경쓰인다 = noise_music / 지속적인 알람소리는 신경쓰인다 = noise_alarm\n",
        "- mate_alcohol : 메이트의 술 문제는 신경쓰지 않는다, 메이트가 술 냄새를 풍기는 것은 싫다, 메이트가 술을 많이 마신 것 같은 모습을 보이면 싫다, 메이트가 술주정만 하지 않으면 된다\n",
        "- mate_clean : 내 공간만 아니면 신경쓰이지 않는다, 공유하는 공간의 경우 신경쓰인다, 메이트의 공간까지 신경쓰인다\n",
        "- permission_to_enter : 본인이 없을 때 말없이 지인이 잠깐 출입해도 상관없다., 미리 말만 하면 지인이 출입해도 상관없다., 누구든 데려오면 안된다."
      ]
    },
    {
      "cell_type": "code",
      "metadata": {
        "colab": {
          "base_uri": "https://localhost:8080/"
        },
        "id": "5qwdnI8l_dwC",
        "outputId": "c593bee6-0cbc-45f0-8f9f-0481b47a91de"
      },
      "source": [
        "df.isnull().sum()"
      ],
      "execution_count": 220,
      "outputs": [
        {
          "output_type": "execute_result",
          "data": {
            "text/plain": [
              "time                    0\n",
              "sex                     0\n",
              "age                     0\n",
              "mbti                    0\n",
              "user_smoking            0\n",
              "mate_smoking            0\n",
              "user_pet                0\n",
              "user_pet_category      57\n",
              "mate_pet_category       0\n",
              "air                     1\n",
              "user_bug_killer         1\n",
              "mate_bug_killer         0\n",
              "user_cooking            0\n",
              "mate_cooking            8\n",
              "eat_together            0\n",
              "share_item              1\n",
              "noise                   2\n",
              "mate_alcohol            1\n",
              "mate_clean              0\n",
              "permission_to_enter     0\n",
              "dtype: int64"
            ]
          },
          "metadata": {},
          "execution_count": 220
        }
      ]
    },
    {
      "cell_type": "markdown",
      "metadata": {
        "id": "RVBdJgMB5H2_"
      },
      "source": [
        "### 컬럼별 데이터 전처리\n",
        "- 컬럼 분리\n",
        "- 데이터를 0~1사이의 숫자로 변환"
      ]
    },
    {
      "cell_type": "markdown",
      "metadata": {
        "id": "_tcwD0uX9pW0"
      },
      "source": [
        "- sex"
      ]
    },
    {
      "cell_type": "code",
      "metadata": {
        "colab": {
          "base_uri": "https://localhost:8080/"
        },
        "id": "pMbuT9BG90kG",
        "outputId": "af063408-e83f-4509-d9d3-0ee455afba66"
      },
      "source": [
        "print(df['sex'].value_counts())\n",
        "print(\"NaN : \", df['sex'].isnull().sum())"
      ],
      "execution_count": 221,
      "outputs": [
        {
          "output_type": "stream",
          "name": "stdout",
          "text": [
            "여자    54\n",
            "남자    18\n",
            "Name: sex, dtype: int64\n",
            "NaN :  0\n"
          ]
        }
      ]
    },
    {
      "cell_type": "code",
      "metadata": {
        "colab": {
          "base_uri": "https://localhost:8080/"
        },
        "id": "WmCrEN_q9rDS",
        "outputId": "89a7c3b5-f958-48e8-d7d0-00abda702fb4"
      },
      "source": [
        "df['sex'] = df['sex'].apply(lambda x : 1 if str(x) == '여자' else 0)\n",
        "print(df['sex'].value_counts())\n",
        "print(\"NaN : \", df['sex'].isnull().sum())"
      ],
      "execution_count": 222,
      "outputs": [
        {
          "output_type": "stream",
          "name": "stdout",
          "text": [
            "1    54\n",
            "0    18\n",
            "Name: sex, dtype: int64\n",
            "NaN :  0\n"
          ]
        }
      ]
    },
    {
      "cell_type": "markdown",
      "metadata": {
        "id": "J3LbEmNl9_xR"
      },
      "source": [
        "- age"
      ]
    },
    {
      "cell_type": "code",
      "metadata": {
        "colab": {
          "base_uri": "https://localhost:8080/"
        },
        "id": "6G1wJtEh99Q9",
        "outputId": "6c2b9c19-5b30-4678-e2fd-61f463f08035"
      },
      "source": [
        "print(df['age'].value_counts())\n",
        "print(\"NaN : \", df['age'].isnull().sum())"
      ],
      "execution_count": 223,
      "outputs": [
        {
          "output_type": "stream",
          "name": "stdout",
          "text": [
            "24 ~ 26    32\n",
            "20 ~ 23    26\n",
            "27 ~ 29     7\n",
            "30대         4\n",
            "10대         3\n",
            "Name: age, dtype: int64\n",
            "NaN :  0\n"
          ]
        }
      ]
    },
    {
      "cell_type": "code",
      "metadata": {
        "colab": {
          "base_uri": "https://localhost:8080/"
        },
        "id": "P02682K2-E9R",
        "outputId": "411d3ac8-4066-4304-8df9-d33b051e7cbc"
      },
      "source": [
        "def func(x):\n",
        "  if '40대 이후' == str(x):\n",
        "    return 1\n",
        "  elif '30대' == str(x):\n",
        "    return 0.8\n",
        "  elif '27 ~ 29' == str(x):\n",
        "    return 0.6\n",
        "  elif '24 ~ 26' == str(x):\n",
        "    return 0.4\n",
        "  elif '20 ~ 23' == str(x):\n",
        "    return 0.2\n",
        "  elif '10대' == str(x):\n",
        "    return 0\n",
        "  else:\n",
        "    return np.nan\n",
        "\n",
        "df['age'] = df['age'].apply(lambda x : func(x))\n",
        "print(df['age'].value_counts())\n",
        "print(\"NaN : \", df['age'].isnull().sum())"
      ],
      "execution_count": 224,
      "outputs": [
        {
          "output_type": "stream",
          "name": "stdout",
          "text": [
            "0.4    32\n",
            "0.2    26\n",
            "0.6     7\n",
            "0.8     4\n",
            "0.0     3\n",
            "Name: age, dtype: int64\n",
            "NaN :  0\n"
          ]
        }
      ]
    },
    {
      "cell_type": "markdown",
      "metadata": {
        "id": "DPzU7Xnr_WEl"
      },
      "source": [
        "- mbti\n",
        "  - '모른다' -> 0.5"
      ]
    },
    {
      "cell_type": "code",
      "metadata": {
        "colab": {
          "base_uri": "https://localhost:8080/"
        },
        "id": "LexBXIdU_aOV",
        "outputId": "04d1693b-a2d9-4ae4-e312-3e20cdc3b6c0"
      },
      "source": [
        "print(df['mbti'].value_counts())\n",
        "print(\"NaN : \", df['mbti'].isnull().sum())"
      ],
      "execution_count": 225,
      "outputs": [
        {
          "output_type": "stream",
          "name": "stdout",
          "text": [
            "isfj    8\n",
            "enfj    8\n",
            "infp    8\n",
            "isfp    7\n",
            "esfp    6\n",
            "intp    5\n",
            "모른다     5\n",
            "esfj    4\n",
            "infj    4\n",
            "enfp    4\n",
            "istp    4\n",
            "intj    3\n",
            "entp    2\n",
            "istj    2\n",
            "entj    2\n",
            "Name: mbti, dtype: int64\n",
            "NaN :  0\n"
          ]
        }
      ]
    },
    {
      "cell_type": "code",
      "metadata": {
        "colab": {
          "base_uri": "https://localhost:8080/"
        },
        "id": "oHPTbJZ7_iWO",
        "outputId": "f8d7090f-711b-412e-d59f-dd2b3cc3193a"
      },
      "source": [
        "df['mbti'] = df['mbti'].apply(lambda x : 0.5 if str(x) == '모른다' else str(x))\n",
        "print(df['mbti'].value_counts())\n",
        "print(\"NaN : \", df['mbti'].isnull().sum())"
      ],
      "execution_count": 226,
      "outputs": [
        {
          "output_type": "stream",
          "name": "stdout",
          "text": [
            "isfj    8\n",
            "enfj    8\n",
            "infp    8\n",
            "isfp    7\n",
            "esfp    6\n",
            "intp    5\n",
            "0.5     5\n",
            "esfj    4\n",
            "infj    4\n",
            "enfp    4\n",
            "istp    4\n",
            "intj    3\n",
            "entp    2\n",
            "istj    2\n",
            "entj    2\n",
            "Name: mbti, dtype: int64\n",
            "NaN :  0\n"
          ]
        }
      ]
    },
    {
      "cell_type": "markdown",
      "metadata": {
        "id": "pkd3oYWmrhaB"
      },
      "source": [
        "- user_smoking : 흡연자, 비흡연자\n",
        "- mate_smoking : 흡연자, 비흡연자, 상관없음\n",
        "  - 상관없음의 경우 해당 컬럼을 사용하지 않는 경우와 중간값을 주는 두가지의 방법을 사용할 수 있다."
      ]
    },
    {
      "cell_type": "code",
      "metadata": {
        "colab": {
          "base_uri": "https://localhost:8080/"
        },
        "id": "wTNKavySriew",
        "outputId": "35bbaed5-8218-48c8-e20b-c4bdd016d142"
      },
      "source": [
        "print(df['user_smoking'].value_counts())\n",
        "print(\"NaN : \", df['user_smoking'].isnull().sum())"
      ],
      "execution_count": 227,
      "outputs": [
        {
          "output_type": "stream",
          "name": "stdout",
          "text": [
            "비흡연자    64\n",
            "흡연자      8\n",
            "Name: user_smoking, dtype: int64\n",
            "NaN :  0\n"
          ]
        }
      ]
    },
    {
      "cell_type": "code",
      "metadata": {
        "colab": {
          "base_uri": "https://localhost:8080/"
        },
        "id": "aUGywn8irz3i",
        "outputId": "059c9531-e8b8-4c68-e7c4-edbe3db82fe2"
      },
      "source": [
        "df['user_smoking'] = df['user_smoking'].apply(lambda x : 1 if str(x) == '흡연자' else 0)\n",
        "print(df['user_smoking'].value_counts())\n",
        "print(\"NaN : \", df['user_smoking'].isnull().sum())"
      ],
      "execution_count": 228,
      "outputs": [
        {
          "output_type": "stream",
          "name": "stdout",
          "text": [
            "0    64\n",
            "1     8\n",
            "Name: user_smoking, dtype: int64\n",
            "NaN :  0\n"
          ]
        }
      ]
    },
    {
      "cell_type": "code",
      "metadata": {
        "colab": {
          "base_uri": "https://localhost:8080/"
        },
        "id": "9n0HXwKGt6iU",
        "outputId": "73d54fb3-0298-4e38-d264-20d3fa88f531"
      },
      "source": [
        "print(df['mate_smoking'].value_counts())\n",
        "print(\"NaN : \", df['mate_smoking'].isnull().sum())"
      ],
      "execution_count": 229,
      "outputs": [
        {
          "output_type": "stream",
          "name": "stdout",
          "text": [
            "비흡연자    58\n",
            "상관없음    11\n",
            "흡연자      3\n",
            "Name: mate_smoking, dtype: int64\n",
            "NaN :  0\n"
          ]
        }
      ]
    },
    {
      "cell_type": "code",
      "metadata": {
        "colab": {
          "base_uri": "https://localhost:8080/"
        },
        "id": "xMqI7KSgtZsM",
        "outputId": "be85fd84-2110-4fc3-9412-b69cf7c09015"
      },
      "source": [
        "def func(x):\n",
        "  if '흡연자' == str(x):\n",
        "    return 1\n",
        "  elif '상관없음'== str(x):\n",
        "    return 0.5\n",
        "  elif '비흡연자' == str(x):\n",
        "    return 0\n",
        "  else:\n",
        "    return np.nan\n",
        "\n",
        "df['mate_smoking'] = df['mate_smoking'].apply(lambda x : func(x))\n",
        "print(df['mate_smoking'].value_counts())\n",
        "print(\"NaN : \", df['mate_smoking'].isnull().sum())"
      ],
      "execution_count": 230,
      "outputs": [
        {
          "output_type": "stream",
          "name": "stdout",
          "text": [
            "0.0    58\n",
            "0.5    11\n",
            "1.0     3\n",
            "Name: mate_smoking, dtype: int64\n",
            "NaN :  0\n"
          ]
        }
      ]
    },
    {
      "cell_type": "markdown",
      "metadata": {
        "id": "KJqnpwSQu2cA"
      },
      "source": [
        "- user_pet : 그렇다, 아니다\n",
        "- user_pet_category : 강아지, 고양이, '파충류, 어류', 설치류, 조류, '기타'\n",
        "  - \n",
        "- mate_pet_category : 어떠한 동물도 안된다., 어떤 동물이든 괜찮다., 고양이, 강아지, '파충류, 어류', 설치류, 조류\n",
        "  - 어떠한 동물도 안된다. : user_pet == '그렇다' 일 경우를 제외한다.\n",
        "  - 어떤 동물이든 괜찮다. : "
      ]
    },
    {
      "cell_type": "code",
      "metadata": {
        "colab": {
          "base_uri": "https://localhost:8080/"
        },
        "id": "NvHWaiPau3VG",
        "outputId": "7bc31fb5-373f-4090-ddd7-d9cf2bb54ee4"
      },
      "source": [
        "print(df['user_pet'].value_counts())\n",
        "print(\"NaN : \", df['user_pet'].isnull().sum())"
      ],
      "execution_count": 231,
      "outputs": [
        {
          "output_type": "stream",
          "name": "stdout",
          "text": [
            "아니다    60\n",
            "그렇다    12\n",
            "Name: user_pet, dtype: int64\n",
            "NaN :  0\n"
          ]
        }
      ]
    },
    {
      "cell_type": "code",
      "metadata": {
        "colab": {
          "base_uri": "https://localhost:8080/"
        },
        "id": "RYV4zT-y03WF",
        "outputId": "791a24ed-0348-485d-c5bc-9a844924adc9"
      },
      "source": [
        "df['user_pet'] = df['user_pet'].apply(lambda x : 1 if str(x) == '그렇다' else 0)\n",
        "print(df['user_pet'].value_counts())\n",
        "print(\"NaN : \", df['user_pet'].isnull().sum())"
      ],
      "execution_count": 232,
      "outputs": [
        {
          "output_type": "stream",
          "name": "stdout",
          "text": [
            "0    60\n",
            "1    12\n",
            "Name: user_pet, dtype: int64\n",
            "NaN :  0\n"
          ]
        }
      ]
    },
    {
      "cell_type": "markdown",
      "metadata": {
        "id": "kZjw6vtE1LeQ"
      },
      "source": [
        "- user_pet_category 컬럼을 분리해야한다."
      ]
    },
    {
      "cell_type": "code",
      "metadata": {
        "colab": {
          "base_uri": "https://localhost:8080/"
        },
        "id": "v7O8E30su-Vt",
        "outputId": "f3dafcee-afce-4b51-c0b7-eb75466fe3cc"
      },
      "source": [
        "print(df['user_pet_category'].value_counts())\n",
        "print(\"NaN : \", df['user_pet_category'].isnull().sum())"
      ],
      "execution_count": 233,
      "outputs": [
        {
          "output_type": "stream",
          "name": "stdout",
          "text": [
            "강아지              7\n",
            "고양이              3\n",
            "강아지\\t고양이         3\n",
            "동물털 알러지 있음       1\n",
            "강아지\\t고양이\\t해파리    1\n",
            "Name: user_pet_category, dtype: int64\n",
            "NaN :  57\n"
          ]
        }
      ]
    },
    {
      "cell_type": "code",
      "metadata": {
        "colab": {
          "base_uri": "https://localhost:8080/"
        },
        "id": "tQ-v5a9B1RY2",
        "outputId": "e43c09ee-3479-462f-bd73-6a6ee0751e7f"
      },
      "source": [
        "df['user_pet_dog'] = df['user_pet_category'].apply(lambda x : 1 if '강아지' in str(x) else 0)\n",
        "print(df['user_pet_dog'].value_counts())\n",
        "print(\"NaN : \", df['user_pet_dog'].isnull().sum())"
      ],
      "execution_count": 234,
      "outputs": [
        {
          "output_type": "stream",
          "name": "stdout",
          "text": [
            "0    61\n",
            "1    11\n",
            "Name: user_pet_dog, dtype: int64\n",
            "NaN :  0\n"
          ]
        }
      ]
    },
    {
      "cell_type": "code",
      "metadata": {
        "colab": {
          "base_uri": "https://localhost:8080/"
        },
        "id": "FXCT5U-j1orO",
        "outputId": "be27b4d9-a27b-4749-f9d0-4461ac00e417"
      },
      "source": [
        "df['user_pet_cat'] = df['user_pet_category'].apply(lambda x : 1 if '고양이' in str(x) else 0)\n",
        "print(df['user_pet_cat'].value_counts())\n",
        "print(\"NaN : \", df['user_pet_cat'].isnull().sum())"
      ],
      "execution_count": 235,
      "outputs": [
        {
          "output_type": "stream",
          "name": "stdout",
          "text": [
            "0    65\n",
            "1     7\n",
            "Name: user_pet_cat, dtype: int64\n",
            "NaN :  0\n"
          ]
        }
      ]
    },
    {
      "cell_type": "code",
      "metadata": {
        "colab": {
          "base_uri": "https://localhost:8080/"
        },
        "id": "XHj_GgjT1vss",
        "outputId": "e85be5c6-4ee7-4d5b-8c23-7d855e35b9bb"
      },
      "source": [
        "df['user_pet_reptie_fish'] = df['user_pet_category'].apply(lambda x : 1 if '파충류, 어류' in str(x) else 0)\n",
        "print(df['user_pet_reptie_fish'].value_counts())\n",
        "print(\"NaN : \", df['user_pet_reptie_fish'].isnull().sum())"
      ],
      "execution_count": 236,
      "outputs": [
        {
          "output_type": "stream",
          "name": "stdout",
          "text": [
            "0    72\n",
            "Name: user_pet_reptie_fish, dtype: int64\n",
            "NaN :  0\n"
          ]
        }
      ]
    },
    {
      "cell_type": "code",
      "metadata": {
        "colab": {
          "base_uri": "https://localhost:8080/"
        },
        "id": "TwTSk9mg14BR",
        "outputId": "6d4f7b39-7f5a-4785-930a-8585665d6578"
      },
      "source": [
        "df['user_pet_rodent'] = df['user_pet_category'].apply(lambda x : 1 if '설치류' in str(x) else 0)\n",
        "print(df['user_pet_rodent'].value_counts())\n",
        "print(\"NaN : \", df['user_pet_rodent'].isnull().sum())"
      ],
      "execution_count": 237,
      "outputs": [
        {
          "output_type": "stream",
          "name": "stdout",
          "text": [
            "0    72\n",
            "Name: user_pet_rodent, dtype: int64\n",
            "NaN :  0\n"
          ]
        }
      ]
    },
    {
      "cell_type": "code",
      "metadata": {
        "colab": {
          "base_uri": "https://localhost:8080/"
        },
        "id": "EJCH0EMZ2FpC",
        "outputId": "f6705478-54b5-4a7f-94e5-5a4b5d60e650"
      },
      "source": [
        "df['user_pet_bird'] = df['user_pet_category'].apply(lambda x : 1 if '조류' in str(x) else 0)\n",
        "print(df['user_pet_bird'].value_counts())\n",
        "print(\"NaN : \", df['user_pet_bird'].isnull().sum())"
      ],
      "execution_count": 238,
      "outputs": [
        {
          "output_type": "stream",
          "name": "stdout",
          "text": [
            "0    72\n",
            "Name: user_pet_bird, dtype: int64\n",
            "NaN :  0\n"
          ]
        }
      ]
    },
    {
      "cell_type": "code",
      "metadata": {
        "colab": {
          "base_uri": "https://localhost:8080/"
        },
        "id": "6WWZhV1a3NL8",
        "outputId": "e1c4fcff-c180-4db9-88e1-4b6260280a8a"
      },
      "source": [
        "# user_pet_category 삭제\n",
        "df = df.drop(columns='user_pet_category')\n",
        "df.columns"
      ],
      "execution_count": 239,
      "outputs": [
        {
          "output_type": "execute_result",
          "data": {
            "text/plain": [
              "Index(['time', 'sex', 'age', 'mbti', 'user_smoking', 'mate_smoking',\n",
              "       'user_pet', 'mate_pet_category', 'air', 'user_bug_killer',\n",
              "       'mate_bug_killer', 'user_cooking', 'mate_cooking', 'eat_together',\n",
              "       'share_item', 'noise', 'mate_alcohol', 'mate_clean',\n",
              "       'permission_to_enter', 'user_pet_dog', 'user_pet_cat',\n",
              "       'user_pet_reptie_fish', 'user_pet_rodent', 'user_pet_bird'],\n",
              "      dtype='object')"
            ]
          },
          "metadata": {},
          "execution_count": 239
        }
      ]
    },
    {
      "cell_type": "markdown",
      "metadata": {
        "id": "-a_Wrmz-2RZD"
      },
      "source": [
        "- mate_pet_category 컬럼을 분리해야한다."
      ]
    },
    {
      "cell_type": "code",
      "metadata": {
        "colab": {
          "base_uri": "https://localhost:8080/"
        },
        "id": "NfdaWXcIvBfn",
        "outputId": "2772ff4f-1efd-4720-8505-be282d9ca0af"
      },
      "source": [
        "print(df['mate_pet_category'].value_counts())\n",
        "print(\"NaN : \", df['mate_pet_category'].isnull().sum())"
      ],
      "execution_count": 240,
      "outputs": [
        {
          "output_type": "stream",
          "name": "stdout",
          "text": [
            "어떠한 동물도 안된다.                  21\n",
            "고양이\\t강아지                      20\n",
            "강아지                           11\n",
            "고양이                            5\n",
            "고양이\\t강아지\\t파충류, 어류              3\n",
            "어떤 동물이든 괜찮다.                   3\n",
            "파충류, 어류                        2\n",
            "고양이\\t강아지\\t조류                   2\n",
            "고양이\\t강아지\\t파충류, 어류\\t조류          1\n",
            "고양이\\t파충류, 어류\\t설치류\\t조류          1\n",
            "어떠한 동물도 안된다.\\t어떤 동물이든 괜찮다.     1\n",
            "고양이\\t강아지\\t설치류                  1\n",
            "고양이\\t강아지\\t파충류, 어류\\t설치류         1\n",
            "Name: mate_pet_category, dtype: int64\n",
            "NaN :  0\n"
          ]
        }
      ]
    },
    {
      "cell_type": "code",
      "metadata": {
        "colab": {
          "base_uri": "https://localhost:8080/"
        },
        "id": "tZr6hACx2UWq",
        "outputId": "581d6d50-73b1-4c88-976d-916f9c2d385a"
      },
      "source": [
        "def func(x):\n",
        "  if '어떠한 동물도 안된다.' in str(x):\n",
        "    return 1\n",
        "  elif '어떤 동물이든 괜찮다.' in str(x):\n",
        "    return 0\n",
        "  else:\n",
        "    return 0.5 # NaN, 그 외\n",
        "\n",
        "df['mate_pet'] = df['mate_pet_category'].apply(lambda x : func(x))\n",
        "print(df['mate_pet'].value_counts())\n",
        "print(\"NaN : \", df['mate_pet'].isnull().sum())"
      ],
      "execution_count": 241,
      "outputs": [
        {
          "output_type": "stream",
          "name": "stdout",
          "text": [
            "0.5    47\n",
            "1.0    22\n",
            "0.0     3\n",
            "Name: mate_pet, dtype: int64\n",
            "NaN :  0\n"
          ]
        }
      ]
    },
    {
      "cell_type": "code",
      "metadata": {
        "colab": {
          "base_uri": "https://localhost:8080/"
        },
        "id": "drp_mfyJ2y-R",
        "outputId": "4ae61cfd-1673-4496-f5bb-4d39760ed5c3"
      },
      "source": [
        "df['mate_pet_dog'] = df['mate_pet_category'].apply(lambda x : 1 if '강아지' in str(x) or '어떤 동물이든 괜찮다.' in str(x) else 0)\n",
        "print(df['mate_pet_dog'].value_counts())\n",
        "print(\"NaN : \", df['mate_pet_dog'].isnull().sum())"
      ],
      "execution_count": 242,
      "outputs": [
        {
          "output_type": "stream",
          "name": "stdout",
          "text": [
            "1    43\n",
            "0    29\n",
            "Name: mate_pet_dog, dtype: int64\n",
            "NaN :  0\n"
          ]
        }
      ]
    },
    {
      "cell_type": "code",
      "metadata": {
        "colab": {
          "base_uri": "https://localhost:8080/"
        },
        "id": "W3Quv6Gu3DdP",
        "outputId": "d0ab0ffc-4e6f-4649-95f5-8a8089492436"
      },
      "source": [
        "df['mate_pet_cat'] = df['mate_pet_category'].apply(lambda x : 1 if '고양이' in str(x) or '어떤 동물이든 괜찮다.' in str(x) else 0)\n",
        "print(df['mate_pet_cat'].value_counts())\n",
        "print(\"NaN : \", df['mate_pet_cat'].isnull().sum())"
      ],
      "execution_count": 243,
      "outputs": [
        {
          "output_type": "stream",
          "name": "stdout",
          "text": [
            "1    38\n",
            "0    34\n",
            "Name: mate_pet_cat, dtype: int64\n",
            "NaN :  0\n"
          ]
        }
      ]
    },
    {
      "cell_type": "code",
      "metadata": {
        "colab": {
          "base_uri": "https://localhost:8080/"
        },
        "id": "V8Y05GlE3Wyl",
        "outputId": "200f78d4-bfb6-405f-dfea-55fcd533ac99"
      },
      "source": [
        "df['mate_pet_reptie_fish'] = df['mate_pet_category'].apply(lambda x : 1 if '파충류, 어류' in str(x) or '어떤 동물이든 괜찮다.' in str(x) else 0)\n",
        "print(df['mate_pet_reptie_fish'].value_counts())\n",
        "print(\"NaN : \", df['mate_pet_reptie_fish'].isnull().sum())"
      ],
      "execution_count": 244,
      "outputs": [
        {
          "output_type": "stream",
          "name": "stdout",
          "text": [
            "0    60\n",
            "1    12\n",
            "Name: mate_pet_reptie_fish, dtype: int64\n",
            "NaN :  0\n"
          ]
        }
      ]
    },
    {
      "cell_type": "code",
      "metadata": {
        "colab": {
          "base_uri": "https://localhost:8080/"
        },
        "id": "rAW49NFV3h0f",
        "outputId": "9335e83b-d7bc-4b03-cbcd-fac7547f168e"
      },
      "source": [
        "df['mate_pet_rodent'] = df['mate_pet_category'].apply(lambda x : 1 if '설치류' in str(x) or '어떤 동물이든 괜찮다.' in str(x) else 0)\n",
        "print(df['mate_pet_rodent'].value_counts())\n",
        "print(\"NaN : \", df['mate_pet_rodent'].isnull().sum())"
      ],
      "execution_count": 245,
      "outputs": [
        {
          "output_type": "stream",
          "name": "stdout",
          "text": [
            "0    65\n",
            "1     7\n",
            "Name: mate_pet_rodent, dtype: int64\n",
            "NaN :  0\n"
          ]
        }
      ]
    },
    {
      "cell_type": "code",
      "metadata": {
        "colab": {
          "base_uri": "https://localhost:8080/"
        },
        "id": "es0muy_p3qbk",
        "outputId": "9ee26b7c-d87b-42b7-f71e-88a915ebd750"
      },
      "source": [
        "df['mate_pet_bird'] = df['mate_pet_category'].apply(lambda x : 1 if '조류' in str(x) or '어떤 동물이든 괜찮다.' in str(x) else 0)\n",
        "print(df['mate_pet_bird'].value_counts())\n",
        "print(\"NaN : \", df['mate_pet_bird'].isnull().sum())"
      ],
      "execution_count": 246,
      "outputs": [
        {
          "output_type": "stream",
          "name": "stdout",
          "text": [
            "0    64\n",
            "1     8\n",
            "Name: mate_pet_bird, dtype: int64\n",
            "NaN :  0\n"
          ]
        }
      ]
    },
    {
      "cell_type": "code",
      "metadata": {
        "colab": {
          "base_uri": "https://localhost:8080/"
        },
        "id": "Guj5N_c44Y-a",
        "outputId": "821d77f8-8c40-49ac-f23d-41398f2e83ad"
      },
      "source": [
        "# mate_pet_category 삭제\n",
        "df = df.drop(columns='mate_pet_category')\n",
        "df.columns"
      ],
      "execution_count": 247,
      "outputs": [
        {
          "output_type": "execute_result",
          "data": {
            "text/plain": [
              "Index(['time', 'sex', 'age', 'mbti', 'user_smoking', 'mate_smoking',\n",
              "       'user_pet', 'air', 'user_bug_killer', 'mate_bug_killer', 'user_cooking',\n",
              "       'mate_cooking', 'eat_together', 'share_item', 'noise', 'mate_alcohol',\n",
              "       'mate_clean', 'permission_to_enter', 'user_pet_dog', 'user_pet_cat',\n",
              "       'user_pet_reptie_fish', 'user_pet_rodent', 'user_pet_bird', 'mate_pet',\n",
              "       'mate_pet_dog', 'mate_pet_cat', 'mate_pet_reptie_fish',\n",
              "       'mate_pet_rodent', 'mate_pet_bird'],\n",
              "      dtype='object')"
            ]
          },
          "metadata": {},
          "execution_count": 247
        }
      ]
    },
    {
      "cell_type": "markdown",
      "metadata": {
        "id": "-hbdYOmF7Nhi"
      },
      "source": [
        "- air 컬럼을 분리해야한다.\n",
        "  - 더위를 많이 타서 에어컨을 일찍부터 튼다, 여름에 항상 에어컨을 켜놓는다 = air_like_airconditionner / 에어컨을 틀고 못잔다 = air_night_airconditioner / 추위를 많이 타서 난방을 일찍부터 튼다, 과한 난방은 답답해하는 편이다 = air_like_heater / 해당하는 상황 없음 = air = none"
      ]
    },
    {
      "cell_type": "code",
      "metadata": {
        "colab": {
          "base_uri": "https://localhost:8080/"
        },
        "id": "2EWkssqJ7wwL",
        "outputId": "8ca0c1e1-f503-4625-e30b-1f4efcff5034"
      },
      "source": [
        "df['air'].value_counts()"
      ],
      "execution_count": 248,
      "outputs": [
        {
          "output_type": "execute_result",
          "data": {
            "text/plain": [
              "과한 난방은 답답해하는 편이다                                                                     12\n",
              "더위를 많이 타서 에어컨을 일찍부터 튼다\\t과한 난방은 답답해하는 편이다                                              8\n",
              "해당하는 상황 없음                                                                            8\n",
              "추위를 많이 타서 난방을 일찍부터 튼다                                                                 6\n",
              "더위를 많이 타서 에어컨을 일찍부터 튼다\\t여름에 항상 에어컨을 켜놓는다\\t과한 난방은 답답해하는 편이다                            6\n",
              "더위를 많이 타서 에어컨을 일찍부터 튼다                                                                5\n",
              "더위를 많이 타서 에어컨을 일찍부터 튼다\\t추위를 많이 타서 난방을 일찍부터 튼다                                         4\n",
              "여름에 항상 에어컨을 켜놓는다\\t과한 난방은 답답해하는 편이다                                                    4\n",
              "에어컨을 틀고 못잔다\\t과한 난방은 답답해하는 편이다                                                         3\n",
              "추위를 많이 타서 난방을 일찍부터 튼다\\t과한 난방은 답답해하는 편이다                                               3\n",
              "더위를 많이 타서 에어컨을 일찍부터 튼다\\t추위를 많이 타서 난방을 일찍부터 튼다\\t과한 난방은 답답해하는 편이다                       3\n",
              "여름에 항상 에어컨을 켜놓는다                                                                      3\n",
              "에어컨을 틀고 못잔다\\t추위를 많이 타서 난방을 일찍부터 튼다\\t과한 난방은 답답해하는 편이다                                  2\n",
              "더위를 많이 타서 에어컨을 일찍부터 튼다\\t여름에 항상 에어컨을 켜놓는다\\t추위를 많이 타서 난방을 일찍부터 튼다\\t과한 난방은 답답해하는 편이다     2\n",
              "절대 못잡는다                                                                               1\n",
              "에어컨을 틀고 못잔다                                                                           1\n",
              "Name: air, dtype: int64"
            ]
          },
          "metadata": {},
          "execution_count": 248
        }
      ]
    },
    {
      "cell_type": "code",
      "metadata": {
        "id": "NpSnc8ZzAKpO"
      },
      "source": [
        "# NaN -> '해당하는 상황 없음'\n",
        "df['air'] = df['air'].fillna('해당하는 상황 없음')"
      ],
      "execution_count": 249,
      "outputs": []
    },
    {
      "cell_type": "code",
      "metadata": {
        "colab": {
          "base_uri": "https://localhost:8080/"
        },
        "id": "KK0w6X7U5Dot",
        "outputId": "d2b65411-7f3f-4b32-bd1f-f2266c8ad742"
      },
      "source": [
        "df['air_like_airconditioner'] = df['air'].apply(lambda x : 1 if '더위를 많이 타서 에어컨을 일찍부터 튼다' in str(x) or '여름에 항상 에어컨을 켜놓는다' in str(x) else 0)\n",
        "df['air_like_airconditioner'].value_counts()"
      ],
      "execution_count": 250,
      "outputs": [
        {
          "output_type": "execute_result",
          "data": {
            "text/plain": [
              "0    37\n",
              "1    35\n",
              "Name: air_like_airconditioner, dtype: int64"
            ]
          },
          "metadata": {},
          "execution_count": 250
        }
      ]
    },
    {
      "cell_type": "code",
      "metadata": {
        "colab": {
          "base_uri": "https://localhost:8080/"
        },
        "id": "VIzA5zL8ankn",
        "outputId": "ce49c5eb-3b70-40a5-c0e3-50541d200dcd"
      },
      "source": [
        "df['air_like_airconditioner'].isnull().sum()"
      ],
      "execution_count": 251,
      "outputs": [
        {
          "output_type": "execute_result",
          "data": {
            "text/plain": [
              "0"
            ]
          },
          "metadata": {},
          "execution_count": 251
        }
      ]
    },
    {
      "cell_type": "code",
      "metadata": {
        "colab": {
          "base_uri": "https://localhost:8080/"
        },
        "id": "ydX2aOMa7RPW",
        "outputId": "ccf2e116-1a47-408b-f504-fbf9c0e5273a"
      },
      "source": [
        "df['air_night_airconditioner'] = df['air'].apply(lambda x : 1 if '에어컨을 틀고 못잔다' in str(x) else 0)\n",
        "df['air_night_airconditioner'].value_counts()"
      ],
      "execution_count": 252,
      "outputs": [
        {
          "output_type": "execute_result",
          "data": {
            "text/plain": [
              "0    66\n",
              "1     6\n",
              "Name: air_night_airconditioner, dtype: int64"
            ]
          },
          "metadata": {},
          "execution_count": 252
        }
      ]
    },
    {
      "cell_type": "code",
      "metadata": {
        "colab": {
          "base_uri": "https://localhost:8080/"
        },
        "id": "Mwags1NqayN1",
        "outputId": "9b543307-bab3-4c34-e9c0-88e63e2c8e43"
      },
      "source": [
        "df['air_night_airconditioner'].isnull().sum()"
      ],
      "execution_count": 253,
      "outputs": [
        {
          "output_type": "execute_result",
          "data": {
            "text/plain": [
              "0"
            ]
          },
          "metadata": {},
          "execution_count": 253
        }
      ]
    },
    {
      "cell_type": "code",
      "metadata": {
        "colab": {
          "base_uri": "https://localhost:8080/"
        },
        "id": "fsYYGDNF9lZG",
        "outputId": "1cd8e1a8-9ddd-43f8-91fb-77fd5ce8adbc"
      },
      "source": [
        "def func(x):\n",
        "  if '추위를 많이 타서 난방을 일찍부터 튼다' in str(x):\n",
        "    return 1\n",
        "  elif '과한 난방은 답답해하는 편이다'in str(x):\n",
        "    return 0\n",
        "  else:\n",
        "    return 0.5 # 난방에 대해 신경쓰지 않는다고 판단\n",
        "\n",
        "df['air_like_heater'] = df['air'].apply(lambda x : func(x))\n",
        "df['air_like_heater'].value_counts()"
      ],
      "execution_count": 254,
      "outputs": [
        {
          "output_type": "execute_result",
          "data": {
            "text/plain": [
              "0.0    33\n",
              "1.0    20\n",
              "0.5    19\n",
              "Name: air_like_heater, dtype: int64"
            ]
          },
          "metadata": {},
          "execution_count": 254
        }
      ]
    },
    {
      "cell_type": "code",
      "metadata": {
        "colab": {
          "base_uri": "https://localhost:8080/"
        },
        "id": "f40uysPPa4AZ",
        "outputId": "3f05fa8c-e45d-45ce-f320-f1b3afc4d57f"
      },
      "source": [
        "df['air_like_heater'].isnull().sum()"
      ],
      "execution_count": 255,
      "outputs": [
        {
          "output_type": "execute_result",
          "data": {
            "text/plain": [
              "0"
            ]
          },
          "metadata": {},
          "execution_count": 255
        }
      ]
    },
    {
      "cell_type": "code",
      "metadata": {
        "colab": {
          "base_uri": "https://localhost:8080/"
        },
        "id": "ZFuOOPAvBoXj",
        "outputId": "15c198df-17ee-40a5-b23a-d3efbdc21691"
      },
      "source": [
        "# air 삭제\n",
        "df = df.drop(columns='air')\n",
        "df.columns"
      ],
      "execution_count": 256,
      "outputs": [
        {
          "output_type": "execute_result",
          "data": {
            "text/plain": [
              "Index(['time', 'sex', 'age', 'mbti', 'user_smoking', 'mate_smoking',\n",
              "       'user_pet', 'user_bug_killer', 'mate_bug_killer', 'user_cooking',\n",
              "       'mate_cooking', 'eat_together', 'share_item', 'noise', 'mate_alcohol',\n",
              "       'mate_clean', 'permission_to_enter', 'user_pet_dog', 'user_pet_cat',\n",
              "       'user_pet_reptie_fish', 'user_pet_rodent', 'user_pet_bird', 'mate_pet',\n",
              "       'mate_pet_dog', 'mate_pet_cat', 'mate_pet_reptie_fish',\n",
              "       'mate_pet_rodent', 'mate_pet_bird', 'air_like_airconditioner',\n",
              "       'air_night_airconditioner', 'air_like_heater'],\n",
              "      dtype='object')"
            ]
          },
          "metadata": {},
          "execution_count": 256
        }
      ]
    },
    {
      "cell_type": "markdown",
      "metadata": {
        "id": "KbYMmfKe-o-Y"
      },
      "source": [
        "- noise 컬럼을 분리해야한다.\n",
        "  - 신경쓰지 않는다. = noise_none / 10분 이상의 말소리(통화/게임)은 신경쓰인다, 10분 이전의 말소리(통화/게임)도 신경쓰인다 = noise_talking / 10분 이상의 동영상/음악 소리는 신경쓰인다, 10분 이전의 동영상/음악 소리도 신경쓰인다 = noise_music / 지속적인 알람소리는 신경쓰인다 = noise_alarm"
      ]
    },
    {
      "cell_type": "code",
      "metadata": {
        "id": "Bd08KsZNCIRN"
      },
      "source": [
        "# NaN -> '신경쓰지 않는다.'\n",
        "df['noise'] = df['noise'].fillna('신경쓰지 않는다.')"
      ],
      "execution_count": 257,
      "outputs": []
    },
    {
      "cell_type": "code",
      "metadata": {
        "colab": {
          "base_uri": "https://localhost:8080/"
        },
        "id": "twxS7wLHChyR",
        "outputId": "9f694d65-6249-4e70-93f0-a5ea29cc5daf"
      },
      "source": [
        "def func(x):\n",
        "  if '10분 이전의 말소리(통화/게임)도 신경쓰인다' in str(x):\n",
        "    return 1\n",
        "  elif '10분 이상의 말소리(통화/게임)은 신경쓰인다'in str(x):\n",
        "    return 0.5\n",
        "  else:\n",
        "    return 0\n",
        "\n",
        "df['noise_talking'] = df['noise'].apply(lambda x : func(x))\n",
        "df['noise_talking'].value_counts()"
      ],
      "execution_count": 258,
      "outputs": [
        {
          "output_type": "execute_result",
          "data": {
            "text/plain": [
              "0.0    43\n",
              "0.5    24\n",
              "1.0     5\n",
              "Name: noise_talking, dtype: int64"
            ]
          },
          "metadata": {},
          "execution_count": 258
        }
      ]
    },
    {
      "cell_type": "code",
      "metadata": {
        "colab": {
          "base_uri": "https://localhost:8080/"
        },
        "id": "5jleo6EOEJt6",
        "outputId": "c738c53f-7d22-415a-d90c-4d4fbf0e8551"
      },
      "source": [
        "# 결측치 확인\n",
        "df['noise_talking'].isnull().sum()"
      ],
      "execution_count": 259,
      "outputs": [
        {
          "output_type": "execute_result",
          "data": {
            "text/plain": [
              "0"
            ]
          },
          "metadata": {},
          "execution_count": 259
        }
      ]
    },
    {
      "cell_type": "code",
      "metadata": {
        "colab": {
          "base_uri": "https://localhost:8080/"
        },
        "id": "AnQVrm7ZEbMy",
        "outputId": "f736d545-75cc-4bbc-e06e-84ce96fba3f7"
      },
      "source": [
        "def func(x):\n",
        "  if '10분 이전의 동영상/음악 소리도 신경쓰인다' in str(x):\n",
        "    return 1\n",
        "  elif '10분 이상의 동영상/음악 소리는 신경쓰인다'in str(x):\n",
        "    return 0.5\n",
        "  else:\n",
        "    return 0\n",
        "\n",
        "df['noise_music'] = df['noise'].apply(lambda x : func(x))\n",
        "df['noise_music'].value_counts()"
      ],
      "execution_count": 260,
      "outputs": [
        {
          "output_type": "execute_result",
          "data": {
            "text/plain": [
              "0.0    43\n",
              "0.5    24\n",
              "1.0     5\n",
              "Name: noise_music, dtype: int64"
            ]
          },
          "metadata": {},
          "execution_count": 260
        }
      ]
    },
    {
      "cell_type": "code",
      "metadata": {
        "colab": {
          "base_uri": "https://localhost:8080/"
        },
        "id": "0jqyCt41EteO",
        "outputId": "fbfae040-a8da-414b-9dc7-c0781dd60783"
      },
      "source": [
        "df['noise_music'].isnull().sum()"
      ],
      "execution_count": 261,
      "outputs": [
        {
          "output_type": "execute_result",
          "data": {
            "text/plain": [
              "0"
            ]
          },
          "metadata": {},
          "execution_count": 261
        }
      ]
    },
    {
      "cell_type": "code",
      "metadata": {
        "colab": {
          "base_uri": "https://localhost:8080/"
        },
        "id": "bZG9LL36E2nE",
        "outputId": "711ec9c9-196b-4c54-a4e8-ccdca1e2f881"
      },
      "source": [
        "df['noise_alarm'] = df['noise'].apply(lambda x : 1 if '지속적인 알람소리는 신경쓰인다' in str(x) else 0)\n",
        "df['noise_alarm'].value_counts()"
      ],
      "execution_count": 262,
      "outputs": [
        {
          "output_type": "execute_result",
          "data": {
            "text/plain": [
              "1    46\n",
              "0    26\n",
              "Name: noise_alarm, dtype: int64"
            ]
          },
          "metadata": {},
          "execution_count": 262
        }
      ]
    },
    {
      "cell_type": "code",
      "metadata": {
        "colab": {
          "base_uri": "https://localhost:8080/"
        },
        "id": "YhQf7FhXHuoe",
        "outputId": "a0a0c0f6-65db-459e-c6ae-9e61adc5bc66"
      },
      "source": [
        "df['noise_alarm'].isnull().sum()"
      ],
      "execution_count": 263,
      "outputs": [
        {
          "output_type": "execute_result",
          "data": {
            "text/plain": [
              "0"
            ]
          },
          "metadata": {},
          "execution_count": 263
        }
      ]
    },
    {
      "cell_type": "code",
      "metadata": {
        "colab": {
          "base_uri": "https://localhost:8080/"
        },
        "id": "PwgpnBaqI0X4",
        "outputId": "e3397c08-eaee-493a-9df0-c8c71d8acb2f"
      },
      "source": [
        "# noise 삭제\n",
        "df = df.drop(columns='noise')\n",
        "df.columns"
      ],
      "execution_count": 264,
      "outputs": [
        {
          "output_type": "execute_result",
          "data": {
            "text/plain": [
              "Index(['time', 'sex', 'age', 'mbti', 'user_smoking', 'mate_smoking',\n",
              "       'user_pet', 'user_bug_killer', 'mate_bug_killer', 'user_cooking',\n",
              "       'mate_cooking', 'eat_together', 'share_item', 'mate_alcohol',\n",
              "       'mate_clean', 'permission_to_enter', 'user_pet_dog', 'user_pet_cat',\n",
              "       'user_pet_reptie_fish', 'user_pet_rodent', 'user_pet_bird', 'mate_pet',\n",
              "       'mate_pet_dog', 'mate_pet_cat', 'mate_pet_reptie_fish',\n",
              "       'mate_pet_rodent', 'mate_pet_bird', 'air_like_airconditioner',\n",
              "       'air_night_airconditioner', 'air_like_heater', 'noise_talking',\n",
              "       'noise_music', 'noise_alarm'],\n",
              "      dtype='object')"
            ]
          },
          "metadata": {},
          "execution_count": 264
        }
      ]
    },
    {
      "cell_type": "markdown",
      "metadata": {
        "id": "kpnO0-TJJFCF"
      },
      "source": [
        "- user_bug_killer : 잡는데 거리낌이 없다, 시키면 잡을 수 있다, 절대 못잡는다\n",
        "- mate_bug_killer : 벌레를 잡을 수 있어야 한다, 벌레를 못잡아도 상관없다"
      ]
    },
    {
      "cell_type": "code",
      "metadata": {
        "colab": {
          "base_uri": "https://localhost:8080/"
        },
        "id": "a59D9xJMgWEW",
        "outputId": "6b3dadbc-a996-4a87-89e3-d823ac231b8e"
      },
      "source": [
        "df['user_bug_killer'].value_counts()"
      ],
      "execution_count": 265,
      "outputs": [
        {
          "output_type": "execute_result",
          "data": {
            "text/plain": [
              "시키면 잡을 수 있다    29\n",
              "절대 못잡는다        23\n",
              "잡는데 거리낌이 없다    19\n",
              "Name: user_bug_killer, dtype: int64"
            ]
          },
          "metadata": {},
          "execution_count": 265
        }
      ]
    },
    {
      "cell_type": "code",
      "metadata": {
        "colab": {
          "base_uri": "https://localhost:8080/"
        },
        "id": "zmnVbHEBhCSF",
        "outputId": "19864fd8-a431-4f06-ad7a-fa89b3b6b43e"
      },
      "source": [
        "df['user_bug_killer'].isnull().sum()"
      ],
      "execution_count": 266,
      "outputs": [
        {
          "output_type": "execute_result",
          "data": {
            "text/plain": [
              "1"
            ]
          },
          "metadata": {},
          "execution_count": 266
        }
      ]
    },
    {
      "cell_type": "code",
      "metadata": {
        "colab": {
          "base_uri": "https://localhost:8080/"
        },
        "id": "TdyjFVKUg0ez",
        "outputId": "ce0d4509-b304-4543-a51e-534af957a140"
      },
      "source": [
        "def func(x):\n",
        "  if '잡는데 거리낌이 없다' in str(x):\n",
        "    return 1\n",
        "  elif '시키면 잡을 수 있다'in str(x):\n",
        "    return 0.75\n",
        "  elif '절대 못잡는다' in str(x):\n",
        "    return 0\n",
        "  else:\n",
        "    return np.nan\n",
        "\n",
        "df['user_bug_killer'] = df['user_bug_killer'].apply(lambda x : func(x))\n",
        "df['user_bug_killer'].value_counts()"
      ],
      "execution_count": 267,
      "outputs": [
        {
          "output_type": "execute_result",
          "data": {
            "text/plain": [
              "0.75    29\n",
              "0.00    23\n",
              "1.00    19\n",
              "Name: user_bug_killer, dtype: int64"
            ]
          },
          "metadata": {},
          "execution_count": 267
        }
      ]
    },
    {
      "cell_type": "code",
      "metadata": {
        "colab": {
          "base_uri": "https://localhost:8080/"
        },
        "id": "hi5A6iX4h9KF",
        "outputId": "e4af8a2e-0c68-4461-96e4-f369a58826ad"
      },
      "source": [
        "# mean으로 결측치 채움\n",
        "df['user_bug_killer'] = df['user_bug_killer'].fillna(df['user_bug_killer'].mean())\n",
        "df['user_bug_killer'].value_counts()"
      ],
      "execution_count": 268,
      "outputs": [
        {
          "output_type": "execute_result",
          "data": {
            "text/plain": [
              "0.750000    29\n",
              "0.000000    23\n",
              "1.000000    19\n",
              "0.573944     1\n",
              "Name: user_bug_killer, dtype: int64"
            ]
          },
          "metadata": {},
          "execution_count": 268
        }
      ]
    },
    {
      "cell_type": "code",
      "metadata": {
        "colab": {
          "base_uri": "https://localhost:8080/"
        },
        "id": "U2RbvKspgqZ5",
        "outputId": "0d0fc7ee-5fed-47c9-bdb1-764318518f54"
      },
      "source": [
        "df['mate_bug_killer'].value_counts()"
      ],
      "execution_count": 269,
      "outputs": [
        {
          "output_type": "execute_result",
          "data": {
            "text/plain": [
              "벌레를 못잡아도 상관없다       40\n",
              "벌레를 잡을 수 있어야만 한다    32\n",
              "Name: mate_bug_killer, dtype: int64"
            ]
          },
          "metadata": {},
          "execution_count": 269
        }
      ]
    },
    {
      "cell_type": "code",
      "metadata": {
        "colab": {
          "base_uri": "https://localhost:8080/"
        },
        "id": "hKXrqg8bhVOQ",
        "outputId": "fdb856cc-e6a9-4bfa-e5ef-2ab2e8a7bd1b"
      },
      "source": [
        "df['mate_bug_killer'].isnull().sum()"
      ],
      "execution_count": 270,
      "outputs": [
        {
          "output_type": "execute_result",
          "data": {
            "text/plain": [
              "0"
            ]
          },
          "metadata": {},
          "execution_count": 270
        }
      ]
    },
    {
      "cell_type": "code",
      "metadata": {
        "colab": {
          "base_uri": "https://localhost:8080/"
        },
        "id": "lXIw-g99ioIk",
        "outputId": "3553a480-315e-480c-ca56-3cc3810054e1"
      },
      "source": [
        "df['mate_bug_killer'] = df['mate_bug_killer'].apply(lambda x : 1 if '벌레를 잡을 수 있어야만 한다' in str(x) else 0)\n",
        "df['mate_bug_killer'].value_counts()"
      ],
      "execution_count": 271,
      "outputs": [
        {
          "output_type": "execute_result",
          "data": {
            "text/plain": [
              "0    40\n",
              "1    32\n",
              "Name: mate_bug_killer, dtype: int64"
            ]
          },
          "metadata": {},
          "execution_count": 271
        }
      ]
    },
    {
      "cell_type": "markdown",
      "metadata": {
        "id": "jZCc27nljDls"
      },
      "source": [
        "- user_cooking : 직접 요리, 외부 음식(포장, 배달)\n",
        "- mate_cooking : 불편하다, 신경쓰지 않는다(불편하지 않다)\n"
      ]
    },
    {
      "cell_type": "code",
      "metadata": {
        "colab": {
          "base_uri": "https://localhost:8080/"
        },
        "id": "eq7WdHa5jEjh",
        "outputId": "77407683-93f4-4053-94dc-77fd3479de98"
      },
      "source": [
        "df['user_cooking'].value_counts()"
      ],
      "execution_count": 272,
      "outputs": [
        {
          "output_type": "execute_result",
          "data": {
            "text/plain": [
              "직접 요리            42\n",
              "외부 음식(포장, 배달)    30\n",
              "Name: user_cooking, dtype: int64"
            ]
          },
          "metadata": {},
          "execution_count": 272
        }
      ]
    },
    {
      "cell_type": "code",
      "metadata": {
        "colab": {
          "base_uri": "https://localhost:8080/"
        },
        "id": "J98GGUw1jLIL",
        "outputId": "82897b78-13ff-4b79-f351-badb8f093985"
      },
      "source": [
        "df['user_cooking'].isnull().sum()"
      ],
      "execution_count": 273,
      "outputs": [
        {
          "output_type": "execute_result",
          "data": {
            "text/plain": [
              "0"
            ]
          },
          "metadata": {},
          "execution_count": 273
        }
      ]
    },
    {
      "cell_type": "code",
      "metadata": {
        "colab": {
          "base_uri": "https://localhost:8080/"
        },
        "id": "4uIK5rlyjuR7",
        "outputId": "3093f172-8cb9-473b-87f9-5becba36db1a"
      },
      "source": [
        "df['user_cooking'] = df['user_cooking'].apply(lambda x : 1 if '외부 음식(포장, 배달)' in str(x) else 0)\n",
        "df['user_cooking'].value_counts()"
      ],
      "execution_count": 274,
      "outputs": [
        {
          "output_type": "execute_result",
          "data": {
            "text/plain": [
              "0    42\n",
              "1    30\n",
              "Name: user_cooking, dtype: int64"
            ]
          },
          "metadata": {},
          "execution_count": 274
        }
      ]
    },
    {
      "cell_type": "code",
      "metadata": {
        "colab": {
          "base_uri": "https://localhost:8080/"
        },
        "id": "IAYXHrZqjYy-",
        "outputId": "66ddc17e-373a-4f57-8864-b1977d04fbb0"
      },
      "source": [
        "df['mate_cooking'].value_counts()"
      ],
      "execution_count": 275,
      "outputs": [
        {
          "output_type": "execute_result",
          "data": {
            "text/plain": [
              "신경쓰지 않는다(불편하지 않다)    64\n",
              "Name: mate_cooking, dtype: int64"
            ]
          },
          "metadata": {},
          "execution_count": 275
        }
      ]
    },
    {
      "cell_type": "code",
      "metadata": {
        "colab": {
          "base_uri": "https://localhost:8080/"
        },
        "id": "l5I1WjHcjfJH",
        "outputId": "02739726-7afe-44fd-e8c6-df595c09a050"
      },
      "source": [
        "df['mate_cooking'].isnull().sum()"
      ],
      "execution_count": 276,
      "outputs": [
        {
          "output_type": "execute_result",
          "data": {
            "text/plain": [
              "8"
            ]
          },
          "metadata": {},
          "execution_count": 276
        }
      ]
    },
    {
      "cell_type": "code",
      "metadata": {
        "colab": {
          "base_uri": "https://localhost:8080/"
        },
        "id": "gmh-NN9Hkm5i",
        "outputId": "26ba8628-90d4-4b64-be64-6c58ef6ba24d"
      },
      "source": [
        "df['mate_cooking'] = df['mate_cooking'].apply(lambda x : 1 if '불편하다' in str(x) else 0)\n",
        "df['mate_cooking'].value_counts()"
      ],
      "execution_count": 277,
      "outputs": [
        {
          "output_type": "execute_result",
          "data": {
            "text/plain": [
              "0    72\n",
              "Name: mate_cooking, dtype: int64"
            ]
          },
          "metadata": {},
          "execution_count": 277
        }
      ]
    },
    {
      "cell_type": "markdown",
      "metadata": {
        "id": "bcPp5_WAkzz-"
      },
      "source": [
        "- eat_together : 혼자 먹는 걸 선호한다, 같이 먹는 걸 선호한다"
      ]
    },
    {
      "cell_type": "code",
      "metadata": {
        "colab": {
          "base_uri": "https://localhost:8080/"
        },
        "id": "BgcvVaVvk2Nu",
        "outputId": "c48ace95-8070-4ccb-f8ae-748f1c3d59ef"
      },
      "source": [
        "df['eat_together'].value_counts()"
      ],
      "execution_count": 278,
      "outputs": [
        {
          "output_type": "execute_result",
          "data": {
            "text/plain": [
              "같이 먹는 걸 선호한다    43\n",
              "혼자 먹는 걸 선호한다    28\n",
              "그렇다              1\n",
              "Name: eat_together, dtype: int64"
            ]
          },
          "metadata": {},
          "execution_count": 278
        }
      ]
    },
    {
      "cell_type": "code",
      "metadata": {
        "colab": {
          "base_uri": "https://localhost:8080/"
        },
        "id": "y0DKlMcilKhb",
        "outputId": "b01b4df5-e520-4a83-b632-2c10438ff479"
      },
      "source": [
        "df['eat_together'].isnull().sum()"
      ],
      "execution_count": 279,
      "outputs": [
        {
          "output_type": "execute_result",
          "data": {
            "text/plain": [
              "0"
            ]
          },
          "metadata": {},
          "execution_count": 279
        }
      ]
    },
    {
      "cell_type": "code",
      "metadata": {
        "colab": {
          "base_uri": "https://localhost:8080/"
        },
        "id": "RwCHJ7tulJDi",
        "outputId": "e046e638-f020-4c36-98cd-695a721b8afa"
      },
      "source": [
        "df['eat_together'] = df['eat_together'].apply(lambda x : 1 if '같이 먹는 걸 선호한다' in str(x) else 0)\n",
        "df['eat_together'].value_counts()"
      ],
      "execution_count": 280,
      "outputs": [
        {
          "output_type": "execute_result",
          "data": {
            "text/plain": [
              "1    43\n",
              "0    29\n",
              "Name: eat_together, dtype: int64"
            ]
          },
          "metadata": {},
          "execution_count": 280
        }
      ]
    },
    {
      "cell_type": "markdown",
      "metadata": {
        "id": "vkljb5KylXcv"
      },
      "source": [
        "- share_item : 말 안하고 사용해도 괜찮다, 사용하기 전 허락을 받으면 괜찮다, 괜찮지 않다(안된다)"
      ]
    },
    {
      "cell_type": "code",
      "metadata": {
        "colab": {
          "base_uri": "https://localhost:8080/"
        },
        "id": "qxUP-0lNlZyY",
        "outputId": "5cfc5e8b-3023-412d-f918-2653405cc9ac"
      },
      "source": [
        "df['share_item'].value_counts()"
      ],
      "execution_count": 281,
      "outputs": [
        {
          "output_type": "execute_result",
          "data": {
            "text/plain": [
              "사용하기 전 허락을 받으면 괜찮다    64\n",
              "괜찮지 않다(안된다)            5\n",
              "말 안하고 사용해도 괜찮다         2\n",
              "Name: share_item, dtype: int64"
            ]
          },
          "metadata": {},
          "execution_count": 281
        }
      ]
    },
    {
      "cell_type": "code",
      "metadata": {
        "colab": {
          "base_uri": "https://localhost:8080/"
        },
        "id": "QMds5mRNlgnH",
        "outputId": "8f3c6077-785f-440b-fd25-e1f3a713321d"
      },
      "source": [
        "df['share_item'].isnull().sum()"
      ],
      "execution_count": 282,
      "outputs": [
        {
          "output_type": "execute_result",
          "data": {
            "text/plain": [
              "1"
            ]
          },
          "metadata": {},
          "execution_count": 282
        }
      ]
    },
    {
      "cell_type": "code",
      "metadata": {
        "colab": {
          "base_uri": "https://localhost:8080/"
        },
        "id": "iTmwUD3PllE9",
        "outputId": "7f60a664-13dc-46d8-fd2f-08f1eb4c3d30"
      },
      "source": [
        "def func(x):\n",
        "  if '말 안하고 사용해도 괜찮다' in str(x):\n",
        "    return 1\n",
        "  elif '사용하기 전 허락을 받으면 괜찮다'in str(x):\n",
        "    return 0.75\n",
        "  elif '괜찮지 않다(안된다)' in str(x):\n",
        "    return 0\n",
        "  else:\n",
        "    return np.nan\n",
        "\n",
        "df['share_item'] = df['share_item'].apply(lambda x : func(x))\n",
        "df['share_item'].value_counts()"
      ],
      "execution_count": 283,
      "outputs": [
        {
          "output_type": "execute_result",
          "data": {
            "text/plain": [
              "0.75    64\n",
              "0.00     5\n",
              "1.00     2\n",
              "Name: share_item, dtype: int64"
            ]
          },
          "metadata": {},
          "execution_count": 283
        }
      ]
    },
    {
      "cell_type": "code",
      "metadata": {
        "colab": {
          "base_uri": "https://localhost:8080/"
        },
        "id": "lPqRMR1Hm8Ju",
        "outputId": "d0248610-f139-4489-9fe4-f5d250c6c551"
      },
      "source": [
        "# mean으로 결측치 채움\n",
        "df['share_item'] = df['share_item'].fillna(df['share_item'].mean())\n",
        "df['share_item'].value_counts()"
      ],
      "execution_count": 284,
      "outputs": [
        {
          "output_type": "execute_result",
          "data": {
            "text/plain": [
              "0.750000    64\n",
              "0.000000     5\n",
              "1.000000     2\n",
              "0.704225     1\n",
              "Name: share_item, dtype: int64"
            ]
          },
          "metadata": {},
          "execution_count": 284
        }
      ]
    },
    {
      "cell_type": "markdown",
      "metadata": {
        "id": "qCkrsR-anSJj"
      },
      "source": [
        "- mate_alcohol : 메이트의 술 문제는 신경쓰지 않는다, 메이트가 술 냄새를 풍기는 것은 싫다, 메이트가 술을 많이 마신 것 같은 모습을 보이면 싫다, 메이트가 술주정만 하지 않으면 된다\n"
      ]
    },
    {
      "cell_type": "code",
      "metadata": {
        "colab": {
          "base_uri": "https://localhost:8080/"
        },
        "id": "k9ArQG4DnRwI",
        "outputId": "b0497891-9a64-4be5-c8b2-b03ea939874b"
      },
      "source": [
        "print(df['mate_alcohol'].value_counts())\n",
        "print(\"NaN : \", df['mate_alcohol'].isnull().sum())"
      ],
      "execution_count": 285,
      "outputs": [
        {
          "output_type": "stream",
          "name": "stdout",
          "text": [
            "메이트가 술주정만 하지 않으면 된다                                                         41\n",
            "메이트의 술 문제는 신경쓰지 않는다                                                          9\n",
            "메이트의 술 문제는 신경쓰지 않는다\\t메이트가 술주정만 하지 않으면 된다                                     6\n",
            "메이트가 술 냄새를 풍기는 것은 싫다                                                         5\n",
            "메이트가 술 냄새를 풍기는 것은 싫다\\t메이트가 술을 많이 마신 것 같은 모습을 보이면 싫다                          5\n",
            "메이트가 술을 많이 마신 것 같은 모습을 보이면 싫다                                                2\n",
            "소음은 없었으면 좋겠다.                                                                1\n",
            "메이트의 술 문제는 신경쓰지 않는다\\t메이트가 술 냄새를 풍기는 것은 싫다\\t메이트가 술을 많이 마신 것 같은 모습을 보이면 싫다     1\n",
            "메이트가 술 냄새를 풍기는 것은 싫다\\t메이트가 술을 많이 마신 것 같은 모습을 보이면 싫다\\t메이트가 술주정만 하지 않으면 된다     1\n",
            "Name: mate_alcohol, dtype: int64\n",
            "NaN :  1\n"
          ]
        }
      ]
    },
    {
      "cell_type": "code",
      "metadata": {
        "colab": {
          "base_uri": "https://localhost:8080/"
        },
        "id": "CDsCzmCJnvZN",
        "outputId": "7ee26a02-f4b2-4a54-8825-54f0acb88b25"
      },
      "source": [
        "def func(x):\n",
        "  if '메이트가 술 냄새를 풍기는 것은 싫다' in str(x):\n",
        "    return 1\n",
        "  elif '메이트가 술을 많이 마신 것 같은 모습을 보이면 싫다'in str(x):\n",
        "    return 0.66\n",
        "  elif '메이트가 술주정만 하지 않으면 된다' in str(x):\n",
        "    return 0.33\n",
        "  elif '메이트의 술 문제는 신경쓰지 않는다' in str(x):\n",
        "    return 0\n",
        "  else:\n",
        "    return np.nan\n",
        "\n",
        "df['mate_alcohol'] = df['mate_alcohol'].apply(lambda x : func(x))\n",
        "print(df['mate_alcohol'].value_counts())\n",
        "print(\"NaN : \", df['mate_alcohol'].isnull().sum())"
      ],
      "execution_count": 286,
      "outputs": [
        {
          "output_type": "stream",
          "name": "stdout",
          "text": [
            "0.33    47\n",
            "1.00    12\n",
            "0.00     9\n",
            "0.66     2\n",
            "Name: mate_alcohol, dtype: int64\n",
            "NaN :  2\n"
          ]
        }
      ]
    },
    {
      "cell_type": "code",
      "metadata": {
        "colab": {
          "base_uri": "https://localhost:8080/"
        },
        "id": "xo8mWjfCpeSR",
        "outputId": "76de5bff-d9b8-45ee-efe1-dcfce3972c1b"
      },
      "source": [
        "# mean으로 결측치 채움\n",
        "df['mate_alcohol'] = df['mate_alcohol'].fillna(df['mate_alcohol'].mean())\n",
        "print(df['mate_alcohol'].value_counts())\n",
        "print(\"NaN : \", df['mate_alcohol'].isnull().sum())"
      ],
      "execution_count": 287,
      "outputs": [
        {
          "output_type": "stream",
          "name": "stdout",
          "text": [
            "0.330000    47\n",
            "1.000000    12\n",
            "0.000000     9\n",
            "0.411857     2\n",
            "0.660000     2\n",
            "Name: mate_alcohol, dtype: int64\n",
            "NaN :  0\n"
          ]
        }
      ]
    },
    {
      "cell_type": "markdown",
      "metadata": {
        "id": "Gqgpn10rpqOs"
      },
      "source": [
        "- mate_clean : 내 공간만 아니면 신경쓰이지 않는다, 공유하는 공간의 경우 신경쓰인다, 메이트의 공간까지 신경쓰인다"
      ]
    },
    {
      "cell_type": "code",
      "metadata": {
        "colab": {
          "base_uri": "https://localhost:8080/"
        },
        "id": "IIU9WylUputv",
        "outputId": "2c26157d-3f1d-4415-90bb-70923adb2aad"
      },
      "source": [
        "print(df['mate_clean'].value_counts())\n",
        "print(\"NaN : \", df['mate_clean'].isnull().sum())"
      ],
      "execution_count": 288,
      "outputs": [
        {
          "output_type": "stream",
          "name": "stdout",
          "text": [
            "공유하는 공간의 경우 신경쓰인다      50\n",
            "내 공간만 아니면 신경쓰이지 않는다    16\n",
            "메이트의 공간까지 신경쓰인다         5\n",
            "2                       1\n",
            "Name: mate_clean, dtype: int64\n",
            "NaN :  0\n"
          ]
        }
      ]
    },
    {
      "cell_type": "code",
      "metadata": {
        "colab": {
          "base_uri": "https://localhost:8080/"
        },
        "id": "4isUouqJqA92",
        "outputId": "db8d7824-cf79-4a24-c635-7b95e958683d"
      },
      "source": [
        "def func(x):\n",
        "  if '메이트의 공간까지 신경쓰인다' in str(x):\n",
        "    return 1\n",
        "  elif '공유하는 공간의 경우 신경쓰인다'in str(x):\n",
        "    return 0.5\n",
        "  elif '내 공간만 아니면 신경쓰이지 않는다' in str(x):\n",
        "    return 0\n",
        "  else:\n",
        "    return np.nan\n",
        "\n",
        "df['mate_clean'] = df['mate_clean'].apply(lambda x : func(x))\n",
        "print(df['mate_clean'].value_counts())\n",
        "print(\"NaN : \", df['mate_clean'].isnull().sum())"
      ],
      "execution_count": 289,
      "outputs": [
        {
          "output_type": "stream",
          "name": "stdout",
          "text": [
            "0.5    50\n",
            "0.0    16\n",
            "1.0     5\n",
            "Name: mate_clean, dtype: int64\n",
            "NaN :  1\n"
          ]
        }
      ]
    },
    {
      "cell_type": "code",
      "metadata": {
        "colab": {
          "base_uri": "https://localhost:8080/"
        },
        "id": "yaD3cSGFqYAn",
        "outputId": "82a3bda8-9f00-4335-d151-cac0d73881ab"
      },
      "source": [
        "# mean으로 결측치 채움\n",
        "df['mate_clean'] = df['mate_clean'].fillna(df['mate_clean'].mean())\n",
        "print(df['mate_clean'].value_counts())\n",
        "print(\"NaN : \", df['mate_clean'].isnull().sum())"
      ],
      "execution_count": 290,
      "outputs": [
        {
          "output_type": "stream",
          "name": "stdout",
          "text": [
            "0.500000    50\n",
            "0.000000    16\n",
            "1.000000     5\n",
            "0.422535     1\n",
            "Name: mate_clean, dtype: int64\n",
            "NaN :  0\n"
          ]
        }
      ]
    },
    {
      "cell_type": "markdown",
      "metadata": {
        "id": "sldCYKj3qsvm"
      },
      "source": [
        "- permission_to_enter : 본인이 없을 때 말없이 지인이 잠깐 출입해도 상관없다., 미리 말만 하면 지인이 출입해도 상관없다., 누구든 데려오면 안된다."
      ]
    },
    {
      "cell_type": "code",
      "metadata": {
        "colab": {
          "base_uri": "https://localhost:8080/"
        },
        "id": "brzEUVbXqtlr",
        "outputId": "7669040b-9675-4bef-a32e-60cb2a647c82"
      },
      "source": [
        "print(df['permission_to_enter'].value_counts())\n",
        "print(\"NaN : \", df['permission_to_enter'].isnull().sum())"
      ],
      "execution_count": 291,
      "outputs": [
        {
          "output_type": "stream",
          "name": "stdout",
          "text": [
            "미리 말만 하면 지인이 출입해도 상관없다.           56\n",
            "누구든 데려오면 안된다.                     10\n",
            "본인이 없을 때 말없이 지인이 잠깐 출입해도 상관없다.     6\n",
            "Name: permission_to_enter, dtype: int64\n",
            "NaN :  0\n"
          ]
        }
      ]
    },
    {
      "cell_type": "code",
      "metadata": {
        "colab": {
          "base_uri": "https://localhost:8080/"
        },
        "id": "01GW6r6ArI5F",
        "outputId": "a33f1478-a2ff-4e57-c020-74dba2384da8"
      },
      "source": [
        "def func(x):\n",
        "  if '누구든 데려오면 안된다.' in str(x):\n",
        "    return 1\n",
        "  elif '미리 말만 하면 지인이 출입해도 상관없다.'in str(x):\n",
        "    return 0.5\n",
        "  elif '본인이 없을 때 말없이 지인이 잠깐 출입해도 상관없다.' in str(x):\n",
        "    return 0\n",
        "  else:\n",
        "    return np.nan\n",
        "\n",
        "df['permission_to_enter'] = df['permission_to_enter'].apply(lambda x : func(x))\n",
        "print(df['permission_to_enter'].value_counts())\n",
        "print(\"NaN : \", df['permission_to_enter'].isnull().sum())"
      ],
      "execution_count": 292,
      "outputs": [
        {
          "output_type": "stream",
          "name": "stdout",
          "text": [
            "0.5    56\n",
            "1.0    10\n",
            "0.0     6\n",
            "Name: permission_to_enter, dtype: int64\n",
            "NaN :  0\n"
          ]
        }
      ]
    },
    {
      "cell_type": "markdown",
      "metadata": {
        "id": "t3HUzgnx8dPR"
      },
      "source": [
        "### 데이터 전처리 후 테이블 확인"
      ]
    },
    {
      "cell_type": "code",
      "metadata": {
        "colab": {
          "base_uri": "https://localhost:8080/"
        },
        "id": "j1vapL7R8k-8",
        "outputId": "a476c8de-f24f-4895-cba7-5ae886bef7b8"
      },
      "source": [
        "df.columns"
      ],
      "execution_count": 293,
      "outputs": [
        {
          "output_type": "execute_result",
          "data": {
            "text/plain": [
              "Index(['time', 'sex', 'age', 'mbti', 'user_smoking', 'mate_smoking',\n",
              "       'user_pet', 'user_bug_killer', 'mate_bug_killer', 'user_cooking',\n",
              "       'mate_cooking', 'eat_together', 'share_item', 'mate_alcohol',\n",
              "       'mate_clean', 'permission_to_enter', 'user_pet_dog', 'user_pet_cat',\n",
              "       'user_pet_reptie_fish', 'user_pet_rodent', 'user_pet_bird', 'mate_pet',\n",
              "       'mate_pet_dog', 'mate_pet_cat', 'mate_pet_reptie_fish',\n",
              "       'mate_pet_rodent', 'mate_pet_bird', 'air_like_airconditioner',\n",
              "       'air_night_airconditioner', 'air_like_heater', 'noise_talking',\n",
              "       'noise_music', 'noise_alarm'],\n",
              "      dtype='object')"
            ]
          },
          "metadata": {},
          "execution_count": 293
        }
      ]
    },
    {
      "cell_type": "code",
      "metadata": {
        "colab": {
          "base_uri": "https://localhost:8080/"
        },
        "id": "osisrxDV8qQj",
        "outputId": "63255a3f-76da-4276-d72d-e8a4b8f89fa9"
      },
      "source": [
        "df.info()"
      ],
      "execution_count": 294,
      "outputs": [
        {
          "output_type": "stream",
          "name": "stdout",
          "text": [
            "<class 'pandas.core.frame.DataFrame'>\n",
            "RangeIndex: 72 entries, 0 to 71\n",
            "Data columns (total 33 columns):\n",
            " #   Column                    Non-Null Count  Dtype         \n",
            "---  ------                    --------------  -----         \n",
            " 0   time                      72 non-null     datetime64[ns]\n",
            " 1   sex                       72 non-null     int64         \n",
            " 2   age                       72 non-null     float64       \n",
            " 3   mbti                      72 non-null     object        \n",
            " 4   user_smoking              72 non-null     int64         \n",
            " 5   mate_smoking              72 non-null     float64       \n",
            " 6   user_pet                  72 non-null     int64         \n",
            " 7   user_bug_killer           72 non-null     float64       \n",
            " 8   mate_bug_killer           72 non-null     int64         \n",
            " 9   user_cooking              72 non-null     int64         \n",
            " 10  mate_cooking              72 non-null     int64         \n",
            " 11  eat_together              72 non-null     int64         \n",
            " 12  share_item                72 non-null     float64       \n",
            " 13  mate_alcohol              72 non-null     float64       \n",
            " 14  mate_clean                72 non-null     float64       \n",
            " 15  permission_to_enter       72 non-null     float64       \n",
            " 16  user_pet_dog              72 non-null     int64         \n",
            " 17  user_pet_cat              72 non-null     int64         \n",
            " 18  user_pet_reptie_fish      72 non-null     int64         \n",
            " 19  user_pet_rodent           72 non-null     int64         \n",
            " 20  user_pet_bird             72 non-null     int64         \n",
            " 21  mate_pet                  72 non-null     float64       \n",
            " 22  mate_pet_dog              72 non-null     int64         \n",
            " 23  mate_pet_cat              72 non-null     int64         \n",
            " 24  mate_pet_reptie_fish      72 non-null     int64         \n",
            " 25  mate_pet_rodent           72 non-null     int64         \n",
            " 26  mate_pet_bird             72 non-null     int64         \n",
            " 27  air_like_airconditioner   72 non-null     int64         \n",
            " 28  air_night_airconditioner  72 non-null     int64         \n",
            " 29  air_like_heater           72 non-null     float64       \n",
            " 30  noise_talking             72 non-null     float64       \n",
            " 31  noise_music               72 non-null     float64       \n",
            " 32  noise_alarm               72 non-null     int64         \n",
            "dtypes: datetime64[ns](1), float64(11), int64(20), object(1)\n",
            "memory usage: 18.7+ KB\n"
          ]
        }
      ]
    },
    {
      "cell_type": "code",
      "metadata": {
        "colab": {
          "base_uri": "https://localhost:8080/",
          "height": 391
        },
        "id": "chHczIb88hKt",
        "outputId": "a7fc262a-8b6f-4003-917b-019a3a84c02e"
      },
      "source": [
        "df.head()"
      ],
      "execution_count": 295,
      "outputs": [
        {
          "output_type": "execute_result",
          "data": {
            "text/html": [
              "<div>\n",
              "<style scoped>\n",
              "    .dataframe tbody tr th:only-of-type {\n",
              "        vertical-align: middle;\n",
              "    }\n",
              "\n",
              "    .dataframe tbody tr th {\n",
              "        vertical-align: top;\n",
              "    }\n",
              "\n",
              "    .dataframe thead th {\n",
              "        text-align: right;\n",
              "    }\n",
              "</style>\n",
              "<table border=\"1\" class=\"dataframe\">\n",
              "  <thead>\n",
              "    <tr style=\"text-align: right;\">\n",
              "      <th></th>\n",
              "      <th>time</th>\n",
              "      <th>sex</th>\n",
              "      <th>age</th>\n",
              "      <th>mbti</th>\n",
              "      <th>user_smoking</th>\n",
              "      <th>mate_smoking</th>\n",
              "      <th>user_pet</th>\n",
              "      <th>user_bug_killer</th>\n",
              "      <th>mate_bug_killer</th>\n",
              "      <th>user_cooking</th>\n",
              "      <th>mate_cooking</th>\n",
              "      <th>eat_together</th>\n",
              "      <th>share_item</th>\n",
              "      <th>mate_alcohol</th>\n",
              "      <th>mate_clean</th>\n",
              "      <th>permission_to_enter</th>\n",
              "      <th>user_pet_dog</th>\n",
              "      <th>user_pet_cat</th>\n",
              "      <th>user_pet_reptie_fish</th>\n",
              "      <th>user_pet_rodent</th>\n",
              "      <th>user_pet_bird</th>\n",
              "      <th>mate_pet</th>\n",
              "      <th>mate_pet_dog</th>\n",
              "      <th>mate_pet_cat</th>\n",
              "      <th>mate_pet_reptie_fish</th>\n",
              "      <th>mate_pet_rodent</th>\n",
              "      <th>mate_pet_bird</th>\n",
              "      <th>air_like_airconditioner</th>\n",
              "      <th>air_night_airconditioner</th>\n",
              "      <th>air_like_heater</th>\n",
              "      <th>noise_talking</th>\n",
              "      <th>noise_music</th>\n",
              "      <th>noise_alarm</th>\n",
              "    </tr>\n",
              "  </thead>\n",
              "  <tbody>\n",
              "    <tr>\n",
              "      <th>0</th>\n",
              "      <td>2021-10-20 11:29:52</td>\n",
              "      <td>1</td>\n",
              "      <td>0.4</td>\n",
              "      <td>infp</td>\n",
              "      <td>0</td>\n",
              "      <td>0.0</td>\n",
              "      <td>0</td>\n",
              "      <td>0.573944</td>\n",
              "      <td>1</td>\n",
              "      <td>0</td>\n",
              "      <td>0</td>\n",
              "      <td>0</td>\n",
              "      <td>0.704225</td>\n",
              "      <td>0.411857</td>\n",
              "      <td>0.422535</td>\n",
              "      <td>1.0</td>\n",
              "      <td>0</td>\n",
              "      <td>0</td>\n",
              "      <td>0</td>\n",
              "      <td>0</td>\n",
              "      <td>0</td>\n",
              "      <td>0.5</td>\n",
              "      <td>1</td>\n",
              "      <td>1</td>\n",
              "      <td>0</td>\n",
              "      <td>0</td>\n",
              "      <td>0</td>\n",
              "      <td>0</td>\n",
              "      <td>0</td>\n",
              "      <td>0.5</td>\n",
              "      <td>0.0</td>\n",
              "      <td>0.0</td>\n",
              "      <td>0</td>\n",
              "    </tr>\n",
              "    <tr>\n",
              "      <th>1</th>\n",
              "      <td>2021-10-22 01:16:34</td>\n",
              "      <td>0</td>\n",
              "      <td>0.6</td>\n",
              "      <td>intp</td>\n",
              "      <td>0</td>\n",
              "      <td>0.0</td>\n",
              "      <td>0</td>\n",
              "      <td>0.750000</td>\n",
              "      <td>0</td>\n",
              "      <td>0</td>\n",
              "      <td>0</td>\n",
              "      <td>0</td>\n",
              "      <td>0.750000</td>\n",
              "      <td>0.330000</td>\n",
              "      <td>0.000000</td>\n",
              "      <td>0.5</td>\n",
              "      <td>0</td>\n",
              "      <td>0</td>\n",
              "      <td>0</td>\n",
              "      <td>0</td>\n",
              "      <td>0</td>\n",
              "      <td>0.5</td>\n",
              "      <td>1</td>\n",
              "      <td>1</td>\n",
              "      <td>0</td>\n",
              "      <td>0</td>\n",
              "      <td>0</td>\n",
              "      <td>1</td>\n",
              "      <td>0</td>\n",
              "      <td>0.0</td>\n",
              "      <td>0.0</td>\n",
              "      <td>0.0</td>\n",
              "      <td>0</td>\n",
              "    </tr>\n",
              "    <tr>\n",
              "      <th>2</th>\n",
              "      <td>2021-10-22 01:29:18</td>\n",
              "      <td>1</td>\n",
              "      <td>0.2</td>\n",
              "      <td>esfp</td>\n",
              "      <td>0</td>\n",
              "      <td>0.0</td>\n",
              "      <td>0</td>\n",
              "      <td>0.000000</td>\n",
              "      <td>1</td>\n",
              "      <td>1</td>\n",
              "      <td>0</td>\n",
              "      <td>0</td>\n",
              "      <td>0.750000</td>\n",
              "      <td>0.330000</td>\n",
              "      <td>0.500000</td>\n",
              "      <td>0.5</td>\n",
              "      <td>0</td>\n",
              "      <td>0</td>\n",
              "      <td>0</td>\n",
              "      <td>0</td>\n",
              "      <td>0</td>\n",
              "      <td>0.5</td>\n",
              "      <td>1</td>\n",
              "      <td>1</td>\n",
              "      <td>0</td>\n",
              "      <td>0</td>\n",
              "      <td>1</td>\n",
              "      <td>1</td>\n",
              "      <td>0</td>\n",
              "      <td>1.0</td>\n",
              "      <td>0.0</td>\n",
              "      <td>0.5</td>\n",
              "      <td>1</td>\n",
              "    </tr>\n",
              "    <tr>\n",
              "      <th>3</th>\n",
              "      <td>2021-10-22 01:31:02</td>\n",
              "      <td>0</td>\n",
              "      <td>0.2</td>\n",
              "      <td>0.5</td>\n",
              "      <td>0</td>\n",
              "      <td>0.0</td>\n",
              "      <td>0</td>\n",
              "      <td>1.000000</td>\n",
              "      <td>0</td>\n",
              "      <td>0</td>\n",
              "      <td>0</td>\n",
              "      <td>1</td>\n",
              "      <td>0.750000</td>\n",
              "      <td>0.000000</td>\n",
              "      <td>0.500000</td>\n",
              "      <td>0.5</td>\n",
              "      <td>0</td>\n",
              "      <td>0</td>\n",
              "      <td>0</td>\n",
              "      <td>0</td>\n",
              "      <td>0</td>\n",
              "      <td>1.0</td>\n",
              "      <td>0</td>\n",
              "      <td>0</td>\n",
              "      <td>0</td>\n",
              "      <td>0</td>\n",
              "      <td>0</td>\n",
              "      <td>0</td>\n",
              "      <td>0</td>\n",
              "      <td>0.5</td>\n",
              "      <td>0.0</td>\n",
              "      <td>0.0</td>\n",
              "      <td>0</td>\n",
              "    </tr>\n",
              "    <tr>\n",
              "      <th>4</th>\n",
              "      <td>2021-10-22 01:33:35</td>\n",
              "      <td>0</td>\n",
              "      <td>0.2</td>\n",
              "      <td>intp</td>\n",
              "      <td>0</td>\n",
              "      <td>0.0</td>\n",
              "      <td>0</td>\n",
              "      <td>0.750000</td>\n",
              "      <td>0</td>\n",
              "      <td>0</td>\n",
              "      <td>0</td>\n",
              "      <td>0</td>\n",
              "      <td>0.000000</td>\n",
              "      <td>1.000000</td>\n",
              "      <td>0.500000</td>\n",
              "      <td>0.5</td>\n",
              "      <td>0</td>\n",
              "      <td>0</td>\n",
              "      <td>0</td>\n",
              "      <td>0</td>\n",
              "      <td>0</td>\n",
              "      <td>1.0</td>\n",
              "      <td>0</td>\n",
              "      <td>0</td>\n",
              "      <td>0</td>\n",
              "      <td>0</td>\n",
              "      <td>0</td>\n",
              "      <td>0</td>\n",
              "      <td>0</td>\n",
              "      <td>0.0</td>\n",
              "      <td>0.0</td>\n",
              "      <td>0.0</td>\n",
              "      <td>1</td>\n",
              "    </tr>\n",
              "  </tbody>\n",
              "</table>\n",
              "</div>"
            ],
            "text/plain": [
              "                 time  sex  age  ... noise_talking  noise_music  noise_alarm\n",
              "0 2021-10-20 11:29:52    1  0.4  ...           0.0          0.0            0\n",
              "1 2021-10-22 01:16:34    0  0.6  ...           0.0          0.0            0\n",
              "2 2021-10-22 01:29:18    1  0.2  ...           0.0          0.5            1\n",
              "3 2021-10-22 01:31:02    0  0.2  ...           0.0          0.0            0\n",
              "4 2021-10-22 01:33:35    0  0.2  ...           0.0          0.0            1\n",
              "\n",
              "[5 rows x 33 columns]"
            ]
          },
          "metadata": {},
          "execution_count": 295
        }
      ]
    }
  ]
}