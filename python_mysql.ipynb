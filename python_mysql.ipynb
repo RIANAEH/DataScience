{
 "cells": [
  {
   "cell_type": "markdown",
   "id": "f8c7b968",
   "metadata": {},
   "source": [
    "# MySQL 연결\n",
    "> 개발환경 : Anaconda, Jupyter Notebook, Python, MySQL"
   ]
  },
  {
   "cell_type": "code",
   "execution_count": 3,
   "id": "3de11fee",
   "metadata": {},
   "outputs": [
    {
     "name": "stdout",
     "output_type": "stream",
     "text": [
      "Requirement already satisfied: pymysql in c:\\anaconda\\envs\\matching\\lib\\site-packages (1.0.2)\n",
      "Collecting pandas\n",
      "  Downloading pandas-1.3.4-cp38-cp38-win_amd64.whl (10.2 MB)\n",
      "Requirement already satisfied: python-dateutil>=2.7.3 in c:\\anaconda\\envs\\matching\\lib\\site-packages (from pandas) (2.8.2)\n",
      "Collecting pytz>=2017.3\n",
      "  Downloading pytz-2021.3-py2.py3-none-any.whl (503 kB)\n",
      "Collecting numpy>=1.17.3\n",
      "  Downloading numpy-1.21.3-cp38-cp38-win_amd64.whl (14.0 MB)\n",
      "Requirement already satisfied: six>=1.5 in c:\\anaconda\\envs\\matching\\lib\\site-packages (from python-dateutil>=2.7.3->pandas) (1.16.0)\n",
      "Installing collected packages: pytz, numpy, pandas\n",
      "Successfully installed numpy-1.21.3 pandas-1.3.4 pytz-2021.3\n",
      "Requirement already satisfied: numpy in c:\\anaconda\\envs\\matching\\lib\\site-packages (1.21.3)\n"
     ]
    }
   ],
   "source": [
    "!pip install pymysql"
   ]
  },
  {
   "cell_type": "code",
   "execution_count": 4,
   "id": "78c1b395",
   "metadata": {},
   "outputs": [],
   "source": [
    "import pymysql"
   ]
  },
  {
   "cell_type": "markdown",
   "id": "cd29dbf9",
   "metadata": {},
   "source": [
    "### TEST 데이터베이스에 studnets 테이블 생성\n",
    "\n",
    "``` mysql\n",
    "CREATE TABLE IF NOT EXISTS `students` (\n",
    "    id int(6) AUTO_INCREMENT,\n",
    "    name varchar(255) NOT NULL,\n",
    "    major varchar(255) NOT NULL,\n",
    "    PRIMARY KEY (id)\n",
    ");\n",
    "\n",
    "INSERT INTO students (name, major) VALUES\n",
    "    ('John', 'Music'),\n",
    "    ('Sarah', 'Art'),\n",
    "    ('Steve', 'Computer Science');\n",
    "```"
   ]
  },
  {
   "cell_type": "markdown",
   "id": "36fc7411",
   "metadata": {},
   "source": [
    "### SELCT"
   ]
  },
  {
   "cell_type": "code",
   "execution_count": 7,
   "id": "94259e44",
   "metadata": {},
   "outputs": [
    {
     "name": "stdout",
     "output_type": "stream",
     "text": [
      "(1, 'John', 'Music')\n",
      "(2, 'Sarah', 'Art')\n",
      "(3, 'Steve', 'Computer Science')\n"
     ]
    }
   ],
   "source": [
    "conn = pymysql.connect(host = '127.0.0.1', \n",
    "                       port = 3306, \n",
    "                       user = 'root', \n",
    "                       password = 'blackpink0808', \n",
    "                       db = 'TEST')\n",
    "\n",
    "cursor = conn.cursor()\n",
    "\n",
    "query = \"SELECT * FROM students\"\n",
    "cursor.execute(query)\n",
    "\n",
    "result = cursor.fetchall()\n",
    "# result = cursor.fetchone() : 상위 하나만 확인\n",
    "\n",
    "# print(result)\n",
    "for x in result:\n",
    "    print(x)"
   ]
  },
  {
   "cell_type": "markdown",
   "id": "4c2adc84",
   "metadata": {},
   "source": [
    "### INSERT - execute()"
   ]
  },
  {
   "cell_type": "code",
   "execution_count": 9,
   "id": "df08af5e",
   "metadata": {},
   "outputs": [
    {
     "data": {
      "text/plain": [
       "1"
      ]
     },
     "execution_count": 9,
     "metadata": {},
     "output_type": "execute_result"
    }
   ],
   "source": [
    "query = \"INSERT INTO students (name, major) VALUES (%s, %s)\"\n",
    "data = ('Emma', 'Movie')\n",
    "cursor.execute(query, data)\n",
    "\n",
    "conn.commit()"
   ]
  },
  {
   "cell_type": "code",
   "execution_count": 12,
   "id": "86715bcc",
   "metadata": {},
   "outputs": [
    {
     "name": "stdout",
     "output_type": "stream",
     "text": [
      "(1, 'John', 'Music')\n",
      "(2, 'Sarah', 'Art')\n",
      "(3, 'Steve', 'Computer Science')\n",
      "(4, 'Emma', 'Movie')\n"
     ]
    }
   ],
   "source": [
    "# 확인\n",
    "query = \"SELECT * FROM students\"\n",
    "cursor.execute(query)\n",
    "\n",
    "result = cursor.fetchall()\n",
    "\n",
    "for x in result:\n",
    "    print(x)"
   ]
  },
  {
   "cell_type": "markdown",
   "id": "45d84c7b",
   "metadata": {},
   "source": [
    "### INSERT - executemany()"
   ]
  },
  {
   "cell_type": "code",
   "execution_count": 13,
   "id": "8df8dd78",
   "metadata": {},
   "outputs": [],
   "source": [
    "query = \"INSERT INTO students (name, major) VALUES (%s, %s)\"\n",
    "data = [('Tom', 'Math'), ('Max', 'Statistics')]\n",
    "cursor.executemany(query, data)\n",
    "\n",
    "conn.commit()"
   ]
  },
  {
   "cell_type": "code",
   "execution_count": 14,
   "id": "bceaed42",
   "metadata": {},
   "outputs": [
    {
     "name": "stdout",
     "output_type": "stream",
     "text": [
      "(1, 'John', 'Music')\n",
      "(2, 'Sarah', 'Art')\n",
      "(3, 'Steve', 'Computer Science')\n",
      "(4, 'Emma', 'Movie')\n",
      "(5, 'Tom', 'Math')\n",
      "(6, 'Max', 'Statistics')\n"
     ]
    }
   ],
   "source": [
    "# 확인\n",
    "query = \"SELECT * FROM students\"\n",
    "cursor.execute(query)\n",
    "\n",
    "result = cursor.fetchall()\n",
    "\n",
    "for x in result:\n",
    "    print(x)"
   ]
  },
  {
   "cell_type": "markdown",
   "id": "5f93a70d",
   "metadata": {},
   "source": [
    "### UPDATE"
   ]
  },
  {
   "cell_type": "code",
   "execution_count": 17,
   "id": "5a5e251f",
   "metadata": {},
   "outputs": [],
   "source": [
    "query = \"UPDATE students SET name = 'Ben' WHERE id = 6\"\n",
    "cursor.execute(query)\n",
    "\n",
    "conn.commit()"
   ]
  },
  {
   "cell_type": "code",
   "execution_count": 18,
   "id": "bd4a7ac8",
   "metadata": {},
   "outputs": [
    {
     "name": "stdout",
     "output_type": "stream",
     "text": [
      "(1, 'John', 'Music')\n",
      "(2, 'Sarah', 'Art')\n",
      "(3, 'Steve', 'Computer Science')\n",
      "(4, 'Emma', 'Movie')\n",
      "(5, 'Tom', 'Math')\n",
      "(6, 'Ben', 'Statistics')\n"
     ]
    }
   ],
   "source": [
    "# 확인\n",
    "query = \"SELECT * FROM students\"\n",
    "cursor.execute(query)\n",
    "\n",
    "result = cursor.fetchall()\n",
    "\n",
    "for x in result:\n",
    "    print(x)"
   ]
  },
  {
   "cell_type": "markdown",
   "id": "97c1f9b7",
   "metadata": {},
   "source": [
    "### DELETE"
   ]
  },
  {
   "cell_type": "code",
   "execution_count": 19,
   "id": "a67cdcad",
   "metadata": {},
   "outputs": [],
   "source": [
    "query = \"DELETE FROM students WHERE id = 6\"\n",
    "cursor.execute(query)\n",
    "\n",
    "conn.commit()"
   ]
  },
  {
   "cell_type": "code",
   "execution_count": 20,
   "id": "07162695",
   "metadata": {},
   "outputs": [
    {
     "name": "stdout",
     "output_type": "stream",
     "text": [
      "(1, 'John', 'Music')\n",
      "(2, 'Sarah', 'Art')\n",
      "(3, 'Steve', 'Computer Science')\n",
      "(4, 'Emma', 'Movie')\n",
      "(5, 'Tom', 'Math')\n"
     ]
    }
   ],
   "source": [
    "# 확인\n",
    "query = \"SELECT * FROM students\"\n",
    "cursor.execute(query)\n",
    "\n",
    "result = cursor.fetchall()\n",
    "\n",
    "for x in result:\n",
    "    print(x)"
   ]
  },
  {
   "cell_type": "markdown",
   "id": "ea496528",
   "metadata": {},
   "source": [
    "### ROLLBACK"
   ]
  },
  {
   "cell_type": "code",
   "execution_count": 16,
   "id": "8ae3c58b",
   "metadata": {},
   "outputs": [],
   "source": [
    "conn.rollback()"
   ]
  },
  {
   "cell_type": "markdown",
   "id": "640fd8c1",
   "metadata": {},
   "source": [
    "### 연결 끊기"
   ]
  },
  {
   "cell_type": "code",
   "execution_count": 22,
   "id": "92bfb4f9",
   "metadata": {},
   "outputs": [],
   "source": [
    "conn.close()"
   ]
  }
 ],
 "metadata": {
  "kernelspec": {
   "display_name": "Python 3 (ipykernel)",
   "language": "python",
   "name": "python3"
  },
  "language_info": {
   "codemirror_mode": {
    "name": "ipython",
    "version": 3
   },
   "file_extension": ".py",
   "mimetype": "text/x-python",
   "name": "python",
   "nbconvert_exporter": "python",
   "pygments_lexer": "ipython3",
   "version": "3.8.12"
  }
 },
 "nbformat": 4,
 "nbformat_minor": 5
}
