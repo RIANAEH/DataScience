{
  "nbformat": 4,
  "nbformat_minor": 0,
  "metadata": {
    "colab": {
      "name": "for_mnm_matching_algorithm_v4.ipynb",
      "provenance": [],
      "collapsed_sections": []
    },
    "kernelspec": {
      "name": "python3",
      "display_name": "Python 3"
    },
    "language_info": {
      "name": "python"
    }
  },
  "cells": [
    {
      "cell_type": "markdown",
      "metadata": {
        "id": "3kefols1FOZP"
      },
      "source": [
        "# for_mnm_matching_algorithm\n",
        "> KNN 알고리즘을 mnm에 적합하게 직접 구현\n",
        "\n",
        "\n",
        "> mbti까지모두 적용\n"
      ]
    },
    {
      "cell_type": "markdown",
      "metadata": {
        "id": "GiFLO2lIJDrM"
      },
      "source": [
        "### 라이브러리 불러오기"
      ]
    },
    {
      "cell_type": "code",
      "metadata": {
        "id": "l7s2vOi_JBkt"
      },
      "source": [
        "import pandas as pd\n",
        "import numpy as np"
      ],
      "execution_count": 233,
      "outputs": []
    },
    {
      "cell_type": "markdown",
      "metadata": {
        "id": "IgJnx92pt9PG"
      },
      "source": [
        "### 설문조사 데이터 불러오기"
      ]
    },
    {
      "cell_type": "code",
      "metadata": {
        "colab": {
          "base_uri": "https://localhost:8080/",
          "height": 774
        },
        "id": "Tzdtl0NStO9M",
        "outputId": "5cec623c-a998-4e45-f314-3598b5a08820"
      },
      "source": [
        "df = pd.read_excel(\"하우스 메이트 설문결과.xlsx\")\n",
        "df.head()"
      ],
      "execution_count": 234,
      "outputs": [
        {
          "output_type": "execute_result",
          "data": {
            "text/html": [
              "<div>\n",
              "<style scoped>\n",
              "    .dataframe tbody tr th:only-of-type {\n",
              "        vertical-align: middle;\n",
              "    }\n",
              "\n",
              "    .dataframe tbody tr th {\n",
              "        vertical-align: top;\n",
              "    }\n",
              "\n",
              "    .dataframe thead th {\n",
              "        text-align: right;\n",
              "    }\n",
              "</style>\n",
              "<table border=\"1\" class=\"dataframe\">\n",
              "  <thead>\n",
              "    <tr style=\"text-align: right;\">\n",
              "      <th></th>\n",
              "      <th>TIMESTAMP</th>\n",
              "      <th>1. 성별</th>\n",
              "      <th>2. 나이</th>\n",
              "      <th>3. mbti</th>\n",
              "      <th>4. 흡연 유무</th>\n",
              "      <th>4-1. 원하는 메이트의 흡연여부</th>\n",
              "      <th>5. 반려동물과 같이 살 예정이다.</th>\n",
              "      <th>5-1. 반려동물을 키울 경우 어떤 동물인가?</th>\n",
              "      <th>5-2. 메이트의 반려동물 중 허용가능한 것은?</th>\n",
              "      <th>6. 난방/냉방 관련 문제</th>\n",
              "      <th>7. 벌레를 잡을 수 있는가? (바퀴벌레, 돈벌레, 지네 정도)</th>\n",
              "      <th>7-1. 원하는 메이트</th>\n",
              "      <th>8.집에서 밥을 먹을 경우의 식사 스타일</th>\n",
              "      <th>8-1. 메이트가 집에서 요리하는 게 불편한가요? (냄새 문제 등)</th>\n",
              "      <th>9. 선호하는 식사유형</th>\n",
              "      <th>10. 메이트와 물건을 공유해도 괜찮습니까?</th>\n",
              "      <th>11. 방내에서의 소음문제</th>\n",
              "      <th>12. 음주 문제</th>\n",
              "      <th>13. 정리정돈을 신경쓰는 정도</th>\n",
              "      <th>14. 지인 출입</th>\n",
              "    </tr>\n",
              "  </thead>\n",
              "  <tbody>\n",
              "    <tr>\n",
              "      <th>0</th>\n",
              "      <td>2021-10-20 11:29:52</td>\n",
              "      <td>여자</td>\n",
              "      <td>24 ~ 26</td>\n",
              "      <td>infp</td>\n",
              "      <td>비흡연자</td>\n",
              "      <td>비흡연자</td>\n",
              "      <td>아니다</td>\n",
              "      <td>NaN</td>\n",
              "      <td>고양이\\t강아지</td>\n",
              "      <td>절대 못잡는다</td>\n",
              "      <td>NaN</td>\n",
              "      <td>벌레를 잡을 수 있어야만 한다</td>\n",
              "      <td>직접 요리</td>\n",
              "      <td>NaN</td>\n",
              "      <td>그렇다</td>\n",
              "      <td>NaN</td>\n",
              "      <td>NaN</td>\n",
              "      <td>소음은 없었으면 좋겠다.</td>\n",
              "      <td>2</td>\n",
              "      <td>누구든 데려오면 안된다.</td>\n",
              "    </tr>\n",
              "    <tr>\n",
              "      <th>1</th>\n",
              "      <td>2021-10-22 01:16:34</td>\n",
              "      <td>남자</td>\n",
              "      <td>27 ~ 29</td>\n",
              "      <td>intp</td>\n",
              "      <td>비흡연자</td>\n",
              "      <td>비흡연자</td>\n",
              "      <td>아니다</td>\n",
              "      <td>NaN</td>\n",
              "      <td>고양이\\t강아지</td>\n",
              "      <td>더위를 많이 타서 에어컨을 일찍부터 튼다\\t여름에 항상 에어컨을 켜놓는다\\t과한 난...</td>\n",
              "      <td>시키면 잡을 수 있다</td>\n",
              "      <td>벌레를 못잡아도 상관없다</td>\n",
              "      <td>직접 요리</td>\n",
              "      <td>NaN</td>\n",
              "      <td>혼자 먹는 걸 선호한다</td>\n",
              "      <td>사용하기 전 허락을 받으면 괜찮다</td>\n",
              "      <td>신경쓰지 않는다.</td>\n",
              "      <td>메이트가 술주정만 하지 않으면 된다</td>\n",
              "      <td>내 공간만 아니면 신경쓰이지 않는다</td>\n",
              "      <td>미리 말만 하면 지인이 출입해도 상관없다.</td>\n",
              "    </tr>\n",
              "    <tr>\n",
              "      <th>2</th>\n",
              "      <td>2021-10-22 01:29:18</td>\n",
              "      <td>여자</td>\n",
              "      <td>20 ~ 23</td>\n",
              "      <td>esfp</td>\n",
              "      <td>비흡연자</td>\n",
              "      <td>비흡연자</td>\n",
              "      <td>아니다</td>\n",
              "      <td>NaN</td>\n",
              "      <td>고양이\\t강아지\\t조류</td>\n",
              "      <td>더위를 많이 타서 에어컨을 일찍부터 튼다\\t추위를 많이 타서 난방을 일찍부터 튼다\\...</td>\n",
              "      <td>절대 못잡는다</td>\n",
              "      <td>벌레를 잡을 수 있어야만 한다</td>\n",
              "      <td>외부 음식(포장, 배달)</td>\n",
              "      <td>NaN</td>\n",
              "      <td>혼자 먹는 걸 선호한다</td>\n",
              "      <td>사용하기 전 허락을 받으면 괜찮다</td>\n",
              "      <td>10분 이상의 동영상/음악 소리는 신경쓰인다\\t지속적인 알람소리는 신경쓰인다</td>\n",
              "      <td>메이트가 술주정만 하지 않으면 된다</td>\n",
              "      <td>공유하는 공간의 경우 신경쓰인다</td>\n",
              "      <td>미리 말만 하면 지인이 출입해도 상관없다.</td>\n",
              "    </tr>\n",
              "    <tr>\n",
              "      <th>3</th>\n",
              "      <td>2021-10-22 01:31:02</td>\n",
              "      <td>남자</td>\n",
              "      <td>20 ~ 23</td>\n",
              "      <td>모른다</td>\n",
              "      <td>비흡연자</td>\n",
              "      <td>비흡연자</td>\n",
              "      <td>아니다</td>\n",
              "      <td>NaN</td>\n",
              "      <td>어떠한 동물도 안된다.</td>\n",
              "      <td>NaN</td>\n",
              "      <td>잡는데 거리낌이 없다</td>\n",
              "      <td>벌레를 못잡아도 상관없다</td>\n",
              "      <td>직접 요리</td>\n",
              "      <td>NaN</td>\n",
              "      <td>같이 먹는 걸 선호한다</td>\n",
              "      <td>사용하기 전 허락을 받으면 괜찮다</td>\n",
              "      <td>신경쓰지 않는다.</td>\n",
              "      <td>메이트의 술 문제는 신경쓰지 않는다</td>\n",
              "      <td>공유하는 공간의 경우 신경쓰인다</td>\n",
              "      <td>미리 말만 하면 지인이 출입해도 상관없다.</td>\n",
              "    </tr>\n",
              "    <tr>\n",
              "      <th>4</th>\n",
              "      <td>2021-10-22 01:33:35</td>\n",
              "      <td>남자</td>\n",
              "      <td>20 ~ 23</td>\n",
              "      <td>intp</td>\n",
              "      <td>비흡연자</td>\n",
              "      <td>비흡연자</td>\n",
              "      <td>아니다</td>\n",
              "      <td>NaN</td>\n",
              "      <td>어떠한 동물도 안된다.</td>\n",
              "      <td>과한 난방은 답답해하는 편이다</td>\n",
              "      <td>시키면 잡을 수 있다</td>\n",
              "      <td>벌레를 못잡아도 상관없다</td>\n",
              "      <td>직접 요리</td>\n",
              "      <td>NaN</td>\n",
              "      <td>혼자 먹는 걸 선호한다</td>\n",
              "      <td>괜찮지 않다(안된다)</td>\n",
              "      <td>지속적인 알람소리는 신경쓰인다</td>\n",
              "      <td>메이트가 술 냄새를 풍기는 것은 싫다\\t메이트가 술을 많이 마신 것 같은 모습을 보...</td>\n",
              "      <td>공유하는 공간의 경우 신경쓰인다</td>\n",
              "      <td>미리 말만 하면 지인이 출입해도 상관없다.</td>\n",
              "    </tr>\n",
              "  </tbody>\n",
              "</table>\n",
              "</div>"
            ],
            "text/plain": [
              "            TIMESTAMP 1. 성별  ...    13. 정리정돈을 신경쓰는 정도                14. 지인 출입\n",
              "0 2021-10-20 11:29:52    여자  ...                    2            누구든 데려오면 안된다.\n",
              "1 2021-10-22 01:16:34    남자  ...  내 공간만 아니면 신경쓰이지 않는다  미리 말만 하면 지인이 출입해도 상관없다.\n",
              "2 2021-10-22 01:29:18    여자  ...    공유하는 공간의 경우 신경쓰인다  미리 말만 하면 지인이 출입해도 상관없다.\n",
              "3 2021-10-22 01:31:02    남자  ...    공유하는 공간의 경우 신경쓰인다  미리 말만 하면 지인이 출입해도 상관없다.\n",
              "4 2021-10-22 01:33:35    남자  ...    공유하는 공간의 경우 신경쓰인다  미리 말만 하면 지인이 출입해도 상관없다.\n",
              "\n",
              "[5 rows x 20 columns]"
            ]
          },
          "metadata": {},
          "execution_count": 234
        }
      ]
    },
    {
      "cell_type": "code",
      "metadata": {
        "colab": {
          "base_uri": "https://localhost:8080/"
        },
        "id": "GwnbKh4Ou7ZC",
        "outputId": "f655bdbf-c0c6-46f6-e725-af01c6db3932"
      },
      "source": [
        "df.info()"
      ],
      "execution_count": 235,
      "outputs": [
        {
          "output_type": "stream",
          "name": "stdout",
          "text": [
            "<class 'pandas.core.frame.DataFrame'>\n",
            "RangeIndex: 72 entries, 0 to 71\n",
            "Data columns (total 20 columns):\n",
            " #   Column                                 Non-Null Count  Dtype         \n",
            "---  ------                                 --------------  -----         \n",
            " 0   TIMESTAMP                              72 non-null     datetime64[ns]\n",
            " 1   1. 성별                                  72 non-null     object        \n",
            " 2   2. 나이                                  72 non-null     object        \n",
            " 3   3. mbti                                72 non-null     object        \n",
            " 4   4. 흡연 유무                               72 non-null     object        \n",
            " 5   4-1. 원하는 메이트의 흡연여부                     72 non-null     object        \n",
            " 6   5. 반려동물과 같이 살 예정이다.                    72 non-null     object        \n",
            " 7   5-1. 반려동물을 키울 경우 어떤 동물인가?              15 non-null     object        \n",
            " 8   5-2. 메이트의 반려동물 중 허용가능한 것은?             72 non-null     object        \n",
            " 9   6. 난방/냉방 관련 문제                         71 non-null     object        \n",
            " 10  7. 벌레를 잡을 수 있는가? (바퀴벌레, 돈벌레, 지네 정도)    71 non-null     object        \n",
            " 11  7-1. 원하는 메이트                           72 non-null     object        \n",
            " 12  8.집에서 밥을 먹을 경우의 식사 스타일                 72 non-null     object        \n",
            " 13  8-1. 메이트가 집에서 요리하는 게 불편한가요? (냄새 문제 등)  64 non-null     object        \n",
            " 14  9. 선호하는 식사유형                           72 non-null     object        \n",
            " 15  10. 메이트와 물건을 공유해도 괜찮습니까?               71 non-null     object        \n",
            " 16  11. 방내에서의 소음문제                         70 non-null     object        \n",
            " 17  12. 음주 문제                              71 non-null     object        \n",
            " 18  13. 정리정돈을 신경쓰는 정도                      72 non-null     object        \n",
            " 19  14. 지인 출입                              72 non-null     object        \n",
            "dtypes: datetime64[ns](1), object(19)\n",
            "memory usage: 11.4+ KB\n"
          ]
        }
      ]
    },
    {
      "cell_type": "markdown",
      "metadata": {
        "id": "c-SOep4iL5Oc"
      },
      "source": [
        "### 컬럼 이름 변경\n",
        "- 컬럼 이름을 데이터베이스 테이블 명세서에 맞춰 변경한다.\n",
        "- time 컬럼을 제외하면 총 19개의 컬럼을 가진다."
      ]
    },
    {
      "cell_type": "code",
      "metadata": {
        "colab": {
          "base_uri": "https://localhost:8080/",
          "height": 1000
        },
        "id": "N3nEESWVKE5N",
        "outputId": "58ba4717-f47d-46c9-951c-15e947495c31"
      },
      "source": [
        "df.columns = ['time', 'sex', 'age', 'mbti', 'user_smoking', 'mate_smoking', 'user_pet', 'user_pet_category', 'mate_pet_category', \n",
        "              'air', 'user_bug_killer', 'mate_bug_killer', 'user_cooking', 'mate_cooking', 'eat_together', 'share_item', 'noise', 'mate_alcohol', \n",
        "              'mate_clean', 'permission_to_enter']\n",
        "df.head()"
      ],
      "execution_count": 236,
      "outputs": [
        {
          "output_type": "execute_result",
          "data": {
            "text/html": [
              "<div>\n",
              "<style scoped>\n",
              "    .dataframe tbody tr th:only-of-type {\n",
              "        vertical-align: middle;\n",
              "    }\n",
              "\n",
              "    .dataframe tbody tr th {\n",
              "        vertical-align: top;\n",
              "    }\n",
              "\n",
              "    .dataframe thead th {\n",
              "        text-align: right;\n",
              "    }\n",
              "</style>\n",
              "<table border=\"1\" class=\"dataframe\">\n",
              "  <thead>\n",
              "    <tr style=\"text-align: right;\">\n",
              "      <th></th>\n",
              "      <th>time</th>\n",
              "      <th>sex</th>\n",
              "      <th>age</th>\n",
              "      <th>mbti</th>\n",
              "      <th>user_smoking</th>\n",
              "      <th>mate_smoking</th>\n",
              "      <th>user_pet</th>\n",
              "      <th>user_pet_category</th>\n",
              "      <th>mate_pet_category</th>\n",
              "      <th>air</th>\n",
              "      <th>user_bug_killer</th>\n",
              "      <th>mate_bug_killer</th>\n",
              "      <th>user_cooking</th>\n",
              "      <th>mate_cooking</th>\n",
              "      <th>eat_together</th>\n",
              "      <th>share_item</th>\n",
              "      <th>noise</th>\n",
              "      <th>mate_alcohol</th>\n",
              "      <th>mate_clean</th>\n",
              "      <th>permission_to_enter</th>\n",
              "    </tr>\n",
              "  </thead>\n",
              "  <tbody>\n",
              "    <tr>\n",
              "      <th>0</th>\n",
              "      <td>2021-10-20 11:29:52</td>\n",
              "      <td>여자</td>\n",
              "      <td>24 ~ 26</td>\n",
              "      <td>infp</td>\n",
              "      <td>비흡연자</td>\n",
              "      <td>비흡연자</td>\n",
              "      <td>아니다</td>\n",
              "      <td>NaN</td>\n",
              "      <td>고양이\\t강아지</td>\n",
              "      <td>절대 못잡는다</td>\n",
              "      <td>NaN</td>\n",
              "      <td>벌레를 잡을 수 있어야만 한다</td>\n",
              "      <td>직접 요리</td>\n",
              "      <td>NaN</td>\n",
              "      <td>그렇다</td>\n",
              "      <td>NaN</td>\n",
              "      <td>NaN</td>\n",
              "      <td>소음은 없었으면 좋겠다.</td>\n",
              "      <td>2</td>\n",
              "      <td>누구든 데려오면 안된다.</td>\n",
              "    </tr>\n",
              "    <tr>\n",
              "      <th>1</th>\n",
              "      <td>2021-10-22 01:16:34</td>\n",
              "      <td>남자</td>\n",
              "      <td>27 ~ 29</td>\n",
              "      <td>intp</td>\n",
              "      <td>비흡연자</td>\n",
              "      <td>비흡연자</td>\n",
              "      <td>아니다</td>\n",
              "      <td>NaN</td>\n",
              "      <td>고양이\\t강아지</td>\n",
              "      <td>더위를 많이 타서 에어컨을 일찍부터 튼다\\t여름에 항상 에어컨을 켜놓는다\\t과한 난...</td>\n",
              "      <td>시키면 잡을 수 있다</td>\n",
              "      <td>벌레를 못잡아도 상관없다</td>\n",
              "      <td>직접 요리</td>\n",
              "      <td>NaN</td>\n",
              "      <td>혼자 먹는 걸 선호한다</td>\n",
              "      <td>사용하기 전 허락을 받으면 괜찮다</td>\n",
              "      <td>신경쓰지 않는다.</td>\n",
              "      <td>메이트가 술주정만 하지 않으면 된다</td>\n",
              "      <td>내 공간만 아니면 신경쓰이지 않는다</td>\n",
              "      <td>미리 말만 하면 지인이 출입해도 상관없다.</td>\n",
              "    </tr>\n",
              "    <tr>\n",
              "      <th>2</th>\n",
              "      <td>2021-10-22 01:29:18</td>\n",
              "      <td>여자</td>\n",
              "      <td>20 ~ 23</td>\n",
              "      <td>esfp</td>\n",
              "      <td>비흡연자</td>\n",
              "      <td>비흡연자</td>\n",
              "      <td>아니다</td>\n",
              "      <td>NaN</td>\n",
              "      <td>고양이\\t강아지\\t조류</td>\n",
              "      <td>더위를 많이 타서 에어컨을 일찍부터 튼다\\t추위를 많이 타서 난방을 일찍부터 튼다\\...</td>\n",
              "      <td>절대 못잡는다</td>\n",
              "      <td>벌레를 잡을 수 있어야만 한다</td>\n",
              "      <td>외부 음식(포장, 배달)</td>\n",
              "      <td>NaN</td>\n",
              "      <td>혼자 먹는 걸 선호한다</td>\n",
              "      <td>사용하기 전 허락을 받으면 괜찮다</td>\n",
              "      <td>10분 이상의 동영상/음악 소리는 신경쓰인다\\t지속적인 알람소리는 신경쓰인다</td>\n",
              "      <td>메이트가 술주정만 하지 않으면 된다</td>\n",
              "      <td>공유하는 공간의 경우 신경쓰인다</td>\n",
              "      <td>미리 말만 하면 지인이 출입해도 상관없다.</td>\n",
              "    </tr>\n",
              "    <tr>\n",
              "      <th>3</th>\n",
              "      <td>2021-10-22 01:31:02</td>\n",
              "      <td>남자</td>\n",
              "      <td>20 ~ 23</td>\n",
              "      <td>모른다</td>\n",
              "      <td>비흡연자</td>\n",
              "      <td>비흡연자</td>\n",
              "      <td>아니다</td>\n",
              "      <td>NaN</td>\n",
              "      <td>어떠한 동물도 안된다.</td>\n",
              "      <td>NaN</td>\n",
              "      <td>잡는데 거리낌이 없다</td>\n",
              "      <td>벌레를 못잡아도 상관없다</td>\n",
              "      <td>직접 요리</td>\n",
              "      <td>NaN</td>\n",
              "      <td>같이 먹는 걸 선호한다</td>\n",
              "      <td>사용하기 전 허락을 받으면 괜찮다</td>\n",
              "      <td>신경쓰지 않는다.</td>\n",
              "      <td>메이트의 술 문제는 신경쓰지 않는다</td>\n",
              "      <td>공유하는 공간의 경우 신경쓰인다</td>\n",
              "      <td>미리 말만 하면 지인이 출입해도 상관없다.</td>\n",
              "    </tr>\n",
              "    <tr>\n",
              "      <th>4</th>\n",
              "      <td>2021-10-22 01:33:35</td>\n",
              "      <td>남자</td>\n",
              "      <td>20 ~ 23</td>\n",
              "      <td>intp</td>\n",
              "      <td>비흡연자</td>\n",
              "      <td>비흡연자</td>\n",
              "      <td>아니다</td>\n",
              "      <td>NaN</td>\n",
              "      <td>어떠한 동물도 안된다.</td>\n",
              "      <td>과한 난방은 답답해하는 편이다</td>\n",
              "      <td>시키면 잡을 수 있다</td>\n",
              "      <td>벌레를 못잡아도 상관없다</td>\n",
              "      <td>직접 요리</td>\n",
              "      <td>NaN</td>\n",
              "      <td>혼자 먹는 걸 선호한다</td>\n",
              "      <td>괜찮지 않다(안된다)</td>\n",
              "      <td>지속적인 알람소리는 신경쓰인다</td>\n",
              "      <td>메이트가 술 냄새를 풍기는 것은 싫다\\t메이트가 술을 많이 마신 것 같은 모습을 보...</td>\n",
              "      <td>공유하는 공간의 경우 신경쓰인다</td>\n",
              "      <td>미리 말만 하면 지인이 출입해도 상관없다.</td>\n",
              "    </tr>\n",
              "  </tbody>\n",
              "</table>\n",
              "</div>"
            ],
            "text/plain": [
              "                 time sex  ...           mate_clean      permission_to_enter\n",
              "0 2021-10-20 11:29:52  여자  ...                    2            누구든 데려오면 안된다.\n",
              "1 2021-10-22 01:16:34  남자  ...  내 공간만 아니면 신경쓰이지 않는다  미리 말만 하면 지인이 출입해도 상관없다.\n",
              "2 2021-10-22 01:29:18  여자  ...    공유하는 공간의 경우 신경쓰인다  미리 말만 하면 지인이 출입해도 상관없다.\n",
              "3 2021-10-22 01:31:02  남자  ...    공유하는 공간의 경우 신경쓰인다  미리 말만 하면 지인이 출입해도 상관없다.\n",
              "4 2021-10-22 01:33:35  남자  ...    공유하는 공간의 경우 신경쓰인다  미리 말만 하면 지인이 출입해도 상관없다.\n",
              "\n",
              "[5 rows x 20 columns]"
            ]
          },
          "metadata": {},
          "execution_count": 236
        }
      ]
    },
    {
      "cell_type": "markdown",
      "metadata": {
        "id": "yid007nxNClo"
      },
      "source": [
        "### 컬럼 설명\n",
        "- sex : 여자, 남자\n",
        "- age : 10대, 20 ~ 23, 24 ~ 26, 27 ~ 29, 30대, 40대\n",
        "- mbti : 따로 처리 필요\n",
        "- user_smoking : 흡연자, 비흡연자\n",
        "- mate_smoking : 흡연자, 비흡연자, 상관없음\n",
        "  - 상관없음의 경우 해당 컬럼을 사용하지 않는 경우와 중간값을 주는 두가지의 방법을 사용할 수 있다.\n",
        "- user_pet : 그렇다, 아니다\n",
        "- user_pet_category : 강아지, 고양이, '파충류, 어류', 설치류, 조류, '기타'\n",
        "  - \n",
        "- mate_pet_category : 어떠한 동물도 안된다., 어떤 동물이든 괜찮다., 고양이, 강아지, '파충류, 어류', 설치류, 조류\n",
        "  - 어떠한 동물도 안된다. : user_pet == '그렇다' 일 경우를 제외한다.\n",
        "  - 어떤 동물이든 괜찮다. : \n",
        "- air : 더위를 많이 타서 에어컨을 일찍부터 튼다, 여름에 항상 에어컨을 켜놓는다 = air_like_airconditionner / 에어컨을 틀고 못잔다 = air_night_airconditioner / 추위를 많이 타서 난방을 일찍부터 튼다, 과한 난방은 답답해하는 편이다 = air_like_heater / 해당하는 상황 없음 = air = none\n",
        "- user_bug_killer : 잡는데 거리낌이 없다, 시키면 잡을 수 있다, 절대 못잡는다\n",
        "- mate_bug_killer : 벌레를 잡을 수 있어야 한다, 벌레를 못잡아도 상관없다\n",
        "- user_cooking : 직접 요리, 외부 음식(포장, 배달)\n",
        "- mate_cooking : 불편하다, 신경쓰지 않는다(불편하지 않다)\n",
        "- eat_together : 혼자 먹는 걸 선호한다, 같이 먹는 걸 선호한다\n",
        "- shre_item : 말 안하고 사용해도 괜찮다, 사용하기 전 허락을 받으면 괜찮다, 괜찮지 않다(안된다)\n",
        "- noise : 신경쓰지 않는다. = noise_none / 10분 이상의 말소리(통화/게임)은 신경쓰인다, 10분 이전의 말소리(통화/게임)도 신경쓰인다 = noise_talking / 10분 이상의 동영상/음악 소리는 신경쓰인다, 10분 이전의 동영상/음악 소리도 신경쓰인다 = noise_music / 지속적인 알람소리는 신경쓰인다 = noise_alarm\n",
        "- mate_alcohol : 메이트의 술 문제는 신경쓰지 않는다, 메이트가 술 냄새를 풍기는 것은 싫다, 메이트가 술을 많이 마신 것 같은 모습을 보이면 싫다, 메이트가 술주정만 하지 않으면 된다\n",
        "- mate_clean : 내 공간만 아니면 신경쓰이지 않는다, 공유하는 공간의 경우 신경쓰인다, 메이트의 공간까지 신경쓰인다\n",
        "- permission_to_enter : 본인이 없을 때 말없이 지인이 잠깐 출입해도 상관없다., 미리 말만 하면 지인이 출입해도 상관없다., 누구든 데려오면 안된다."
      ]
    },
    {
      "cell_type": "code",
      "metadata": {
        "colab": {
          "base_uri": "https://localhost:8080/"
        },
        "id": "5qwdnI8l_dwC",
        "outputId": "b941913f-9676-4ee2-d3f4-cbb8d951ef4c"
      },
      "source": [
        "df.isnull().sum()"
      ],
      "execution_count": 237,
      "outputs": [
        {
          "output_type": "execute_result",
          "data": {
            "text/plain": [
              "time                    0\n",
              "sex                     0\n",
              "age                     0\n",
              "mbti                    0\n",
              "user_smoking            0\n",
              "mate_smoking            0\n",
              "user_pet                0\n",
              "user_pet_category      57\n",
              "mate_pet_category       0\n",
              "air                     1\n",
              "user_bug_killer         1\n",
              "mate_bug_killer         0\n",
              "user_cooking            0\n",
              "mate_cooking            8\n",
              "eat_together            0\n",
              "share_item              1\n",
              "noise                   2\n",
              "mate_alcohol            1\n",
              "mate_clean              0\n",
              "permission_to_enter     0\n",
              "dtype: int64"
            ]
          },
          "metadata": {},
          "execution_count": 237
        }
      ]
    },
    {
      "cell_type": "markdown",
      "metadata": {
        "id": "RVBdJgMB5H2_"
      },
      "source": [
        "### 컬럼별 데이터 전처리\n",
        "- 컬럼 분리\n",
        "- 데이터를 0~1사이의 숫자로 변환"
      ]
    },
    {
      "cell_type": "markdown",
      "metadata": {
        "id": "_tcwD0uX9pW0"
      },
      "source": [
        "- sex"
      ]
    },
    {
      "cell_type": "code",
      "metadata": {
        "colab": {
          "base_uri": "https://localhost:8080/"
        },
        "id": "pMbuT9BG90kG",
        "outputId": "b5885f06-6138-4f1a-ea90-9f16e5c5126c"
      },
      "source": [
        "print(df['sex'].value_counts())\n",
        "print(\"NaN : \", df['sex'].isnull().sum())"
      ],
      "execution_count": 238,
      "outputs": [
        {
          "output_type": "stream",
          "name": "stdout",
          "text": [
            "여자    54\n",
            "남자    18\n",
            "Name: sex, dtype: int64\n",
            "NaN :  0\n"
          ]
        }
      ]
    },
    {
      "cell_type": "code",
      "metadata": {
        "colab": {
          "base_uri": "https://localhost:8080/"
        },
        "id": "WmCrEN_q9rDS",
        "outputId": "f9d905be-f564-468e-aad4-29fc74e25ed2"
      },
      "source": [
        "df['sex'] = df['sex'].apply(lambda x : 1 if str(x) == '여자' else 0)\n",
        "print(df['sex'].value_counts())\n",
        "print(\"NaN : \", df['sex'].isnull().sum())"
      ],
      "execution_count": 239,
      "outputs": [
        {
          "output_type": "stream",
          "name": "stdout",
          "text": [
            "1    54\n",
            "0    18\n",
            "Name: sex, dtype: int64\n",
            "NaN :  0\n"
          ]
        }
      ]
    },
    {
      "cell_type": "markdown",
      "metadata": {
        "id": "J3LbEmNl9_xR"
      },
      "source": [
        "- age"
      ]
    },
    {
      "cell_type": "code",
      "metadata": {
        "colab": {
          "base_uri": "https://localhost:8080/"
        },
        "id": "6G1wJtEh99Q9",
        "outputId": "6473bd05-6201-474d-a92c-b949d7870032"
      },
      "source": [
        "print(df['age'].value_counts())\n",
        "print(\"NaN : \", df['age'].isnull().sum())"
      ],
      "execution_count": 240,
      "outputs": [
        {
          "output_type": "stream",
          "name": "stdout",
          "text": [
            "24 ~ 26    32\n",
            "20 ~ 23    26\n",
            "27 ~ 29     7\n",
            "30대         4\n",
            "10대         3\n",
            "Name: age, dtype: int64\n",
            "NaN :  0\n"
          ]
        }
      ]
    },
    {
      "cell_type": "code",
      "metadata": {
        "colab": {
          "base_uri": "https://localhost:8080/"
        },
        "id": "P02682K2-E9R",
        "outputId": "12d9b3be-f784-4c02-eea6-854db0b9aaa2"
      },
      "source": [
        "def func(x):\n",
        "  if '40대 이후' == str(x):\n",
        "    return 1\n",
        "  elif '30대' == str(x):\n",
        "    return 0.8\n",
        "  elif '27 ~ 29' == str(x):\n",
        "    return 0.6\n",
        "  elif '24 ~ 26' == str(x):\n",
        "    return 0.4\n",
        "  elif '20 ~ 23' == str(x):\n",
        "    return 0.2\n",
        "  elif '10대' == str(x):\n",
        "    return 0\n",
        "  else:\n",
        "    return np.nan\n",
        "\n",
        "df['age'] = df['age'].apply(lambda x : func(x))\n",
        "print(df['age'].value_counts())\n",
        "print(\"NaN : \", df['age'].isnull().sum())"
      ],
      "execution_count": 241,
      "outputs": [
        {
          "output_type": "stream",
          "name": "stdout",
          "text": [
            "0.4    32\n",
            "0.2    26\n",
            "0.6     7\n",
            "0.8     4\n",
            "0.0     3\n",
            "Name: age, dtype: int64\n",
            "NaN :  0\n"
          ]
        }
      ]
    },
    {
      "cell_type": "markdown",
      "metadata": {
        "id": "pkd3oYWmrhaB"
      },
      "source": [
        "- user_smoking : 흡연자, 비흡연자\n",
        "- mate_smoking : 흡연자, 비흡연자, 상관없음\n",
        "  - 상관없음의 경우 해당 컬럼을 사용하지 않는 경우와 중간값을 주는 두가지의 방법을 사용할 수 있다."
      ]
    },
    {
      "cell_type": "code",
      "metadata": {
        "colab": {
          "base_uri": "https://localhost:8080/"
        },
        "id": "wTNKavySriew",
        "outputId": "b119bd7b-4913-4768-f4ca-92f406a9061d"
      },
      "source": [
        "print(df['user_smoking'].value_counts())\n",
        "print(\"NaN : \", df['user_smoking'].isnull().sum())"
      ],
      "execution_count": 242,
      "outputs": [
        {
          "output_type": "stream",
          "name": "stdout",
          "text": [
            "비흡연자    64\n",
            "흡연자      8\n",
            "Name: user_smoking, dtype: int64\n",
            "NaN :  0\n"
          ]
        }
      ]
    },
    {
      "cell_type": "code",
      "metadata": {
        "colab": {
          "base_uri": "https://localhost:8080/"
        },
        "id": "aUGywn8irz3i",
        "outputId": "ca636f18-b57b-421e-f29f-6b291d26f572"
      },
      "source": [
        "df['user_smoking'] = df['user_smoking'].apply(lambda x : 1 if str(x) == '흡연자' else 0)\n",
        "print(df['user_smoking'].value_counts())\n",
        "print(\"NaN : \", df['user_smoking'].isnull().sum())"
      ],
      "execution_count": 243,
      "outputs": [
        {
          "output_type": "stream",
          "name": "stdout",
          "text": [
            "0    64\n",
            "1     8\n",
            "Name: user_smoking, dtype: int64\n",
            "NaN :  0\n"
          ]
        }
      ]
    },
    {
      "cell_type": "code",
      "metadata": {
        "colab": {
          "base_uri": "https://localhost:8080/"
        },
        "id": "9n0HXwKGt6iU",
        "outputId": "5473864f-fd92-462b-b6c5-6176bdc877bc"
      },
      "source": [
        "print(df['mate_smoking'].value_counts())\n",
        "print(\"NaN : \", df['mate_smoking'].isnull().sum())"
      ],
      "execution_count": 244,
      "outputs": [
        {
          "output_type": "stream",
          "name": "stdout",
          "text": [
            "비흡연자    58\n",
            "상관없음    11\n",
            "흡연자      3\n",
            "Name: mate_smoking, dtype: int64\n",
            "NaN :  0\n"
          ]
        }
      ]
    },
    {
      "cell_type": "code",
      "metadata": {
        "colab": {
          "base_uri": "https://localhost:8080/"
        },
        "id": "xMqI7KSgtZsM",
        "outputId": "e1963105-475b-46d7-da75-04d7568e3c57"
      },
      "source": [
        "def func(x):\n",
        "  if '흡연자' == str(x):\n",
        "    return 1\n",
        "  elif '상관없음'== str(x):\n",
        "    return 0.5\n",
        "  elif '비흡연자' == str(x):\n",
        "    return 0\n",
        "  else:\n",
        "    return np.nan\n",
        "\n",
        "df['mate_smoking'] = df['mate_smoking'].apply(lambda x : func(x))\n",
        "print(df['mate_smoking'].value_counts())\n",
        "print(\"NaN : \", df['mate_smoking'].isnull().sum())"
      ],
      "execution_count": 245,
      "outputs": [
        {
          "output_type": "stream",
          "name": "stdout",
          "text": [
            "0.0    58\n",
            "0.5    11\n",
            "1.0     3\n",
            "Name: mate_smoking, dtype: int64\n",
            "NaN :  0\n"
          ]
        }
      ]
    },
    {
      "cell_type": "markdown",
      "metadata": {
        "id": "KJqnpwSQu2cA"
      },
      "source": [
        "- user_pet : 그렇다, 아니다\n",
        "- user_pet_category : 강아지, 고양이, '파충류, 어류', 설치류, 조류, '기타'\n",
        "  - \n",
        "- mate_pet_category : 어떠한 동물도 안된다., 어떤 동물이든 괜찮다., 고양이, 강아지, '파충류, 어류', 설치류, 조류\n",
        "  - 어떠한 동물도 안된다. : user_pet == '그렇다' 일 경우를 제외한다.\n",
        "  - 어떤 동물이든 괜찮다. : "
      ]
    },
    {
      "cell_type": "code",
      "metadata": {
        "colab": {
          "base_uri": "https://localhost:8080/"
        },
        "id": "NvHWaiPau3VG",
        "outputId": "787fb415-37a2-455c-cf8b-05926cac7bf2"
      },
      "source": [
        "print(df['user_pet'].value_counts())\n",
        "print(\"NaN : \", df['user_pet'].isnull().sum())"
      ],
      "execution_count": 246,
      "outputs": [
        {
          "output_type": "stream",
          "name": "stdout",
          "text": [
            "아니다    60\n",
            "그렇다    12\n",
            "Name: user_pet, dtype: int64\n",
            "NaN :  0\n"
          ]
        }
      ]
    },
    {
      "cell_type": "code",
      "metadata": {
        "colab": {
          "base_uri": "https://localhost:8080/"
        },
        "id": "RYV4zT-y03WF",
        "outputId": "6899bf63-3f7c-448b-fd98-5cef2664e991"
      },
      "source": [
        "df['user_pet'] = df['user_pet'].apply(lambda x : 1 if str(x) == '그렇다' else 0)\n",
        "print(df['user_pet'].value_counts())\n",
        "print(\"NaN : \", df['user_pet'].isnull().sum())"
      ],
      "execution_count": 247,
      "outputs": [
        {
          "output_type": "stream",
          "name": "stdout",
          "text": [
            "0    60\n",
            "1    12\n",
            "Name: user_pet, dtype: int64\n",
            "NaN :  0\n"
          ]
        }
      ]
    },
    {
      "cell_type": "markdown",
      "metadata": {
        "id": "kZjw6vtE1LeQ"
      },
      "source": [
        "- user_pet_category 컬럼을 분리해야한다."
      ]
    },
    {
      "cell_type": "code",
      "metadata": {
        "colab": {
          "base_uri": "https://localhost:8080/"
        },
        "id": "v7O8E30su-Vt",
        "outputId": "f0e6c281-a315-43aa-eea0-589d0a159e81"
      },
      "source": [
        "print(df['user_pet_category'].value_counts())\n",
        "print(\"NaN : \", df['user_pet_category'].isnull().sum())"
      ],
      "execution_count": 248,
      "outputs": [
        {
          "output_type": "stream",
          "name": "stdout",
          "text": [
            "강아지              7\n",
            "고양이              3\n",
            "강아지\\t고양이         3\n",
            "강아지\\t고양이\\t해파리    1\n",
            "동물털 알러지 있음       1\n",
            "Name: user_pet_category, dtype: int64\n",
            "NaN :  57\n"
          ]
        }
      ]
    },
    {
      "cell_type": "code",
      "metadata": {
        "colab": {
          "base_uri": "https://localhost:8080/"
        },
        "id": "tQ-v5a9B1RY2",
        "outputId": "dd0119b9-957a-4736-c373-cd145351dfdc"
      },
      "source": [
        "df['user_pet_dog'] = df['user_pet_category'].apply(lambda x : 1 if '강아지' in str(x) else 0)\n",
        "print(df['user_pet_dog'].value_counts())\n",
        "print(\"NaN : \", df['user_pet_dog'].isnull().sum())"
      ],
      "execution_count": 249,
      "outputs": [
        {
          "output_type": "stream",
          "name": "stdout",
          "text": [
            "0    61\n",
            "1    11\n",
            "Name: user_pet_dog, dtype: int64\n",
            "NaN :  0\n"
          ]
        }
      ]
    },
    {
      "cell_type": "code",
      "metadata": {
        "colab": {
          "base_uri": "https://localhost:8080/"
        },
        "id": "FXCT5U-j1orO",
        "outputId": "99291bcb-80d5-4f54-e338-cc57ab10f88f"
      },
      "source": [
        "df['user_pet_cat'] = df['user_pet_category'].apply(lambda x : 1 if '고양이' in str(x) else 0)\n",
        "print(df['user_pet_cat'].value_counts())\n",
        "print(\"NaN : \", df['user_pet_cat'].isnull().sum())"
      ],
      "execution_count": 250,
      "outputs": [
        {
          "output_type": "stream",
          "name": "stdout",
          "text": [
            "0    65\n",
            "1     7\n",
            "Name: user_pet_cat, dtype: int64\n",
            "NaN :  0\n"
          ]
        }
      ]
    },
    {
      "cell_type": "code",
      "metadata": {
        "colab": {
          "base_uri": "https://localhost:8080/"
        },
        "id": "XHj_GgjT1vss",
        "outputId": "0ec79285-2989-48d8-bf18-fcbca7878209"
      },
      "source": [
        "df['user_pet_reptie_fish'] = df['user_pet_category'].apply(lambda x : 1 if '파충류, 어류' in str(x) else 0)\n",
        "print(df['user_pet_reptie_fish'].value_counts())\n",
        "print(\"NaN : \", df['user_pet_reptie_fish'].isnull().sum())"
      ],
      "execution_count": 251,
      "outputs": [
        {
          "output_type": "stream",
          "name": "stdout",
          "text": [
            "0    72\n",
            "Name: user_pet_reptie_fish, dtype: int64\n",
            "NaN :  0\n"
          ]
        }
      ]
    },
    {
      "cell_type": "code",
      "metadata": {
        "colab": {
          "base_uri": "https://localhost:8080/"
        },
        "id": "TwTSk9mg14BR",
        "outputId": "506e7f06-3f90-41db-cabc-d75a461e70f6"
      },
      "source": [
        "df['user_pet_rodent'] = df['user_pet_category'].apply(lambda x : 1 if '설치류' in str(x) else 0)\n",
        "print(df['user_pet_rodent'].value_counts())\n",
        "print(\"NaN : \", df['user_pet_rodent'].isnull().sum())"
      ],
      "execution_count": 252,
      "outputs": [
        {
          "output_type": "stream",
          "name": "stdout",
          "text": [
            "0    72\n",
            "Name: user_pet_rodent, dtype: int64\n",
            "NaN :  0\n"
          ]
        }
      ]
    },
    {
      "cell_type": "code",
      "metadata": {
        "colab": {
          "base_uri": "https://localhost:8080/"
        },
        "id": "EJCH0EMZ2FpC",
        "outputId": "e3f37ccf-e316-421c-b7c8-3c7b7f55cc8e"
      },
      "source": [
        "df['user_pet_bird'] = df['user_pet_category'].apply(lambda x : 1 if '조류' in str(x) else 0)\n",
        "print(df['user_pet_bird'].value_counts())\n",
        "print(\"NaN : \", df['user_pet_bird'].isnull().sum())"
      ],
      "execution_count": 253,
      "outputs": [
        {
          "output_type": "stream",
          "name": "stdout",
          "text": [
            "0    72\n",
            "Name: user_pet_bird, dtype: int64\n",
            "NaN :  0\n"
          ]
        }
      ]
    },
    {
      "cell_type": "code",
      "metadata": {
        "colab": {
          "base_uri": "https://localhost:8080/"
        },
        "id": "6WWZhV1a3NL8",
        "outputId": "c508f36f-d88a-4674-d584-a8d847d9d991"
      },
      "source": [
        "# user_pet_category 삭제\n",
        "df = df.drop(columns='user_pet_category')\n",
        "df.columns"
      ],
      "execution_count": 254,
      "outputs": [
        {
          "output_type": "execute_result",
          "data": {
            "text/plain": [
              "Index(['time', 'sex', 'age', 'mbti', 'user_smoking', 'mate_smoking',\n",
              "       'user_pet', 'mate_pet_category', 'air', 'user_bug_killer',\n",
              "       'mate_bug_killer', 'user_cooking', 'mate_cooking', 'eat_together',\n",
              "       'share_item', 'noise', 'mate_alcohol', 'mate_clean',\n",
              "       'permission_to_enter', 'user_pet_dog', 'user_pet_cat',\n",
              "       'user_pet_reptie_fish', 'user_pet_rodent', 'user_pet_bird'],\n",
              "      dtype='object')"
            ]
          },
          "metadata": {},
          "execution_count": 254
        }
      ]
    },
    {
      "cell_type": "markdown",
      "metadata": {
        "id": "-a_Wrmz-2RZD"
      },
      "source": [
        "- mate_pet_category 컬럼을 분리해야한다."
      ]
    },
    {
      "cell_type": "code",
      "metadata": {
        "colab": {
          "base_uri": "https://localhost:8080/"
        },
        "id": "NfdaWXcIvBfn",
        "outputId": "a9ddc1aa-dc68-488c-ab85-c0153c7fb778"
      },
      "source": [
        "print(df['mate_pet_category'].value_counts())\n",
        "print(\"NaN : \", df['mate_pet_category'].isnull().sum())"
      ],
      "execution_count": 255,
      "outputs": [
        {
          "output_type": "stream",
          "name": "stdout",
          "text": [
            "어떠한 동물도 안된다.                  21\n",
            "고양이\\t강아지                      20\n",
            "강아지                           11\n",
            "고양이                            5\n",
            "어떤 동물이든 괜찮다.                   3\n",
            "고양이\\t강아지\\t파충류, 어류              3\n",
            "파충류, 어류                        2\n",
            "고양이\\t강아지\\t조류                   2\n",
            "어떠한 동물도 안된다.\\t어떤 동물이든 괜찮다.     1\n",
            "고양이\\t강아지\\t파충류, 어류\\t설치류         1\n",
            "고양이\\t파충류, 어류\\t설치류\\t조류          1\n",
            "고양이\\t강아지\\t파충류, 어류\\t조류          1\n",
            "고양이\\t강아지\\t설치류                  1\n",
            "Name: mate_pet_category, dtype: int64\n",
            "NaN :  0\n"
          ]
        }
      ]
    },
    {
      "cell_type": "code",
      "metadata": {
        "colab": {
          "base_uri": "https://localhost:8080/"
        },
        "id": "tZr6hACx2UWq",
        "outputId": "816d3b3f-e40b-4260-dd10-66a3c609ba39"
      },
      "source": [
        "def func(x):\n",
        "  if '어떠한 동물도 안된다.' in str(x):\n",
        "    return 1\n",
        "  elif '어떤 동물이든 괜찮다.' in str(x):\n",
        "    return 0\n",
        "  else:\n",
        "    return 0.5 # NaN, 그 외\n",
        "\n",
        "df['mate_pet'] = df['mate_pet_category'].apply(lambda x : func(x))\n",
        "print(df['mate_pet'].value_counts())\n",
        "print(\"NaN : \", df['mate_pet'].isnull().sum())"
      ],
      "execution_count": 256,
      "outputs": [
        {
          "output_type": "stream",
          "name": "stdout",
          "text": [
            "0.5    47\n",
            "1.0    22\n",
            "0.0     3\n",
            "Name: mate_pet, dtype: int64\n",
            "NaN :  0\n"
          ]
        }
      ]
    },
    {
      "cell_type": "code",
      "metadata": {
        "colab": {
          "base_uri": "https://localhost:8080/"
        },
        "id": "drp_mfyJ2y-R",
        "outputId": "bac081f9-f840-4c4d-818a-81b7d4b8834a"
      },
      "source": [
        "df['mate_pet_dog'] = df['mate_pet_category'].apply(lambda x : 0.5 if '강아지' in str(x) or '어떤 동물이든 괜찮다.' in str(x) else 0)\n",
        "print(df['mate_pet_dog'].value_counts())\n",
        "print(\"NaN : \", df['mate_pet_dog'].isnull().sum())"
      ],
      "execution_count": 257,
      "outputs": [
        {
          "output_type": "stream",
          "name": "stdout",
          "text": [
            "0.5    43\n",
            "0.0    29\n",
            "Name: mate_pet_dog, dtype: int64\n",
            "NaN :  0\n"
          ]
        }
      ]
    },
    {
      "cell_type": "code",
      "metadata": {
        "colab": {
          "base_uri": "https://localhost:8080/"
        },
        "id": "W3Quv6Gu3DdP",
        "outputId": "9059c305-6ab4-4305-ea94-54e2fbad3499"
      },
      "source": [
        "df['mate_pet_cat'] = df['mate_pet_category'].apply(lambda x : 0.5 if '고양이' in str(x) or '어떤 동물이든 괜찮다.' in str(x) else 0)\n",
        "print(df['mate_pet_cat'].value_counts())\n",
        "print(\"NaN : \", df['mate_pet_cat'].isnull().sum())"
      ],
      "execution_count": 258,
      "outputs": [
        {
          "output_type": "stream",
          "name": "stdout",
          "text": [
            "0.5    38\n",
            "0.0    34\n",
            "Name: mate_pet_cat, dtype: int64\n",
            "NaN :  0\n"
          ]
        }
      ]
    },
    {
      "cell_type": "code",
      "metadata": {
        "colab": {
          "base_uri": "https://localhost:8080/"
        },
        "id": "V8Y05GlE3Wyl",
        "outputId": "f528fd12-f5a0-4a82-d127-2356558d50bc"
      },
      "source": [
        "df['mate_pet_reptie_fish'] = df['mate_pet_category'].apply(lambda x : 0.5 if '파충류, 어류' in str(x) or '어떤 동물이든 괜찮다.' in str(x) else 0)\n",
        "print(df['mate_pet_reptie_fish'].value_counts())\n",
        "print(\"NaN : \", df['mate_pet_reptie_fish'].isnull().sum())"
      ],
      "execution_count": 259,
      "outputs": [
        {
          "output_type": "stream",
          "name": "stdout",
          "text": [
            "0.0    60\n",
            "0.5    12\n",
            "Name: mate_pet_reptie_fish, dtype: int64\n",
            "NaN :  0\n"
          ]
        }
      ]
    },
    {
      "cell_type": "code",
      "metadata": {
        "colab": {
          "base_uri": "https://localhost:8080/"
        },
        "id": "rAW49NFV3h0f",
        "outputId": "c9be8d43-8ba5-4d29-f540-d7174efb65f6"
      },
      "source": [
        "df['mate_pet_rodent'] = df['mate_pet_category'].apply(lambda x : 0.5 if '설치류' in str(x) or '어떤 동물이든 괜찮다.' in str(x) else 0)\n",
        "print(df['mate_pet_rodent'].value_counts())\n",
        "print(\"NaN : \", df['mate_pet_rodent'].isnull().sum())"
      ],
      "execution_count": 260,
      "outputs": [
        {
          "output_type": "stream",
          "name": "stdout",
          "text": [
            "0.0    65\n",
            "0.5     7\n",
            "Name: mate_pet_rodent, dtype: int64\n",
            "NaN :  0\n"
          ]
        }
      ]
    },
    {
      "cell_type": "code",
      "metadata": {
        "colab": {
          "base_uri": "https://localhost:8080/"
        },
        "id": "es0muy_p3qbk",
        "outputId": "476e6b2a-72f9-4c16-855f-f102b8370516"
      },
      "source": [
        "df['mate_pet_bird'] = df['mate_pet_category'].apply(lambda x : 0.5 if '조류' in str(x) or '어떤 동물이든 괜찮다.' in str(x) else 0)\n",
        "print(df['mate_pet_bird'].value_counts())\n",
        "print(\"NaN : \", df['mate_pet_bird'].isnull().sum())"
      ],
      "execution_count": 261,
      "outputs": [
        {
          "output_type": "stream",
          "name": "stdout",
          "text": [
            "0.0    64\n",
            "0.5     8\n",
            "Name: mate_pet_bird, dtype: int64\n",
            "NaN :  0\n"
          ]
        }
      ]
    },
    {
      "cell_type": "code",
      "metadata": {
        "colab": {
          "base_uri": "https://localhost:8080/"
        },
        "id": "Guj5N_c44Y-a",
        "outputId": "3b1e3d17-b30f-4341-df68-dd1336c60c1f"
      },
      "source": [
        "# mate_pet_category 삭제\n",
        "df = df.drop(columns='mate_pet_category')\n",
        "df.columns"
      ],
      "execution_count": 262,
      "outputs": [
        {
          "output_type": "execute_result",
          "data": {
            "text/plain": [
              "Index(['time', 'sex', 'age', 'mbti', 'user_smoking', 'mate_smoking',\n",
              "       'user_pet', 'air', 'user_bug_killer', 'mate_bug_killer', 'user_cooking',\n",
              "       'mate_cooking', 'eat_together', 'share_item', 'noise', 'mate_alcohol',\n",
              "       'mate_clean', 'permission_to_enter', 'user_pet_dog', 'user_pet_cat',\n",
              "       'user_pet_reptie_fish', 'user_pet_rodent', 'user_pet_bird', 'mate_pet',\n",
              "       'mate_pet_dog', 'mate_pet_cat', 'mate_pet_reptie_fish',\n",
              "       'mate_pet_rodent', 'mate_pet_bird'],\n",
              "      dtype='object')"
            ]
          },
          "metadata": {},
          "execution_count": 262
        }
      ]
    },
    {
      "cell_type": "markdown",
      "metadata": {
        "id": "-hbdYOmF7Nhi"
      },
      "source": [
        "- air 컬럼을 분리해야한다.\n",
        "  - 더위를 많이 타서 에어컨을 일찍부터 튼다, 여름에 항상 에어컨을 켜놓는다 = air_like_airconditionner / 에어컨을 틀고 못잔다 = air_night_airconditioner / 추위를 많이 타서 난방을 일찍부터 튼다, 과한 난방은 답답해하는 편이다 = air_like_heater / 해당하는 상황 없음 = air = none"
      ]
    },
    {
      "cell_type": "code",
      "metadata": {
        "colab": {
          "base_uri": "https://localhost:8080/"
        },
        "id": "2EWkssqJ7wwL",
        "outputId": "7c1327d4-2766-4a95-b76f-e3d2ea29551f"
      },
      "source": [
        "df['air'].value_counts()"
      ],
      "execution_count": 263,
      "outputs": [
        {
          "output_type": "execute_result",
          "data": {
            "text/plain": [
              "과한 난방은 답답해하는 편이다                                                                     12\n",
              "해당하는 상황 없음                                                                            8\n",
              "더위를 많이 타서 에어컨을 일찍부터 튼다\\t과한 난방은 답답해하는 편이다                                              8\n",
              "더위를 많이 타서 에어컨을 일찍부터 튼다\\t여름에 항상 에어컨을 켜놓는다\\t과한 난방은 답답해하는 편이다                            6\n",
              "추위를 많이 타서 난방을 일찍부터 튼다                                                                 6\n",
              "더위를 많이 타서 에어컨을 일찍부터 튼다                                                                5\n",
              "더위를 많이 타서 에어컨을 일찍부터 튼다\\t추위를 많이 타서 난방을 일찍부터 튼다                                         4\n",
              "여름에 항상 에어컨을 켜놓는다\\t과한 난방은 답답해하는 편이다                                                    4\n",
              "더위를 많이 타서 에어컨을 일찍부터 튼다\\t추위를 많이 타서 난방을 일찍부터 튼다\\t과한 난방은 답답해하는 편이다                       3\n",
              "에어컨을 틀고 못잔다\\t과한 난방은 답답해하는 편이다                                                         3\n",
              "추위를 많이 타서 난방을 일찍부터 튼다\\t과한 난방은 답답해하는 편이다                                               3\n",
              "여름에 항상 에어컨을 켜놓는다                                                                      3\n",
              "더위를 많이 타서 에어컨을 일찍부터 튼다\\t여름에 항상 에어컨을 켜놓는다\\t추위를 많이 타서 난방을 일찍부터 튼다\\t과한 난방은 답답해하는 편이다     2\n",
              "에어컨을 틀고 못잔다\\t추위를 많이 타서 난방을 일찍부터 튼다\\t과한 난방은 답답해하는 편이다                                  2\n",
              "절대 못잡는다                                                                               1\n",
              "에어컨을 틀고 못잔다                                                                           1\n",
              "Name: air, dtype: int64"
            ]
          },
          "metadata": {},
          "execution_count": 263
        }
      ]
    },
    {
      "cell_type": "code",
      "metadata": {
        "id": "NpSnc8ZzAKpO"
      },
      "source": [
        "# NaN -> '해당하는 상황 없음'\n",
        "df['air'] = df['air'].fillna('해당하는 상황 없음')"
      ],
      "execution_count": 264,
      "outputs": []
    },
    {
      "cell_type": "code",
      "metadata": {
        "colab": {
          "base_uri": "https://localhost:8080/"
        },
        "id": "KK0w6X7U5Dot",
        "outputId": "637a1acb-9991-48a5-a9db-c5752fa91295"
      },
      "source": [
        "df['air_like_airconditioner'] = df['air'].apply(lambda x : 1 if '더위를 많이 타서 에어컨을 일찍부터 튼다' in str(x) or '여름에 항상 에어컨을 켜놓는다' in str(x) else 0)\n",
        "df['air_like_airconditioner'].value_counts()"
      ],
      "execution_count": 265,
      "outputs": [
        {
          "output_type": "execute_result",
          "data": {
            "text/plain": [
              "0    37\n",
              "1    35\n",
              "Name: air_like_airconditioner, dtype: int64"
            ]
          },
          "metadata": {},
          "execution_count": 265
        }
      ]
    },
    {
      "cell_type": "code",
      "metadata": {
        "colab": {
          "base_uri": "https://localhost:8080/"
        },
        "id": "VIzA5zL8ankn",
        "outputId": "718b9988-55ff-42a2-e06e-645ccc5dda41"
      },
      "source": [
        "df['air_like_airconditioner'].isnull().sum()"
      ],
      "execution_count": 266,
      "outputs": [
        {
          "output_type": "execute_result",
          "data": {
            "text/plain": [
              "0"
            ]
          },
          "metadata": {},
          "execution_count": 266
        }
      ]
    },
    {
      "cell_type": "code",
      "metadata": {
        "colab": {
          "base_uri": "https://localhost:8080/"
        },
        "id": "ydX2aOMa7RPW",
        "outputId": "ff67e2c8-f39c-4634-b335-b9a2dc8cce27"
      },
      "source": [
        "df['air_night_airconditioner'] = df['air'].apply(lambda x : 1 if '에어컨을 틀고 못잔다' in str(x) else 0)\n",
        "df['air_night_airconditioner'].value_counts()"
      ],
      "execution_count": 267,
      "outputs": [
        {
          "output_type": "execute_result",
          "data": {
            "text/plain": [
              "0    66\n",
              "1     6\n",
              "Name: air_night_airconditioner, dtype: int64"
            ]
          },
          "metadata": {},
          "execution_count": 267
        }
      ]
    },
    {
      "cell_type": "code",
      "metadata": {
        "colab": {
          "base_uri": "https://localhost:8080/"
        },
        "id": "Mwags1NqayN1",
        "outputId": "f5b78cc6-e806-4bb0-a28f-7581f3bf79eb"
      },
      "source": [
        "df['air_night_airconditioner'].isnull().sum()"
      ],
      "execution_count": 268,
      "outputs": [
        {
          "output_type": "execute_result",
          "data": {
            "text/plain": [
              "0"
            ]
          },
          "metadata": {},
          "execution_count": 268
        }
      ]
    },
    {
      "cell_type": "code",
      "metadata": {
        "colab": {
          "base_uri": "https://localhost:8080/"
        },
        "id": "fsYYGDNF9lZG",
        "outputId": "fa4daba6-3e78-42ea-b7ca-dac0f4d683bc"
      },
      "source": [
        "def func(x):\n",
        "  if '추위를 많이 타서 난방을 일찍부터 튼다' in str(x):\n",
        "    return 1\n",
        "  elif '과한 난방은 답답해하는 편이다'in str(x):\n",
        "    return 0\n",
        "  else:\n",
        "    return 0.5 # 난방에 대해 신경쓰지 않는다고 판단\n",
        "\n",
        "df['air_like_heater'] = df['air'].apply(lambda x : func(x))\n",
        "df['air_like_heater'].value_counts()"
      ],
      "execution_count": 269,
      "outputs": [
        {
          "output_type": "execute_result",
          "data": {
            "text/plain": [
              "0.0    33\n",
              "1.0    20\n",
              "0.5    19\n",
              "Name: air_like_heater, dtype: int64"
            ]
          },
          "metadata": {},
          "execution_count": 269
        }
      ]
    },
    {
      "cell_type": "code",
      "metadata": {
        "colab": {
          "base_uri": "https://localhost:8080/"
        },
        "id": "f40uysPPa4AZ",
        "outputId": "090babd6-8187-412c-c78b-89dd7162f7ed"
      },
      "source": [
        "df['air_like_heater'].isnull().sum()"
      ],
      "execution_count": 270,
      "outputs": [
        {
          "output_type": "execute_result",
          "data": {
            "text/plain": [
              "0"
            ]
          },
          "metadata": {},
          "execution_count": 270
        }
      ]
    },
    {
      "cell_type": "code",
      "metadata": {
        "colab": {
          "base_uri": "https://localhost:8080/"
        },
        "id": "ZFuOOPAvBoXj",
        "outputId": "9bd3c9ac-0178-4bc0-c666-92bc1b3acfef"
      },
      "source": [
        "# air 삭제\n",
        "df = df.drop(columns='air')\n",
        "df.columns"
      ],
      "execution_count": 271,
      "outputs": [
        {
          "output_type": "execute_result",
          "data": {
            "text/plain": [
              "Index(['time', 'sex', 'age', 'mbti', 'user_smoking', 'mate_smoking',\n",
              "       'user_pet', 'user_bug_killer', 'mate_bug_killer', 'user_cooking',\n",
              "       'mate_cooking', 'eat_together', 'share_item', 'noise', 'mate_alcohol',\n",
              "       'mate_clean', 'permission_to_enter', 'user_pet_dog', 'user_pet_cat',\n",
              "       'user_pet_reptie_fish', 'user_pet_rodent', 'user_pet_bird', 'mate_pet',\n",
              "       'mate_pet_dog', 'mate_pet_cat', 'mate_pet_reptie_fish',\n",
              "       'mate_pet_rodent', 'mate_pet_bird', 'air_like_airconditioner',\n",
              "       'air_night_airconditioner', 'air_like_heater'],\n",
              "      dtype='object')"
            ]
          },
          "metadata": {},
          "execution_count": 271
        }
      ]
    },
    {
      "cell_type": "markdown",
      "metadata": {
        "id": "KbYMmfKe-o-Y"
      },
      "source": [
        "- noise 컬럼을 분리해야한다.\n",
        "  - 신경쓰지 않는다. = noise_none / 10분 이상의 말소리(통화/게임)은 신경쓰인다, 10분 이전의 말소리(통화/게임)도 신경쓰인다 = noise_talking / 10분 이상의 동영상/음악 소리는 신경쓰인다, 10분 이전의 동영상/음악 소리도 신경쓰인다 = noise_music / 지속적인 알람소리는 신경쓰인다 = noise_alarm"
      ]
    },
    {
      "cell_type": "code",
      "metadata": {
        "id": "Bd08KsZNCIRN"
      },
      "source": [
        "# NaN -> '신경쓰지 않는다.'\n",
        "df['noise'] = df['noise'].fillna('신경쓰지 않는다.')"
      ],
      "execution_count": 272,
      "outputs": []
    },
    {
      "cell_type": "code",
      "metadata": {
        "colab": {
          "base_uri": "https://localhost:8080/"
        },
        "id": "twxS7wLHChyR",
        "outputId": "bc1aa32d-878a-4e3c-863b-13a67cae2933"
      },
      "source": [
        "def func(x):\n",
        "  if '10분 이전의 말소리(통화/게임)도 신경쓰인다' in str(x):\n",
        "    return 1\n",
        "  elif '10분 이상의 말소리(통화/게임)은 신경쓰인다'in str(x):\n",
        "    return 0.5\n",
        "  else:\n",
        "    return 0\n",
        "\n",
        "df['noise_talking'] = df['noise'].apply(lambda x : func(x))\n",
        "df['noise_talking'].value_counts()"
      ],
      "execution_count": 273,
      "outputs": [
        {
          "output_type": "execute_result",
          "data": {
            "text/plain": [
              "0.0    43\n",
              "0.5    24\n",
              "1.0     5\n",
              "Name: noise_talking, dtype: int64"
            ]
          },
          "metadata": {},
          "execution_count": 273
        }
      ]
    },
    {
      "cell_type": "code",
      "metadata": {
        "colab": {
          "base_uri": "https://localhost:8080/"
        },
        "id": "5jleo6EOEJt6",
        "outputId": "b7a11634-4860-4775-c4cf-eea703c126d3"
      },
      "source": [
        "# 결측치 확인\n",
        "df['noise_talking'].isnull().sum()"
      ],
      "execution_count": 274,
      "outputs": [
        {
          "output_type": "execute_result",
          "data": {
            "text/plain": [
              "0"
            ]
          },
          "metadata": {},
          "execution_count": 274
        }
      ]
    },
    {
      "cell_type": "code",
      "metadata": {
        "colab": {
          "base_uri": "https://localhost:8080/"
        },
        "id": "AnQVrm7ZEbMy",
        "outputId": "c6e2b7d1-7e19-4ebb-9e41-522558476674"
      },
      "source": [
        "def func(x):\n",
        "  if '10분 이전의 동영상/음악 소리도 신경쓰인다' in str(x):\n",
        "    return 1\n",
        "  elif '10분 이상의 동영상/음악 소리는 신경쓰인다'in str(x):\n",
        "    return 0.5\n",
        "  else:\n",
        "    return 0\n",
        "\n",
        "df['noise_music'] = df['noise'].apply(lambda x : func(x))\n",
        "df['noise_music'].value_counts()"
      ],
      "execution_count": 275,
      "outputs": [
        {
          "output_type": "execute_result",
          "data": {
            "text/plain": [
              "0.0    43\n",
              "0.5    24\n",
              "1.0     5\n",
              "Name: noise_music, dtype: int64"
            ]
          },
          "metadata": {},
          "execution_count": 275
        }
      ]
    },
    {
      "cell_type": "code",
      "metadata": {
        "colab": {
          "base_uri": "https://localhost:8080/"
        },
        "id": "0jqyCt41EteO",
        "outputId": "032da043-8c08-44fc-925f-6d46f8d94868"
      },
      "source": [
        "df['noise_music'].isnull().sum()"
      ],
      "execution_count": 276,
      "outputs": [
        {
          "output_type": "execute_result",
          "data": {
            "text/plain": [
              "0"
            ]
          },
          "metadata": {},
          "execution_count": 276
        }
      ]
    },
    {
      "cell_type": "code",
      "metadata": {
        "colab": {
          "base_uri": "https://localhost:8080/"
        },
        "id": "bZG9LL36E2nE",
        "outputId": "5c885f69-83f0-4a51-d8bf-ee16d1be07ff"
      },
      "source": [
        "df['noise_alarm'] = df['noise'].apply(lambda x : 1 if '지속적인 알람소리는 신경쓰인다' in str(x) else 0)\n",
        "df['noise_alarm'].value_counts()"
      ],
      "execution_count": 277,
      "outputs": [
        {
          "output_type": "execute_result",
          "data": {
            "text/plain": [
              "1    46\n",
              "0    26\n",
              "Name: noise_alarm, dtype: int64"
            ]
          },
          "metadata": {},
          "execution_count": 277
        }
      ]
    },
    {
      "cell_type": "code",
      "metadata": {
        "colab": {
          "base_uri": "https://localhost:8080/"
        },
        "id": "YhQf7FhXHuoe",
        "outputId": "d0e33dbf-d8d4-453e-91df-9e38a72aedb7"
      },
      "source": [
        "df['noise_alarm'].isnull().sum()"
      ],
      "execution_count": 278,
      "outputs": [
        {
          "output_type": "execute_result",
          "data": {
            "text/plain": [
              "0"
            ]
          },
          "metadata": {},
          "execution_count": 278
        }
      ]
    },
    {
      "cell_type": "code",
      "metadata": {
        "colab": {
          "base_uri": "https://localhost:8080/"
        },
        "id": "PwgpnBaqI0X4",
        "outputId": "005db0db-cd3d-4259-db28-f9acd1321a3e"
      },
      "source": [
        "# noise 삭제\n",
        "df = df.drop(columns='noise')\n",
        "df.columns"
      ],
      "execution_count": 279,
      "outputs": [
        {
          "output_type": "execute_result",
          "data": {
            "text/plain": [
              "Index(['time', 'sex', 'age', 'mbti', 'user_smoking', 'mate_smoking',\n",
              "       'user_pet', 'user_bug_killer', 'mate_bug_killer', 'user_cooking',\n",
              "       'mate_cooking', 'eat_together', 'share_item', 'mate_alcohol',\n",
              "       'mate_clean', 'permission_to_enter', 'user_pet_dog', 'user_pet_cat',\n",
              "       'user_pet_reptie_fish', 'user_pet_rodent', 'user_pet_bird', 'mate_pet',\n",
              "       'mate_pet_dog', 'mate_pet_cat', 'mate_pet_reptie_fish',\n",
              "       'mate_pet_rodent', 'mate_pet_bird', 'air_like_airconditioner',\n",
              "       'air_night_airconditioner', 'air_like_heater', 'noise_talking',\n",
              "       'noise_music', 'noise_alarm'],\n",
              "      dtype='object')"
            ]
          },
          "metadata": {},
          "execution_count": 279
        }
      ]
    },
    {
      "cell_type": "markdown",
      "metadata": {
        "id": "kpnO0-TJJFCF"
      },
      "source": [
        "- user_bug_killer : 잡는데 거리낌이 없다, 시키면 잡을 수 있다, 절대 못잡는다\n",
        "- mate_bug_killer : 벌레를 잡을 수 있어야 한다, 벌레를 못잡아도 상관없다"
      ]
    },
    {
      "cell_type": "code",
      "metadata": {
        "colab": {
          "base_uri": "https://localhost:8080/"
        },
        "id": "a59D9xJMgWEW",
        "outputId": "e2c14b69-3b1c-472a-d036-8e9622d7c28d"
      },
      "source": [
        "df['user_bug_killer'].value_counts()"
      ],
      "execution_count": 280,
      "outputs": [
        {
          "output_type": "execute_result",
          "data": {
            "text/plain": [
              "시키면 잡을 수 있다    29\n",
              "절대 못잡는다        23\n",
              "잡는데 거리낌이 없다    19\n",
              "Name: user_bug_killer, dtype: int64"
            ]
          },
          "metadata": {},
          "execution_count": 280
        }
      ]
    },
    {
      "cell_type": "code",
      "metadata": {
        "colab": {
          "base_uri": "https://localhost:8080/"
        },
        "id": "zmnVbHEBhCSF",
        "outputId": "cfb73d1e-06d3-49a0-97d8-38db173c1f6e"
      },
      "source": [
        "df['user_bug_killer'].isnull().sum()"
      ],
      "execution_count": 281,
      "outputs": [
        {
          "output_type": "execute_result",
          "data": {
            "text/plain": [
              "1"
            ]
          },
          "metadata": {},
          "execution_count": 281
        }
      ]
    },
    {
      "cell_type": "code",
      "metadata": {
        "colab": {
          "base_uri": "https://localhost:8080/"
        },
        "id": "TdyjFVKUg0ez",
        "outputId": "bb62bbfd-0708-4f5b-85c6-2b051dfc368f"
      },
      "source": [
        "def func(x):\n",
        "  if '잡는데 거리낌이 없다' in str(x):\n",
        "    return 1\n",
        "  elif '시키면 잡을 수 있다'in str(x):\n",
        "    return 0.75\n",
        "  elif '절대 못잡는다' in str(x):\n",
        "    return 0\n",
        "  else:\n",
        "    return np.nan\n",
        "\n",
        "df['user_bug_killer'] = df['user_bug_killer'].apply(lambda x : func(x))\n",
        "df['user_bug_killer'].value_counts()"
      ],
      "execution_count": 282,
      "outputs": [
        {
          "output_type": "execute_result",
          "data": {
            "text/plain": [
              "0.75    29\n",
              "0.00    23\n",
              "1.00    19\n",
              "Name: user_bug_killer, dtype: int64"
            ]
          },
          "metadata": {},
          "execution_count": 282
        }
      ]
    },
    {
      "cell_type": "code",
      "metadata": {
        "colab": {
          "base_uri": "https://localhost:8080/"
        },
        "id": "hi5A6iX4h9KF",
        "outputId": "ece8ef7b-728f-4b41-a3c1-c7bea8e221e9"
      },
      "source": [
        "# mean으로 결측치 채움\n",
        "df['user_bug_killer'] = df['user_bug_killer'].fillna(df['user_bug_killer'].mean())\n",
        "df['user_bug_killer'].value_counts()"
      ],
      "execution_count": 283,
      "outputs": [
        {
          "output_type": "execute_result",
          "data": {
            "text/plain": [
              "0.750000    29\n",
              "0.000000    23\n",
              "1.000000    19\n",
              "0.573944     1\n",
              "Name: user_bug_killer, dtype: int64"
            ]
          },
          "metadata": {},
          "execution_count": 283
        }
      ]
    },
    {
      "cell_type": "code",
      "metadata": {
        "colab": {
          "base_uri": "https://localhost:8080/"
        },
        "id": "U2RbvKspgqZ5",
        "outputId": "d9f38324-6940-4cba-a055-fd659b7b2bfb"
      },
      "source": [
        "df['mate_bug_killer'].value_counts()"
      ],
      "execution_count": 284,
      "outputs": [
        {
          "output_type": "execute_result",
          "data": {
            "text/plain": [
              "벌레를 못잡아도 상관없다       40\n",
              "벌레를 잡을 수 있어야만 한다    32\n",
              "Name: mate_bug_killer, dtype: int64"
            ]
          },
          "metadata": {},
          "execution_count": 284
        }
      ]
    },
    {
      "cell_type": "code",
      "metadata": {
        "colab": {
          "base_uri": "https://localhost:8080/"
        },
        "id": "hKXrqg8bhVOQ",
        "outputId": "194d135e-3987-4d23-f0bf-24564e602bec"
      },
      "source": [
        "df['mate_bug_killer'].isnull().sum()"
      ],
      "execution_count": 285,
      "outputs": [
        {
          "output_type": "execute_result",
          "data": {
            "text/plain": [
              "0"
            ]
          },
          "metadata": {},
          "execution_count": 285
        }
      ]
    },
    {
      "cell_type": "code",
      "metadata": {
        "colab": {
          "base_uri": "https://localhost:8080/"
        },
        "id": "lXIw-g99ioIk",
        "outputId": "671e36e4-8155-4606-d8a3-49bf3c93a201"
      },
      "source": [
        "df['mate_bug_killer'] = df['mate_bug_killer'].apply(lambda x : 1 if '벌레를 잡을 수 있어야만 한다' in str(x) else 0)\n",
        "df['mate_bug_killer'].value_counts()"
      ],
      "execution_count": 286,
      "outputs": [
        {
          "output_type": "execute_result",
          "data": {
            "text/plain": [
              "0    40\n",
              "1    32\n",
              "Name: mate_bug_killer, dtype: int64"
            ]
          },
          "metadata": {},
          "execution_count": 286
        }
      ]
    },
    {
      "cell_type": "markdown",
      "metadata": {
        "id": "jZCc27nljDls"
      },
      "source": [
        "- user_cooking : 직접 요리, 외부 음식(포장, 배달)\n",
        "- mate_cooking : 불편하다, 신경쓰지 않는다(불편하지 않다)\n"
      ]
    },
    {
      "cell_type": "code",
      "metadata": {
        "colab": {
          "base_uri": "https://localhost:8080/"
        },
        "id": "eq7WdHa5jEjh",
        "outputId": "a85855da-d2b8-4485-af93-a7460f8d4238"
      },
      "source": [
        "df['user_cooking'].value_counts()"
      ],
      "execution_count": 287,
      "outputs": [
        {
          "output_type": "execute_result",
          "data": {
            "text/plain": [
              "직접 요리            42\n",
              "외부 음식(포장, 배달)    30\n",
              "Name: user_cooking, dtype: int64"
            ]
          },
          "metadata": {},
          "execution_count": 287
        }
      ]
    },
    {
      "cell_type": "code",
      "metadata": {
        "colab": {
          "base_uri": "https://localhost:8080/"
        },
        "id": "J98GGUw1jLIL",
        "outputId": "e6262fe4-63bc-403a-e584-19cc909b2f7d"
      },
      "source": [
        "df['user_cooking'].isnull().sum()"
      ],
      "execution_count": 288,
      "outputs": [
        {
          "output_type": "execute_result",
          "data": {
            "text/plain": [
              "0"
            ]
          },
          "metadata": {},
          "execution_count": 288
        }
      ]
    },
    {
      "cell_type": "code",
      "metadata": {
        "colab": {
          "base_uri": "https://localhost:8080/"
        },
        "id": "4uIK5rlyjuR7",
        "outputId": "6507e4ac-0875-45f4-f33b-c8c1da6223d2"
      },
      "source": [
        "df['user_cooking'] = df['user_cooking'].apply(lambda x : 1 if '외부 음식(포장, 배달)' in str(x) else 0)\n",
        "df['user_cooking'].value_counts()"
      ],
      "execution_count": 289,
      "outputs": [
        {
          "output_type": "execute_result",
          "data": {
            "text/plain": [
              "0    42\n",
              "1    30\n",
              "Name: user_cooking, dtype: int64"
            ]
          },
          "metadata": {},
          "execution_count": 289
        }
      ]
    },
    {
      "cell_type": "code",
      "metadata": {
        "colab": {
          "base_uri": "https://localhost:8080/"
        },
        "id": "IAYXHrZqjYy-",
        "outputId": "f9371ac8-d219-42fc-86bc-7b26247795ca"
      },
      "source": [
        "df['mate_cooking'].value_counts()"
      ],
      "execution_count": 290,
      "outputs": [
        {
          "output_type": "execute_result",
          "data": {
            "text/plain": [
              "신경쓰지 않는다(불편하지 않다)    64\n",
              "Name: mate_cooking, dtype: int64"
            ]
          },
          "metadata": {},
          "execution_count": 290
        }
      ]
    },
    {
      "cell_type": "code",
      "metadata": {
        "colab": {
          "base_uri": "https://localhost:8080/"
        },
        "id": "l5I1WjHcjfJH",
        "outputId": "c7d48c95-8988-4ebf-9013-6afc054ccdba"
      },
      "source": [
        "df['mate_cooking'].isnull().sum()"
      ],
      "execution_count": 291,
      "outputs": [
        {
          "output_type": "execute_result",
          "data": {
            "text/plain": [
              "8"
            ]
          },
          "metadata": {},
          "execution_count": 291
        }
      ]
    },
    {
      "cell_type": "code",
      "metadata": {
        "colab": {
          "base_uri": "https://localhost:8080/"
        },
        "id": "gmh-NN9Hkm5i",
        "outputId": "dfce7272-96c6-4e5f-9a71-b17d92df8a51"
      },
      "source": [
        "df['mate_cooking'] = df['mate_cooking'].apply(lambda x : 1 if '불편하다' in str(x) else 0)\n",
        "df['mate_cooking'].value_counts()"
      ],
      "execution_count": 292,
      "outputs": [
        {
          "output_type": "execute_result",
          "data": {
            "text/plain": [
              "0    72\n",
              "Name: mate_cooking, dtype: int64"
            ]
          },
          "metadata": {},
          "execution_count": 292
        }
      ]
    },
    {
      "cell_type": "markdown",
      "metadata": {
        "id": "bcPp5_WAkzz-"
      },
      "source": [
        "- eat_together : 혼자 먹는 걸 선호한다, 같이 먹는 걸 선호한다"
      ]
    },
    {
      "cell_type": "code",
      "metadata": {
        "colab": {
          "base_uri": "https://localhost:8080/"
        },
        "id": "BgcvVaVvk2Nu",
        "outputId": "78126813-0a94-41b8-a2d9-0837bda75a3b"
      },
      "source": [
        "df['eat_together'].value_counts()"
      ],
      "execution_count": 293,
      "outputs": [
        {
          "output_type": "execute_result",
          "data": {
            "text/plain": [
              "같이 먹는 걸 선호한다    43\n",
              "혼자 먹는 걸 선호한다    28\n",
              "그렇다              1\n",
              "Name: eat_together, dtype: int64"
            ]
          },
          "metadata": {},
          "execution_count": 293
        }
      ]
    },
    {
      "cell_type": "code",
      "metadata": {
        "colab": {
          "base_uri": "https://localhost:8080/"
        },
        "id": "y0DKlMcilKhb",
        "outputId": "ccbf1d1e-bde5-4d2f-ea53-9c007c3530a6"
      },
      "source": [
        "df['eat_together'].isnull().sum()"
      ],
      "execution_count": 294,
      "outputs": [
        {
          "output_type": "execute_result",
          "data": {
            "text/plain": [
              "0"
            ]
          },
          "metadata": {},
          "execution_count": 294
        }
      ]
    },
    {
      "cell_type": "code",
      "metadata": {
        "colab": {
          "base_uri": "https://localhost:8080/"
        },
        "id": "RwCHJ7tulJDi",
        "outputId": "39382017-b539-43f7-8dd2-b1b61c6275c2"
      },
      "source": [
        "df['eat_together'] = df['eat_together'].apply(lambda x : 1 if '같이 먹는 걸 선호한다' in str(x) else 0)\n",
        "df['eat_together'].value_counts()"
      ],
      "execution_count": 295,
      "outputs": [
        {
          "output_type": "execute_result",
          "data": {
            "text/plain": [
              "1    43\n",
              "0    29\n",
              "Name: eat_together, dtype: int64"
            ]
          },
          "metadata": {},
          "execution_count": 295
        }
      ]
    },
    {
      "cell_type": "markdown",
      "metadata": {
        "id": "vkljb5KylXcv"
      },
      "source": [
        "- share_item : 말 안하고 사용해도 괜찮다, 사용하기 전 허락을 받으면 괜찮다, 괜찮지 않다(안된다)"
      ]
    },
    {
      "cell_type": "code",
      "metadata": {
        "colab": {
          "base_uri": "https://localhost:8080/"
        },
        "id": "qxUP-0lNlZyY",
        "outputId": "7125576a-b1fc-4881-a182-72786f685c32"
      },
      "source": [
        "df['share_item'].value_counts()"
      ],
      "execution_count": 296,
      "outputs": [
        {
          "output_type": "execute_result",
          "data": {
            "text/plain": [
              "사용하기 전 허락을 받으면 괜찮다    64\n",
              "괜찮지 않다(안된다)            5\n",
              "말 안하고 사용해도 괜찮다         2\n",
              "Name: share_item, dtype: int64"
            ]
          },
          "metadata": {},
          "execution_count": 296
        }
      ]
    },
    {
      "cell_type": "code",
      "metadata": {
        "colab": {
          "base_uri": "https://localhost:8080/"
        },
        "id": "QMds5mRNlgnH",
        "outputId": "35cb386f-9ac5-40e4-e899-d6937138d98a"
      },
      "source": [
        "df['share_item'].isnull().sum()"
      ],
      "execution_count": 297,
      "outputs": [
        {
          "output_type": "execute_result",
          "data": {
            "text/plain": [
              "1"
            ]
          },
          "metadata": {},
          "execution_count": 297
        }
      ]
    },
    {
      "cell_type": "code",
      "metadata": {
        "colab": {
          "base_uri": "https://localhost:8080/"
        },
        "id": "iTmwUD3PllE9",
        "outputId": "315fb692-9925-4933-ad84-2746f99c563d"
      },
      "source": [
        "def func(x):\n",
        "  if '말 안하고 사용해도 괜찮다' in str(x):\n",
        "    return 1\n",
        "  elif '사용하기 전 허락을 받으면 괜찮다'in str(x):\n",
        "    return 0.75\n",
        "  elif '괜찮지 않다(안된다)' in str(x):\n",
        "    return 0\n",
        "  else:\n",
        "    return np.nan\n",
        "\n",
        "df['share_item'] = df['share_item'].apply(lambda x : func(x))\n",
        "df['share_item'].value_counts()"
      ],
      "execution_count": 298,
      "outputs": [
        {
          "output_type": "execute_result",
          "data": {
            "text/plain": [
              "0.75    64\n",
              "0.00     5\n",
              "1.00     2\n",
              "Name: share_item, dtype: int64"
            ]
          },
          "metadata": {},
          "execution_count": 298
        }
      ]
    },
    {
      "cell_type": "code",
      "metadata": {
        "colab": {
          "base_uri": "https://localhost:8080/"
        },
        "id": "lPqRMR1Hm8Ju",
        "outputId": "3b979ac5-570b-4675-be4e-4e2ac1360aa3"
      },
      "source": [
        "# mean으로 결측치 채움\n",
        "df['share_item'] = df['share_item'].fillna(df['share_item'].mean())\n",
        "df['share_item'].value_counts()"
      ],
      "execution_count": 299,
      "outputs": [
        {
          "output_type": "execute_result",
          "data": {
            "text/plain": [
              "0.750000    64\n",
              "0.000000     5\n",
              "1.000000     2\n",
              "0.704225     1\n",
              "Name: share_item, dtype: int64"
            ]
          },
          "metadata": {},
          "execution_count": 299
        }
      ]
    },
    {
      "cell_type": "markdown",
      "metadata": {
        "id": "qCkrsR-anSJj"
      },
      "source": [
        "- mate_alcohol : 메이트의 술 문제는 신경쓰지 않는다, 메이트가 술 냄새를 풍기는 것은 싫다, 메이트가 술을 많이 마신 것 같은 모습을 보이면 싫다, 메이트가 술주정만 하지 않으면 된다\n"
      ]
    },
    {
      "cell_type": "code",
      "metadata": {
        "colab": {
          "base_uri": "https://localhost:8080/"
        },
        "id": "k9ArQG4DnRwI",
        "outputId": "1ec3de12-1585-49b2-c224-7a564d6d021f"
      },
      "source": [
        "print(df['mate_alcohol'].value_counts())\n",
        "print(\"NaN : \", df['mate_alcohol'].isnull().sum())"
      ],
      "execution_count": 300,
      "outputs": [
        {
          "output_type": "stream",
          "name": "stdout",
          "text": [
            "메이트가 술주정만 하지 않으면 된다                                                         41\n",
            "메이트의 술 문제는 신경쓰지 않는다                                                          9\n",
            "메이트의 술 문제는 신경쓰지 않는다\\t메이트가 술주정만 하지 않으면 된다                                     6\n",
            "메이트가 술 냄새를 풍기는 것은 싫다\\t메이트가 술을 많이 마신 것 같은 모습을 보이면 싫다                          5\n",
            "메이트가 술 냄새를 풍기는 것은 싫다                                                         5\n",
            "메이트가 술을 많이 마신 것 같은 모습을 보이면 싫다                                                2\n",
            "소음은 없었으면 좋겠다.                                                                1\n",
            "메이트가 술 냄새를 풍기는 것은 싫다\\t메이트가 술을 많이 마신 것 같은 모습을 보이면 싫다\\t메이트가 술주정만 하지 않으면 된다     1\n",
            "메이트의 술 문제는 신경쓰지 않는다\\t메이트가 술 냄새를 풍기는 것은 싫다\\t메이트가 술을 많이 마신 것 같은 모습을 보이면 싫다     1\n",
            "Name: mate_alcohol, dtype: int64\n",
            "NaN :  1\n"
          ]
        }
      ]
    },
    {
      "cell_type": "code",
      "metadata": {
        "colab": {
          "base_uri": "https://localhost:8080/"
        },
        "id": "CDsCzmCJnvZN",
        "outputId": "62aaa180-e0c2-4f9a-fc8a-4a7463828f0f"
      },
      "source": [
        "def func(x):\n",
        "  if '메이트가 술 냄새를 풍기는 것은 싫다' in str(x):\n",
        "    return 1\n",
        "  elif '메이트가 술을 많이 마신 것 같은 모습을 보이면 싫다'in str(x):\n",
        "    return 0.66\n",
        "  elif '메이트가 술주정만 하지 않으면 된다' in str(x):\n",
        "    return 0.33\n",
        "  elif '메이트의 술 문제는 신경쓰지 않는다' in str(x):\n",
        "    return 0\n",
        "  else:\n",
        "    return np.nan\n",
        "\n",
        "df['mate_alcohol'] = df['mate_alcohol'].apply(lambda x : func(x))\n",
        "print(df['mate_alcohol'].value_counts())\n",
        "print(\"NaN : \", df['mate_alcohol'].isnull().sum())"
      ],
      "execution_count": 301,
      "outputs": [
        {
          "output_type": "stream",
          "name": "stdout",
          "text": [
            "0.33    47\n",
            "1.00    12\n",
            "0.00     9\n",
            "0.66     2\n",
            "Name: mate_alcohol, dtype: int64\n",
            "NaN :  2\n"
          ]
        }
      ]
    },
    {
      "cell_type": "code",
      "metadata": {
        "colab": {
          "base_uri": "https://localhost:8080/"
        },
        "id": "xo8mWjfCpeSR",
        "outputId": "1ff2ce6d-6462-4e60-8796-e0601cf26d46"
      },
      "source": [
        "# mean으로 결측치 채움\n",
        "df['mate_alcohol'] = df['mate_alcohol'].fillna(df['mate_alcohol'].mean())\n",
        "print(df['mate_alcohol'].value_counts())\n",
        "print(\"NaN : \", df['mate_alcohol'].isnull().sum())"
      ],
      "execution_count": 302,
      "outputs": [
        {
          "output_type": "stream",
          "name": "stdout",
          "text": [
            "0.330000    47\n",
            "1.000000    12\n",
            "0.000000     9\n",
            "0.411857     2\n",
            "0.660000     2\n",
            "Name: mate_alcohol, dtype: int64\n",
            "NaN :  0\n"
          ]
        }
      ]
    },
    {
      "cell_type": "markdown",
      "metadata": {
        "id": "Gqgpn10rpqOs"
      },
      "source": [
        "- mate_clean : 내 공간만 아니면 신경쓰이지 않는다, 공유하는 공간의 경우 신경쓰인다, 메이트의 공간까지 신경쓰인다"
      ]
    },
    {
      "cell_type": "code",
      "metadata": {
        "colab": {
          "base_uri": "https://localhost:8080/"
        },
        "id": "IIU9WylUputv",
        "outputId": "c7e5e41f-8d63-40ab-e038-ce09aab724a8"
      },
      "source": [
        "print(df['mate_clean'].value_counts())\n",
        "print(\"NaN : \", df['mate_clean'].isnull().sum())"
      ],
      "execution_count": 303,
      "outputs": [
        {
          "output_type": "stream",
          "name": "stdout",
          "text": [
            "공유하는 공간의 경우 신경쓰인다      50\n",
            "내 공간만 아니면 신경쓰이지 않는다    16\n",
            "메이트의 공간까지 신경쓰인다         5\n",
            "2                       1\n",
            "Name: mate_clean, dtype: int64\n",
            "NaN :  0\n"
          ]
        }
      ]
    },
    {
      "cell_type": "code",
      "metadata": {
        "colab": {
          "base_uri": "https://localhost:8080/"
        },
        "id": "4isUouqJqA92",
        "outputId": "7ffe564e-c376-477c-d36a-13a76a755d5b"
      },
      "source": [
        "def func(x):\n",
        "  if '메이트의 공간까지 신경쓰인다' in str(x):\n",
        "    return 1\n",
        "  elif '공유하는 공간의 경우 신경쓰인다'in str(x):\n",
        "    return 0.5\n",
        "  elif '내 공간만 아니면 신경쓰이지 않는다' in str(x):\n",
        "    return 0\n",
        "  else:\n",
        "    return np.nan\n",
        "\n",
        "df['mate_clean'] = df['mate_clean'].apply(lambda x : func(x))\n",
        "print(df['mate_clean'].value_counts())\n",
        "print(\"NaN : \", df['mate_clean'].isnull().sum())"
      ],
      "execution_count": 304,
      "outputs": [
        {
          "output_type": "stream",
          "name": "stdout",
          "text": [
            "0.5    50\n",
            "0.0    16\n",
            "1.0     5\n",
            "Name: mate_clean, dtype: int64\n",
            "NaN :  1\n"
          ]
        }
      ]
    },
    {
      "cell_type": "code",
      "metadata": {
        "colab": {
          "base_uri": "https://localhost:8080/"
        },
        "id": "yaD3cSGFqYAn",
        "outputId": "9c69107f-09f2-41ed-e5f3-3d2a2ad06005"
      },
      "source": [
        "# mean으로 결측치 채움\n",
        "df['mate_clean'] = df['mate_clean'].fillna(df['mate_clean'].mean())\n",
        "print(df['mate_clean'].value_counts())\n",
        "print(\"NaN : \", df['mate_clean'].isnull().sum())"
      ],
      "execution_count": 305,
      "outputs": [
        {
          "output_type": "stream",
          "name": "stdout",
          "text": [
            "0.500000    50\n",
            "0.000000    16\n",
            "1.000000     5\n",
            "0.422535     1\n",
            "Name: mate_clean, dtype: int64\n",
            "NaN :  0\n"
          ]
        }
      ]
    },
    {
      "cell_type": "markdown",
      "metadata": {
        "id": "sldCYKj3qsvm"
      },
      "source": [
        "- permission_to_enter : 본인이 없을 때 말없이 지인이 잠깐 출입해도 상관없다., 미리 말만 하면 지인이 출입해도 상관없다., 누구든 데려오면 안된다."
      ]
    },
    {
      "cell_type": "code",
      "metadata": {
        "colab": {
          "base_uri": "https://localhost:8080/"
        },
        "id": "brzEUVbXqtlr",
        "outputId": "461388b7-d77e-422c-f294-17c1f9550b39"
      },
      "source": [
        "print(df['permission_to_enter'].value_counts())\n",
        "print(\"NaN : \", df['permission_to_enter'].isnull().sum())"
      ],
      "execution_count": 306,
      "outputs": [
        {
          "output_type": "stream",
          "name": "stdout",
          "text": [
            "미리 말만 하면 지인이 출입해도 상관없다.           56\n",
            "누구든 데려오면 안된다.                     10\n",
            "본인이 없을 때 말없이 지인이 잠깐 출입해도 상관없다.     6\n",
            "Name: permission_to_enter, dtype: int64\n",
            "NaN :  0\n"
          ]
        }
      ]
    },
    {
      "cell_type": "code",
      "metadata": {
        "colab": {
          "base_uri": "https://localhost:8080/"
        },
        "id": "01GW6r6ArI5F",
        "outputId": "5364b4d8-b173-42c5-b6cd-657dee087e93"
      },
      "source": [
        "def func(x):\n",
        "  if '누구든 데려오면 안된다.' in str(x):\n",
        "    return 1\n",
        "  elif '미리 말만 하면 지인이 출입해도 상관없다.'in str(x):\n",
        "    return 0.5\n",
        "  elif '본인이 없을 때 말없이 지인이 잠깐 출입해도 상관없다.' in str(x):\n",
        "    return 0\n",
        "  else:\n",
        "    return np.nan\n",
        "\n",
        "df['permission_to_enter'] = df['permission_to_enter'].apply(lambda x : func(x))\n",
        "print(df['permission_to_enter'].value_counts())\n",
        "print(\"NaN : \", df['permission_to_enter'].isnull().sum())"
      ],
      "execution_count": 307,
      "outputs": [
        {
          "output_type": "stream",
          "name": "stdout",
          "text": [
            "0.5    56\n",
            "1.0    10\n",
            "0.0     6\n",
            "Name: permission_to_enter, dtype: int64\n",
            "NaN :  0\n"
          ]
        }
      ]
    },
    {
      "cell_type": "markdown",
      "metadata": {
        "id": "t3HUzgnx8dPR"
      },
      "source": [
        "### 데이터 전처리 후 테이블 확인"
      ]
    },
    {
      "cell_type": "code",
      "metadata": {
        "colab": {
          "base_uri": "https://localhost:8080/"
        },
        "id": "j1vapL7R8k-8",
        "outputId": "a5c46913-661b-4723-d71d-fc1e212b5e2c"
      },
      "source": [
        "df.columns"
      ],
      "execution_count": 308,
      "outputs": [
        {
          "output_type": "execute_result",
          "data": {
            "text/plain": [
              "Index(['time', 'sex', 'age', 'mbti', 'user_smoking', 'mate_smoking',\n",
              "       'user_pet', 'user_bug_killer', 'mate_bug_killer', 'user_cooking',\n",
              "       'mate_cooking', 'eat_together', 'share_item', 'mate_alcohol',\n",
              "       'mate_clean', 'permission_to_enter', 'user_pet_dog', 'user_pet_cat',\n",
              "       'user_pet_reptie_fish', 'user_pet_rodent', 'user_pet_bird', 'mate_pet',\n",
              "       'mate_pet_dog', 'mate_pet_cat', 'mate_pet_reptie_fish',\n",
              "       'mate_pet_rodent', 'mate_pet_bird', 'air_like_airconditioner',\n",
              "       'air_night_airconditioner', 'air_like_heater', 'noise_talking',\n",
              "       'noise_music', 'noise_alarm'],\n",
              "      dtype='object')"
            ]
          },
          "metadata": {},
          "execution_count": 308
        }
      ]
    },
    {
      "cell_type": "code",
      "metadata": {
        "colab": {
          "base_uri": "https://localhost:8080/"
        },
        "id": "osisrxDV8qQj",
        "outputId": "3b17529a-cd90-421c-f2c1-7df130ed8434"
      },
      "source": [
        "df.info()"
      ],
      "execution_count": 309,
      "outputs": [
        {
          "output_type": "stream",
          "name": "stdout",
          "text": [
            "<class 'pandas.core.frame.DataFrame'>\n",
            "RangeIndex: 72 entries, 0 to 71\n",
            "Data columns (total 33 columns):\n",
            " #   Column                    Non-Null Count  Dtype         \n",
            "---  ------                    --------------  -----         \n",
            " 0   time                      72 non-null     datetime64[ns]\n",
            " 1   sex                       72 non-null     int64         \n",
            " 2   age                       72 non-null     float64       \n",
            " 3   mbti                      72 non-null     object        \n",
            " 4   user_smoking              72 non-null     int64         \n",
            " 5   mate_smoking              72 non-null     float64       \n",
            " 6   user_pet                  72 non-null     int64         \n",
            " 7   user_bug_killer           72 non-null     float64       \n",
            " 8   mate_bug_killer           72 non-null     int64         \n",
            " 9   user_cooking              72 non-null     int64         \n",
            " 10  mate_cooking              72 non-null     int64         \n",
            " 11  eat_together              72 non-null     int64         \n",
            " 12  share_item                72 non-null     float64       \n",
            " 13  mate_alcohol              72 non-null     float64       \n",
            " 14  mate_clean                72 non-null     float64       \n",
            " 15  permission_to_enter       72 non-null     float64       \n",
            " 16  user_pet_dog              72 non-null     int64         \n",
            " 17  user_pet_cat              72 non-null     int64         \n",
            " 18  user_pet_reptie_fish      72 non-null     int64         \n",
            " 19  user_pet_rodent           72 non-null     int64         \n",
            " 20  user_pet_bird             72 non-null     int64         \n",
            " 21  mate_pet                  72 non-null     float64       \n",
            " 22  mate_pet_dog              72 non-null     float64       \n",
            " 23  mate_pet_cat              72 non-null     float64       \n",
            " 24  mate_pet_reptie_fish      72 non-null     float64       \n",
            " 25  mate_pet_rodent           72 non-null     float64       \n",
            " 26  mate_pet_bird             72 non-null     float64       \n",
            " 27  air_like_airconditioner   72 non-null     int64         \n",
            " 28  air_night_airconditioner  72 non-null     int64         \n",
            " 29  air_like_heater           72 non-null     float64       \n",
            " 30  noise_talking             72 non-null     float64       \n",
            " 31  noise_music               72 non-null     float64       \n",
            " 32  noise_alarm               72 non-null     int64         \n",
            "dtypes: datetime64[ns](1), float64(16), int64(15), object(1)\n",
            "memory usage: 18.7+ KB\n"
          ]
        }
      ]
    },
    {
      "cell_type": "code",
      "metadata": {
        "colab": {
          "base_uri": "https://localhost:8080/",
          "height": 391
        },
        "id": "chHczIb88hKt",
        "outputId": "6ad05626-084d-41f6-9b4c-ca57be87f10c"
      },
      "source": [
        "df.head()"
      ],
      "execution_count": 310,
      "outputs": [
        {
          "output_type": "execute_result",
          "data": {
            "text/html": [
              "<div>\n",
              "<style scoped>\n",
              "    .dataframe tbody tr th:only-of-type {\n",
              "        vertical-align: middle;\n",
              "    }\n",
              "\n",
              "    .dataframe tbody tr th {\n",
              "        vertical-align: top;\n",
              "    }\n",
              "\n",
              "    .dataframe thead th {\n",
              "        text-align: right;\n",
              "    }\n",
              "</style>\n",
              "<table border=\"1\" class=\"dataframe\">\n",
              "  <thead>\n",
              "    <tr style=\"text-align: right;\">\n",
              "      <th></th>\n",
              "      <th>time</th>\n",
              "      <th>sex</th>\n",
              "      <th>age</th>\n",
              "      <th>mbti</th>\n",
              "      <th>user_smoking</th>\n",
              "      <th>mate_smoking</th>\n",
              "      <th>user_pet</th>\n",
              "      <th>user_bug_killer</th>\n",
              "      <th>mate_bug_killer</th>\n",
              "      <th>user_cooking</th>\n",
              "      <th>mate_cooking</th>\n",
              "      <th>eat_together</th>\n",
              "      <th>share_item</th>\n",
              "      <th>mate_alcohol</th>\n",
              "      <th>mate_clean</th>\n",
              "      <th>permission_to_enter</th>\n",
              "      <th>user_pet_dog</th>\n",
              "      <th>user_pet_cat</th>\n",
              "      <th>user_pet_reptie_fish</th>\n",
              "      <th>user_pet_rodent</th>\n",
              "      <th>user_pet_bird</th>\n",
              "      <th>mate_pet</th>\n",
              "      <th>mate_pet_dog</th>\n",
              "      <th>mate_pet_cat</th>\n",
              "      <th>mate_pet_reptie_fish</th>\n",
              "      <th>mate_pet_rodent</th>\n",
              "      <th>mate_pet_bird</th>\n",
              "      <th>air_like_airconditioner</th>\n",
              "      <th>air_night_airconditioner</th>\n",
              "      <th>air_like_heater</th>\n",
              "      <th>noise_talking</th>\n",
              "      <th>noise_music</th>\n",
              "      <th>noise_alarm</th>\n",
              "    </tr>\n",
              "  </thead>\n",
              "  <tbody>\n",
              "    <tr>\n",
              "      <th>0</th>\n",
              "      <td>2021-10-20 11:29:52</td>\n",
              "      <td>1</td>\n",
              "      <td>0.4</td>\n",
              "      <td>infp</td>\n",
              "      <td>0</td>\n",
              "      <td>0.0</td>\n",
              "      <td>0</td>\n",
              "      <td>0.573944</td>\n",
              "      <td>1</td>\n",
              "      <td>0</td>\n",
              "      <td>0</td>\n",
              "      <td>0</td>\n",
              "      <td>0.704225</td>\n",
              "      <td>0.411857</td>\n",
              "      <td>0.422535</td>\n",
              "      <td>1.0</td>\n",
              "      <td>0</td>\n",
              "      <td>0</td>\n",
              "      <td>0</td>\n",
              "      <td>0</td>\n",
              "      <td>0</td>\n",
              "      <td>0.5</td>\n",
              "      <td>0.5</td>\n",
              "      <td>0.5</td>\n",
              "      <td>0.0</td>\n",
              "      <td>0.0</td>\n",
              "      <td>0.0</td>\n",
              "      <td>0</td>\n",
              "      <td>0</td>\n",
              "      <td>0.5</td>\n",
              "      <td>0.0</td>\n",
              "      <td>0.0</td>\n",
              "      <td>0</td>\n",
              "    </tr>\n",
              "    <tr>\n",
              "      <th>1</th>\n",
              "      <td>2021-10-22 01:16:34</td>\n",
              "      <td>0</td>\n",
              "      <td>0.6</td>\n",
              "      <td>intp</td>\n",
              "      <td>0</td>\n",
              "      <td>0.0</td>\n",
              "      <td>0</td>\n",
              "      <td>0.750000</td>\n",
              "      <td>0</td>\n",
              "      <td>0</td>\n",
              "      <td>0</td>\n",
              "      <td>0</td>\n",
              "      <td>0.750000</td>\n",
              "      <td>0.330000</td>\n",
              "      <td>0.000000</td>\n",
              "      <td>0.5</td>\n",
              "      <td>0</td>\n",
              "      <td>0</td>\n",
              "      <td>0</td>\n",
              "      <td>0</td>\n",
              "      <td>0</td>\n",
              "      <td>0.5</td>\n",
              "      <td>0.5</td>\n",
              "      <td>0.5</td>\n",
              "      <td>0.0</td>\n",
              "      <td>0.0</td>\n",
              "      <td>0.0</td>\n",
              "      <td>1</td>\n",
              "      <td>0</td>\n",
              "      <td>0.0</td>\n",
              "      <td>0.0</td>\n",
              "      <td>0.0</td>\n",
              "      <td>0</td>\n",
              "    </tr>\n",
              "    <tr>\n",
              "      <th>2</th>\n",
              "      <td>2021-10-22 01:29:18</td>\n",
              "      <td>1</td>\n",
              "      <td>0.2</td>\n",
              "      <td>esfp</td>\n",
              "      <td>0</td>\n",
              "      <td>0.0</td>\n",
              "      <td>0</td>\n",
              "      <td>0.000000</td>\n",
              "      <td>1</td>\n",
              "      <td>1</td>\n",
              "      <td>0</td>\n",
              "      <td>0</td>\n",
              "      <td>0.750000</td>\n",
              "      <td>0.330000</td>\n",
              "      <td>0.500000</td>\n",
              "      <td>0.5</td>\n",
              "      <td>0</td>\n",
              "      <td>0</td>\n",
              "      <td>0</td>\n",
              "      <td>0</td>\n",
              "      <td>0</td>\n",
              "      <td>0.5</td>\n",
              "      <td>0.5</td>\n",
              "      <td>0.5</td>\n",
              "      <td>0.0</td>\n",
              "      <td>0.0</td>\n",
              "      <td>0.5</td>\n",
              "      <td>1</td>\n",
              "      <td>0</td>\n",
              "      <td>1.0</td>\n",
              "      <td>0.0</td>\n",
              "      <td>0.5</td>\n",
              "      <td>1</td>\n",
              "    </tr>\n",
              "    <tr>\n",
              "      <th>3</th>\n",
              "      <td>2021-10-22 01:31:02</td>\n",
              "      <td>0</td>\n",
              "      <td>0.2</td>\n",
              "      <td>모른다</td>\n",
              "      <td>0</td>\n",
              "      <td>0.0</td>\n",
              "      <td>0</td>\n",
              "      <td>1.000000</td>\n",
              "      <td>0</td>\n",
              "      <td>0</td>\n",
              "      <td>0</td>\n",
              "      <td>1</td>\n",
              "      <td>0.750000</td>\n",
              "      <td>0.000000</td>\n",
              "      <td>0.500000</td>\n",
              "      <td>0.5</td>\n",
              "      <td>0</td>\n",
              "      <td>0</td>\n",
              "      <td>0</td>\n",
              "      <td>0</td>\n",
              "      <td>0</td>\n",
              "      <td>1.0</td>\n",
              "      <td>0.0</td>\n",
              "      <td>0.0</td>\n",
              "      <td>0.0</td>\n",
              "      <td>0.0</td>\n",
              "      <td>0.0</td>\n",
              "      <td>0</td>\n",
              "      <td>0</td>\n",
              "      <td>0.5</td>\n",
              "      <td>0.0</td>\n",
              "      <td>0.0</td>\n",
              "      <td>0</td>\n",
              "    </tr>\n",
              "    <tr>\n",
              "      <th>4</th>\n",
              "      <td>2021-10-22 01:33:35</td>\n",
              "      <td>0</td>\n",
              "      <td>0.2</td>\n",
              "      <td>intp</td>\n",
              "      <td>0</td>\n",
              "      <td>0.0</td>\n",
              "      <td>0</td>\n",
              "      <td>0.750000</td>\n",
              "      <td>0</td>\n",
              "      <td>0</td>\n",
              "      <td>0</td>\n",
              "      <td>0</td>\n",
              "      <td>0.000000</td>\n",
              "      <td>1.000000</td>\n",
              "      <td>0.500000</td>\n",
              "      <td>0.5</td>\n",
              "      <td>0</td>\n",
              "      <td>0</td>\n",
              "      <td>0</td>\n",
              "      <td>0</td>\n",
              "      <td>0</td>\n",
              "      <td>1.0</td>\n",
              "      <td>0.0</td>\n",
              "      <td>0.0</td>\n",
              "      <td>0.0</td>\n",
              "      <td>0.0</td>\n",
              "      <td>0.0</td>\n",
              "      <td>0</td>\n",
              "      <td>0</td>\n",
              "      <td>0.0</td>\n",
              "      <td>0.0</td>\n",
              "      <td>0.0</td>\n",
              "      <td>1</td>\n",
              "    </tr>\n",
              "  </tbody>\n",
              "</table>\n",
              "</div>"
            ],
            "text/plain": [
              "                 time  sex  age  ... noise_talking  noise_music  noise_alarm\n",
              "0 2021-10-20 11:29:52    1  0.4  ...           0.0          0.0            0\n",
              "1 2021-10-22 01:16:34    0  0.6  ...           0.0          0.0            0\n",
              "2 2021-10-22 01:29:18    1  0.2  ...           0.0          0.5            1\n",
              "3 2021-10-22 01:31:02    0  0.2  ...           0.0          0.0            0\n",
              "4 2021-10-22 01:33:35    0  0.2  ...           0.0          0.0            1\n",
              "\n",
              "[5 rows x 33 columns]"
            ]
          },
          "metadata": {},
          "execution_count": 310
        }
      ]
    },
    {
      "cell_type": "markdown",
      "metadata": {
        "id": "eGBM21YLZV17"
      },
      "source": [
        "### KNN"
      ]
    },
    {
      "cell_type": "markdown",
      "metadata": {
        "id": "wzzjILKQ-RHL"
      },
      "source": [
        "- KNN 알고리즘 직접 구현\n",
        "- 참고 : https://iludaslab.tistory.com/36"
      ]
    },
    {
      "cell_type": "code",
      "metadata": {
        "id": "gUom46tRzZpe"
      },
      "source": [
        "# 사용자 사이의 거리를 구하는 함수\n",
        "def distance(u1, u2):\n",
        "  ''' 사용자 사이의 거리 리턴 '''\n",
        "  return np.sqrt(np.sum(np.power((u2-u1),2)))"
      ],
      "execution_count": 311,
      "outputs": []
    },
    {
      "cell_type": "code",
      "metadata": {
        "colab": {
          "base_uri": "https://localhost:8080/"
        },
        "id": "5iL24Cil67oe",
        "outputId": "978411b7-4f2c-459b-98eb-40e5cc62b2ac"
      },
      "source": [
        "# 사용자 사이의 거리 구하기 테스트\n",
        "u1 = np.array([1,3,5,6])\n",
        "u2 = np.array([2,6,8,4])\n",
        "\n",
        "print(distance(u1, u2))"
      ],
      "execution_count": 312,
      "outputs": [
        {
          "output_type": "stream",
          "name": "stdout",
          "text": [
            "4.795831523312719\n"
          ]
        }
      ]
    },
    {
      "cell_type": "code",
      "metadata": {
        "colab": {
          "base_uri": "https://localhost:8080/"
        },
        "id": "sDdG5sDc7j5b",
        "outputId": "116c7485-e019-41a5-ccfd-01d80581b344"
      },
      "source": [
        "# 일부 컬럼만 가져온 사용자 매칭 정보 데이터세트\n",
        "dataset = df[['time', 'sex', 'age', 'air_night_airconditioner', 'noise_alarm', 'eat_together', 'share_item', 'mate_alcohol', 'mate_clean', 'permission_to_enter']]\n",
        "\n",
        "distance_result = np.zeros(len(dataset))\n",
        "\n",
        "# 기준 사용자와 다른 사용자 간의 거리를 구한다.\n",
        "for i in range(len(dataset)):\n",
        "  distance_result[i] = distance(dataset.iloc[0, 1:], dataset.iloc[i, 1:])\n",
        "\n",
        "print(distance_result)"
      ],
      "execution_count": 313,
      "outputs": [
        {
          "output_type": "stream",
          "name": "stdout",
          "text": [
            "[0.         1.21545544 1.14227698 1.5708986  1.77139667 1.73631699\n",
            " 1.8422834  1.67825604 1.50492415 0.55208396 1.50492415 1.67825604\n",
            " 1.12463181 1.50492415 1.533055   1.50492415 1.47896312 1.96303566\n",
            " 1.85062063 1.68755627 1.51815569 1.12463181 0.7169436  1.71206599\n",
            " 1.00737118 1.56119567 1.14227698 0.79514872 1.61369394 1.2775999\n",
            " 1.81790998 1.17906065 1.61005015 1.33984596 0.69089212 1.56119567\n",
            " 1.49242484 0.41808696 1.80687484 2.01365258 1.56119567 1.66253064\n",
            " 0.51458401 1.75825849 1.79647764 0.800161   1.51815569 1.50492415\n",
            " 1.86218217 1.80687484 1.17621573 1.51815569 1.19888778 1.80687484\n",
            " 1.80687484 1.73631699 1.32815968 1.12463181 1.14227698 1.12463181\n",
            " 1.62488696 1.19487339 1.83139513 1.18068122 1.21545544 1.02703296\n",
            " 1.21149594 1.50492415 1.14227698 1.60863993 1.14227698 0.90194735]\n"
          ]
        }
      ]
    },
    {
      "cell_type": "code",
      "metadata": {
        "colab": {
          "base_uri": "https://localhost:8080/"
        },
        "id": "oV0laB0f8gU0",
        "outputId": "f4303d0f-d40d-41a6-f9e6-ba0121928e31"
      },
      "source": [
        "# 오름차순으로 정렬하여 인덱스 리턴\n",
        "print(np.argsort(distance_result))"
      ],
      "execution_count": 314,
      "outputs": [
        {
          "output_type": "stream",
          "name": "stdout",
          "text": [
            "[ 0 37 42  9 34 22 27 45 71 24 65 21 12 59 57 26  2 58 70 68 50 31 63 61\n",
            " 52 66  1 64 29 56 33 16 36 13 67 15  8 10 47 46 20 51 14 40 35 25  3 69\n",
            " 32 28 60 41 11  7 19 23 55  5 43  4 44 53 54 38 49 30 62  6 18 48 17 39]\n"
          ]
        }
      ]
    },
    {
      "cell_type": "code",
      "metadata": {
        "id": "mbjooYZmJ08U"
      },
      "source": [
        "# 일부 컬럼만 가져온 사용자 매칭 정보 데이터세트\n",
        "dataset = df[['mbti', 'sex', 'age', 'air_night_airconditioner', 'noise_alarm', 'eat_together', 'share_item', 'mate_alcohol', 'mate_clean', 'permission_to_enter']]"
      ],
      "execution_count": 315,
      "outputs": []
    },
    {
      "cell_type": "code",
      "metadata": {
        "id": "qlWzJQw_FERC"
      },
      "source": [
        "user = dataset.iloc[0]"
      ],
      "execution_count": 316,
      "outputs": []
    },
    {
      "cell_type": "code",
      "metadata": {
        "id": "S4SKhnCiBK3V"
      },
      "source": [
        "user_data = df.iloc[0]"
      ],
      "execution_count": 317,
      "outputs": []
    },
    {
      "cell_type": "code",
      "metadata": {
        "colab": {
          "base_uri": "https://localhost:8080/"
        },
        "id": "hk9HyZwaKXE6",
        "outputId": "11459cb3-5e03-4780-d61d-f19adacc5f26"
      },
      "source": [
        "if user_data['mate_pet'] == 1:\n",
        "  is_not_user_pet = df['user_pet'] == 0\n",
        "  dataset = dataset[is_not_user_pet]\n",
        "elif user_data['mate_pet'] == 0.5:\n",
        "  # user[['pet_dog', 'pet_cat', 'pet_reptie_fish', 'pet_rodent', 'pet_bird']] = user_data[['mate_pet_dog', 'mate_pet_cat', 'mate_pet_reptie_fish', 'mate_pet_rodent', 'mate_pet_bird']]\n",
        "  user['pet_dog'], user['pet_cat'], user['pet_reptie_fish'], user['pet_rodent'], user['pet_bird'] = user_data['mate_pet_dog'], user_data['mate_pet_cat'], user_data['mate_pet_reptie_fish'], user_data['mate_pet_rodent'], user_data['mate_pet_bird']\n",
        "  dataset[['pet_dog', 'pet_cat', 'pet_reptie_fish', 'pet_rodent', 'pet_bird']] = df[['user_pet_dog', 'user_pet_cat', 'user_pet_reptie_fish', 'user_pet_rodent', 'user_pet_bird']]\n",
        "\n",
        "print(user)\n",
        "print(dataset)"
      ],
      "execution_count": 318,
      "outputs": [
        {
          "output_type": "stream",
          "name": "stdout",
          "text": [
            "mbti                            infp\n",
            "sex                                1\n",
            "age                              0.4\n",
            "air_night_airconditioner           0\n",
            "noise_alarm                        0\n",
            "eat_together                       0\n",
            "share_item                  0.704225\n",
            "mate_alcohol                0.411857\n",
            "mate_clean                  0.422535\n",
            "permission_to_enter                1\n",
            "pet_dog                          0.5\n",
            "pet_cat                          0.5\n",
            "pet_reptie_fish                    0\n",
            "pet_rodent                         0\n",
            "pet_bird                           0\n",
            "Name: 0, dtype: object\n",
            "    mbti  sex  age  ...  pet_reptie_fish  pet_rodent  pet_bird\n",
            "0   infp    1  0.4  ...                0           0         0\n",
            "1   intp    0  0.6  ...                0           0         0\n",
            "2   esfp    1  0.2  ...                0           0         0\n",
            "3    모른다    0  0.2  ...                0           0         0\n",
            "4   intp    0  0.2  ...                0           0         0\n",
            "..   ...  ...  ...  ...              ...         ...       ...\n",
            "67  isfj    0  0.4  ...                0           0         0\n",
            "68  isfj    1  0.2  ...                0           0         0\n",
            "69   모른다    1  0.8  ...                0           0         0\n",
            "70  intp    1  0.2  ...                0           0         0\n",
            "71  istp    1  0.4  ...                0           0         0\n",
            "\n",
            "[72 rows x 15 columns]\n"
          ]
        },
        {
          "output_type": "stream",
          "name": "stderr",
          "text": [
            "/usr/local/lib/python3.7/dist-packages/ipykernel_launcher.py:6: SettingWithCopyWarning: \n",
            "A value is trying to be set on a copy of a slice from a DataFrame\n",
            "\n",
            "See the caveats in the documentation: https://pandas.pydata.org/pandas-docs/stable/user_guide/indexing.html#returning-a-view-versus-a-copy\n",
            "  \n",
            "/usr/local/lib/python3.7/dist-packages/pandas/core/indexing.py:670: SettingWithCopyWarning: \n",
            "A value is trying to be set on a copy of a slice from a DataFrame\n",
            "\n",
            "See the caveats in the documentation: https://pandas.pydata.org/pandas-docs/stable/user_guide/indexing.html#returning-a-view-versus-a-copy\n",
            "  iloc._setitem_with_indexer(indexer, value)\n",
            "/usr/local/lib/python3.7/dist-packages/pandas/core/frame.py:3069: SettingWithCopyWarning: \n",
            "A value is trying to be set on a copy of a slice from a DataFrame.\n",
            "Try using .loc[row_indexer,col_indexer] = value instead\n",
            "\n",
            "See the caveats in the documentation: https://pandas.pydata.org/pandas-docs/stable/user_guide/indexing.html#returning-a-view-versus-a-copy\n",
            "  self[k1] = value[k2]\n"
          ]
        }
      ]
    },
    {
      "cell_type": "code",
      "metadata": {
        "colab": {
          "base_uri": "https://localhost:8080/"
        },
        "id": "1edBJdQsBsCW",
        "outputId": "4eb7c0f8-e089-4df5-cabc-5eaeb11ee99c"
      },
      "source": [
        "if user_data['mate_smoking'] != 0.5:\n",
        "  user['smoking'] = df.iloc[0]['mate_smoking']\n",
        "  dataset['smoking'] = df['user_smoking']\n",
        "print(user)\n",
        "print(dataset)"
      ],
      "execution_count": 319,
      "outputs": [
        {
          "output_type": "stream",
          "name": "stdout",
          "text": [
            "mbti                            infp\n",
            "sex                                1\n",
            "age                              0.4\n",
            "air_night_airconditioner           0\n",
            "noise_alarm                        0\n",
            "eat_together                       0\n",
            "share_item                  0.704225\n",
            "mate_alcohol                0.411857\n",
            "mate_clean                  0.422535\n",
            "permission_to_enter                1\n",
            "pet_dog                          0.5\n",
            "pet_cat                          0.5\n",
            "pet_reptie_fish                    0\n",
            "pet_rodent                         0\n",
            "pet_bird                           0\n",
            "smoking                            0\n",
            "Name: 0, dtype: object\n",
            "    mbti  sex  age  ...  pet_rodent  pet_bird  smoking\n",
            "0   infp    1  0.4  ...           0         0        0\n",
            "1   intp    0  0.6  ...           0         0        0\n",
            "2   esfp    1  0.2  ...           0         0        0\n",
            "3    모른다    0  0.2  ...           0         0        0\n",
            "4   intp    0  0.2  ...           0         0        0\n",
            "..   ...  ...  ...  ...         ...       ...      ...\n",
            "67  isfj    0  0.4  ...           0         0        0\n",
            "68  isfj    1  0.2  ...           0         0        0\n",
            "69   모른다    1  0.8  ...           0         0        0\n",
            "70  intp    1  0.2  ...           0         0        0\n",
            "71  istp    1  0.4  ...           0         0        0\n",
            "\n",
            "[72 rows x 16 columns]\n"
          ]
        },
        {
          "output_type": "stream",
          "name": "stderr",
          "text": [
            "/usr/local/lib/python3.7/dist-packages/ipykernel_launcher.py:2: SettingWithCopyWarning: \n",
            "A value is trying to be set on a copy of a slice from a DataFrame\n",
            "\n",
            "See the caveats in the documentation: https://pandas.pydata.org/pandas-docs/stable/user_guide/indexing.html#returning-a-view-versus-a-copy\n",
            "  \n",
            "/usr/local/lib/python3.7/dist-packages/pandas/core/indexing.py:670: SettingWithCopyWarning: \n",
            "A value is trying to be set on a copy of a slice from a DataFrame\n",
            "\n",
            "See the caveats in the documentation: https://pandas.pydata.org/pandas-docs/stable/user_guide/indexing.html#returning-a-view-versus-a-copy\n",
            "  iloc._setitem_with_indexer(indexer, value)\n",
            "/usr/local/lib/python3.7/dist-packages/ipykernel_launcher.py:3: SettingWithCopyWarning: \n",
            "A value is trying to be set on a copy of a slice from a DataFrame.\n",
            "Try using .loc[row_indexer,col_indexer] = value instead\n",
            "\n",
            "See the caveats in the documentation: https://pandas.pydata.org/pandas-docs/stable/user_guide/indexing.html#returning-a-view-versus-a-copy\n",
            "  This is separate from the ipykernel package so we can avoid doing imports until\n"
          ]
        }
      ]
    },
    {
      "cell_type": "code",
      "metadata": {
        "colab": {
          "base_uri": "https://localhost:8080/"
        },
        "id": "8QOXm0f1HVwj",
        "outputId": "ccf2ccbd-959f-4643-a938-1267e0383861"
      },
      "source": [
        "if user_data['air_like_airconditioner'] != 0:\n",
        "  user['air_like_airconditioner'] = df.iloc[0]['air_like_airconditioner']\n",
        "  dataset['air_like_airconditioner'] = df['air_like_airconditioner']\n",
        "print(user)\n",
        "print(dataset)"
      ],
      "execution_count": 320,
      "outputs": [
        {
          "output_type": "stream",
          "name": "stdout",
          "text": [
            "mbti                            infp\n",
            "sex                                1\n",
            "age                              0.4\n",
            "air_night_airconditioner           0\n",
            "noise_alarm                        0\n",
            "eat_together                       0\n",
            "share_item                  0.704225\n",
            "mate_alcohol                0.411857\n",
            "mate_clean                  0.422535\n",
            "permission_to_enter                1\n",
            "pet_dog                          0.5\n",
            "pet_cat                          0.5\n",
            "pet_reptie_fish                    0\n",
            "pet_rodent                         0\n",
            "pet_bird                           0\n",
            "smoking                            0\n",
            "Name: 0, dtype: object\n",
            "    mbti  sex  age  ...  pet_rodent  pet_bird  smoking\n",
            "0   infp    1  0.4  ...           0         0        0\n",
            "1   intp    0  0.6  ...           0         0        0\n",
            "2   esfp    1  0.2  ...           0         0        0\n",
            "3    모른다    0  0.2  ...           0         0        0\n",
            "4   intp    0  0.2  ...           0         0        0\n",
            "..   ...  ...  ...  ...         ...       ...      ...\n",
            "67  isfj    0  0.4  ...           0         0        0\n",
            "68  isfj    1  0.2  ...           0         0        0\n",
            "69   모른다    1  0.8  ...           0         0        0\n",
            "70  intp    1  0.2  ...           0         0        0\n",
            "71  istp    1  0.4  ...           0         0        0\n",
            "\n",
            "[72 rows x 16 columns]\n"
          ]
        }
      ]
    },
    {
      "cell_type": "code",
      "metadata": {
        "colab": {
          "base_uri": "https://localhost:8080/"
        },
        "id": "9ewsP3GnHyF-",
        "outputId": "2f7369e6-5eef-42f3-b007-bcfd9c09a7c8"
      },
      "source": [
        "if user_data['air_like_heater'] != 0.5:\n",
        "  user['air_like_heater'] = df.iloc[0]['air_like_heater']\n",
        "  dataset['air_like_heater'] = df['air_like_heater']\n",
        "print(user)\n",
        "print(dataset)"
      ],
      "execution_count": 321,
      "outputs": [
        {
          "output_type": "stream",
          "name": "stdout",
          "text": [
            "mbti                            infp\n",
            "sex                                1\n",
            "age                              0.4\n",
            "air_night_airconditioner           0\n",
            "noise_alarm                        0\n",
            "eat_together                       0\n",
            "share_item                  0.704225\n",
            "mate_alcohol                0.411857\n",
            "mate_clean                  0.422535\n",
            "permission_to_enter                1\n",
            "pet_dog                          0.5\n",
            "pet_cat                          0.5\n",
            "pet_reptie_fish                    0\n",
            "pet_rodent                         0\n",
            "pet_bird                           0\n",
            "smoking                            0\n",
            "Name: 0, dtype: object\n",
            "    mbti  sex  age  ...  pet_rodent  pet_bird  smoking\n",
            "0   infp    1  0.4  ...           0         0        0\n",
            "1   intp    0  0.6  ...           0         0        0\n",
            "2   esfp    1  0.2  ...           0         0        0\n",
            "3    모른다    0  0.2  ...           0         0        0\n",
            "4   intp    0  0.2  ...           0         0        0\n",
            "..   ...  ...  ...  ...         ...       ...      ...\n",
            "67  isfj    0  0.4  ...           0         0        0\n",
            "68  isfj    1  0.2  ...           0         0        0\n",
            "69   모른다    1  0.8  ...           0         0        0\n",
            "70  intp    1  0.2  ...           0         0        0\n",
            "71  istp    1  0.4  ...           0         0        0\n",
            "\n",
            "[72 rows x 16 columns]\n"
          ]
        }
      ]
    },
    {
      "cell_type": "code",
      "metadata": {
        "colab": {
          "base_uri": "https://localhost:8080/"
        },
        "id": "Zr_rNW7hII94",
        "outputId": "a6a2f09b-d420-4758-8fbc-df0888c083c8"
      },
      "source": [
        "if user_data['noise_talking'] != 0:\n",
        "  user['noise_talking'] = df.iloc[0]['noise_talking']\n",
        "  dataset['noise_talking'] = df['noise_talking']\n",
        "print(user)\n",
        "print(dataset)"
      ],
      "execution_count": 322,
      "outputs": [
        {
          "output_type": "stream",
          "name": "stdout",
          "text": [
            "mbti                            infp\n",
            "sex                                1\n",
            "age                              0.4\n",
            "air_night_airconditioner           0\n",
            "noise_alarm                        0\n",
            "eat_together                       0\n",
            "share_item                  0.704225\n",
            "mate_alcohol                0.411857\n",
            "mate_clean                  0.422535\n",
            "permission_to_enter                1\n",
            "pet_dog                          0.5\n",
            "pet_cat                          0.5\n",
            "pet_reptie_fish                    0\n",
            "pet_rodent                         0\n",
            "pet_bird                           0\n",
            "smoking                            0\n",
            "Name: 0, dtype: object\n",
            "    mbti  sex  age  ...  pet_rodent  pet_bird  smoking\n",
            "0   infp    1  0.4  ...           0         0        0\n",
            "1   intp    0  0.6  ...           0         0        0\n",
            "2   esfp    1  0.2  ...           0         0        0\n",
            "3    모른다    0  0.2  ...           0         0        0\n",
            "4   intp    0  0.2  ...           0         0        0\n",
            "..   ...  ...  ...  ...         ...       ...      ...\n",
            "67  isfj    0  0.4  ...           0         0        0\n",
            "68  isfj    1  0.2  ...           0         0        0\n",
            "69   모른다    1  0.8  ...           0         0        0\n",
            "70  intp    1  0.2  ...           0         0        0\n",
            "71  istp    1  0.4  ...           0         0        0\n",
            "\n",
            "[72 rows x 16 columns]\n"
          ]
        }
      ]
    },
    {
      "cell_type": "code",
      "metadata": {
        "colab": {
          "base_uri": "https://localhost:8080/"
        },
        "id": "vMCw6QdgIVkd",
        "outputId": "865b2a29-a511-4974-dce3-be54b2756fcd"
      },
      "source": [
        "if user_data['noise_music'] != 0:\n",
        "  user['noise_music'] = df.iloc[0]['noise_music']\n",
        "  dataset['noise_music'] = df['noise_music']\n",
        "print(user)\n",
        "print(dataset)"
      ],
      "execution_count": 323,
      "outputs": [
        {
          "output_type": "stream",
          "name": "stdout",
          "text": [
            "mbti                            infp\n",
            "sex                                1\n",
            "age                              0.4\n",
            "air_night_airconditioner           0\n",
            "noise_alarm                        0\n",
            "eat_together                       0\n",
            "share_item                  0.704225\n",
            "mate_alcohol                0.411857\n",
            "mate_clean                  0.422535\n",
            "permission_to_enter                1\n",
            "pet_dog                          0.5\n",
            "pet_cat                          0.5\n",
            "pet_reptie_fish                    0\n",
            "pet_rodent                         0\n",
            "pet_bird                           0\n",
            "smoking                            0\n",
            "Name: 0, dtype: object\n",
            "    mbti  sex  age  ...  pet_rodent  pet_bird  smoking\n",
            "0   infp    1  0.4  ...           0         0        0\n",
            "1   intp    0  0.6  ...           0         0        0\n",
            "2   esfp    1  0.2  ...           0         0        0\n",
            "3    모른다    0  0.2  ...           0         0        0\n",
            "4   intp    0  0.2  ...           0         0        0\n",
            "..   ...  ...  ...  ...         ...       ...      ...\n",
            "67  isfj    0  0.4  ...           0         0        0\n",
            "68  isfj    1  0.2  ...           0         0        0\n",
            "69   모른다    1  0.8  ...           0         0        0\n",
            "70  intp    1  0.2  ...           0         0        0\n",
            "71  istp    1  0.4  ...           0         0        0\n",
            "\n",
            "[72 rows x 16 columns]\n"
          ]
        }
      ]
    },
    {
      "cell_type": "code",
      "metadata": {
        "colab": {
          "base_uri": "https://localhost:8080/"
        },
        "id": "KeDSDLBuIg6t",
        "outputId": "e3ac2795-f6a2-4500-cdc4-20bc31a0957f"
      },
      "source": [
        "if user_data['mate_bug_killer'] != 0:\n",
        "  user['bug_killer'] = df.iloc[0]['mate_bug_killer']\n",
        "  dataset['bug_killer'] = df['user_bug_killer']\n",
        "print(user)\n",
        "print(dataset)"
      ],
      "execution_count": 324,
      "outputs": [
        {
          "output_type": "stream",
          "name": "stdout",
          "text": [
            "mbti                            infp\n",
            "sex                                1\n",
            "age                              0.4\n",
            "air_night_airconditioner           0\n",
            "noise_alarm                        0\n",
            "eat_together                       0\n",
            "share_item                  0.704225\n",
            "mate_alcohol                0.411857\n",
            "mate_clean                  0.422535\n",
            "permission_to_enter                1\n",
            "pet_dog                          0.5\n",
            "pet_cat                          0.5\n",
            "pet_reptie_fish                    0\n",
            "pet_rodent                         0\n",
            "pet_bird                           0\n",
            "smoking                            0\n",
            "bug_killer                         1\n",
            "Name: 0, dtype: object\n",
            "    mbti  sex  age  ...  pet_bird  smoking  bug_killer\n",
            "0   infp    1  0.4  ...         0        0    0.573944\n",
            "1   intp    0  0.6  ...         0        0    0.750000\n",
            "2   esfp    1  0.2  ...         0        0    0.000000\n",
            "3    모른다    0  0.2  ...         0        0    1.000000\n",
            "4   intp    0  0.2  ...         0        0    0.750000\n",
            "..   ...  ...  ...  ...       ...      ...         ...\n",
            "67  isfj    0  0.4  ...         0        0    0.750000\n",
            "68  isfj    1  0.2  ...         0        0    1.000000\n",
            "69   모른다    1  0.8  ...         0        0    1.000000\n",
            "70  intp    1  0.2  ...         0        0    0.000000\n",
            "71  istp    1  0.4  ...         0        0    0.000000\n",
            "\n",
            "[72 rows x 17 columns]\n"
          ]
        },
        {
          "output_type": "stream",
          "name": "stderr",
          "text": [
            "/usr/local/lib/python3.7/dist-packages/ipykernel_launcher.py:2: SettingWithCopyWarning: \n",
            "A value is trying to be set on a copy of a slice from a DataFrame\n",
            "\n",
            "See the caveats in the documentation: https://pandas.pydata.org/pandas-docs/stable/user_guide/indexing.html#returning-a-view-versus-a-copy\n",
            "  \n",
            "/usr/local/lib/python3.7/dist-packages/pandas/core/indexing.py:670: SettingWithCopyWarning: \n",
            "A value is trying to be set on a copy of a slice from a DataFrame\n",
            "\n",
            "See the caveats in the documentation: https://pandas.pydata.org/pandas-docs/stable/user_guide/indexing.html#returning-a-view-versus-a-copy\n",
            "  iloc._setitem_with_indexer(indexer, value)\n",
            "/usr/local/lib/python3.7/dist-packages/ipykernel_launcher.py:3: SettingWithCopyWarning: \n",
            "A value is trying to be set on a copy of a slice from a DataFrame.\n",
            "Try using .loc[row_indexer,col_indexer] = value instead\n",
            "\n",
            "See the caveats in the documentation: https://pandas.pydata.org/pandas-docs/stable/user_guide/indexing.html#returning-a-view-versus-a-copy\n",
            "  This is separate from the ipykernel package so we can avoid doing imports until\n"
          ]
        }
      ]
    },
    {
      "cell_type": "code",
      "metadata": {
        "colab": {
          "base_uri": "https://localhost:8080/"
        },
        "id": "dTwtfXfkIy9s",
        "outputId": "351190d4-3074-42e5-c125-b1b450262301"
      },
      "source": [
        "if user_data['mate_cooking'] != 0:\n",
        "  user['cooking'] = df.iloc[0]['mate_cooking']\n",
        "  dataset['cooking'] = df['user_cooking']\n",
        "print(user)\n",
        "print(dataset)"
      ],
      "execution_count": 325,
      "outputs": [
        {
          "output_type": "stream",
          "name": "stdout",
          "text": [
            "mbti                            infp\n",
            "sex                                1\n",
            "age                              0.4\n",
            "air_night_airconditioner           0\n",
            "noise_alarm                        0\n",
            "eat_together                       0\n",
            "share_item                  0.704225\n",
            "mate_alcohol                0.411857\n",
            "mate_clean                  0.422535\n",
            "permission_to_enter                1\n",
            "pet_dog                          0.5\n",
            "pet_cat                          0.5\n",
            "pet_reptie_fish                    0\n",
            "pet_rodent                         0\n",
            "pet_bird                           0\n",
            "smoking                            0\n",
            "bug_killer                         1\n",
            "Name: 0, dtype: object\n",
            "    mbti  sex  age  ...  pet_bird  smoking  bug_killer\n",
            "0   infp    1  0.4  ...         0        0    0.573944\n",
            "1   intp    0  0.6  ...         0        0    0.750000\n",
            "2   esfp    1  0.2  ...         0        0    0.000000\n",
            "3    모른다    0  0.2  ...         0        0    1.000000\n",
            "4   intp    0  0.2  ...         0        0    0.750000\n",
            "..   ...  ...  ...  ...       ...      ...         ...\n",
            "67  isfj    0  0.4  ...         0        0    0.750000\n",
            "68  isfj    1  0.2  ...         0        0    1.000000\n",
            "69   모른다    1  0.8  ...         0        0    1.000000\n",
            "70  intp    1  0.2  ...         0        0    0.000000\n",
            "71  istp    1  0.4  ...         0        0    0.000000\n",
            "\n",
            "[72 rows x 17 columns]\n"
          ]
        }
      ]
    },
    {
      "cell_type": "code",
      "metadata": {
        "colab": {
          "base_uri": "https://localhost:8080/"
        },
        "id": "qjyT9B9CJFER",
        "outputId": "51dbd960-44f8-435d-c0e7-5206768598e3"
      },
      "source": [
        "distance_result = np.zeros(len(dataset))\n",
        "\n",
        "# 기준 사용자와 다른 사용자 간의 거리를 구한다.\n",
        "for i in range(1, len(dataset)):\n",
        "  distance_result[i] = distance(user, dataset.iloc[i, 1:])\n",
        "\n",
        "print(distance_result)"
      ],
      "execution_count": 326,
      "outputs": [
        {
          "output_type": "stream",
          "name": "stdout",
          "text": [
            "[0.         1.42822684 1.67475273 1.72270787 1.92362838 1.89137429\n",
            " 1.98909732 1.83821744 1.9403084  1.34342722 1.9403084  2.07762926\n",
            " 1.35177539 1.66276778 1.6882706  1.68145672 1.92024267 2.10143023\n",
            " 1.98110997 1.84671226 1.69330939 1.66276778 1.41915754 2.10503443\n",
            " 1.25590474 1.98427113 1.69330939 1.46022652 1.76181955 1.48147274\n",
            " 2.19198465 1.39738471 2.25660397 1.51498753 1.01972149 1.99995798\n",
            " 1.65146357 1.63548057 1.9563478  2.13419697 1.73200228 2.06494749\n",
            " 0.90955852 2.14277225 1.94674906 1.46296194 1.96654436 1.9403084\n",
            " 2.2288388  1.9403084  1.69808228 1.69330939 1.41415413 1.9403084\n",
            " 1.9563478  1.87477911 1.52528952 1.32845651 1.36649065 1.35177539\n",
            " 1.77207721 1.38842444 2.20318137 1.70117845 1.40617635 1.59837314\n",
            " 1.74075341 1.68145672 1.34342722 1.75719163 1.67475273 1.52102236]\n"
          ]
        }
      ]
    },
    {
      "cell_type": "code",
      "metadata": {
        "colab": {
          "base_uri": "https://localhost:8080/"
        },
        "id": "wdJU9VsTJb8T",
        "outputId": "7ef18cdd-8b86-4e65-e209-84d6dfd696a1"
      },
      "source": [
        "# 오름차순으로 정렬하여 인덱스 리턴\n",
        "print(np.argsort(distance_result))"
      ],
      "execution_count": 327,
      "outputs": [
        {
          "output_type": "stream",
          "name": "stdout",
          "text": [
            "[ 0 42 34 24 57  9 68 12 59 58 61 31 64 52 22  1 27 45 29 33 71 56 65 37\n",
            " 36 13 21  2 70 67 15 14 51 26 20 50 63  3 40 66 69 28 60  7 19 55  5 16\n",
            "  4 49 10  8 53 47 44 54 38 46 18 25  6 35 41 11 17 23 39 43 30 62 48 32]\n"
          ]
        }
      ]
    },
    {
      "cell_type": "markdown",
      "metadata": {
        "id": "E3CZagJ4Vcot"
      },
      "source": [
        "- mbti"
      ]
    },
    {
      "cell_type": "code",
      "metadata": {
        "colab": {
          "base_uri": "https://localhost:8080/"
        },
        "id": "vxP7bw_0e9ep",
        "outputId": "15daa169-a0e2-4bd1-e4e2-172ff10947df"
      },
      "source": [
        "df['mbti'].value_counts()"
      ],
      "execution_count": 328,
      "outputs": [
        {
          "output_type": "execute_result",
          "data": {
            "text/plain": [
              "infp    8\n",
              "isfj    8\n",
              "enfj    8\n",
              "isfp    7\n",
              "esfp    6\n",
              "모른다     5\n",
              "intp    5\n",
              "esfj    4\n",
              "istp    4\n",
              "enfp    4\n",
              "infj    4\n",
              "intj    3\n",
              "istj    2\n",
              "entp    2\n",
              "entj    2\n",
              "Name: mbti, dtype: int64"
            ]
          },
          "metadata": {},
          "execution_count": 328
        }
      ]
    },
    {
      "cell_type": "code",
      "metadata": {
        "colab": {
          "base_uri": "https://localhost:8080/"
        },
        "id": "f_BPGmX4VeFB",
        "outputId": "8b334331-baf0-4cbc-df13-cff5e99b98fe"
      },
      "source": [
        "MBTI_DISTANCE = np.array([\n",
        "    [0.25, 0.25, 0.25, 0, 0.25, 0, 0.25, 0.25, 1, 1, 1, 1, 1, 1, 1, 1, 0.5],\n",
        "    [0.25, 0.25, 0, 0.25, 0, 0.25, 0.25, 0.25, 1, 1, 1, 1, 1, 1, 1, 1, 0.5],\n",
        "    [0.25, 0, 0.25, 0.25, 0.25, 0.25, 0.25, 0, 1, 1, 1, 1, 1, 1, 1, 1, 0.5],\n",
        "    [0, 0.25, 0.25, 0.25, 0.25, 0.25, 0.25, 0.25, 0, 1, 1, 1, 1, 1, 1, 1, 0.5],\n",
        "    [0.25, 0, 0.25, 0.25, 0.25, 0.25, 0.25, 0, 0.5, 0.5, 0.5, 0.5, 0.75, 0.75, 0.75, 0.75, 0.5],\n",
        "    [0, 0.25, 0.25, 0.25, 0.25, 0.25, 0, 0.25, 0.5, 0.5, 0.5, 0.5, 0.5, 0.5, 0.5, 0.5, 0.5],\n",
        "    [0.25, 0.25, 0.25, 0.25, 0.25, 0, 0.25, 0.25, 0.5, 0.5, 0.5, 0.5, 0.75, 0.75, 0.75, 0, 0.5],\n",
        "    [0.25, 0.25, 0, 0.25, 0, 0.25, 0.25, 0.25, 0.5, 0.5, 0.5, 0.5, 0.75, 0.75, 0.75, 0.75, 0.5],\n",
        "    [1, 1, 1, 0, 0.5, 0.5, 0.5, 0.5, 0.75, 0.75, 0.75, 0.75, 0.5, 0, 0.5, 0, 0.5],\n",
        "    [1, 1, 1, 1, 0.5, 0.5, 0.5, 0.5, 0.75, 0.75, 0.75, 0.75, 0, 0.5, 0, 0.5, 0.5],\n",
        "    [1, 1, 1, 1, 0.5, 0.5, 0.5, 0.5, 0.75, 0.75, 0.75, 0.75, 0.5, 0, 0.5, 0, 0.5],\n",
        "    [1, 1, 1, 1, 0.5, 0.5, 0.5, 0.5, 0.75, 0.75, 0.75, 0.75, 0, 0.5, 0, 0.5, 0.5],\n",
        "    [1, 1, 1, 1, 0.75, 0.5, 0.75, 0.75, 0.5, 0, 0.5, 0, 0.25, 0.25, 0.25, 0.25, 0.5],\n",
        "    [1, 1, 1, 1, 0.75, 0.5, 0.75, 0.75, 0, 0.5, 0, 0.5, 0.25, 0.25, 0.25, 0.25, 0.5],\n",
        "    [1, 1, 1, 1, 0.75, 0.5, 0.75, 0.75, 0.5, 0, 0.5, 0, 0.25, 0.25, 0.25, 0.25, 0.5],\n",
        "    [1, 1, 1, 1, 0.75, 0.5, 0, 0.75, 0, 0.5, 0, 0.5, 0.25, 0.25, 0.25, 0.25, 0.5], \n",
        "    [0.5, 0.5, 0.5, 0.5, 0.5, 0.5, 0.5, 0.5, 0.5, 0.5, 0.5, 0.5, 0.5, 0.5, 0.5, 0.5]\n",
        "])\n",
        "\n",
        "MBTI_MAP = dict(\n",
        "    infp=0,\n",
        "    enfp=1,\n",
        "    infj=2,\n",
        "    enfj=3,\n",
        "    intj=4,\n",
        "    entj=5,\n",
        "    intp=6,\n",
        "    entp=7,\n",
        "    isfp=8,\n",
        "    esfp=9,\n",
        "    istp=10,\n",
        "    estp=11,\n",
        "    isfj=12,\n",
        "    esfj=13,\n",
        "    istj=14,\n",
        "    estj=15,\n",
        "    모른다=16\n",
        ")"
      ],
      "execution_count": 340,
      "outputs": [
        {
          "output_type": "stream",
          "name": "stderr",
          "text": [
            "/usr/local/lib/python3.7/dist-packages/ipykernel_launcher.py:18: VisibleDeprecationWarning: Creating an ndarray from ragged nested sequences (which is a list-or-tuple of lists-or-tuples-or ndarrays with different lengths or shapes) is deprecated. If you meant to do this, you must specify 'dtype=object' when creating the ndarray\n"
          ]
        }
      ]
    },
    {
      "cell_type": "code",
      "metadata": {
        "id": "F4Y2GF0LWYL8"
      },
      "source": [
        "# 사용자 사이의 거리를 구하는 함수\n",
        "def distance(u1, u2):\n",
        "  ''' 사용자 사이의 거리 리턴 '''\n",
        "  # print(u1[0], u2[0])\n",
        "  # print(temp)\n",
        "  # print(MBTI_DISTANCE[MBTI_MAP[u1[0]]][MBTI_MAP[u2[0]]])\n",
        "  # print(MBTI_MAP[u1[0]], MBTI_MAP[u2[0]])\n",
        "  mbti = MBTI_DISTANCE[MBTI_MAP[u1[0]]][MBTI_MAP[u2[0]]] ** 2\n",
        "  sum_ = np.sum(np.power((u2[1:]-u1[1:]),2))\n",
        "  # print(mbti, sum_)\n",
        "  return np.sqrt(sum_ + mbti)"
      ],
      "execution_count": 357,
      "outputs": []
    },
    {
      "cell_type": "code",
      "metadata": {
        "colab": {
          "base_uri": "https://localhost:8080/"
        },
        "id": "BUrZL6pQW-w5",
        "outputId": "e0f3f8f6-a358-47f3-cef1-106e3bc5f7f1"
      },
      "source": [
        "distance_result = np.zeros(len(dataset))\n",
        "\n",
        "# 기준 사용자와 다른 사용자 간의 거리를 구한다.\n",
        "for i in range(1, len(dataset)):\n",
        "  distance_result[i] = distance(user, dataset.iloc[i])\n",
        "\n",
        "print(distance_result)"
      ],
      "execution_count": 358,
      "outputs": [
        {
          "output_type": "stream",
          "name": "stdout",
          "text": [
            "[0.         1.44994204 1.95058881 1.79380111 1.9398057  1.90782512\n",
            " 1.98909732 1.83821744 1.9563478  1.67475273 2.00369576 2.09261639\n",
            " 1.35177539 1.9403084  1.6882706  1.69994021 1.93644827 2.10143023\n",
            " 1.99682165 2.10008242 1.96654436 1.9403084  1.7360899  2.10503443\n",
            " 1.60539612 1.99995798 1.71166489 1.48147274 2.02583517 1.78738957\n",
            " 2.40931457 1.41957178 2.27040998 1.51498753 1.42822684 1.99995798\n",
            " 1.67027899 1.7102037  1.97225675 2.35686162 1.74995198 2.12461953\n",
            " 1.35177539 2.36462955 1.96273582 1.484169   1.98237148 2.18284143\n",
            " 2.44289222 1.9403084  1.71638674 1.96654436 1.73200228 2.18284143\n",
            " 1.97225675 2.1248051  1.82387174 1.35177539 1.69330939 1.68145672\n",
            " 1.789625   1.71105886 2.21732003 1.97332413 1.72549469 1.88541685\n",
            " 1.74075341 1.9563478  1.67475273 1.82694346 1.69330939 1.82030465]\n"
          ]
        }
      ]
    },
    {
      "cell_type": "code",
      "metadata": {
        "colab": {
          "base_uri": "https://localhost:8080/"
        },
        "id": "muNDKitajQJ4",
        "outputId": "6e2be90f-f536-4110-a282-101dbc9f18bf"
      },
      "source": [
        "# 오름차순으로 정렬하여 인덱스 리턴\n",
        "print(np.argsort(distance_result)[:20])"
      ],
      "execution_count": 362,
      "outputs": [
        {
          "output_type": "stream",
          "name": "stdout",
          "text": [
            "[ 0 42 12 57 31 34  1 27 45 33 24 36  9 68 59 14 58 70 15 37]\n"
          ]
        }
      ]
    },
    {
      "cell_type": "code",
      "metadata": {
        "colab": {
          "base_uri": "https://localhost:8080/",
          "height": 1000
        },
        "id": "wFsq5rLxjc9L",
        "outputId": "3868f21a-3137-479b-ffab-f65544cbbef2"
      },
      "source": [
        "df.iloc[np.argsort(distance_result)[:20]]"
      ],
      "execution_count": 365,
      "outputs": [
        {
          "output_type": "execute_result",
          "data": {
            "text/html": [
              "<div>\n",
              "<style scoped>\n",
              "    .dataframe tbody tr th:only-of-type {\n",
              "        vertical-align: middle;\n",
              "    }\n",
              "\n",
              "    .dataframe tbody tr th {\n",
              "        vertical-align: top;\n",
              "    }\n",
              "\n",
              "    .dataframe thead th {\n",
              "        text-align: right;\n",
              "    }\n",
              "</style>\n",
              "<table border=\"1\" class=\"dataframe\">\n",
              "  <thead>\n",
              "    <tr style=\"text-align: right;\">\n",
              "      <th></th>\n",
              "      <th>time</th>\n",
              "      <th>sex</th>\n",
              "      <th>age</th>\n",
              "      <th>mbti</th>\n",
              "      <th>user_smoking</th>\n",
              "      <th>mate_smoking</th>\n",
              "      <th>user_pet</th>\n",
              "      <th>user_bug_killer</th>\n",
              "      <th>mate_bug_killer</th>\n",
              "      <th>user_cooking</th>\n",
              "      <th>mate_cooking</th>\n",
              "      <th>eat_together</th>\n",
              "      <th>share_item</th>\n",
              "      <th>mate_alcohol</th>\n",
              "      <th>mate_clean</th>\n",
              "      <th>permission_to_enter</th>\n",
              "      <th>user_pet_dog</th>\n",
              "      <th>user_pet_cat</th>\n",
              "      <th>user_pet_reptie_fish</th>\n",
              "      <th>user_pet_rodent</th>\n",
              "      <th>user_pet_bird</th>\n",
              "      <th>mate_pet</th>\n",
              "      <th>mate_pet_dog</th>\n",
              "      <th>mate_pet_cat</th>\n",
              "      <th>mate_pet_reptie_fish</th>\n",
              "      <th>mate_pet_rodent</th>\n",
              "      <th>mate_pet_bird</th>\n",
              "      <th>air_like_airconditioner</th>\n",
              "      <th>air_night_airconditioner</th>\n",
              "      <th>air_like_heater</th>\n",
              "      <th>noise_talking</th>\n",
              "      <th>noise_music</th>\n",
              "      <th>noise_alarm</th>\n",
              "    </tr>\n",
              "  </thead>\n",
              "  <tbody>\n",
              "    <tr>\n",
              "      <th>0</th>\n",
              "      <td>2021-10-20 11:29:52</td>\n",
              "      <td>1</td>\n",
              "      <td>0.4</td>\n",
              "      <td>infp</td>\n",
              "      <td>0</td>\n",
              "      <td>0.0</td>\n",
              "      <td>0</td>\n",
              "      <td>0.573944</td>\n",
              "      <td>1</td>\n",
              "      <td>0</td>\n",
              "      <td>0</td>\n",
              "      <td>0</td>\n",
              "      <td>0.704225</td>\n",
              "      <td>0.411857</td>\n",
              "      <td>0.422535</td>\n",
              "      <td>1.0</td>\n",
              "      <td>0</td>\n",
              "      <td>0</td>\n",
              "      <td>0</td>\n",
              "      <td>0</td>\n",
              "      <td>0</td>\n",
              "      <td>0.5</td>\n",
              "      <td>0.5</td>\n",
              "      <td>0.5</td>\n",
              "      <td>0.0</td>\n",
              "      <td>0.0</td>\n",
              "      <td>0.0</td>\n",
              "      <td>0</td>\n",
              "      <td>0</td>\n",
              "      <td>0.5</td>\n",
              "      <td>0.0</td>\n",
              "      <td>0.0</td>\n",
              "      <td>0</td>\n",
              "    </tr>\n",
              "    <tr>\n",
              "      <th>42</th>\n",
              "      <td>2021-10-22 13:48:14</td>\n",
              "      <td>1</td>\n",
              "      <td>0.4</td>\n",
              "      <td>esfj</td>\n",
              "      <td>0</td>\n",
              "      <td>0.0</td>\n",
              "      <td>0</td>\n",
              "      <td>0.750000</td>\n",
              "      <td>0</td>\n",
              "      <td>0</td>\n",
              "      <td>0</td>\n",
              "      <td>0</td>\n",
              "      <td>0.750000</td>\n",
              "      <td>0.330000</td>\n",
              "      <td>0.500000</td>\n",
              "      <td>0.5</td>\n",
              "      <td>0</td>\n",
              "      <td>0</td>\n",
              "      <td>0</td>\n",
              "      <td>0</td>\n",
              "      <td>0</td>\n",
              "      <td>1.0</td>\n",
              "      <td>0.0</td>\n",
              "      <td>0.0</td>\n",
              "      <td>0.0</td>\n",
              "      <td>0.0</td>\n",
              "      <td>0.0</td>\n",
              "      <td>0</td>\n",
              "      <td>0</td>\n",
              "      <td>0.0</td>\n",
              "      <td>0.5</td>\n",
              "      <td>0.5</td>\n",
              "      <td>0</td>\n",
              "    </tr>\n",
              "    <tr>\n",
              "      <th>12</th>\n",
              "      <td>2021-10-22 11:00:17</td>\n",
              "      <td>1</td>\n",
              "      <td>0.4</td>\n",
              "      <td>enfj</td>\n",
              "      <td>0</td>\n",
              "      <td>0.0</td>\n",
              "      <td>0</td>\n",
              "      <td>0.750000</td>\n",
              "      <td>0</td>\n",
              "      <td>0</td>\n",
              "      <td>0</td>\n",
              "      <td>0</td>\n",
              "      <td>0.750000</td>\n",
              "      <td>0.330000</td>\n",
              "      <td>0.500000</td>\n",
              "      <td>0.5</td>\n",
              "      <td>0</td>\n",
              "      <td>0</td>\n",
              "      <td>0</td>\n",
              "      <td>0</td>\n",
              "      <td>0</td>\n",
              "      <td>1.0</td>\n",
              "      <td>0.0</td>\n",
              "      <td>0.0</td>\n",
              "      <td>0.0</td>\n",
              "      <td>0.0</td>\n",
              "      <td>0.0</td>\n",
              "      <td>1</td>\n",
              "      <td>0</td>\n",
              "      <td>0.0</td>\n",
              "      <td>1.0</td>\n",
              "      <td>1.0</td>\n",
              "      <td>1</td>\n",
              "    </tr>\n",
              "    <tr>\n",
              "      <th>57</th>\n",
              "      <td>2021-10-22 18:26:32</td>\n",
              "      <td>1</td>\n",
              "      <td>0.4</td>\n",
              "      <td>intj</td>\n",
              "      <td>0</td>\n",
              "      <td>0.0</td>\n",
              "      <td>0</td>\n",
              "      <td>1.000000</td>\n",
              "      <td>1</td>\n",
              "      <td>0</td>\n",
              "      <td>0</td>\n",
              "      <td>0</td>\n",
              "      <td>0.750000</td>\n",
              "      <td>0.330000</td>\n",
              "      <td>0.500000</td>\n",
              "      <td>0.5</td>\n",
              "      <td>0</td>\n",
              "      <td>0</td>\n",
              "      <td>0</td>\n",
              "      <td>0</td>\n",
              "      <td>0</td>\n",
              "      <td>0.5</td>\n",
              "      <td>0.0</td>\n",
              "      <td>0.5</td>\n",
              "      <td>0.0</td>\n",
              "      <td>0.0</td>\n",
              "      <td>0.0</td>\n",
              "      <td>0</td>\n",
              "      <td>0</td>\n",
              "      <td>1.0</td>\n",
              "      <td>0.0</td>\n",
              "      <td>0.0</td>\n",
              "      <td>1</td>\n",
              "    </tr>\n",
              "    <tr>\n",
              "      <th>31</th>\n",
              "      <td>2021-10-22 12:29:22</td>\n",
              "      <td>1</td>\n",
              "      <td>0.2</td>\n",
              "      <td>infp</td>\n",
              "      <td>0</td>\n",
              "      <td>0.0</td>\n",
              "      <td>0</td>\n",
              "      <td>0.750000</td>\n",
              "      <td>1</td>\n",
              "      <td>0</td>\n",
              "      <td>0</td>\n",
              "      <td>0</td>\n",
              "      <td>1.000000</td>\n",
              "      <td>0.330000</td>\n",
              "      <td>0.500000</td>\n",
              "      <td>0.5</td>\n",
              "      <td>0</td>\n",
              "      <td>0</td>\n",
              "      <td>0</td>\n",
              "      <td>0</td>\n",
              "      <td>0</td>\n",
              "      <td>0.5</td>\n",
              "      <td>0.5</td>\n",
              "      <td>0.5</td>\n",
              "      <td>0.0</td>\n",
              "      <td>0.0</td>\n",
              "      <td>0.0</td>\n",
              "      <td>0</td>\n",
              "      <td>1</td>\n",
              "      <td>1.0</td>\n",
              "      <td>0.0</td>\n",
              "      <td>0.0</td>\n",
              "      <td>0</td>\n",
              "    </tr>\n",
              "    <tr>\n",
              "      <th>34</th>\n",
              "      <td>2021-10-22 12:49:18</td>\n",
              "      <td>1</td>\n",
              "      <td>0.6</td>\n",
              "      <td>isfp</td>\n",
              "      <td>0</td>\n",
              "      <td>0.0</td>\n",
              "      <td>1</td>\n",
              "      <td>0.750000</td>\n",
              "      <td>1</td>\n",
              "      <td>1</td>\n",
              "      <td>0</td>\n",
              "      <td>0</td>\n",
              "      <td>0.750000</td>\n",
              "      <td>0.330000</td>\n",
              "      <td>0.000000</td>\n",
              "      <td>0.5</td>\n",
              "      <td>1</td>\n",
              "      <td>1</td>\n",
              "      <td>0</td>\n",
              "      <td>0</td>\n",
              "      <td>0</td>\n",
              "      <td>0.5</td>\n",
              "      <td>0.5</td>\n",
              "      <td>0.5</td>\n",
              "      <td>0.0</td>\n",
              "      <td>0.0</td>\n",
              "      <td>0.0</td>\n",
              "      <td>1</td>\n",
              "      <td>0</td>\n",
              "      <td>0.0</td>\n",
              "      <td>0.5</td>\n",
              "      <td>0.5</td>\n",
              "      <td>0</td>\n",
              "    </tr>\n",
              "    <tr>\n",
              "      <th>1</th>\n",
              "      <td>2021-10-22 01:16:34</td>\n",
              "      <td>0</td>\n",
              "      <td>0.6</td>\n",
              "      <td>intp</td>\n",
              "      <td>0</td>\n",
              "      <td>0.0</td>\n",
              "      <td>0</td>\n",
              "      <td>0.750000</td>\n",
              "      <td>0</td>\n",
              "      <td>0</td>\n",
              "      <td>0</td>\n",
              "      <td>0</td>\n",
              "      <td>0.750000</td>\n",
              "      <td>0.330000</td>\n",
              "      <td>0.000000</td>\n",
              "      <td>0.5</td>\n",
              "      <td>0</td>\n",
              "      <td>0</td>\n",
              "      <td>0</td>\n",
              "      <td>0</td>\n",
              "      <td>0</td>\n",
              "      <td>0.5</td>\n",
              "      <td>0.5</td>\n",
              "      <td>0.5</td>\n",
              "      <td>0.0</td>\n",
              "      <td>0.0</td>\n",
              "      <td>0.0</td>\n",
              "      <td>1</td>\n",
              "      <td>0</td>\n",
              "      <td>0.0</td>\n",
              "      <td>0.0</td>\n",
              "      <td>0.0</td>\n",
              "      <td>0</td>\n",
              "    </tr>\n",
              "    <tr>\n",
              "      <th>27</th>\n",
              "      <td>2021-10-22 12:02:37</td>\n",
              "      <td>1</td>\n",
              "      <td>0.2</td>\n",
              "      <td>infj</td>\n",
              "      <td>0</td>\n",
              "      <td>0.0</td>\n",
              "      <td>0</td>\n",
              "      <td>0.000000</td>\n",
              "      <td>1</td>\n",
              "      <td>0</td>\n",
              "      <td>0</td>\n",
              "      <td>0</td>\n",
              "      <td>0.750000</td>\n",
              "      <td>0.330000</td>\n",
              "      <td>1.000000</td>\n",
              "      <td>0.5</td>\n",
              "      <td>0</td>\n",
              "      <td>0</td>\n",
              "      <td>0</td>\n",
              "      <td>0</td>\n",
              "      <td>0</td>\n",
              "      <td>0.5</td>\n",
              "      <td>0.0</td>\n",
              "      <td>0.5</td>\n",
              "      <td>0.0</td>\n",
              "      <td>0.0</td>\n",
              "      <td>0.0</td>\n",
              "      <td>1</td>\n",
              "      <td>0</td>\n",
              "      <td>0.5</td>\n",
              "      <td>1.0</td>\n",
              "      <td>0.0</td>\n",
              "      <td>0</td>\n",
              "    </tr>\n",
              "    <tr>\n",
              "      <th>45</th>\n",
              "      <td>2021-10-22 14:08:16</td>\n",
              "      <td>1</td>\n",
              "      <td>0.2</td>\n",
              "      <td>intj</td>\n",
              "      <td>0</td>\n",
              "      <td>0.0</td>\n",
              "      <td>1</td>\n",
              "      <td>0.000000</td>\n",
              "      <td>1</td>\n",
              "      <td>0</td>\n",
              "      <td>0</td>\n",
              "      <td>0</td>\n",
              "      <td>0.750000</td>\n",
              "      <td>0.000000</td>\n",
              "      <td>0.000000</td>\n",
              "      <td>0.5</td>\n",
              "      <td>0</td>\n",
              "      <td>1</td>\n",
              "      <td>0</td>\n",
              "      <td>0</td>\n",
              "      <td>0</td>\n",
              "      <td>0.0</td>\n",
              "      <td>0.5</td>\n",
              "      <td>0.5</td>\n",
              "      <td>0.5</td>\n",
              "      <td>0.5</td>\n",
              "      <td>0.5</td>\n",
              "      <td>1</td>\n",
              "      <td>0</td>\n",
              "      <td>0.5</td>\n",
              "      <td>0.0</td>\n",
              "      <td>0.0</td>\n",
              "      <td>0</td>\n",
              "    </tr>\n",
              "    <tr>\n",
              "      <th>33</th>\n",
              "      <td>2021-10-22 12:40:31</td>\n",
              "      <td>1</td>\n",
              "      <td>0.2</td>\n",
              "      <td>enfj</td>\n",
              "      <td>0</td>\n",
              "      <td>0.5</td>\n",
              "      <td>0</td>\n",
              "      <td>1.000000</td>\n",
              "      <td>0</td>\n",
              "      <td>0</td>\n",
              "      <td>0</td>\n",
              "      <td>0</td>\n",
              "      <td>0.750000</td>\n",
              "      <td>0.000000</td>\n",
              "      <td>1.000000</td>\n",
              "      <td>0.5</td>\n",
              "      <td>0</td>\n",
              "      <td>0</td>\n",
              "      <td>0</td>\n",
              "      <td>0</td>\n",
              "      <td>0</td>\n",
              "      <td>1.0</td>\n",
              "      <td>0.0</td>\n",
              "      <td>0.0</td>\n",
              "      <td>0.0</td>\n",
              "      <td>0.0</td>\n",
              "      <td>0.0</td>\n",
              "      <td>0</td>\n",
              "      <td>1</td>\n",
              "      <td>0.5</td>\n",
              "      <td>0.5</td>\n",
              "      <td>0.5</td>\n",
              "      <td>0</td>\n",
              "    </tr>\n",
              "    <tr>\n",
              "      <th>24</th>\n",
              "      <td>2021-10-22 11:59:32</td>\n",
              "      <td>1</td>\n",
              "      <td>0.4</td>\n",
              "      <td>istp</td>\n",
              "      <td>0</td>\n",
              "      <td>0.0</td>\n",
              "      <td>0</td>\n",
              "      <td>0.750000</td>\n",
              "      <td>1</td>\n",
              "      <td>1</td>\n",
              "      <td>0</td>\n",
              "      <td>0</td>\n",
              "      <td>0.750000</td>\n",
              "      <td>0.330000</td>\n",
              "      <td>0.500000</td>\n",
              "      <td>1.0</td>\n",
              "      <td>0</td>\n",
              "      <td>0</td>\n",
              "      <td>0</td>\n",
              "      <td>0</td>\n",
              "      <td>0</td>\n",
              "      <td>1.0</td>\n",
              "      <td>0.0</td>\n",
              "      <td>0.0</td>\n",
              "      <td>0.0</td>\n",
              "      <td>0.0</td>\n",
              "      <td>0.0</td>\n",
              "      <td>0</td>\n",
              "      <td>0</td>\n",
              "      <td>0.0</td>\n",
              "      <td>0.0</td>\n",
              "      <td>0.0</td>\n",
              "      <td>1</td>\n",
              "    </tr>\n",
              "    <tr>\n",
              "      <th>36</th>\n",
              "      <td>2021-10-22 12:56:54</td>\n",
              "      <td>1</td>\n",
              "      <td>0.2</td>\n",
              "      <td>infp</td>\n",
              "      <td>0</td>\n",
              "      <td>0.0</td>\n",
              "      <td>0</td>\n",
              "      <td>1.000000</td>\n",
              "      <td>0</td>\n",
              "      <td>1</td>\n",
              "      <td>0</td>\n",
              "      <td>0</td>\n",
              "      <td>0.750000</td>\n",
              "      <td>0.330000</td>\n",
              "      <td>0.000000</td>\n",
              "      <td>0.0</td>\n",
              "      <td>1</td>\n",
              "      <td>0</td>\n",
              "      <td>0</td>\n",
              "      <td>0</td>\n",
              "      <td>0</td>\n",
              "      <td>0.5</td>\n",
              "      <td>0.5</td>\n",
              "      <td>0.5</td>\n",
              "      <td>0.5</td>\n",
              "      <td>0.0</td>\n",
              "      <td>0.0</td>\n",
              "      <td>0</td>\n",
              "      <td>0</td>\n",
              "      <td>0.0</td>\n",
              "      <td>0.0</td>\n",
              "      <td>0.0</td>\n",
              "      <td>1</td>\n",
              "    </tr>\n",
              "    <tr>\n",
              "      <th>9</th>\n",
              "      <td>2021-10-22 10:48:51</td>\n",
              "      <td>1</td>\n",
              "      <td>0.2</td>\n",
              "      <td>isfj</td>\n",
              "      <td>0</td>\n",
              "      <td>0.0</td>\n",
              "      <td>0</td>\n",
              "      <td>0.000000</td>\n",
              "      <td>0</td>\n",
              "      <td>1</td>\n",
              "      <td>0</td>\n",
              "      <td>0</td>\n",
              "      <td>0.750000</td>\n",
              "      <td>0.330000</td>\n",
              "      <td>0.500000</td>\n",
              "      <td>0.5</td>\n",
              "      <td>0</td>\n",
              "      <td>0</td>\n",
              "      <td>0</td>\n",
              "      <td>0</td>\n",
              "      <td>0</td>\n",
              "      <td>0.0</td>\n",
              "      <td>0.5</td>\n",
              "      <td>0.5</td>\n",
              "      <td>0.5</td>\n",
              "      <td>0.5</td>\n",
              "      <td>0.5</td>\n",
              "      <td>0</td>\n",
              "      <td>0</td>\n",
              "      <td>1.0</td>\n",
              "      <td>0.5</td>\n",
              "      <td>0.5</td>\n",
              "      <td>0</td>\n",
              "    </tr>\n",
              "    <tr>\n",
              "      <th>68</th>\n",
              "      <td>2021-10-23 14:23:31</td>\n",
              "      <td>1</td>\n",
              "      <td>0.2</td>\n",
              "      <td>isfj</td>\n",
              "      <td>0</td>\n",
              "      <td>0.0</td>\n",
              "      <td>0</td>\n",
              "      <td>1.000000</td>\n",
              "      <td>0</td>\n",
              "      <td>1</td>\n",
              "      <td>0</td>\n",
              "      <td>1</td>\n",
              "      <td>0.750000</td>\n",
              "      <td>0.330000</td>\n",
              "      <td>0.500000</td>\n",
              "      <td>0.5</td>\n",
              "      <td>0</td>\n",
              "      <td>0</td>\n",
              "      <td>0</td>\n",
              "      <td>0</td>\n",
              "      <td>0</td>\n",
              "      <td>0.5</td>\n",
              "      <td>0.5</td>\n",
              "      <td>0.0</td>\n",
              "      <td>0.0</td>\n",
              "      <td>0.0</td>\n",
              "      <td>0.0</td>\n",
              "      <td>0</td>\n",
              "      <td>0</td>\n",
              "      <td>1.0</td>\n",
              "      <td>0.5</td>\n",
              "      <td>0.5</td>\n",
              "      <td>0</td>\n",
              "    </tr>\n",
              "    <tr>\n",
              "      <th>59</th>\n",
              "      <td>2021-10-22 22:05:56</td>\n",
              "      <td>1</td>\n",
              "      <td>0.4</td>\n",
              "      <td>isfp</td>\n",
              "      <td>0</td>\n",
              "      <td>0.0</td>\n",
              "      <td>0</td>\n",
              "      <td>0.750000</td>\n",
              "      <td>0</td>\n",
              "      <td>0</td>\n",
              "      <td>0</td>\n",
              "      <td>0</td>\n",
              "      <td>0.750000</td>\n",
              "      <td>0.330000</td>\n",
              "      <td>0.500000</td>\n",
              "      <td>0.5</td>\n",
              "      <td>0</td>\n",
              "      <td>0</td>\n",
              "      <td>0</td>\n",
              "      <td>0</td>\n",
              "      <td>0</td>\n",
              "      <td>1.0</td>\n",
              "      <td>0.0</td>\n",
              "      <td>0.0</td>\n",
              "      <td>0.0</td>\n",
              "      <td>0.0</td>\n",
              "      <td>0.0</td>\n",
              "      <td>1</td>\n",
              "      <td>0</td>\n",
              "      <td>0.0</td>\n",
              "      <td>0.5</td>\n",
              "      <td>0.5</td>\n",
              "      <td>1</td>\n",
              "    </tr>\n",
              "    <tr>\n",
              "      <th>14</th>\n",
              "      <td>2021-10-22 11:17:37</td>\n",
              "      <td>0</td>\n",
              "      <td>0.4</td>\n",
              "      <td>entj</td>\n",
              "      <td>0</td>\n",
              "      <td>0.0</td>\n",
              "      <td>0</td>\n",
              "      <td>1.000000</td>\n",
              "      <td>1</td>\n",
              "      <td>0</td>\n",
              "      <td>0</td>\n",
              "      <td>1</td>\n",
              "      <td>0.750000</td>\n",
              "      <td>0.000000</td>\n",
              "      <td>0.000000</td>\n",
              "      <td>1.0</td>\n",
              "      <td>0</td>\n",
              "      <td>0</td>\n",
              "      <td>0</td>\n",
              "      <td>0</td>\n",
              "      <td>0</td>\n",
              "      <td>1.0</td>\n",
              "      <td>0.5</td>\n",
              "      <td>0.5</td>\n",
              "      <td>0.5</td>\n",
              "      <td>0.5</td>\n",
              "      <td>0.5</td>\n",
              "      <td>1</td>\n",
              "      <td>0</td>\n",
              "      <td>0.5</td>\n",
              "      <td>0.0</td>\n",
              "      <td>0.0</td>\n",
              "      <td>0</td>\n",
              "    </tr>\n",
              "    <tr>\n",
              "      <th>58</th>\n",
              "      <td>2021-10-22 20:57:12</td>\n",
              "      <td>1</td>\n",
              "      <td>0.6</td>\n",
              "      <td>isfp</td>\n",
              "      <td>0</td>\n",
              "      <td>0.0</td>\n",
              "      <td>0</td>\n",
              "      <td>0.750000</td>\n",
              "      <td>0</td>\n",
              "      <td>1</td>\n",
              "      <td>0</td>\n",
              "      <td>0</td>\n",
              "      <td>0.750000</td>\n",
              "      <td>0.330000</td>\n",
              "      <td>0.500000</td>\n",
              "      <td>0.5</td>\n",
              "      <td>0</td>\n",
              "      <td>0</td>\n",
              "      <td>0</td>\n",
              "      <td>0</td>\n",
              "      <td>0</td>\n",
              "      <td>1.0</td>\n",
              "      <td>0.0</td>\n",
              "      <td>0.0</td>\n",
              "      <td>0.0</td>\n",
              "      <td>0.0</td>\n",
              "      <td>0.0</td>\n",
              "      <td>1</td>\n",
              "      <td>0</td>\n",
              "      <td>0.0</td>\n",
              "      <td>0.0</td>\n",
              "      <td>0.0</td>\n",
              "      <td>1</td>\n",
              "    </tr>\n",
              "    <tr>\n",
              "      <th>70</th>\n",
              "      <td>2021-10-23 16:10:43</td>\n",
              "      <td>1</td>\n",
              "      <td>0.2</td>\n",
              "      <td>intp</td>\n",
              "      <td>0</td>\n",
              "      <td>0.0</td>\n",
              "      <td>0</td>\n",
              "      <td>0.000000</td>\n",
              "      <td>0</td>\n",
              "      <td>1</td>\n",
              "      <td>0</td>\n",
              "      <td>0</td>\n",
              "      <td>0.750000</td>\n",
              "      <td>0.330000</td>\n",
              "      <td>0.500000</td>\n",
              "      <td>0.5</td>\n",
              "      <td>0</td>\n",
              "      <td>0</td>\n",
              "      <td>0</td>\n",
              "      <td>0</td>\n",
              "      <td>0</td>\n",
              "      <td>0.5</td>\n",
              "      <td>0.5</td>\n",
              "      <td>0.5</td>\n",
              "      <td>0.0</td>\n",
              "      <td>0.0</td>\n",
              "      <td>0.0</td>\n",
              "      <td>1</td>\n",
              "      <td>0</td>\n",
              "      <td>0.0</td>\n",
              "      <td>1.0</td>\n",
              "      <td>1.0</td>\n",
              "      <td>1</td>\n",
              "    </tr>\n",
              "    <tr>\n",
              "      <th>15</th>\n",
              "      <td>2021-10-22 11:20:53</td>\n",
              "      <td>1</td>\n",
              "      <td>0.4</td>\n",
              "      <td>infp</td>\n",
              "      <td>0</td>\n",
              "      <td>0.0</td>\n",
              "      <td>0</td>\n",
              "      <td>0.750000</td>\n",
              "      <td>0</td>\n",
              "      <td>1</td>\n",
              "      <td>0</td>\n",
              "      <td>1</td>\n",
              "      <td>0.750000</td>\n",
              "      <td>0.330000</td>\n",
              "      <td>0.500000</td>\n",
              "      <td>0.5</td>\n",
              "      <td>0</td>\n",
              "      <td>0</td>\n",
              "      <td>0</td>\n",
              "      <td>0</td>\n",
              "      <td>0</td>\n",
              "      <td>0.5</td>\n",
              "      <td>0.5</td>\n",
              "      <td>0.5</td>\n",
              "      <td>0.0</td>\n",
              "      <td>0.0</td>\n",
              "      <td>0.0</td>\n",
              "      <td>0</td>\n",
              "      <td>0</td>\n",
              "      <td>0.0</td>\n",
              "      <td>0.5</td>\n",
              "      <td>0.5</td>\n",
              "      <td>1</td>\n",
              "    </tr>\n",
              "    <tr>\n",
              "      <th>37</th>\n",
              "      <td>2021-10-22 12:57:01</td>\n",
              "      <td>1</td>\n",
              "      <td>0.8</td>\n",
              "      <td>모른다</td>\n",
              "      <td>1</td>\n",
              "      <td>1.0</td>\n",
              "      <td>0</td>\n",
              "      <td>0.000000</td>\n",
              "      <td>1</td>\n",
              "      <td>0</td>\n",
              "      <td>0</td>\n",
              "      <td>0</td>\n",
              "      <td>0.750000</td>\n",
              "      <td>0.330000</td>\n",
              "      <td>0.500000</td>\n",
              "      <td>1.0</td>\n",
              "      <td>1</td>\n",
              "      <td>0</td>\n",
              "      <td>0</td>\n",
              "      <td>0</td>\n",
              "      <td>0</td>\n",
              "      <td>0.5</td>\n",
              "      <td>0.5</td>\n",
              "      <td>0.0</td>\n",
              "      <td>0.0</td>\n",
              "      <td>0.0</td>\n",
              "      <td>0.0</td>\n",
              "      <td>1</td>\n",
              "      <td>0</td>\n",
              "      <td>0.0</td>\n",
              "      <td>0.0</td>\n",
              "      <td>0.5</td>\n",
              "      <td>0</td>\n",
              "    </tr>\n",
              "  </tbody>\n",
              "</table>\n",
              "</div>"
            ],
            "text/plain": [
              "                  time  sex  age  ... noise_talking  noise_music  noise_alarm\n",
              "0  2021-10-20 11:29:52    1  0.4  ...           0.0          0.0            0\n",
              "42 2021-10-22 13:48:14    1  0.4  ...           0.5          0.5            0\n",
              "12 2021-10-22 11:00:17    1  0.4  ...           1.0          1.0            1\n",
              "57 2021-10-22 18:26:32    1  0.4  ...           0.0          0.0            1\n",
              "31 2021-10-22 12:29:22    1  0.2  ...           0.0          0.0            0\n",
              "34 2021-10-22 12:49:18    1  0.6  ...           0.5          0.5            0\n",
              "1  2021-10-22 01:16:34    0  0.6  ...           0.0          0.0            0\n",
              "27 2021-10-22 12:02:37    1  0.2  ...           1.0          0.0            0\n",
              "45 2021-10-22 14:08:16    1  0.2  ...           0.0          0.0            0\n",
              "33 2021-10-22 12:40:31    1  0.2  ...           0.5          0.5            0\n",
              "24 2021-10-22 11:59:32    1  0.4  ...           0.0          0.0            1\n",
              "36 2021-10-22 12:56:54    1  0.2  ...           0.0          0.0            1\n",
              "9  2021-10-22 10:48:51    1  0.2  ...           0.5          0.5            0\n",
              "68 2021-10-23 14:23:31    1  0.2  ...           0.5          0.5            0\n",
              "59 2021-10-22 22:05:56    1  0.4  ...           0.5          0.5            1\n",
              "14 2021-10-22 11:17:37    0  0.4  ...           0.0          0.0            0\n",
              "58 2021-10-22 20:57:12    1  0.6  ...           0.0          0.0            1\n",
              "70 2021-10-23 16:10:43    1  0.2  ...           1.0          1.0            1\n",
              "15 2021-10-22 11:20:53    1  0.4  ...           0.5          0.5            1\n",
              "37 2021-10-22 12:57:01    1  0.8  ...           0.0          0.5            0\n",
              "\n",
              "[20 rows x 33 columns]"
            ]
          },
          "metadata": {},
          "execution_count": 365
        }
      ]
    }
  ]
}