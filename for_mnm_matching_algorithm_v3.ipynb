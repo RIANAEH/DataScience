{
  "nbformat": 4,
  "nbformat_minor": 0,
  "metadata": {
    "colab": {
      "name": "for_mnm_matching_algorithm_v3.ipynb",
      "provenance": [],
      "collapsed_sections": []
    },
    "kernelspec": {
      "name": "python3",
      "display_name": "Python 3"
    },
    "language_info": {
      "name": "python"
    }
  },
  "cells": [
    {
      "cell_type": "markdown",
      "metadata": {
        "id": "3kefols1FOZP"
      },
      "source": [
        "# for_mnm_matching_algorithm\n",
        "> KNN 알고리즘을 mnm에 적합하게 직접 구현\n",
        "\n",
        "\n",
        "> mbti빼고는 모두 적용\n"
      ]
    },
    {
      "cell_type": "markdown",
      "metadata": {
        "id": "GiFLO2lIJDrM"
      },
      "source": [
        "### 라이브러리 불러오기"
      ]
    },
    {
      "cell_type": "code",
      "metadata": {
        "id": "l7s2vOi_JBkt"
      },
      "source": [
        "import pandas as pd\n",
        "import numpy as np"
      ],
      "execution_count": 318,
      "outputs": []
    },
    {
      "cell_type": "markdown",
      "metadata": {
        "id": "IgJnx92pt9PG"
      },
      "source": [
        "### 설문조사 데이터 불러오기"
      ]
    },
    {
      "cell_type": "code",
      "metadata": {
        "colab": {
          "base_uri": "https://localhost:8080/",
          "height": 1000
        },
        "id": "Tzdtl0NStO9M",
        "outputId": "f43ab356-8833-45f8-a407-6743074933cf"
      },
      "source": [
        "df = pd.read_excel(\"하우스 메이트 설문결과.xlsx\")\n",
        "df.head()"
      ],
      "execution_count": 319,
      "outputs": [
        {
          "output_type": "execute_result",
          "data": {
            "text/html": [
              "<div>\n",
              "<style scoped>\n",
              "    .dataframe tbody tr th:only-of-type {\n",
              "        vertical-align: middle;\n",
              "    }\n",
              "\n",
              "    .dataframe tbody tr th {\n",
              "        vertical-align: top;\n",
              "    }\n",
              "\n",
              "    .dataframe thead th {\n",
              "        text-align: right;\n",
              "    }\n",
              "</style>\n",
              "<table border=\"1\" class=\"dataframe\">\n",
              "  <thead>\n",
              "    <tr style=\"text-align: right;\">\n",
              "      <th></th>\n",
              "      <th>TIMESTAMP</th>\n",
              "      <th>1. 성별</th>\n",
              "      <th>2. 나이</th>\n",
              "      <th>3. mbti</th>\n",
              "      <th>4. 흡연 유무</th>\n",
              "      <th>4-1. 원하는 메이트의 흡연여부</th>\n",
              "      <th>5. 반려동물과 같이 살 예정이다.</th>\n",
              "      <th>5-1. 반려동물을 키울 경우 어떤 동물인가?</th>\n",
              "      <th>5-2. 메이트의 반려동물 중 허용가능한 것은?</th>\n",
              "      <th>6. 난방/냉방 관련 문제</th>\n",
              "      <th>7. 벌레를 잡을 수 있는가? (바퀴벌레, 돈벌레, 지네 정도)</th>\n",
              "      <th>7-1. 원하는 메이트</th>\n",
              "      <th>8.집에서 밥을 먹을 경우의 식사 스타일</th>\n",
              "      <th>8-1. 메이트가 집에서 요리하는 게 불편한가요? (냄새 문제 등)</th>\n",
              "      <th>9. 선호하는 식사유형</th>\n",
              "      <th>10. 메이트와 물건을 공유해도 괜찮습니까?</th>\n",
              "      <th>11. 방내에서의 소음문제</th>\n",
              "      <th>12. 음주 문제</th>\n",
              "      <th>13. 정리정돈을 신경쓰는 정도</th>\n",
              "      <th>14. 지인 출입</th>\n",
              "    </tr>\n",
              "  </thead>\n",
              "  <tbody>\n",
              "    <tr>\n",
              "      <th>0</th>\n",
              "      <td>2021-10-20 11:29:52</td>\n",
              "      <td>여자</td>\n",
              "      <td>24 ~ 26</td>\n",
              "      <td>infp</td>\n",
              "      <td>비흡연자</td>\n",
              "      <td>비흡연자</td>\n",
              "      <td>아니다</td>\n",
              "      <td>NaN</td>\n",
              "      <td>고양이\\t강아지</td>\n",
              "      <td>절대 못잡는다</td>\n",
              "      <td>NaN</td>\n",
              "      <td>벌레를 잡을 수 있어야만 한다</td>\n",
              "      <td>직접 요리</td>\n",
              "      <td>NaN</td>\n",
              "      <td>그렇다</td>\n",
              "      <td>NaN</td>\n",
              "      <td>NaN</td>\n",
              "      <td>소음은 없었으면 좋겠다.</td>\n",
              "      <td>2</td>\n",
              "      <td>누구든 데려오면 안된다.</td>\n",
              "    </tr>\n",
              "    <tr>\n",
              "      <th>1</th>\n",
              "      <td>2021-10-22 01:16:34</td>\n",
              "      <td>남자</td>\n",
              "      <td>27 ~ 29</td>\n",
              "      <td>intp</td>\n",
              "      <td>비흡연자</td>\n",
              "      <td>비흡연자</td>\n",
              "      <td>아니다</td>\n",
              "      <td>NaN</td>\n",
              "      <td>고양이\\t강아지</td>\n",
              "      <td>더위를 많이 타서 에어컨을 일찍부터 튼다\\t여름에 항상 에어컨을 켜놓는다\\t과한 난...</td>\n",
              "      <td>시키면 잡을 수 있다</td>\n",
              "      <td>벌레를 못잡아도 상관없다</td>\n",
              "      <td>직접 요리</td>\n",
              "      <td>NaN</td>\n",
              "      <td>혼자 먹는 걸 선호한다</td>\n",
              "      <td>사용하기 전 허락을 받으면 괜찮다</td>\n",
              "      <td>신경쓰지 않는다.</td>\n",
              "      <td>메이트가 술주정만 하지 않으면 된다</td>\n",
              "      <td>내 공간만 아니면 신경쓰이지 않는다</td>\n",
              "      <td>미리 말만 하면 지인이 출입해도 상관없다.</td>\n",
              "    </tr>\n",
              "    <tr>\n",
              "      <th>2</th>\n",
              "      <td>2021-10-22 01:29:18</td>\n",
              "      <td>여자</td>\n",
              "      <td>20 ~ 23</td>\n",
              "      <td>esfp</td>\n",
              "      <td>비흡연자</td>\n",
              "      <td>비흡연자</td>\n",
              "      <td>아니다</td>\n",
              "      <td>NaN</td>\n",
              "      <td>고양이\\t강아지\\t조류</td>\n",
              "      <td>더위를 많이 타서 에어컨을 일찍부터 튼다\\t추위를 많이 타서 난방을 일찍부터 튼다\\...</td>\n",
              "      <td>절대 못잡는다</td>\n",
              "      <td>벌레를 잡을 수 있어야만 한다</td>\n",
              "      <td>외부 음식(포장, 배달)</td>\n",
              "      <td>NaN</td>\n",
              "      <td>혼자 먹는 걸 선호한다</td>\n",
              "      <td>사용하기 전 허락을 받으면 괜찮다</td>\n",
              "      <td>10분 이상의 동영상/음악 소리는 신경쓰인다\\t지속적인 알람소리는 신경쓰인다</td>\n",
              "      <td>메이트가 술주정만 하지 않으면 된다</td>\n",
              "      <td>공유하는 공간의 경우 신경쓰인다</td>\n",
              "      <td>미리 말만 하면 지인이 출입해도 상관없다.</td>\n",
              "    </tr>\n",
              "    <tr>\n",
              "      <th>3</th>\n",
              "      <td>2021-10-22 01:31:02</td>\n",
              "      <td>남자</td>\n",
              "      <td>20 ~ 23</td>\n",
              "      <td>모른다</td>\n",
              "      <td>비흡연자</td>\n",
              "      <td>비흡연자</td>\n",
              "      <td>아니다</td>\n",
              "      <td>NaN</td>\n",
              "      <td>어떠한 동물도 안된다.</td>\n",
              "      <td>NaN</td>\n",
              "      <td>잡는데 거리낌이 없다</td>\n",
              "      <td>벌레를 못잡아도 상관없다</td>\n",
              "      <td>직접 요리</td>\n",
              "      <td>NaN</td>\n",
              "      <td>같이 먹는 걸 선호한다</td>\n",
              "      <td>사용하기 전 허락을 받으면 괜찮다</td>\n",
              "      <td>신경쓰지 않는다.</td>\n",
              "      <td>메이트의 술 문제는 신경쓰지 않는다</td>\n",
              "      <td>공유하는 공간의 경우 신경쓰인다</td>\n",
              "      <td>미리 말만 하면 지인이 출입해도 상관없다.</td>\n",
              "    </tr>\n",
              "    <tr>\n",
              "      <th>4</th>\n",
              "      <td>2021-10-22 01:33:35</td>\n",
              "      <td>남자</td>\n",
              "      <td>20 ~ 23</td>\n",
              "      <td>intp</td>\n",
              "      <td>비흡연자</td>\n",
              "      <td>비흡연자</td>\n",
              "      <td>아니다</td>\n",
              "      <td>NaN</td>\n",
              "      <td>어떠한 동물도 안된다.</td>\n",
              "      <td>과한 난방은 답답해하는 편이다</td>\n",
              "      <td>시키면 잡을 수 있다</td>\n",
              "      <td>벌레를 못잡아도 상관없다</td>\n",
              "      <td>직접 요리</td>\n",
              "      <td>NaN</td>\n",
              "      <td>혼자 먹는 걸 선호한다</td>\n",
              "      <td>괜찮지 않다(안된다)</td>\n",
              "      <td>지속적인 알람소리는 신경쓰인다</td>\n",
              "      <td>메이트가 술 냄새를 풍기는 것은 싫다\\t메이트가 술을 많이 마신 것 같은 모습을 보...</td>\n",
              "      <td>공유하는 공간의 경우 신경쓰인다</td>\n",
              "      <td>미리 말만 하면 지인이 출입해도 상관없다.</td>\n",
              "    </tr>\n",
              "  </tbody>\n",
              "</table>\n",
              "</div>"
            ],
            "text/plain": [
              "            TIMESTAMP 1. 성별  ...    13. 정리정돈을 신경쓰는 정도                14. 지인 출입\n",
              "0 2021-10-20 11:29:52    여자  ...                    2            누구든 데려오면 안된다.\n",
              "1 2021-10-22 01:16:34    남자  ...  내 공간만 아니면 신경쓰이지 않는다  미리 말만 하면 지인이 출입해도 상관없다.\n",
              "2 2021-10-22 01:29:18    여자  ...    공유하는 공간의 경우 신경쓰인다  미리 말만 하면 지인이 출입해도 상관없다.\n",
              "3 2021-10-22 01:31:02    남자  ...    공유하는 공간의 경우 신경쓰인다  미리 말만 하면 지인이 출입해도 상관없다.\n",
              "4 2021-10-22 01:33:35    남자  ...    공유하는 공간의 경우 신경쓰인다  미리 말만 하면 지인이 출입해도 상관없다.\n",
              "\n",
              "[5 rows x 20 columns]"
            ]
          },
          "metadata": {},
          "execution_count": 319
        }
      ]
    },
    {
      "cell_type": "code",
      "metadata": {
        "colab": {
          "base_uri": "https://localhost:8080/"
        },
        "id": "GwnbKh4Ou7ZC",
        "outputId": "e826ef93-64d6-4d36-bedd-37691f203b28"
      },
      "source": [
        "df.info()"
      ],
      "execution_count": 320,
      "outputs": [
        {
          "output_type": "stream",
          "name": "stdout",
          "text": [
            "<class 'pandas.core.frame.DataFrame'>\n",
            "RangeIndex: 72 entries, 0 to 71\n",
            "Data columns (total 20 columns):\n",
            " #   Column                                 Non-Null Count  Dtype         \n",
            "---  ------                                 --------------  -----         \n",
            " 0   TIMESTAMP                              72 non-null     datetime64[ns]\n",
            " 1   1. 성별                                  72 non-null     object        \n",
            " 2   2. 나이                                  72 non-null     object        \n",
            " 3   3. mbti                                72 non-null     object        \n",
            " 4   4. 흡연 유무                               72 non-null     object        \n",
            " 5   4-1. 원하는 메이트의 흡연여부                     72 non-null     object        \n",
            " 6   5. 반려동물과 같이 살 예정이다.                    72 non-null     object        \n",
            " 7   5-1. 반려동물을 키울 경우 어떤 동물인가?              15 non-null     object        \n",
            " 8   5-2. 메이트의 반려동물 중 허용가능한 것은?             72 non-null     object        \n",
            " 9   6. 난방/냉방 관련 문제                         71 non-null     object        \n",
            " 10  7. 벌레를 잡을 수 있는가? (바퀴벌레, 돈벌레, 지네 정도)    71 non-null     object        \n",
            " 11  7-1. 원하는 메이트                           72 non-null     object        \n",
            " 12  8.집에서 밥을 먹을 경우의 식사 스타일                 72 non-null     object        \n",
            " 13  8-1. 메이트가 집에서 요리하는 게 불편한가요? (냄새 문제 등)  64 non-null     object        \n",
            " 14  9. 선호하는 식사유형                           72 non-null     object        \n",
            " 15  10. 메이트와 물건을 공유해도 괜찮습니까?               71 non-null     object        \n",
            " 16  11. 방내에서의 소음문제                         70 non-null     object        \n",
            " 17  12. 음주 문제                              71 non-null     object        \n",
            " 18  13. 정리정돈을 신경쓰는 정도                      72 non-null     object        \n",
            " 19  14. 지인 출입                              72 non-null     object        \n",
            "dtypes: datetime64[ns](1), object(19)\n",
            "memory usage: 11.4+ KB\n"
          ]
        }
      ]
    },
    {
      "cell_type": "markdown",
      "metadata": {
        "id": "c-SOep4iL5Oc"
      },
      "source": [
        "### 컬럼 이름 변경\n",
        "- 컬럼 이름을 데이터베이스 테이블 명세서에 맞춰 변경한다.\n",
        "- time 컬럼을 제외하면 총 19개의 컬럼을 가진다."
      ]
    },
    {
      "cell_type": "code",
      "metadata": {
        "colab": {
          "base_uri": "https://localhost:8080/",
          "height": 1000
        },
        "id": "N3nEESWVKE5N",
        "outputId": "c877f5e4-d6b2-43a5-8189-2e4a87981069"
      },
      "source": [
        "df.columns = ['time', 'sex', 'age', 'mbti', 'user_smoking', 'mate_smoking', 'user_pet', 'user_pet_category', 'mate_pet_category', \n",
        "              'air', 'user_bug_killer', 'mate_bug_killer', 'user_cooking', 'mate_cooking', 'eat_together', 'share_item', 'noise', 'mate_alcohol', \n",
        "              'mate_clean', 'permission_to_enter']\n",
        "df.head()"
      ],
      "execution_count": 321,
      "outputs": [
        {
          "output_type": "execute_result",
          "data": {
            "text/html": [
              "<div>\n",
              "<style scoped>\n",
              "    .dataframe tbody tr th:only-of-type {\n",
              "        vertical-align: middle;\n",
              "    }\n",
              "\n",
              "    .dataframe tbody tr th {\n",
              "        vertical-align: top;\n",
              "    }\n",
              "\n",
              "    .dataframe thead th {\n",
              "        text-align: right;\n",
              "    }\n",
              "</style>\n",
              "<table border=\"1\" class=\"dataframe\">\n",
              "  <thead>\n",
              "    <tr style=\"text-align: right;\">\n",
              "      <th></th>\n",
              "      <th>time</th>\n",
              "      <th>sex</th>\n",
              "      <th>age</th>\n",
              "      <th>mbti</th>\n",
              "      <th>user_smoking</th>\n",
              "      <th>mate_smoking</th>\n",
              "      <th>user_pet</th>\n",
              "      <th>user_pet_category</th>\n",
              "      <th>mate_pet_category</th>\n",
              "      <th>air</th>\n",
              "      <th>user_bug_killer</th>\n",
              "      <th>mate_bug_killer</th>\n",
              "      <th>user_cooking</th>\n",
              "      <th>mate_cooking</th>\n",
              "      <th>eat_together</th>\n",
              "      <th>share_item</th>\n",
              "      <th>noise</th>\n",
              "      <th>mate_alcohol</th>\n",
              "      <th>mate_clean</th>\n",
              "      <th>permission_to_enter</th>\n",
              "    </tr>\n",
              "  </thead>\n",
              "  <tbody>\n",
              "    <tr>\n",
              "      <th>0</th>\n",
              "      <td>2021-10-20 11:29:52</td>\n",
              "      <td>여자</td>\n",
              "      <td>24 ~ 26</td>\n",
              "      <td>infp</td>\n",
              "      <td>비흡연자</td>\n",
              "      <td>비흡연자</td>\n",
              "      <td>아니다</td>\n",
              "      <td>NaN</td>\n",
              "      <td>고양이\\t강아지</td>\n",
              "      <td>절대 못잡는다</td>\n",
              "      <td>NaN</td>\n",
              "      <td>벌레를 잡을 수 있어야만 한다</td>\n",
              "      <td>직접 요리</td>\n",
              "      <td>NaN</td>\n",
              "      <td>그렇다</td>\n",
              "      <td>NaN</td>\n",
              "      <td>NaN</td>\n",
              "      <td>소음은 없었으면 좋겠다.</td>\n",
              "      <td>2</td>\n",
              "      <td>누구든 데려오면 안된다.</td>\n",
              "    </tr>\n",
              "    <tr>\n",
              "      <th>1</th>\n",
              "      <td>2021-10-22 01:16:34</td>\n",
              "      <td>남자</td>\n",
              "      <td>27 ~ 29</td>\n",
              "      <td>intp</td>\n",
              "      <td>비흡연자</td>\n",
              "      <td>비흡연자</td>\n",
              "      <td>아니다</td>\n",
              "      <td>NaN</td>\n",
              "      <td>고양이\\t강아지</td>\n",
              "      <td>더위를 많이 타서 에어컨을 일찍부터 튼다\\t여름에 항상 에어컨을 켜놓는다\\t과한 난...</td>\n",
              "      <td>시키면 잡을 수 있다</td>\n",
              "      <td>벌레를 못잡아도 상관없다</td>\n",
              "      <td>직접 요리</td>\n",
              "      <td>NaN</td>\n",
              "      <td>혼자 먹는 걸 선호한다</td>\n",
              "      <td>사용하기 전 허락을 받으면 괜찮다</td>\n",
              "      <td>신경쓰지 않는다.</td>\n",
              "      <td>메이트가 술주정만 하지 않으면 된다</td>\n",
              "      <td>내 공간만 아니면 신경쓰이지 않는다</td>\n",
              "      <td>미리 말만 하면 지인이 출입해도 상관없다.</td>\n",
              "    </tr>\n",
              "    <tr>\n",
              "      <th>2</th>\n",
              "      <td>2021-10-22 01:29:18</td>\n",
              "      <td>여자</td>\n",
              "      <td>20 ~ 23</td>\n",
              "      <td>esfp</td>\n",
              "      <td>비흡연자</td>\n",
              "      <td>비흡연자</td>\n",
              "      <td>아니다</td>\n",
              "      <td>NaN</td>\n",
              "      <td>고양이\\t강아지\\t조류</td>\n",
              "      <td>더위를 많이 타서 에어컨을 일찍부터 튼다\\t추위를 많이 타서 난방을 일찍부터 튼다\\...</td>\n",
              "      <td>절대 못잡는다</td>\n",
              "      <td>벌레를 잡을 수 있어야만 한다</td>\n",
              "      <td>외부 음식(포장, 배달)</td>\n",
              "      <td>NaN</td>\n",
              "      <td>혼자 먹는 걸 선호한다</td>\n",
              "      <td>사용하기 전 허락을 받으면 괜찮다</td>\n",
              "      <td>10분 이상의 동영상/음악 소리는 신경쓰인다\\t지속적인 알람소리는 신경쓰인다</td>\n",
              "      <td>메이트가 술주정만 하지 않으면 된다</td>\n",
              "      <td>공유하는 공간의 경우 신경쓰인다</td>\n",
              "      <td>미리 말만 하면 지인이 출입해도 상관없다.</td>\n",
              "    </tr>\n",
              "    <tr>\n",
              "      <th>3</th>\n",
              "      <td>2021-10-22 01:31:02</td>\n",
              "      <td>남자</td>\n",
              "      <td>20 ~ 23</td>\n",
              "      <td>모른다</td>\n",
              "      <td>비흡연자</td>\n",
              "      <td>비흡연자</td>\n",
              "      <td>아니다</td>\n",
              "      <td>NaN</td>\n",
              "      <td>어떠한 동물도 안된다.</td>\n",
              "      <td>NaN</td>\n",
              "      <td>잡는데 거리낌이 없다</td>\n",
              "      <td>벌레를 못잡아도 상관없다</td>\n",
              "      <td>직접 요리</td>\n",
              "      <td>NaN</td>\n",
              "      <td>같이 먹는 걸 선호한다</td>\n",
              "      <td>사용하기 전 허락을 받으면 괜찮다</td>\n",
              "      <td>신경쓰지 않는다.</td>\n",
              "      <td>메이트의 술 문제는 신경쓰지 않는다</td>\n",
              "      <td>공유하는 공간의 경우 신경쓰인다</td>\n",
              "      <td>미리 말만 하면 지인이 출입해도 상관없다.</td>\n",
              "    </tr>\n",
              "    <tr>\n",
              "      <th>4</th>\n",
              "      <td>2021-10-22 01:33:35</td>\n",
              "      <td>남자</td>\n",
              "      <td>20 ~ 23</td>\n",
              "      <td>intp</td>\n",
              "      <td>비흡연자</td>\n",
              "      <td>비흡연자</td>\n",
              "      <td>아니다</td>\n",
              "      <td>NaN</td>\n",
              "      <td>어떠한 동물도 안된다.</td>\n",
              "      <td>과한 난방은 답답해하는 편이다</td>\n",
              "      <td>시키면 잡을 수 있다</td>\n",
              "      <td>벌레를 못잡아도 상관없다</td>\n",
              "      <td>직접 요리</td>\n",
              "      <td>NaN</td>\n",
              "      <td>혼자 먹는 걸 선호한다</td>\n",
              "      <td>괜찮지 않다(안된다)</td>\n",
              "      <td>지속적인 알람소리는 신경쓰인다</td>\n",
              "      <td>메이트가 술 냄새를 풍기는 것은 싫다\\t메이트가 술을 많이 마신 것 같은 모습을 보...</td>\n",
              "      <td>공유하는 공간의 경우 신경쓰인다</td>\n",
              "      <td>미리 말만 하면 지인이 출입해도 상관없다.</td>\n",
              "    </tr>\n",
              "  </tbody>\n",
              "</table>\n",
              "</div>"
            ],
            "text/plain": [
              "                 time sex  ...           mate_clean      permission_to_enter\n",
              "0 2021-10-20 11:29:52  여자  ...                    2            누구든 데려오면 안된다.\n",
              "1 2021-10-22 01:16:34  남자  ...  내 공간만 아니면 신경쓰이지 않는다  미리 말만 하면 지인이 출입해도 상관없다.\n",
              "2 2021-10-22 01:29:18  여자  ...    공유하는 공간의 경우 신경쓰인다  미리 말만 하면 지인이 출입해도 상관없다.\n",
              "3 2021-10-22 01:31:02  남자  ...    공유하는 공간의 경우 신경쓰인다  미리 말만 하면 지인이 출입해도 상관없다.\n",
              "4 2021-10-22 01:33:35  남자  ...    공유하는 공간의 경우 신경쓰인다  미리 말만 하면 지인이 출입해도 상관없다.\n",
              "\n",
              "[5 rows x 20 columns]"
            ]
          },
          "metadata": {},
          "execution_count": 321
        }
      ]
    },
    {
      "cell_type": "markdown",
      "metadata": {
        "id": "yid007nxNClo"
      },
      "source": [
        "### 컬럼 설명\n",
        "- sex : 여자, 남자\n",
        "- age : 10대, 20 ~ 23, 24 ~ 26, 27 ~ 29, 30대, 40대\n",
        "- mbti : 따로 처리 필요\n",
        "- user_smoking : 흡연자, 비흡연자\n",
        "- mate_smoking : 흡연자, 비흡연자, 상관없음\n",
        "  - 상관없음의 경우 해당 컬럼을 사용하지 않는 경우와 중간값을 주는 두가지의 방법을 사용할 수 있다.\n",
        "- user_pet : 그렇다, 아니다\n",
        "- user_pet_category : 강아지, 고양이, '파충류, 어류', 설치류, 조류, '기타'\n",
        "  - \n",
        "- mate_pet_category : 어떠한 동물도 안된다., 어떤 동물이든 괜찮다., 고양이, 강아지, '파충류, 어류', 설치류, 조류\n",
        "  - 어떠한 동물도 안된다. : user_pet == '그렇다' 일 경우를 제외한다.\n",
        "  - 어떤 동물이든 괜찮다. : \n",
        "- air : 더위를 많이 타서 에어컨을 일찍부터 튼다, 여름에 항상 에어컨을 켜놓는다 = air_like_airconditionner / 에어컨을 틀고 못잔다 = air_night_airconditioner / 추위를 많이 타서 난방을 일찍부터 튼다, 과한 난방은 답답해하는 편이다 = air_like_heater / 해당하는 상황 없음 = air = none\n",
        "- user_bug_killer : 잡는데 거리낌이 없다, 시키면 잡을 수 있다, 절대 못잡는다\n",
        "- mate_bug_killer : 벌레를 잡을 수 있어야 한다, 벌레를 못잡아도 상관없다\n",
        "- user_cooking : 직접 요리, 외부 음식(포장, 배달)\n",
        "- mate_cooking : 불편하다, 신경쓰지 않는다(불편하지 않다)\n",
        "- eat_together : 혼자 먹는 걸 선호한다, 같이 먹는 걸 선호한다\n",
        "- shre_item : 말 안하고 사용해도 괜찮다, 사용하기 전 허락을 받으면 괜찮다, 괜찮지 않다(안된다)\n",
        "- noise : 신경쓰지 않는다. = noise_none / 10분 이상의 말소리(통화/게임)은 신경쓰인다, 10분 이전의 말소리(통화/게임)도 신경쓰인다 = noise_talking / 10분 이상의 동영상/음악 소리는 신경쓰인다, 10분 이전의 동영상/음악 소리도 신경쓰인다 = noise_music / 지속적인 알람소리는 신경쓰인다 = noise_alarm\n",
        "- mate_alcohol : 메이트의 술 문제는 신경쓰지 않는다, 메이트가 술 냄새를 풍기는 것은 싫다, 메이트가 술을 많이 마신 것 같은 모습을 보이면 싫다, 메이트가 술주정만 하지 않으면 된다\n",
        "- mate_clean : 내 공간만 아니면 신경쓰이지 않는다, 공유하는 공간의 경우 신경쓰인다, 메이트의 공간까지 신경쓰인다\n",
        "- permission_to_enter : 본인이 없을 때 말없이 지인이 잠깐 출입해도 상관없다., 미리 말만 하면 지인이 출입해도 상관없다., 누구든 데려오면 안된다."
      ]
    },
    {
      "cell_type": "code",
      "metadata": {
        "colab": {
          "base_uri": "https://localhost:8080/"
        },
        "id": "5qwdnI8l_dwC",
        "outputId": "dbcfc8a4-7339-4b50-d582-090e367e9eae"
      },
      "source": [
        "df.isnull().sum()"
      ],
      "execution_count": 322,
      "outputs": [
        {
          "output_type": "execute_result",
          "data": {
            "text/plain": [
              "time                    0\n",
              "sex                     0\n",
              "age                     0\n",
              "mbti                    0\n",
              "user_smoking            0\n",
              "mate_smoking            0\n",
              "user_pet                0\n",
              "user_pet_category      57\n",
              "mate_pet_category       0\n",
              "air                     1\n",
              "user_bug_killer         1\n",
              "mate_bug_killer         0\n",
              "user_cooking            0\n",
              "mate_cooking            8\n",
              "eat_together            0\n",
              "share_item              1\n",
              "noise                   2\n",
              "mate_alcohol            1\n",
              "mate_clean              0\n",
              "permission_to_enter     0\n",
              "dtype: int64"
            ]
          },
          "metadata": {},
          "execution_count": 322
        }
      ]
    },
    {
      "cell_type": "markdown",
      "metadata": {
        "id": "RVBdJgMB5H2_"
      },
      "source": [
        "### 컬럼별 데이터 전처리\n",
        "- 컬럼 분리\n",
        "- 데이터를 0~1사이의 숫자로 변환"
      ]
    },
    {
      "cell_type": "markdown",
      "metadata": {
        "id": "_tcwD0uX9pW0"
      },
      "source": [
        "- sex"
      ]
    },
    {
      "cell_type": "code",
      "metadata": {
        "colab": {
          "base_uri": "https://localhost:8080/"
        },
        "id": "pMbuT9BG90kG",
        "outputId": "33e69e21-184a-44c6-fd2e-3d66055f3a71"
      },
      "source": [
        "print(df['sex'].value_counts())\n",
        "print(\"NaN : \", df['sex'].isnull().sum())"
      ],
      "execution_count": 323,
      "outputs": [
        {
          "output_type": "stream",
          "name": "stdout",
          "text": [
            "여자    54\n",
            "남자    18\n",
            "Name: sex, dtype: int64\n",
            "NaN :  0\n"
          ]
        }
      ]
    },
    {
      "cell_type": "code",
      "metadata": {
        "colab": {
          "base_uri": "https://localhost:8080/"
        },
        "id": "WmCrEN_q9rDS",
        "outputId": "1272a2a5-5d8b-4852-fb3f-d95bc9be27d1"
      },
      "source": [
        "df['sex'] = df['sex'].apply(lambda x : 1 if str(x) == '여자' else 0)\n",
        "print(df['sex'].value_counts())\n",
        "print(\"NaN : \", df['sex'].isnull().sum())"
      ],
      "execution_count": 324,
      "outputs": [
        {
          "output_type": "stream",
          "name": "stdout",
          "text": [
            "1    54\n",
            "0    18\n",
            "Name: sex, dtype: int64\n",
            "NaN :  0\n"
          ]
        }
      ]
    },
    {
      "cell_type": "markdown",
      "metadata": {
        "id": "J3LbEmNl9_xR"
      },
      "source": [
        "- age"
      ]
    },
    {
      "cell_type": "code",
      "metadata": {
        "colab": {
          "base_uri": "https://localhost:8080/"
        },
        "id": "6G1wJtEh99Q9",
        "outputId": "1015b25f-33af-4afd-b930-cc96fc7e6ad1"
      },
      "source": [
        "print(df['age'].value_counts())\n",
        "print(\"NaN : \", df['age'].isnull().sum())"
      ],
      "execution_count": 325,
      "outputs": [
        {
          "output_type": "stream",
          "name": "stdout",
          "text": [
            "24 ~ 26    32\n",
            "20 ~ 23    26\n",
            "27 ~ 29     7\n",
            "30대         4\n",
            "10대         3\n",
            "Name: age, dtype: int64\n",
            "NaN :  0\n"
          ]
        }
      ]
    },
    {
      "cell_type": "code",
      "metadata": {
        "colab": {
          "base_uri": "https://localhost:8080/"
        },
        "id": "P02682K2-E9R",
        "outputId": "089f217a-d677-41d1-8dee-9091782dff0c"
      },
      "source": [
        "def func(x):\n",
        "  if '40대 이후' == str(x):\n",
        "    return 1\n",
        "  elif '30대' == str(x):\n",
        "    return 0.8\n",
        "  elif '27 ~ 29' == str(x):\n",
        "    return 0.6\n",
        "  elif '24 ~ 26' == str(x):\n",
        "    return 0.4\n",
        "  elif '20 ~ 23' == str(x):\n",
        "    return 0.2\n",
        "  elif '10대' == str(x):\n",
        "    return 0\n",
        "  else:\n",
        "    return np.nan\n",
        "\n",
        "df['age'] = df['age'].apply(lambda x : func(x))\n",
        "print(df['age'].value_counts())\n",
        "print(\"NaN : \", df['age'].isnull().sum())"
      ],
      "execution_count": 326,
      "outputs": [
        {
          "output_type": "stream",
          "name": "stdout",
          "text": [
            "0.4    32\n",
            "0.2    26\n",
            "0.6     7\n",
            "0.8     4\n",
            "0.0     3\n",
            "Name: age, dtype: int64\n",
            "NaN :  0\n"
          ]
        }
      ]
    },
    {
      "cell_type": "markdown",
      "metadata": {
        "id": "DPzU7Xnr_WEl"
      },
      "source": [
        "- mbti\n",
        "  - '모른다' -> 0.5"
      ]
    },
    {
      "cell_type": "code",
      "metadata": {
        "colab": {
          "base_uri": "https://localhost:8080/"
        },
        "id": "LexBXIdU_aOV",
        "outputId": "fa6b5ab8-7f00-4a87-950b-5ab7ba50da69"
      },
      "source": [
        "print(df['mbti'].value_counts())\n",
        "print(\"NaN : \", df['mbti'].isnull().sum())"
      ],
      "execution_count": 327,
      "outputs": [
        {
          "output_type": "stream",
          "name": "stdout",
          "text": [
            "infp    8\n",
            "enfj    8\n",
            "isfj    8\n",
            "isfp    7\n",
            "esfp    6\n",
            "모른다     5\n",
            "intp    5\n",
            "infj    4\n",
            "enfp    4\n",
            "esfj    4\n",
            "istp    4\n",
            "intj    3\n",
            "entj    2\n",
            "entp    2\n",
            "istj    2\n",
            "Name: mbti, dtype: int64\n",
            "NaN :  0\n"
          ]
        }
      ]
    },
    {
      "cell_type": "code",
      "metadata": {
        "colab": {
          "base_uri": "https://localhost:8080/"
        },
        "id": "oHPTbJZ7_iWO",
        "outputId": "cec1690e-6461-4f4e-862b-bb0418254915"
      },
      "source": [
        "df['mbti'] = df['mbti'].apply(lambda x : 0.5 if str(x) == '모른다' else str(x))\n",
        "print(df['mbti'].value_counts())\n",
        "print(\"NaN : \", df['mbti'].isnull().sum())"
      ],
      "execution_count": 328,
      "outputs": [
        {
          "output_type": "stream",
          "name": "stdout",
          "text": [
            "infp    8\n",
            "enfj    8\n",
            "isfj    8\n",
            "isfp    7\n",
            "esfp    6\n",
            "intp    5\n",
            "0.5     5\n",
            "infj    4\n",
            "enfp    4\n",
            "esfj    4\n",
            "istp    4\n",
            "intj    3\n",
            "entj    2\n",
            "entp    2\n",
            "istj    2\n",
            "Name: mbti, dtype: int64\n",
            "NaN :  0\n"
          ]
        }
      ]
    },
    {
      "cell_type": "markdown",
      "metadata": {
        "id": "pkd3oYWmrhaB"
      },
      "source": [
        "- user_smoking : 흡연자, 비흡연자\n",
        "- mate_smoking : 흡연자, 비흡연자, 상관없음\n",
        "  - 상관없음의 경우 해당 컬럼을 사용하지 않는 경우와 중간값을 주는 두가지의 방법을 사용할 수 있다."
      ]
    },
    {
      "cell_type": "code",
      "metadata": {
        "colab": {
          "base_uri": "https://localhost:8080/"
        },
        "id": "wTNKavySriew",
        "outputId": "49fbb4cb-4b49-467d-ff77-138ff27e781b"
      },
      "source": [
        "print(df['user_smoking'].value_counts())\n",
        "print(\"NaN : \", df['user_smoking'].isnull().sum())"
      ],
      "execution_count": 329,
      "outputs": [
        {
          "output_type": "stream",
          "name": "stdout",
          "text": [
            "비흡연자    64\n",
            "흡연자      8\n",
            "Name: user_smoking, dtype: int64\n",
            "NaN :  0\n"
          ]
        }
      ]
    },
    {
      "cell_type": "code",
      "metadata": {
        "colab": {
          "base_uri": "https://localhost:8080/"
        },
        "id": "aUGywn8irz3i",
        "outputId": "4718829a-03ad-4f80-aae7-f17fa95cee4b"
      },
      "source": [
        "df['user_smoking'] = df['user_smoking'].apply(lambda x : 1 if str(x) == '흡연자' else 0)\n",
        "print(df['user_smoking'].value_counts())\n",
        "print(\"NaN : \", df['user_smoking'].isnull().sum())"
      ],
      "execution_count": 330,
      "outputs": [
        {
          "output_type": "stream",
          "name": "stdout",
          "text": [
            "0    64\n",
            "1     8\n",
            "Name: user_smoking, dtype: int64\n",
            "NaN :  0\n"
          ]
        }
      ]
    },
    {
      "cell_type": "code",
      "metadata": {
        "colab": {
          "base_uri": "https://localhost:8080/"
        },
        "id": "9n0HXwKGt6iU",
        "outputId": "d4493072-de48-477c-b611-953ea8873093"
      },
      "source": [
        "print(df['mate_smoking'].value_counts())\n",
        "print(\"NaN : \", df['mate_smoking'].isnull().sum())"
      ],
      "execution_count": 331,
      "outputs": [
        {
          "output_type": "stream",
          "name": "stdout",
          "text": [
            "비흡연자    58\n",
            "상관없음    11\n",
            "흡연자      3\n",
            "Name: mate_smoking, dtype: int64\n",
            "NaN :  0\n"
          ]
        }
      ]
    },
    {
      "cell_type": "code",
      "metadata": {
        "colab": {
          "base_uri": "https://localhost:8080/"
        },
        "id": "xMqI7KSgtZsM",
        "outputId": "c9d4bd8f-2e32-4906-beb8-f1685e3ad36b"
      },
      "source": [
        "def func(x):\n",
        "  if '흡연자' == str(x):\n",
        "    return 1\n",
        "  elif '상관없음'== str(x):\n",
        "    return 0.5\n",
        "  elif '비흡연자' == str(x):\n",
        "    return 0\n",
        "  else:\n",
        "    return np.nan\n",
        "\n",
        "df['mate_smoking'] = df['mate_smoking'].apply(lambda x : func(x))\n",
        "print(df['mate_smoking'].value_counts())\n",
        "print(\"NaN : \", df['mate_smoking'].isnull().sum())"
      ],
      "execution_count": 332,
      "outputs": [
        {
          "output_type": "stream",
          "name": "stdout",
          "text": [
            "0.0    58\n",
            "0.5    11\n",
            "1.0     3\n",
            "Name: mate_smoking, dtype: int64\n",
            "NaN :  0\n"
          ]
        }
      ]
    },
    {
      "cell_type": "markdown",
      "metadata": {
        "id": "KJqnpwSQu2cA"
      },
      "source": [
        "- user_pet : 그렇다, 아니다\n",
        "- user_pet_category : 강아지, 고양이, '파충류, 어류', 설치류, 조류, '기타'\n",
        "  - \n",
        "- mate_pet_category : 어떠한 동물도 안된다., 어떤 동물이든 괜찮다., 고양이, 강아지, '파충류, 어류', 설치류, 조류\n",
        "  - 어떠한 동물도 안된다. : user_pet == '그렇다' 일 경우를 제외한다.\n",
        "  - 어떤 동물이든 괜찮다. : "
      ]
    },
    {
      "cell_type": "code",
      "metadata": {
        "colab": {
          "base_uri": "https://localhost:8080/"
        },
        "id": "NvHWaiPau3VG",
        "outputId": "7d76199b-0c28-4e15-9a0f-e6913e1dc466"
      },
      "source": [
        "print(df['user_pet'].value_counts())\n",
        "print(\"NaN : \", df['user_pet'].isnull().sum())"
      ],
      "execution_count": 333,
      "outputs": [
        {
          "output_type": "stream",
          "name": "stdout",
          "text": [
            "아니다    60\n",
            "그렇다    12\n",
            "Name: user_pet, dtype: int64\n",
            "NaN :  0\n"
          ]
        }
      ]
    },
    {
      "cell_type": "code",
      "metadata": {
        "colab": {
          "base_uri": "https://localhost:8080/"
        },
        "id": "RYV4zT-y03WF",
        "outputId": "41f95587-f3a6-4628-adb1-bba5018b53e0"
      },
      "source": [
        "df['user_pet'] = df['user_pet'].apply(lambda x : 1 if str(x) == '그렇다' else 0)\n",
        "print(df['user_pet'].value_counts())\n",
        "print(\"NaN : \", df['user_pet'].isnull().sum())"
      ],
      "execution_count": 334,
      "outputs": [
        {
          "output_type": "stream",
          "name": "stdout",
          "text": [
            "0    60\n",
            "1    12\n",
            "Name: user_pet, dtype: int64\n",
            "NaN :  0\n"
          ]
        }
      ]
    },
    {
      "cell_type": "markdown",
      "metadata": {
        "id": "kZjw6vtE1LeQ"
      },
      "source": [
        "- user_pet_category 컬럼을 분리해야한다."
      ]
    },
    {
      "cell_type": "code",
      "metadata": {
        "colab": {
          "base_uri": "https://localhost:8080/"
        },
        "id": "v7O8E30su-Vt",
        "outputId": "984c3a5f-ef99-482f-d3c8-7c44b795aff6"
      },
      "source": [
        "print(df['user_pet_category'].value_counts())\n",
        "print(\"NaN : \", df['user_pet_category'].isnull().sum())"
      ],
      "execution_count": 335,
      "outputs": [
        {
          "output_type": "stream",
          "name": "stdout",
          "text": [
            "강아지              7\n",
            "고양이              3\n",
            "강아지\\t고양이         3\n",
            "동물털 알러지 있음       1\n",
            "강아지\\t고양이\\t해파리    1\n",
            "Name: user_pet_category, dtype: int64\n",
            "NaN :  57\n"
          ]
        }
      ]
    },
    {
      "cell_type": "code",
      "metadata": {
        "colab": {
          "base_uri": "https://localhost:8080/"
        },
        "id": "tQ-v5a9B1RY2",
        "outputId": "4ff16645-0a5b-4b71-9f0c-282d816600c1"
      },
      "source": [
        "df['user_pet_dog'] = df['user_pet_category'].apply(lambda x : 1 if '강아지' in str(x) else 0)\n",
        "print(df['user_pet_dog'].value_counts())\n",
        "print(\"NaN : \", df['user_pet_dog'].isnull().sum())"
      ],
      "execution_count": 336,
      "outputs": [
        {
          "output_type": "stream",
          "name": "stdout",
          "text": [
            "0    61\n",
            "1    11\n",
            "Name: user_pet_dog, dtype: int64\n",
            "NaN :  0\n"
          ]
        }
      ]
    },
    {
      "cell_type": "code",
      "metadata": {
        "colab": {
          "base_uri": "https://localhost:8080/"
        },
        "id": "FXCT5U-j1orO",
        "outputId": "8bd237bf-6133-4473-aeb8-311167ae2428"
      },
      "source": [
        "df['user_pet_cat'] = df['user_pet_category'].apply(lambda x : 1 if '고양이' in str(x) else 0)\n",
        "print(df['user_pet_cat'].value_counts())\n",
        "print(\"NaN : \", df['user_pet_cat'].isnull().sum())"
      ],
      "execution_count": 337,
      "outputs": [
        {
          "output_type": "stream",
          "name": "stdout",
          "text": [
            "0    65\n",
            "1     7\n",
            "Name: user_pet_cat, dtype: int64\n",
            "NaN :  0\n"
          ]
        }
      ]
    },
    {
      "cell_type": "code",
      "metadata": {
        "colab": {
          "base_uri": "https://localhost:8080/"
        },
        "id": "XHj_GgjT1vss",
        "outputId": "34b50a64-8f4f-4149-fb2f-dc4aa3a76896"
      },
      "source": [
        "df['user_pet_reptie_fish'] = df['user_pet_category'].apply(lambda x : 1 if '파충류, 어류' in str(x) else 0)\n",
        "print(df['user_pet_reptie_fish'].value_counts())\n",
        "print(\"NaN : \", df['user_pet_reptie_fish'].isnull().sum())"
      ],
      "execution_count": 338,
      "outputs": [
        {
          "output_type": "stream",
          "name": "stdout",
          "text": [
            "0    72\n",
            "Name: user_pet_reptie_fish, dtype: int64\n",
            "NaN :  0\n"
          ]
        }
      ]
    },
    {
      "cell_type": "code",
      "metadata": {
        "colab": {
          "base_uri": "https://localhost:8080/"
        },
        "id": "TwTSk9mg14BR",
        "outputId": "3cc52ecb-a57f-4581-cb98-7a5eb473064b"
      },
      "source": [
        "df['user_pet_rodent'] = df['user_pet_category'].apply(lambda x : 1 if '설치류' in str(x) else 0)\n",
        "print(df['user_pet_rodent'].value_counts())\n",
        "print(\"NaN : \", df['user_pet_rodent'].isnull().sum())"
      ],
      "execution_count": 339,
      "outputs": [
        {
          "output_type": "stream",
          "name": "stdout",
          "text": [
            "0    72\n",
            "Name: user_pet_rodent, dtype: int64\n",
            "NaN :  0\n"
          ]
        }
      ]
    },
    {
      "cell_type": "code",
      "metadata": {
        "colab": {
          "base_uri": "https://localhost:8080/"
        },
        "id": "EJCH0EMZ2FpC",
        "outputId": "0a017f06-b88a-43c4-c6d6-53937f273261"
      },
      "source": [
        "df['user_pet_bird'] = df['user_pet_category'].apply(lambda x : 1 if '조류' in str(x) else 0)\n",
        "print(df['user_pet_bird'].value_counts())\n",
        "print(\"NaN : \", df['user_pet_bird'].isnull().sum())"
      ],
      "execution_count": 340,
      "outputs": [
        {
          "output_type": "stream",
          "name": "stdout",
          "text": [
            "0    72\n",
            "Name: user_pet_bird, dtype: int64\n",
            "NaN :  0\n"
          ]
        }
      ]
    },
    {
      "cell_type": "code",
      "metadata": {
        "colab": {
          "base_uri": "https://localhost:8080/"
        },
        "id": "6WWZhV1a3NL8",
        "outputId": "4afd4ae3-793b-4958-9bf2-0207acc90738"
      },
      "source": [
        "# user_pet_category 삭제\n",
        "df = df.drop(columns='user_pet_category')\n",
        "df.columns"
      ],
      "execution_count": 341,
      "outputs": [
        {
          "output_type": "execute_result",
          "data": {
            "text/plain": [
              "Index(['time', 'sex', 'age', 'mbti', 'user_smoking', 'mate_smoking',\n",
              "       'user_pet', 'mate_pet_category', 'air', 'user_bug_killer',\n",
              "       'mate_bug_killer', 'user_cooking', 'mate_cooking', 'eat_together',\n",
              "       'share_item', 'noise', 'mate_alcohol', 'mate_clean',\n",
              "       'permission_to_enter', 'user_pet_dog', 'user_pet_cat',\n",
              "       'user_pet_reptie_fish', 'user_pet_rodent', 'user_pet_bird'],\n",
              "      dtype='object')"
            ]
          },
          "metadata": {},
          "execution_count": 341
        }
      ]
    },
    {
      "cell_type": "markdown",
      "metadata": {
        "id": "-a_Wrmz-2RZD"
      },
      "source": [
        "- mate_pet_category 컬럼을 분리해야한다."
      ]
    },
    {
      "cell_type": "code",
      "metadata": {
        "colab": {
          "base_uri": "https://localhost:8080/"
        },
        "id": "NfdaWXcIvBfn",
        "outputId": "3d8d9151-9b7a-426c-a3f6-6db633ffc333"
      },
      "source": [
        "print(df['mate_pet_category'].value_counts())\n",
        "print(\"NaN : \", df['mate_pet_category'].isnull().sum())"
      ],
      "execution_count": 342,
      "outputs": [
        {
          "output_type": "stream",
          "name": "stdout",
          "text": [
            "어떠한 동물도 안된다.                  21\n",
            "고양이\\t강아지                      20\n",
            "강아지                           11\n",
            "고양이                            5\n",
            "어떤 동물이든 괜찮다.                   3\n",
            "고양이\\t강아지\\t파충류, 어류              3\n",
            "파충류, 어류                        2\n",
            "고양이\\t강아지\\t조류                   2\n",
            "고양이\\t강아지\\t파충류, 어류\\t설치류         1\n",
            "고양이\\t강아지\\t설치류                  1\n",
            "어떠한 동물도 안된다.\\t어떤 동물이든 괜찮다.     1\n",
            "고양이\\t파충류, 어류\\t설치류\\t조류          1\n",
            "고양이\\t강아지\\t파충류, 어류\\t조류          1\n",
            "Name: mate_pet_category, dtype: int64\n",
            "NaN :  0\n"
          ]
        }
      ]
    },
    {
      "cell_type": "code",
      "metadata": {
        "colab": {
          "base_uri": "https://localhost:8080/"
        },
        "id": "tZr6hACx2UWq",
        "outputId": "544b0353-24f6-4d35-c0ec-34197b2f8c69"
      },
      "source": [
        "def func(x):\n",
        "  if '어떠한 동물도 안된다.' in str(x):\n",
        "    return 1\n",
        "  elif '어떤 동물이든 괜찮다.' in str(x):\n",
        "    return 0\n",
        "  else:\n",
        "    return 0.5 # NaN, 그 외\n",
        "\n",
        "df['mate_pet'] = df['mate_pet_category'].apply(lambda x : func(x))\n",
        "print(df['mate_pet'].value_counts())\n",
        "print(\"NaN : \", df['mate_pet'].isnull().sum())"
      ],
      "execution_count": 343,
      "outputs": [
        {
          "output_type": "stream",
          "name": "stdout",
          "text": [
            "0.5    47\n",
            "1.0    22\n",
            "0.0     3\n",
            "Name: mate_pet, dtype: int64\n",
            "NaN :  0\n"
          ]
        }
      ]
    },
    {
      "cell_type": "code",
      "metadata": {
        "colab": {
          "base_uri": "https://localhost:8080/"
        },
        "id": "drp_mfyJ2y-R",
        "outputId": "db2244c7-8388-450c-a7b9-4ff047a0a16b"
      },
      "source": [
        "df['mate_pet_dog'] = df['mate_pet_category'].apply(lambda x : 0.5 if '강아지' in str(x) or '어떤 동물이든 괜찮다.' in str(x) else 0)\n",
        "print(df['mate_pet_dog'].value_counts())\n",
        "print(\"NaN : \", df['mate_pet_dog'].isnull().sum())"
      ],
      "execution_count": 344,
      "outputs": [
        {
          "output_type": "stream",
          "name": "stdout",
          "text": [
            "0.5    43\n",
            "0.0    29\n",
            "Name: mate_pet_dog, dtype: int64\n",
            "NaN :  0\n"
          ]
        }
      ]
    },
    {
      "cell_type": "code",
      "metadata": {
        "colab": {
          "base_uri": "https://localhost:8080/"
        },
        "id": "W3Quv6Gu3DdP",
        "outputId": "6c2bbed3-0df4-4c46-abfa-d0755719c5f3"
      },
      "source": [
        "df['mate_pet_cat'] = df['mate_pet_category'].apply(lambda x : 0.5 if '고양이' in str(x) or '어떤 동물이든 괜찮다.' in str(x) else 0)\n",
        "print(df['mate_pet_cat'].value_counts())\n",
        "print(\"NaN : \", df['mate_pet_cat'].isnull().sum())"
      ],
      "execution_count": 345,
      "outputs": [
        {
          "output_type": "stream",
          "name": "stdout",
          "text": [
            "0.5    38\n",
            "0.0    34\n",
            "Name: mate_pet_cat, dtype: int64\n",
            "NaN :  0\n"
          ]
        }
      ]
    },
    {
      "cell_type": "code",
      "metadata": {
        "colab": {
          "base_uri": "https://localhost:8080/"
        },
        "id": "V8Y05GlE3Wyl",
        "outputId": "6fc6a8ad-0aca-4b64-bfa0-f1d8cd2c53ec"
      },
      "source": [
        "df['mate_pet_reptie_fish'] = df['mate_pet_category'].apply(lambda x : 0.5 if '파충류, 어류' in str(x) or '어떤 동물이든 괜찮다.' in str(x) else 0)\n",
        "print(df['mate_pet_reptie_fish'].value_counts())\n",
        "print(\"NaN : \", df['mate_pet_reptie_fish'].isnull().sum())"
      ],
      "execution_count": 346,
      "outputs": [
        {
          "output_type": "stream",
          "name": "stdout",
          "text": [
            "0.0    60\n",
            "0.5    12\n",
            "Name: mate_pet_reptie_fish, dtype: int64\n",
            "NaN :  0\n"
          ]
        }
      ]
    },
    {
      "cell_type": "code",
      "metadata": {
        "colab": {
          "base_uri": "https://localhost:8080/"
        },
        "id": "rAW49NFV3h0f",
        "outputId": "fcd2b07a-1ea3-4ca5-e2d2-ede7645f0009"
      },
      "source": [
        "df['mate_pet_rodent'] = df['mate_pet_category'].apply(lambda x : 0.5 if '설치류' in str(x) or '어떤 동물이든 괜찮다.' in str(x) else 0)\n",
        "print(df['mate_pet_rodent'].value_counts())\n",
        "print(\"NaN : \", df['mate_pet_rodent'].isnull().sum())"
      ],
      "execution_count": 347,
      "outputs": [
        {
          "output_type": "stream",
          "name": "stdout",
          "text": [
            "0.0    65\n",
            "0.5     7\n",
            "Name: mate_pet_rodent, dtype: int64\n",
            "NaN :  0\n"
          ]
        }
      ]
    },
    {
      "cell_type": "code",
      "metadata": {
        "colab": {
          "base_uri": "https://localhost:8080/"
        },
        "id": "es0muy_p3qbk",
        "outputId": "6823b54e-f992-4d3f-e263-5de3c516fed5"
      },
      "source": [
        "df['mate_pet_bird'] = df['mate_pet_category'].apply(lambda x : 0.5 if '조류' in str(x) or '어떤 동물이든 괜찮다.' in str(x) else 0)\n",
        "print(df['mate_pet_bird'].value_counts())\n",
        "print(\"NaN : \", df['mate_pet_bird'].isnull().sum())"
      ],
      "execution_count": 348,
      "outputs": [
        {
          "output_type": "stream",
          "name": "stdout",
          "text": [
            "0.0    64\n",
            "0.5     8\n",
            "Name: mate_pet_bird, dtype: int64\n",
            "NaN :  0\n"
          ]
        }
      ]
    },
    {
      "cell_type": "code",
      "metadata": {
        "colab": {
          "base_uri": "https://localhost:8080/"
        },
        "id": "Guj5N_c44Y-a",
        "outputId": "867cce5c-b337-4820-839d-ca5ee7acd1c6"
      },
      "source": [
        "# mate_pet_category 삭제\n",
        "df = df.drop(columns='mate_pet_category')\n",
        "df.columns"
      ],
      "execution_count": 349,
      "outputs": [
        {
          "output_type": "execute_result",
          "data": {
            "text/plain": [
              "Index(['time', 'sex', 'age', 'mbti', 'user_smoking', 'mate_smoking',\n",
              "       'user_pet', 'air', 'user_bug_killer', 'mate_bug_killer', 'user_cooking',\n",
              "       'mate_cooking', 'eat_together', 'share_item', 'noise', 'mate_alcohol',\n",
              "       'mate_clean', 'permission_to_enter', 'user_pet_dog', 'user_pet_cat',\n",
              "       'user_pet_reptie_fish', 'user_pet_rodent', 'user_pet_bird', 'mate_pet',\n",
              "       'mate_pet_dog', 'mate_pet_cat', 'mate_pet_reptie_fish',\n",
              "       'mate_pet_rodent', 'mate_pet_bird'],\n",
              "      dtype='object')"
            ]
          },
          "metadata": {},
          "execution_count": 349
        }
      ]
    },
    {
      "cell_type": "markdown",
      "metadata": {
        "id": "-hbdYOmF7Nhi"
      },
      "source": [
        "- air 컬럼을 분리해야한다.\n",
        "  - 더위를 많이 타서 에어컨을 일찍부터 튼다, 여름에 항상 에어컨을 켜놓는다 = air_like_airconditionner / 에어컨을 틀고 못잔다 = air_night_airconditioner / 추위를 많이 타서 난방을 일찍부터 튼다, 과한 난방은 답답해하는 편이다 = air_like_heater / 해당하는 상황 없음 = air = none"
      ]
    },
    {
      "cell_type": "code",
      "metadata": {
        "colab": {
          "base_uri": "https://localhost:8080/"
        },
        "id": "2EWkssqJ7wwL",
        "outputId": "091bd5bd-1d79-4aab-cb2d-710ab610e851"
      },
      "source": [
        "df['air'].value_counts()"
      ],
      "execution_count": 350,
      "outputs": [
        {
          "output_type": "execute_result",
          "data": {
            "text/plain": [
              "과한 난방은 답답해하는 편이다                                                                     12\n",
              "더위를 많이 타서 에어컨을 일찍부터 튼다\\t과한 난방은 답답해하는 편이다                                              8\n",
              "해당하는 상황 없음                                                                            8\n",
              "추위를 많이 타서 난방을 일찍부터 튼다                                                                 6\n",
              "더위를 많이 타서 에어컨을 일찍부터 튼다\\t여름에 항상 에어컨을 켜놓는다\\t과한 난방은 답답해하는 편이다                            6\n",
              "더위를 많이 타서 에어컨을 일찍부터 튼다                                                                5\n",
              "여름에 항상 에어컨을 켜놓는다\\t과한 난방은 답답해하는 편이다                                                    4\n",
              "더위를 많이 타서 에어컨을 일찍부터 튼다\\t추위를 많이 타서 난방을 일찍부터 튼다                                         4\n",
              "에어컨을 틀고 못잔다\\t과한 난방은 답답해하는 편이다                                                         3\n",
              "더위를 많이 타서 에어컨을 일찍부터 튼다\\t추위를 많이 타서 난방을 일찍부터 튼다\\t과한 난방은 답답해하는 편이다                       3\n",
              "여름에 항상 에어컨을 켜놓는다                                                                      3\n",
              "추위를 많이 타서 난방을 일찍부터 튼다\\t과한 난방은 답답해하는 편이다                                               3\n",
              "에어컨을 틀고 못잔다\\t추위를 많이 타서 난방을 일찍부터 튼다\\t과한 난방은 답답해하는 편이다                                  2\n",
              "더위를 많이 타서 에어컨을 일찍부터 튼다\\t여름에 항상 에어컨을 켜놓는다\\t추위를 많이 타서 난방을 일찍부터 튼다\\t과한 난방은 답답해하는 편이다     2\n",
              "절대 못잡는다                                                                               1\n",
              "에어컨을 틀고 못잔다                                                                           1\n",
              "Name: air, dtype: int64"
            ]
          },
          "metadata": {},
          "execution_count": 350
        }
      ]
    },
    {
      "cell_type": "code",
      "metadata": {
        "id": "NpSnc8ZzAKpO"
      },
      "source": [
        "# NaN -> '해당하는 상황 없음'\n",
        "df['air'] = df['air'].fillna('해당하는 상황 없음')"
      ],
      "execution_count": 351,
      "outputs": []
    },
    {
      "cell_type": "code",
      "metadata": {
        "colab": {
          "base_uri": "https://localhost:8080/"
        },
        "id": "KK0w6X7U5Dot",
        "outputId": "b89a87a4-fab3-44cc-a402-99669df33ff8"
      },
      "source": [
        "df['air_like_airconditioner'] = df['air'].apply(lambda x : 1 if '더위를 많이 타서 에어컨을 일찍부터 튼다' in str(x) or '여름에 항상 에어컨을 켜놓는다' in str(x) else 0)\n",
        "df['air_like_airconditioner'].value_counts()"
      ],
      "execution_count": 352,
      "outputs": [
        {
          "output_type": "execute_result",
          "data": {
            "text/plain": [
              "0    37\n",
              "1    35\n",
              "Name: air_like_airconditioner, dtype: int64"
            ]
          },
          "metadata": {},
          "execution_count": 352
        }
      ]
    },
    {
      "cell_type": "code",
      "metadata": {
        "colab": {
          "base_uri": "https://localhost:8080/"
        },
        "id": "VIzA5zL8ankn",
        "outputId": "9c97b286-1dc3-4e0f-ed4f-2c5f6dbe162d"
      },
      "source": [
        "df['air_like_airconditioner'].isnull().sum()"
      ],
      "execution_count": 353,
      "outputs": [
        {
          "output_type": "execute_result",
          "data": {
            "text/plain": [
              "0"
            ]
          },
          "metadata": {},
          "execution_count": 353
        }
      ]
    },
    {
      "cell_type": "code",
      "metadata": {
        "colab": {
          "base_uri": "https://localhost:8080/"
        },
        "id": "ydX2aOMa7RPW",
        "outputId": "1056b8c9-3932-4e1e-ac2f-3a4596acb183"
      },
      "source": [
        "df['air_night_airconditioner'] = df['air'].apply(lambda x : 1 if '에어컨을 틀고 못잔다' in str(x) else 0)\n",
        "df['air_night_airconditioner'].value_counts()"
      ],
      "execution_count": 354,
      "outputs": [
        {
          "output_type": "execute_result",
          "data": {
            "text/plain": [
              "0    66\n",
              "1     6\n",
              "Name: air_night_airconditioner, dtype: int64"
            ]
          },
          "metadata": {},
          "execution_count": 354
        }
      ]
    },
    {
      "cell_type": "code",
      "metadata": {
        "colab": {
          "base_uri": "https://localhost:8080/"
        },
        "id": "Mwags1NqayN1",
        "outputId": "97ca6068-a6cc-4726-902a-01e5eaf06252"
      },
      "source": [
        "df['air_night_airconditioner'].isnull().sum()"
      ],
      "execution_count": 355,
      "outputs": [
        {
          "output_type": "execute_result",
          "data": {
            "text/plain": [
              "0"
            ]
          },
          "metadata": {},
          "execution_count": 355
        }
      ]
    },
    {
      "cell_type": "code",
      "metadata": {
        "colab": {
          "base_uri": "https://localhost:8080/"
        },
        "id": "fsYYGDNF9lZG",
        "outputId": "5e97d734-54d3-4af3-b959-e8c4867b21d9"
      },
      "source": [
        "def func(x):\n",
        "  if '추위를 많이 타서 난방을 일찍부터 튼다' in str(x):\n",
        "    return 1\n",
        "  elif '과한 난방은 답답해하는 편이다'in str(x):\n",
        "    return 0\n",
        "  else:\n",
        "    return 0.5 # 난방에 대해 신경쓰지 않는다고 판단\n",
        "\n",
        "df['air_like_heater'] = df['air'].apply(lambda x : func(x))\n",
        "df['air_like_heater'].value_counts()"
      ],
      "execution_count": 356,
      "outputs": [
        {
          "output_type": "execute_result",
          "data": {
            "text/plain": [
              "0.0    33\n",
              "1.0    20\n",
              "0.5    19\n",
              "Name: air_like_heater, dtype: int64"
            ]
          },
          "metadata": {},
          "execution_count": 356
        }
      ]
    },
    {
      "cell_type": "code",
      "metadata": {
        "colab": {
          "base_uri": "https://localhost:8080/"
        },
        "id": "f40uysPPa4AZ",
        "outputId": "ca8638ee-5e9d-4ab1-df55-6d49267381a0"
      },
      "source": [
        "df['air_like_heater'].isnull().sum()"
      ],
      "execution_count": 357,
      "outputs": [
        {
          "output_type": "execute_result",
          "data": {
            "text/plain": [
              "0"
            ]
          },
          "metadata": {},
          "execution_count": 357
        }
      ]
    },
    {
      "cell_type": "code",
      "metadata": {
        "colab": {
          "base_uri": "https://localhost:8080/"
        },
        "id": "ZFuOOPAvBoXj",
        "outputId": "c4d63f64-c05d-4ba3-a0e9-c38b20877f10"
      },
      "source": [
        "# air 삭제\n",
        "df = df.drop(columns='air')\n",
        "df.columns"
      ],
      "execution_count": 358,
      "outputs": [
        {
          "output_type": "execute_result",
          "data": {
            "text/plain": [
              "Index(['time', 'sex', 'age', 'mbti', 'user_smoking', 'mate_smoking',\n",
              "       'user_pet', 'user_bug_killer', 'mate_bug_killer', 'user_cooking',\n",
              "       'mate_cooking', 'eat_together', 'share_item', 'noise', 'mate_alcohol',\n",
              "       'mate_clean', 'permission_to_enter', 'user_pet_dog', 'user_pet_cat',\n",
              "       'user_pet_reptie_fish', 'user_pet_rodent', 'user_pet_bird', 'mate_pet',\n",
              "       'mate_pet_dog', 'mate_pet_cat', 'mate_pet_reptie_fish',\n",
              "       'mate_pet_rodent', 'mate_pet_bird', 'air_like_airconditioner',\n",
              "       'air_night_airconditioner', 'air_like_heater'],\n",
              "      dtype='object')"
            ]
          },
          "metadata": {},
          "execution_count": 358
        }
      ]
    },
    {
      "cell_type": "markdown",
      "metadata": {
        "id": "KbYMmfKe-o-Y"
      },
      "source": [
        "- noise 컬럼을 분리해야한다.\n",
        "  - 신경쓰지 않는다. = noise_none / 10분 이상의 말소리(통화/게임)은 신경쓰인다, 10분 이전의 말소리(통화/게임)도 신경쓰인다 = noise_talking / 10분 이상의 동영상/음악 소리는 신경쓰인다, 10분 이전의 동영상/음악 소리도 신경쓰인다 = noise_music / 지속적인 알람소리는 신경쓰인다 = noise_alarm"
      ]
    },
    {
      "cell_type": "code",
      "metadata": {
        "id": "Bd08KsZNCIRN"
      },
      "source": [
        "# NaN -> '신경쓰지 않는다.'\n",
        "df['noise'] = df['noise'].fillna('신경쓰지 않는다.')"
      ],
      "execution_count": 359,
      "outputs": []
    },
    {
      "cell_type": "code",
      "metadata": {
        "colab": {
          "base_uri": "https://localhost:8080/"
        },
        "id": "twxS7wLHChyR",
        "outputId": "39b312f3-c07b-4e92-8b08-cb512e1be64c"
      },
      "source": [
        "def func(x):\n",
        "  if '10분 이전의 말소리(통화/게임)도 신경쓰인다' in str(x):\n",
        "    return 1\n",
        "  elif '10분 이상의 말소리(통화/게임)은 신경쓰인다'in str(x):\n",
        "    return 0.5\n",
        "  else:\n",
        "    return 0\n",
        "\n",
        "df['noise_talking'] = df['noise'].apply(lambda x : func(x))\n",
        "df['noise_talking'].value_counts()"
      ],
      "execution_count": 360,
      "outputs": [
        {
          "output_type": "execute_result",
          "data": {
            "text/plain": [
              "0.0    43\n",
              "0.5    24\n",
              "1.0     5\n",
              "Name: noise_talking, dtype: int64"
            ]
          },
          "metadata": {},
          "execution_count": 360
        }
      ]
    },
    {
      "cell_type": "code",
      "metadata": {
        "colab": {
          "base_uri": "https://localhost:8080/"
        },
        "id": "5jleo6EOEJt6",
        "outputId": "bdb8d57d-fe1d-4991-da6e-5c650a5ab0f7"
      },
      "source": [
        "# 결측치 확인\n",
        "df['noise_talking'].isnull().sum()"
      ],
      "execution_count": 361,
      "outputs": [
        {
          "output_type": "execute_result",
          "data": {
            "text/plain": [
              "0"
            ]
          },
          "metadata": {},
          "execution_count": 361
        }
      ]
    },
    {
      "cell_type": "code",
      "metadata": {
        "colab": {
          "base_uri": "https://localhost:8080/"
        },
        "id": "AnQVrm7ZEbMy",
        "outputId": "b2512faf-ecd3-4977-c67c-aca9c596a7b4"
      },
      "source": [
        "def func(x):\n",
        "  if '10분 이전의 동영상/음악 소리도 신경쓰인다' in str(x):\n",
        "    return 1\n",
        "  elif '10분 이상의 동영상/음악 소리는 신경쓰인다'in str(x):\n",
        "    return 0.5\n",
        "  else:\n",
        "    return 0\n",
        "\n",
        "df['noise_music'] = df['noise'].apply(lambda x : func(x))\n",
        "df['noise_music'].value_counts()"
      ],
      "execution_count": 362,
      "outputs": [
        {
          "output_type": "execute_result",
          "data": {
            "text/plain": [
              "0.0    43\n",
              "0.5    24\n",
              "1.0     5\n",
              "Name: noise_music, dtype: int64"
            ]
          },
          "metadata": {},
          "execution_count": 362
        }
      ]
    },
    {
      "cell_type": "code",
      "metadata": {
        "colab": {
          "base_uri": "https://localhost:8080/"
        },
        "id": "0jqyCt41EteO",
        "outputId": "376dabe4-ab95-449c-a94c-27477e546858"
      },
      "source": [
        "df['noise_music'].isnull().sum()"
      ],
      "execution_count": 363,
      "outputs": [
        {
          "output_type": "execute_result",
          "data": {
            "text/plain": [
              "0"
            ]
          },
          "metadata": {},
          "execution_count": 363
        }
      ]
    },
    {
      "cell_type": "code",
      "metadata": {
        "colab": {
          "base_uri": "https://localhost:8080/"
        },
        "id": "bZG9LL36E2nE",
        "outputId": "54935464-e0d0-4de0-a9fa-ab25bcf8b625"
      },
      "source": [
        "df['noise_alarm'] = df['noise'].apply(lambda x : 1 if '지속적인 알람소리는 신경쓰인다' in str(x) else 0)\n",
        "df['noise_alarm'].value_counts()"
      ],
      "execution_count": 364,
      "outputs": [
        {
          "output_type": "execute_result",
          "data": {
            "text/plain": [
              "1    46\n",
              "0    26\n",
              "Name: noise_alarm, dtype: int64"
            ]
          },
          "metadata": {},
          "execution_count": 364
        }
      ]
    },
    {
      "cell_type": "code",
      "metadata": {
        "colab": {
          "base_uri": "https://localhost:8080/"
        },
        "id": "YhQf7FhXHuoe",
        "outputId": "abb568bc-9bb3-4dd3-cfcb-7e6d7ff91631"
      },
      "source": [
        "df['noise_alarm'].isnull().sum()"
      ],
      "execution_count": 365,
      "outputs": [
        {
          "output_type": "execute_result",
          "data": {
            "text/plain": [
              "0"
            ]
          },
          "metadata": {},
          "execution_count": 365
        }
      ]
    },
    {
      "cell_type": "code",
      "metadata": {
        "colab": {
          "base_uri": "https://localhost:8080/"
        },
        "id": "PwgpnBaqI0X4",
        "outputId": "18104767-6226-4d90-88a4-ccaaddf2b680"
      },
      "source": [
        "# noise 삭제\n",
        "df = df.drop(columns='noise')\n",
        "df.columns"
      ],
      "execution_count": 366,
      "outputs": [
        {
          "output_type": "execute_result",
          "data": {
            "text/plain": [
              "Index(['time', 'sex', 'age', 'mbti', 'user_smoking', 'mate_smoking',\n",
              "       'user_pet', 'user_bug_killer', 'mate_bug_killer', 'user_cooking',\n",
              "       'mate_cooking', 'eat_together', 'share_item', 'mate_alcohol',\n",
              "       'mate_clean', 'permission_to_enter', 'user_pet_dog', 'user_pet_cat',\n",
              "       'user_pet_reptie_fish', 'user_pet_rodent', 'user_pet_bird', 'mate_pet',\n",
              "       'mate_pet_dog', 'mate_pet_cat', 'mate_pet_reptie_fish',\n",
              "       'mate_pet_rodent', 'mate_pet_bird', 'air_like_airconditioner',\n",
              "       'air_night_airconditioner', 'air_like_heater', 'noise_talking',\n",
              "       'noise_music', 'noise_alarm'],\n",
              "      dtype='object')"
            ]
          },
          "metadata": {},
          "execution_count": 366
        }
      ]
    },
    {
      "cell_type": "markdown",
      "metadata": {
        "id": "kpnO0-TJJFCF"
      },
      "source": [
        "- user_bug_killer : 잡는데 거리낌이 없다, 시키면 잡을 수 있다, 절대 못잡는다\n",
        "- mate_bug_killer : 벌레를 잡을 수 있어야 한다, 벌레를 못잡아도 상관없다"
      ]
    },
    {
      "cell_type": "code",
      "metadata": {
        "colab": {
          "base_uri": "https://localhost:8080/"
        },
        "id": "a59D9xJMgWEW",
        "outputId": "5c5dda27-b0b0-453c-d9d3-3965894ce646"
      },
      "source": [
        "df['user_bug_killer'].value_counts()"
      ],
      "execution_count": 367,
      "outputs": [
        {
          "output_type": "execute_result",
          "data": {
            "text/plain": [
              "시키면 잡을 수 있다    29\n",
              "절대 못잡는다        23\n",
              "잡는데 거리낌이 없다    19\n",
              "Name: user_bug_killer, dtype: int64"
            ]
          },
          "metadata": {},
          "execution_count": 367
        }
      ]
    },
    {
      "cell_type": "code",
      "metadata": {
        "colab": {
          "base_uri": "https://localhost:8080/"
        },
        "id": "zmnVbHEBhCSF",
        "outputId": "8a2516b2-3e36-48f5-a0ae-6c68e0287233"
      },
      "source": [
        "df['user_bug_killer'].isnull().sum()"
      ],
      "execution_count": 368,
      "outputs": [
        {
          "output_type": "execute_result",
          "data": {
            "text/plain": [
              "1"
            ]
          },
          "metadata": {},
          "execution_count": 368
        }
      ]
    },
    {
      "cell_type": "code",
      "metadata": {
        "colab": {
          "base_uri": "https://localhost:8080/"
        },
        "id": "TdyjFVKUg0ez",
        "outputId": "9d011ad9-9226-40b1-cf59-b70473beaabd"
      },
      "source": [
        "def func(x):\n",
        "  if '잡는데 거리낌이 없다' in str(x):\n",
        "    return 1\n",
        "  elif '시키면 잡을 수 있다'in str(x):\n",
        "    return 0.75\n",
        "  elif '절대 못잡는다' in str(x):\n",
        "    return 0\n",
        "  else:\n",
        "    return np.nan\n",
        "\n",
        "df['user_bug_killer'] = df['user_bug_killer'].apply(lambda x : func(x))\n",
        "df['user_bug_killer'].value_counts()"
      ],
      "execution_count": 369,
      "outputs": [
        {
          "output_type": "execute_result",
          "data": {
            "text/plain": [
              "0.75    29\n",
              "0.00    23\n",
              "1.00    19\n",
              "Name: user_bug_killer, dtype: int64"
            ]
          },
          "metadata": {},
          "execution_count": 369
        }
      ]
    },
    {
      "cell_type": "code",
      "metadata": {
        "colab": {
          "base_uri": "https://localhost:8080/"
        },
        "id": "hi5A6iX4h9KF",
        "outputId": "cedc9642-49ed-4bea-bbbe-e498958847c3"
      },
      "source": [
        "# mean으로 결측치 채움\n",
        "df['user_bug_killer'] = df['user_bug_killer'].fillna(df['user_bug_killer'].mean())\n",
        "df['user_bug_killer'].value_counts()"
      ],
      "execution_count": 370,
      "outputs": [
        {
          "output_type": "execute_result",
          "data": {
            "text/plain": [
              "0.750000    29\n",
              "0.000000    23\n",
              "1.000000    19\n",
              "0.573944     1\n",
              "Name: user_bug_killer, dtype: int64"
            ]
          },
          "metadata": {},
          "execution_count": 370
        }
      ]
    },
    {
      "cell_type": "code",
      "metadata": {
        "colab": {
          "base_uri": "https://localhost:8080/"
        },
        "id": "U2RbvKspgqZ5",
        "outputId": "6064a627-cd3d-4b6a-f44c-41768e1cae89"
      },
      "source": [
        "df['mate_bug_killer'].value_counts()"
      ],
      "execution_count": 371,
      "outputs": [
        {
          "output_type": "execute_result",
          "data": {
            "text/plain": [
              "벌레를 못잡아도 상관없다       40\n",
              "벌레를 잡을 수 있어야만 한다    32\n",
              "Name: mate_bug_killer, dtype: int64"
            ]
          },
          "metadata": {},
          "execution_count": 371
        }
      ]
    },
    {
      "cell_type": "code",
      "metadata": {
        "colab": {
          "base_uri": "https://localhost:8080/"
        },
        "id": "hKXrqg8bhVOQ",
        "outputId": "1e6d052e-cab0-4fb7-a091-04f9f1440b44"
      },
      "source": [
        "df['mate_bug_killer'].isnull().sum()"
      ],
      "execution_count": 372,
      "outputs": [
        {
          "output_type": "execute_result",
          "data": {
            "text/plain": [
              "0"
            ]
          },
          "metadata": {},
          "execution_count": 372
        }
      ]
    },
    {
      "cell_type": "code",
      "metadata": {
        "colab": {
          "base_uri": "https://localhost:8080/"
        },
        "id": "lXIw-g99ioIk",
        "outputId": "812916c1-cf95-497e-9099-871ad51464bc"
      },
      "source": [
        "df['mate_bug_killer'] = df['mate_bug_killer'].apply(lambda x : 1 if '벌레를 잡을 수 있어야만 한다' in str(x) else 0)\n",
        "df['mate_bug_killer'].value_counts()"
      ],
      "execution_count": 373,
      "outputs": [
        {
          "output_type": "execute_result",
          "data": {
            "text/plain": [
              "0    40\n",
              "1    32\n",
              "Name: mate_bug_killer, dtype: int64"
            ]
          },
          "metadata": {},
          "execution_count": 373
        }
      ]
    },
    {
      "cell_type": "markdown",
      "metadata": {
        "id": "jZCc27nljDls"
      },
      "source": [
        "- user_cooking : 직접 요리, 외부 음식(포장, 배달)\n",
        "- mate_cooking : 불편하다, 신경쓰지 않는다(불편하지 않다)\n"
      ]
    },
    {
      "cell_type": "code",
      "metadata": {
        "colab": {
          "base_uri": "https://localhost:8080/"
        },
        "id": "eq7WdHa5jEjh",
        "outputId": "c932f416-0bfb-4bbe-b265-59c79224534d"
      },
      "source": [
        "df['user_cooking'].value_counts()"
      ],
      "execution_count": 374,
      "outputs": [
        {
          "output_type": "execute_result",
          "data": {
            "text/plain": [
              "직접 요리            42\n",
              "외부 음식(포장, 배달)    30\n",
              "Name: user_cooking, dtype: int64"
            ]
          },
          "metadata": {},
          "execution_count": 374
        }
      ]
    },
    {
      "cell_type": "code",
      "metadata": {
        "colab": {
          "base_uri": "https://localhost:8080/"
        },
        "id": "J98GGUw1jLIL",
        "outputId": "0599531b-cc55-49ac-e118-9b6270e55e32"
      },
      "source": [
        "df['user_cooking'].isnull().sum()"
      ],
      "execution_count": 375,
      "outputs": [
        {
          "output_type": "execute_result",
          "data": {
            "text/plain": [
              "0"
            ]
          },
          "metadata": {},
          "execution_count": 375
        }
      ]
    },
    {
      "cell_type": "code",
      "metadata": {
        "colab": {
          "base_uri": "https://localhost:8080/"
        },
        "id": "4uIK5rlyjuR7",
        "outputId": "42d58c87-9f74-4d49-d02f-5c56aa9dda5d"
      },
      "source": [
        "df['user_cooking'] = df['user_cooking'].apply(lambda x : 1 if '외부 음식(포장, 배달)' in str(x) else 0)\n",
        "df['user_cooking'].value_counts()"
      ],
      "execution_count": 376,
      "outputs": [
        {
          "output_type": "execute_result",
          "data": {
            "text/plain": [
              "0    42\n",
              "1    30\n",
              "Name: user_cooking, dtype: int64"
            ]
          },
          "metadata": {},
          "execution_count": 376
        }
      ]
    },
    {
      "cell_type": "code",
      "metadata": {
        "colab": {
          "base_uri": "https://localhost:8080/"
        },
        "id": "IAYXHrZqjYy-",
        "outputId": "7514f6eb-b206-4f92-8527-3cbac71532e3"
      },
      "source": [
        "df['mate_cooking'].value_counts()"
      ],
      "execution_count": 377,
      "outputs": [
        {
          "output_type": "execute_result",
          "data": {
            "text/plain": [
              "신경쓰지 않는다(불편하지 않다)    64\n",
              "Name: mate_cooking, dtype: int64"
            ]
          },
          "metadata": {},
          "execution_count": 377
        }
      ]
    },
    {
      "cell_type": "code",
      "metadata": {
        "colab": {
          "base_uri": "https://localhost:8080/"
        },
        "id": "l5I1WjHcjfJH",
        "outputId": "c8bd2fc5-3f52-4955-a46f-9a161f4ad44a"
      },
      "source": [
        "df['mate_cooking'].isnull().sum()"
      ],
      "execution_count": 378,
      "outputs": [
        {
          "output_type": "execute_result",
          "data": {
            "text/plain": [
              "8"
            ]
          },
          "metadata": {},
          "execution_count": 378
        }
      ]
    },
    {
      "cell_type": "code",
      "metadata": {
        "colab": {
          "base_uri": "https://localhost:8080/"
        },
        "id": "gmh-NN9Hkm5i",
        "outputId": "27605604-8070-4b44-8be7-dcbf38503441"
      },
      "source": [
        "df['mate_cooking'] = df['mate_cooking'].apply(lambda x : 1 if '불편하다' in str(x) else 0)\n",
        "df['mate_cooking'].value_counts()"
      ],
      "execution_count": 379,
      "outputs": [
        {
          "output_type": "execute_result",
          "data": {
            "text/plain": [
              "0    72\n",
              "Name: mate_cooking, dtype: int64"
            ]
          },
          "metadata": {},
          "execution_count": 379
        }
      ]
    },
    {
      "cell_type": "markdown",
      "metadata": {
        "id": "bcPp5_WAkzz-"
      },
      "source": [
        "- eat_together : 혼자 먹는 걸 선호한다, 같이 먹는 걸 선호한다"
      ]
    },
    {
      "cell_type": "code",
      "metadata": {
        "colab": {
          "base_uri": "https://localhost:8080/"
        },
        "id": "BgcvVaVvk2Nu",
        "outputId": "e5010fc8-08be-4fad-a4a2-0419901fd8c7"
      },
      "source": [
        "df['eat_together'].value_counts()"
      ],
      "execution_count": 380,
      "outputs": [
        {
          "output_type": "execute_result",
          "data": {
            "text/plain": [
              "같이 먹는 걸 선호한다    43\n",
              "혼자 먹는 걸 선호한다    28\n",
              "그렇다              1\n",
              "Name: eat_together, dtype: int64"
            ]
          },
          "metadata": {},
          "execution_count": 380
        }
      ]
    },
    {
      "cell_type": "code",
      "metadata": {
        "colab": {
          "base_uri": "https://localhost:8080/"
        },
        "id": "y0DKlMcilKhb",
        "outputId": "e00ce2b0-d990-453a-a9bf-d63b5fd3381a"
      },
      "source": [
        "df['eat_together'].isnull().sum()"
      ],
      "execution_count": 381,
      "outputs": [
        {
          "output_type": "execute_result",
          "data": {
            "text/plain": [
              "0"
            ]
          },
          "metadata": {},
          "execution_count": 381
        }
      ]
    },
    {
      "cell_type": "code",
      "metadata": {
        "colab": {
          "base_uri": "https://localhost:8080/"
        },
        "id": "RwCHJ7tulJDi",
        "outputId": "39c1e6a2-eebd-4ed2-f416-3154a23a0c16"
      },
      "source": [
        "df['eat_together'] = df['eat_together'].apply(lambda x : 1 if '같이 먹는 걸 선호한다' in str(x) else 0)\n",
        "df['eat_together'].value_counts()"
      ],
      "execution_count": 382,
      "outputs": [
        {
          "output_type": "execute_result",
          "data": {
            "text/plain": [
              "1    43\n",
              "0    29\n",
              "Name: eat_together, dtype: int64"
            ]
          },
          "metadata": {},
          "execution_count": 382
        }
      ]
    },
    {
      "cell_type": "markdown",
      "metadata": {
        "id": "vkljb5KylXcv"
      },
      "source": [
        "- share_item : 말 안하고 사용해도 괜찮다, 사용하기 전 허락을 받으면 괜찮다, 괜찮지 않다(안된다)"
      ]
    },
    {
      "cell_type": "code",
      "metadata": {
        "colab": {
          "base_uri": "https://localhost:8080/"
        },
        "id": "qxUP-0lNlZyY",
        "outputId": "910a1257-144a-4c88-fc8a-64c2d7126d06"
      },
      "source": [
        "df['share_item'].value_counts()"
      ],
      "execution_count": 383,
      "outputs": [
        {
          "output_type": "execute_result",
          "data": {
            "text/plain": [
              "사용하기 전 허락을 받으면 괜찮다    64\n",
              "괜찮지 않다(안된다)            5\n",
              "말 안하고 사용해도 괜찮다         2\n",
              "Name: share_item, dtype: int64"
            ]
          },
          "metadata": {},
          "execution_count": 383
        }
      ]
    },
    {
      "cell_type": "code",
      "metadata": {
        "colab": {
          "base_uri": "https://localhost:8080/"
        },
        "id": "QMds5mRNlgnH",
        "outputId": "7795087f-76ff-44ef-be97-89dbc0dc4335"
      },
      "source": [
        "df['share_item'].isnull().sum()"
      ],
      "execution_count": 384,
      "outputs": [
        {
          "output_type": "execute_result",
          "data": {
            "text/plain": [
              "1"
            ]
          },
          "metadata": {},
          "execution_count": 384
        }
      ]
    },
    {
      "cell_type": "code",
      "metadata": {
        "colab": {
          "base_uri": "https://localhost:8080/"
        },
        "id": "iTmwUD3PllE9",
        "outputId": "42097610-4384-44a0-f17f-fb3257edf836"
      },
      "source": [
        "def func(x):\n",
        "  if '말 안하고 사용해도 괜찮다' in str(x):\n",
        "    return 1\n",
        "  elif '사용하기 전 허락을 받으면 괜찮다'in str(x):\n",
        "    return 0.75\n",
        "  elif '괜찮지 않다(안된다)' in str(x):\n",
        "    return 0\n",
        "  else:\n",
        "    return np.nan\n",
        "\n",
        "df['share_item'] = df['share_item'].apply(lambda x : func(x))\n",
        "df['share_item'].value_counts()"
      ],
      "execution_count": 385,
      "outputs": [
        {
          "output_type": "execute_result",
          "data": {
            "text/plain": [
              "0.75    64\n",
              "0.00     5\n",
              "1.00     2\n",
              "Name: share_item, dtype: int64"
            ]
          },
          "metadata": {},
          "execution_count": 385
        }
      ]
    },
    {
      "cell_type": "code",
      "metadata": {
        "colab": {
          "base_uri": "https://localhost:8080/"
        },
        "id": "lPqRMR1Hm8Ju",
        "outputId": "980e4a4c-7613-4bd3-f31e-4b4beaab1ede"
      },
      "source": [
        "# mean으로 결측치 채움\n",
        "df['share_item'] = df['share_item'].fillna(df['share_item'].mean())\n",
        "df['share_item'].value_counts()"
      ],
      "execution_count": 386,
      "outputs": [
        {
          "output_type": "execute_result",
          "data": {
            "text/plain": [
              "0.750000    64\n",
              "0.000000     5\n",
              "1.000000     2\n",
              "0.704225     1\n",
              "Name: share_item, dtype: int64"
            ]
          },
          "metadata": {},
          "execution_count": 386
        }
      ]
    },
    {
      "cell_type": "markdown",
      "metadata": {
        "id": "qCkrsR-anSJj"
      },
      "source": [
        "- mate_alcohol : 메이트의 술 문제는 신경쓰지 않는다, 메이트가 술 냄새를 풍기는 것은 싫다, 메이트가 술을 많이 마신 것 같은 모습을 보이면 싫다, 메이트가 술주정만 하지 않으면 된다\n"
      ]
    },
    {
      "cell_type": "code",
      "metadata": {
        "colab": {
          "base_uri": "https://localhost:8080/"
        },
        "id": "k9ArQG4DnRwI",
        "outputId": "0c0cd78d-c376-4769-f62d-46baacd973d3"
      },
      "source": [
        "print(df['mate_alcohol'].value_counts())\n",
        "print(\"NaN : \", df['mate_alcohol'].isnull().sum())"
      ],
      "execution_count": 387,
      "outputs": [
        {
          "output_type": "stream",
          "name": "stdout",
          "text": [
            "메이트가 술주정만 하지 않으면 된다                                                         41\n",
            "메이트의 술 문제는 신경쓰지 않는다                                                          9\n",
            "메이트의 술 문제는 신경쓰지 않는다\\t메이트가 술주정만 하지 않으면 된다                                     6\n",
            "메이트가 술 냄새를 풍기는 것은 싫다                                                         5\n",
            "메이트가 술 냄새를 풍기는 것은 싫다\\t메이트가 술을 많이 마신 것 같은 모습을 보이면 싫다                          5\n",
            "메이트가 술을 많이 마신 것 같은 모습을 보이면 싫다                                                2\n",
            "소음은 없었으면 좋겠다.                                                                1\n",
            "메이트가 술 냄새를 풍기는 것은 싫다\\t메이트가 술을 많이 마신 것 같은 모습을 보이면 싫다\\t메이트가 술주정만 하지 않으면 된다     1\n",
            "메이트의 술 문제는 신경쓰지 않는다\\t메이트가 술 냄새를 풍기는 것은 싫다\\t메이트가 술을 많이 마신 것 같은 모습을 보이면 싫다     1\n",
            "Name: mate_alcohol, dtype: int64\n",
            "NaN :  1\n"
          ]
        }
      ]
    },
    {
      "cell_type": "code",
      "metadata": {
        "colab": {
          "base_uri": "https://localhost:8080/"
        },
        "id": "CDsCzmCJnvZN",
        "outputId": "d0da6bb4-9571-49c3-c334-15acd22fb42c"
      },
      "source": [
        "def func(x):\n",
        "  if '메이트가 술 냄새를 풍기는 것은 싫다' in str(x):\n",
        "    return 1\n",
        "  elif '메이트가 술을 많이 마신 것 같은 모습을 보이면 싫다'in str(x):\n",
        "    return 0.66\n",
        "  elif '메이트가 술주정만 하지 않으면 된다' in str(x):\n",
        "    return 0.33\n",
        "  elif '메이트의 술 문제는 신경쓰지 않는다' in str(x):\n",
        "    return 0\n",
        "  else:\n",
        "    return np.nan\n",
        "\n",
        "df['mate_alcohol'] = df['mate_alcohol'].apply(lambda x : func(x))\n",
        "print(df['mate_alcohol'].value_counts())\n",
        "print(\"NaN : \", df['mate_alcohol'].isnull().sum())"
      ],
      "execution_count": 388,
      "outputs": [
        {
          "output_type": "stream",
          "name": "stdout",
          "text": [
            "0.33    47\n",
            "1.00    12\n",
            "0.00     9\n",
            "0.66     2\n",
            "Name: mate_alcohol, dtype: int64\n",
            "NaN :  2\n"
          ]
        }
      ]
    },
    {
      "cell_type": "code",
      "metadata": {
        "colab": {
          "base_uri": "https://localhost:8080/"
        },
        "id": "xo8mWjfCpeSR",
        "outputId": "4f8a980c-a90d-4906-b418-283515f068de"
      },
      "source": [
        "# mean으로 결측치 채움\n",
        "df['mate_alcohol'] = df['mate_alcohol'].fillna(df['mate_alcohol'].mean())\n",
        "print(df['mate_alcohol'].value_counts())\n",
        "print(\"NaN : \", df['mate_alcohol'].isnull().sum())"
      ],
      "execution_count": 389,
      "outputs": [
        {
          "output_type": "stream",
          "name": "stdout",
          "text": [
            "0.330000    47\n",
            "1.000000    12\n",
            "0.000000     9\n",
            "0.411857     2\n",
            "0.660000     2\n",
            "Name: mate_alcohol, dtype: int64\n",
            "NaN :  0\n"
          ]
        }
      ]
    },
    {
      "cell_type": "markdown",
      "metadata": {
        "id": "Gqgpn10rpqOs"
      },
      "source": [
        "- mate_clean : 내 공간만 아니면 신경쓰이지 않는다, 공유하는 공간의 경우 신경쓰인다, 메이트의 공간까지 신경쓰인다"
      ]
    },
    {
      "cell_type": "code",
      "metadata": {
        "colab": {
          "base_uri": "https://localhost:8080/"
        },
        "id": "IIU9WylUputv",
        "outputId": "3a3dc553-75f1-41ab-e898-241772d49e14"
      },
      "source": [
        "print(df['mate_clean'].value_counts())\n",
        "print(\"NaN : \", df['mate_clean'].isnull().sum())"
      ],
      "execution_count": 390,
      "outputs": [
        {
          "output_type": "stream",
          "name": "stdout",
          "text": [
            "공유하는 공간의 경우 신경쓰인다      50\n",
            "내 공간만 아니면 신경쓰이지 않는다    16\n",
            "메이트의 공간까지 신경쓰인다         5\n",
            "2                       1\n",
            "Name: mate_clean, dtype: int64\n",
            "NaN :  0\n"
          ]
        }
      ]
    },
    {
      "cell_type": "code",
      "metadata": {
        "colab": {
          "base_uri": "https://localhost:8080/"
        },
        "id": "4isUouqJqA92",
        "outputId": "4fcc69ba-4092-4d41-dde0-26ee0c1b965c"
      },
      "source": [
        "def func(x):\n",
        "  if '메이트의 공간까지 신경쓰인다' in str(x):\n",
        "    return 1\n",
        "  elif '공유하는 공간의 경우 신경쓰인다'in str(x):\n",
        "    return 0.5\n",
        "  elif '내 공간만 아니면 신경쓰이지 않는다' in str(x):\n",
        "    return 0\n",
        "  else:\n",
        "    return np.nan\n",
        "\n",
        "df['mate_clean'] = df['mate_clean'].apply(lambda x : func(x))\n",
        "print(df['mate_clean'].value_counts())\n",
        "print(\"NaN : \", df['mate_clean'].isnull().sum())"
      ],
      "execution_count": 391,
      "outputs": [
        {
          "output_type": "stream",
          "name": "stdout",
          "text": [
            "0.5    50\n",
            "0.0    16\n",
            "1.0     5\n",
            "Name: mate_clean, dtype: int64\n",
            "NaN :  1\n"
          ]
        }
      ]
    },
    {
      "cell_type": "code",
      "metadata": {
        "colab": {
          "base_uri": "https://localhost:8080/"
        },
        "id": "yaD3cSGFqYAn",
        "outputId": "b63a1062-8510-4890-858a-0ec7be9da6e1"
      },
      "source": [
        "# mean으로 결측치 채움\n",
        "df['mate_clean'] = df['mate_clean'].fillna(df['mate_clean'].mean())\n",
        "print(df['mate_clean'].value_counts())\n",
        "print(\"NaN : \", df['mate_clean'].isnull().sum())"
      ],
      "execution_count": 392,
      "outputs": [
        {
          "output_type": "stream",
          "name": "stdout",
          "text": [
            "0.500000    50\n",
            "0.000000    16\n",
            "1.000000     5\n",
            "0.422535     1\n",
            "Name: mate_clean, dtype: int64\n",
            "NaN :  0\n"
          ]
        }
      ]
    },
    {
      "cell_type": "markdown",
      "metadata": {
        "id": "sldCYKj3qsvm"
      },
      "source": [
        "- permission_to_enter : 본인이 없을 때 말없이 지인이 잠깐 출입해도 상관없다., 미리 말만 하면 지인이 출입해도 상관없다., 누구든 데려오면 안된다."
      ]
    },
    {
      "cell_type": "code",
      "metadata": {
        "colab": {
          "base_uri": "https://localhost:8080/"
        },
        "id": "brzEUVbXqtlr",
        "outputId": "a1e71f9d-10c3-4545-9197-63d1c8a8f383"
      },
      "source": [
        "print(df['permission_to_enter'].value_counts())\n",
        "print(\"NaN : \", df['permission_to_enter'].isnull().sum())"
      ],
      "execution_count": 393,
      "outputs": [
        {
          "output_type": "stream",
          "name": "stdout",
          "text": [
            "미리 말만 하면 지인이 출입해도 상관없다.           56\n",
            "누구든 데려오면 안된다.                     10\n",
            "본인이 없을 때 말없이 지인이 잠깐 출입해도 상관없다.     6\n",
            "Name: permission_to_enter, dtype: int64\n",
            "NaN :  0\n"
          ]
        }
      ]
    },
    {
      "cell_type": "code",
      "metadata": {
        "colab": {
          "base_uri": "https://localhost:8080/"
        },
        "id": "01GW6r6ArI5F",
        "outputId": "84fb4bae-e9a3-4259-8ff3-925e8ec960b8"
      },
      "source": [
        "def func(x):\n",
        "  if '누구든 데려오면 안된다.' in str(x):\n",
        "    return 1\n",
        "  elif '미리 말만 하면 지인이 출입해도 상관없다.'in str(x):\n",
        "    return 0.5\n",
        "  elif '본인이 없을 때 말없이 지인이 잠깐 출입해도 상관없다.' in str(x):\n",
        "    return 0\n",
        "  else:\n",
        "    return np.nan\n",
        "\n",
        "df['permission_to_enter'] = df['permission_to_enter'].apply(lambda x : func(x))\n",
        "print(df['permission_to_enter'].value_counts())\n",
        "print(\"NaN : \", df['permission_to_enter'].isnull().sum())"
      ],
      "execution_count": 394,
      "outputs": [
        {
          "output_type": "stream",
          "name": "stdout",
          "text": [
            "0.5    56\n",
            "1.0    10\n",
            "0.0     6\n",
            "Name: permission_to_enter, dtype: int64\n",
            "NaN :  0\n"
          ]
        }
      ]
    },
    {
      "cell_type": "markdown",
      "metadata": {
        "id": "t3HUzgnx8dPR"
      },
      "source": [
        "### 데이터 전처리 후 테이블 확인"
      ]
    },
    {
      "cell_type": "code",
      "metadata": {
        "colab": {
          "base_uri": "https://localhost:8080/"
        },
        "id": "j1vapL7R8k-8",
        "outputId": "cce2aa8f-1fee-4534-f80f-1163fc367d6c"
      },
      "source": [
        "df.columns"
      ],
      "execution_count": 395,
      "outputs": [
        {
          "output_type": "execute_result",
          "data": {
            "text/plain": [
              "Index(['time', 'sex', 'age', 'mbti', 'user_smoking', 'mate_smoking',\n",
              "       'user_pet', 'user_bug_killer', 'mate_bug_killer', 'user_cooking',\n",
              "       'mate_cooking', 'eat_together', 'share_item', 'mate_alcohol',\n",
              "       'mate_clean', 'permission_to_enter', 'user_pet_dog', 'user_pet_cat',\n",
              "       'user_pet_reptie_fish', 'user_pet_rodent', 'user_pet_bird', 'mate_pet',\n",
              "       'mate_pet_dog', 'mate_pet_cat', 'mate_pet_reptie_fish',\n",
              "       'mate_pet_rodent', 'mate_pet_bird', 'air_like_airconditioner',\n",
              "       'air_night_airconditioner', 'air_like_heater', 'noise_talking',\n",
              "       'noise_music', 'noise_alarm'],\n",
              "      dtype='object')"
            ]
          },
          "metadata": {},
          "execution_count": 395
        }
      ]
    },
    {
      "cell_type": "code",
      "metadata": {
        "colab": {
          "base_uri": "https://localhost:8080/"
        },
        "id": "osisrxDV8qQj",
        "outputId": "f84ec660-f410-4fbb-ebe0-9ab545cf7494"
      },
      "source": [
        "df.info()"
      ],
      "execution_count": 396,
      "outputs": [
        {
          "output_type": "stream",
          "name": "stdout",
          "text": [
            "<class 'pandas.core.frame.DataFrame'>\n",
            "RangeIndex: 72 entries, 0 to 71\n",
            "Data columns (total 33 columns):\n",
            " #   Column                    Non-Null Count  Dtype         \n",
            "---  ------                    --------------  -----         \n",
            " 0   time                      72 non-null     datetime64[ns]\n",
            " 1   sex                       72 non-null     int64         \n",
            " 2   age                       72 non-null     float64       \n",
            " 3   mbti                      72 non-null     object        \n",
            " 4   user_smoking              72 non-null     int64         \n",
            " 5   mate_smoking              72 non-null     float64       \n",
            " 6   user_pet                  72 non-null     int64         \n",
            " 7   user_bug_killer           72 non-null     float64       \n",
            " 8   mate_bug_killer           72 non-null     int64         \n",
            " 9   user_cooking              72 non-null     int64         \n",
            " 10  mate_cooking              72 non-null     int64         \n",
            " 11  eat_together              72 non-null     int64         \n",
            " 12  share_item                72 non-null     float64       \n",
            " 13  mate_alcohol              72 non-null     float64       \n",
            " 14  mate_clean                72 non-null     float64       \n",
            " 15  permission_to_enter       72 non-null     float64       \n",
            " 16  user_pet_dog              72 non-null     int64         \n",
            " 17  user_pet_cat              72 non-null     int64         \n",
            " 18  user_pet_reptie_fish      72 non-null     int64         \n",
            " 19  user_pet_rodent           72 non-null     int64         \n",
            " 20  user_pet_bird             72 non-null     int64         \n",
            " 21  mate_pet                  72 non-null     float64       \n",
            " 22  mate_pet_dog              72 non-null     float64       \n",
            " 23  mate_pet_cat              72 non-null     float64       \n",
            " 24  mate_pet_reptie_fish      72 non-null     float64       \n",
            " 25  mate_pet_rodent           72 non-null     float64       \n",
            " 26  mate_pet_bird             72 non-null     float64       \n",
            " 27  air_like_airconditioner   72 non-null     int64         \n",
            " 28  air_night_airconditioner  72 non-null     int64         \n",
            " 29  air_like_heater           72 non-null     float64       \n",
            " 30  noise_talking             72 non-null     float64       \n",
            " 31  noise_music               72 non-null     float64       \n",
            " 32  noise_alarm               72 non-null     int64         \n",
            "dtypes: datetime64[ns](1), float64(16), int64(15), object(1)\n",
            "memory usage: 18.7+ KB\n"
          ]
        }
      ]
    },
    {
      "cell_type": "code",
      "metadata": {
        "colab": {
          "base_uri": "https://localhost:8080/",
          "height": 391
        },
        "id": "chHczIb88hKt",
        "outputId": "fca10f3b-b9a2-4db8-f828-618fb17d28a5"
      },
      "source": [
        "df.head()"
      ],
      "execution_count": 397,
      "outputs": [
        {
          "output_type": "execute_result",
          "data": {
            "text/html": [
              "<div>\n",
              "<style scoped>\n",
              "    .dataframe tbody tr th:only-of-type {\n",
              "        vertical-align: middle;\n",
              "    }\n",
              "\n",
              "    .dataframe tbody tr th {\n",
              "        vertical-align: top;\n",
              "    }\n",
              "\n",
              "    .dataframe thead th {\n",
              "        text-align: right;\n",
              "    }\n",
              "</style>\n",
              "<table border=\"1\" class=\"dataframe\">\n",
              "  <thead>\n",
              "    <tr style=\"text-align: right;\">\n",
              "      <th></th>\n",
              "      <th>time</th>\n",
              "      <th>sex</th>\n",
              "      <th>age</th>\n",
              "      <th>mbti</th>\n",
              "      <th>user_smoking</th>\n",
              "      <th>mate_smoking</th>\n",
              "      <th>user_pet</th>\n",
              "      <th>user_bug_killer</th>\n",
              "      <th>mate_bug_killer</th>\n",
              "      <th>user_cooking</th>\n",
              "      <th>mate_cooking</th>\n",
              "      <th>eat_together</th>\n",
              "      <th>share_item</th>\n",
              "      <th>mate_alcohol</th>\n",
              "      <th>mate_clean</th>\n",
              "      <th>permission_to_enter</th>\n",
              "      <th>user_pet_dog</th>\n",
              "      <th>user_pet_cat</th>\n",
              "      <th>user_pet_reptie_fish</th>\n",
              "      <th>user_pet_rodent</th>\n",
              "      <th>user_pet_bird</th>\n",
              "      <th>mate_pet</th>\n",
              "      <th>mate_pet_dog</th>\n",
              "      <th>mate_pet_cat</th>\n",
              "      <th>mate_pet_reptie_fish</th>\n",
              "      <th>mate_pet_rodent</th>\n",
              "      <th>mate_pet_bird</th>\n",
              "      <th>air_like_airconditioner</th>\n",
              "      <th>air_night_airconditioner</th>\n",
              "      <th>air_like_heater</th>\n",
              "      <th>noise_talking</th>\n",
              "      <th>noise_music</th>\n",
              "      <th>noise_alarm</th>\n",
              "    </tr>\n",
              "  </thead>\n",
              "  <tbody>\n",
              "    <tr>\n",
              "      <th>0</th>\n",
              "      <td>2021-10-20 11:29:52</td>\n",
              "      <td>1</td>\n",
              "      <td>0.4</td>\n",
              "      <td>infp</td>\n",
              "      <td>0</td>\n",
              "      <td>0.0</td>\n",
              "      <td>0</td>\n",
              "      <td>0.573944</td>\n",
              "      <td>1</td>\n",
              "      <td>0</td>\n",
              "      <td>0</td>\n",
              "      <td>0</td>\n",
              "      <td>0.704225</td>\n",
              "      <td>0.411857</td>\n",
              "      <td>0.422535</td>\n",
              "      <td>1.0</td>\n",
              "      <td>0</td>\n",
              "      <td>0</td>\n",
              "      <td>0</td>\n",
              "      <td>0</td>\n",
              "      <td>0</td>\n",
              "      <td>0.5</td>\n",
              "      <td>0.5</td>\n",
              "      <td>0.5</td>\n",
              "      <td>0.0</td>\n",
              "      <td>0.0</td>\n",
              "      <td>0.0</td>\n",
              "      <td>0</td>\n",
              "      <td>0</td>\n",
              "      <td>0.5</td>\n",
              "      <td>0.0</td>\n",
              "      <td>0.0</td>\n",
              "      <td>0</td>\n",
              "    </tr>\n",
              "    <tr>\n",
              "      <th>1</th>\n",
              "      <td>2021-10-22 01:16:34</td>\n",
              "      <td>0</td>\n",
              "      <td>0.6</td>\n",
              "      <td>intp</td>\n",
              "      <td>0</td>\n",
              "      <td>0.0</td>\n",
              "      <td>0</td>\n",
              "      <td>0.750000</td>\n",
              "      <td>0</td>\n",
              "      <td>0</td>\n",
              "      <td>0</td>\n",
              "      <td>0</td>\n",
              "      <td>0.750000</td>\n",
              "      <td>0.330000</td>\n",
              "      <td>0.000000</td>\n",
              "      <td>0.5</td>\n",
              "      <td>0</td>\n",
              "      <td>0</td>\n",
              "      <td>0</td>\n",
              "      <td>0</td>\n",
              "      <td>0</td>\n",
              "      <td>0.5</td>\n",
              "      <td>0.5</td>\n",
              "      <td>0.5</td>\n",
              "      <td>0.0</td>\n",
              "      <td>0.0</td>\n",
              "      <td>0.0</td>\n",
              "      <td>1</td>\n",
              "      <td>0</td>\n",
              "      <td>0.0</td>\n",
              "      <td>0.0</td>\n",
              "      <td>0.0</td>\n",
              "      <td>0</td>\n",
              "    </tr>\n",
              "    <tr>\n",
              "      <th>2</th>\n",
              "      <td>2021-10-22 01:29:18</td>\n",
              "      <td>1</td>\n",
              "      <td>0.2</td>\n",
              "      <td>esfp</td>\n",
              "      <td>0</td>\n",
              "      <td>0.0</td>\n",
              "      <td>0</td>\n",
              "      <td>0.000000</td>\n",
              "      <td>1</td>\n",
              "      <td>1</td>\n",
              "      <td>0</td>\n",
              "      <td>0</td>\n",
              "      <td>0.750000</td>\n",
              "      <td>0.330000</td>\n",
              "      <td>0.500000</td>\n",
              "      <td>0.5</td>\n",
              "      <td>0</td>\n",
              "      <td>0</td>\n",
              "      <td>0</td>\n",
              "      <td>0</td>\n",
              "      <td>0</td>\n",
              "      <td>0.5</td>\n",
              "      <td>0.5</td>\n",
              "      <td>0.5</td>\n",
              "      <td>0.0</td>\n",
              "      <td>0.0</td>\n",
              "      <td>0.5</td>\n",
              "      <td>1</td>\n",
              "      <td>0</td>\n",
              "      <td>1.0</td>\n",
              "      <td>0.0</td>\n",
              "      <td>0.5</td>\n",
              "      <td>1</td>\n",
              "    </tr>\n",
              "    <tr>\n",
              "      <th>3</th>\n",
              "      <td>2021-10-22 01:31:02</td>\n",
              "      <td>0</td>\n",
              "      <td>0.2</td>\n",
              "      <td>0.5</td>\n",
              "      <td>0</td>\n",
              "      <td>0.0</td>\n",
              "      <td>0</td>\n",
              "      <td>1.000000</td>\n",
              "      <td>0</td>\n",
              "      <td>0</td>\n",
              "      <td>0</td>\n",
              "      <td>1</td>\n",
              "      <td>0.750000</td>\n",
              "      <td>0.000000</td>\n",
              "      <td>0.500000</td>\n",
              "      <td>0.5</td>\n",
              "      <td>0</td>\n",
              "      <td>0</td>\n",
              "      <td>0</td>\n",
              "      <td>0</td>\n",
              "      <td>0</td>\n",
              "      <td>1.0</td>\n",
              "      <td>0.0</td>\n",
              "      <td>0.0</td>\n",
              "      <td>0.0</td>\n",
              "      <td>0.0</td>\n",
              "      <td>0.0</td>\n",
              "      <td>0</td>\n",
              "      <td>0</td>\n",
              "      <td>0.5</td>\n",
              "      <td>0.0</td>\n",
              "      <td>0.0</td>\n",
              "      <td>0</td>\n",
              "    </tr>\n",
              "    <tr>\n",
              "      <th>4</th>\n",
              "      <td>2021-10-22 01:33:35</td>\n",
              "      <td>0</td>\n",
              "      <td>0.2</td>\n",
              "      <td>intp</td>\n",
              "      <td>0</td>\n",
              "      <td>0.0</td>\n",
              "      <td>0</td>\n",
              "      <td>0.750000</td>\n",
              "      <td>0</td>\n",
              "      <td>0</td>\n",
              "      <td>0</td>\n",
              "      <td>0</td>\n",
              "      <td>0.000000</td>\n",
              "      <td>1.000000</td>\n",
              "      <td>0.500000</td>\n",
              "      <td>0.5</td>\n",
              "      <td>0</td>\n",
              "      <td>0</td>\n",
              "      <td>0</td>\n",
              "      <td>0</td>\n",
              "      <td>0</td>\n",
              "      <td>1.0</td>\n",
              "      <td>0.0</td>\n",
              "      <td>0.0</td>\n",
              "      <td>0.0</td>\n",
              "      <td>0.0</td>\n",
              "      <td>0.0</td>\n",
              "      <td>0</td>\n",
              "      <td>0</td>\n",
              "      <td>0.0</td>\n",
              "      <td>0.0</td>\n",
              "      <td>0.0</td>\n",
              "      <td>1</td>\n",
              "    </tr>\n",
              "  </tbody>\n",
              "</table>\n",
              "</div>"
            ],
            "text/plain": [
              "                 time  sex  age  ... noise_talking  noise_music  noise_alarm\n",
              "0 2021-10-20 11:29:52    1  0.4  ...           0.0          0.0            0\n",
              "1 2021-10-22 01:16:34    0  0.6  ...           0.0          0.0            0\n",
              "2 2021-10-22 01:29:18    1  0.2  ...           0.0          0.5            1\n",
              "3 2021-10-22 01:31:02    0  0.2  ...           0.0          0.0            0\n",
              "4 2021-10-22 01:33:35    0  0.2  ...           0.0          0.0            1\n",
              "\n",
              "[5 rows x 33 columns]"
            ]
          },
          "metadata": {},
          "execution_count": 397
        }
      ]
    },
    {
      "cell_type": "markdown",
      "metadata": {
        "id": "eGBM21YLZV17"
      },
      "source": [
        "### KNN"
      ]
    },
    {
      "cell_type": "markdown",
      "metadata": {
        "id": "wzzjILKQ-RHL"
      },
      "source": [
        "- KNN 알고리즘 직접 구현\n",
        "- 참고 : https://iludaslab.tistory.com/36"
      ]
    },
    {
      "cell_type": "code",
      "metadata": {
        "id": "gUom46tRzZpe"
      },
      "source": [
        "# 사용자 사이의 거리를 구하는 함수\n",
        "def distance(u1, u2):\n",
        "  ''' 사용자 사이의 거리 리턴 '''\n",
        "  return np.sqrt(np.sum(np.power((u2-u1),2)))"
      ],
      "execution_count": 398,
      "outputs": []
    },
    {
      "cell_type": "code",
      "metadata": {
        "colab": {
          "base_uri": "https://localhost:8080/"
        },
        "id": "5iL24Cil67oe",
        "outputId": "4be01cb9-b388-4257-e2b6-25a05815e2d5"
      },
      "source": [
        "# 사용자 사이의 거리 구하기 테스트\n",
        "u1 = np.array([1,3,5,6])\n",
        "u2 = np.array([2,6,8,4])\n",
        "\n",
        "print(distance(u1, u2))"
      ],
      "execution_count": 399,
      "outputs": [
        {
          "output_type": "stream",
          "name": "stdout",
          "text": [
            "4.795831523312719\n"
          ]
        }
      ]
    },
    {
      "cell_type": "code",
      "metadata": {
        "colab": {
          "base_uri": "https://localhost:8080/"
        },
        "id": "sDdG5sDc7j5b",
        "outputId": "01f7fcbb-7f99-45cd-a574-87aa0c3bbc02"
      },
      "source": [
        "# 일부 컬럼만 가져온 사용자 매칭 정보 데이터세트\n",
        "dataset = df[['time', 'sex', 'age', 'air_night_airconditioner', 'noise_alarm', 'eat_together', 'share_item', 'mate_alcohol', 'mate_clean', 'permission_to_enter']]\n",
        "\n",
        "distance_result = np.zeros(len(dataset))\n",
        "\n",
        "# 기준 사용자와 다른 사용자 간의 거리를 구한다.\n",
        "for i in range(len(dataset)):\n",
        "  distance_result[i] = distance(dataset.iloc[0, 1:], dataset.iloc[i, 1:])\n",
        "\n",
        "print(distance_result)"
      ],
      "execution_count": 400,
      "outputs": [
        {
          "output_type": "stream",
          "name": "stdout",
          "text": [
            "[0.         1.21545544 1.14227698 1.5708986  1.77139667 1.73631699\n",
            " 1.8422834  1.67825604 1.50492415 0.55208396 1.50492415 1.67825604\n",
            " 1.12463181 1.50492415 1.533055   1.50492415 1.47896312 1.96303566\n",
            " 1.85062063 1.68755627 1.51815569 1.12463181 0.7169436  1.71206599\n",
            " 1.00737118 1.56119567 1.14227698 0.79514872 1.61369394 1.2775999\n",
            " 1.81790998 1.17906065 1.61005015 1.33984596 0.69089212 1.56119567\n",
            " 1.49242484 0.41808696 1.80687484 2.01365258 1.56119567 1.66253064\n",
            " 0.51458401 1.75825849 1.79647764 0.800161   1.51815569 1.50492415\n",
            " 1.86218217 1.80687484 1.17621573 1.51815569 1.19888778 1.80687484\n",
            " 1.80687484 1.73631699 1.32815968 1.12463181 1.14227698 1.12463181\n",
            " 1.62488696 1.19487339 1.83139513 1.18068122 1.21545544 1.02703296\n",
            " 1.21149594 1.50492415 1.14227698 1.60863993 1.14227698 0.90194735]\n"
          ]
        }
      ]
    },
    {
      "cell_type": "code",
      "metadata": {
        "colab": {
          "base_uri": "https://localhost:8080/"
        },
        "id": "oV0laB0f8gU0",
        "outputId": "afedb124-266d-467a-e02e-65ffe4bf8bd8"
      },
      "source": [
        "# 오름차순으로 정렬하여 인덱스 리턴\n",
        "print(np.argsort(distance_result))"
      ],
      "execution_count": 401,
      "outputs": [
        {
          "output_type": "stream",
          "name": "stdout",
          "text": [
            "[ 0 37 42  9 34 22 27 45 71 24 65 21 12 59 57 26  2 58 70 68 50 31 63 61\n",
            " 52 66  1 64 29 56 33 16 36 13 67 15  8 10 47 46 20 51 14 40 35 25  3 69\n",
            " 32 28 60 41 11  7 19 23 55  5 43  4 44 53 54 38 49 30 62  6 18 48 17 39]\n"
          ]
        }
      ]
    },
    {
      "cell_type": "code",
      "metadata": {
        "id": "mbjooYZmJ08U"
      },
      "source": [
        "# 일부 컬럼만 가져온 사용자 매칭 정보 데이터세트\n",
        "dataset = df[['time', 'sex', 'age', 'air_night_airconditioner', 'noise_alarm', 'eat_together', 'share_item', 'mate_alcohol', 'mate_clean', 'permission_to_enter']]"
      ],
      "execution_count": 402,
      "outputs": []
    },
    {
      "cell_type": "code",
      "metadata": {
        "id": "qlWzJQw_FERC"
      },
      "source": [
        "user = dataset.iloc[0]"
      ],
      "execution_count": 403,
      "outputs": []
    },
    {
      "cell_type": "code",
      "metadata": {
        "id": "S4SKhnCiBK3V"
      },
      "source": [
        "user_data = df.iloc[0]"
      ],
      "execution_count": 404,
      "outputs": []
    },
    {
      "cell_type": "code",
      "metadata": {
        "colab": {
          "base_uri": "https://localhost:8080/"
        },
        "id": "hk9HyZwaKXE6",
        "outputId": "e7322968-c4b2-4cea-a872-691d2e42fd19"
      },
      "source": [
        "if user_data['mate_pet'] == 1:\n",
        "  is_not_user_pet = df['user_pet'] == 0\n",
        "  dataset = dataset[is_not_user_pet]\n",
        "elif user_data['mate_pet'] == 0.5:\n",
        "  # user[['pet_dog', 'pet_cat', 'pet_reptie_fish', 'pet_rodent', 'pet_bird']] = user_data[['mate_pet_dog', 'mate_pet_cat', 'mate_pet_reptie_fish', 'mate_pet_rodent', 'mate_pet_bird']]\n",
        "  user['pet_dog'], user['pet_cat'], user['pet_reptie_fish'], user['pet_rodent'], user['pet_bird'] = user_data['mate_pet_dog'], user_data['mate_pet_cat'], user_data['mate_pet_reptie_fish'], user_data['mate_pet_rodent'], user_data['mate_pet_bird']\n",
        "  dataset[['pet_dog', 'pet_cat', 'pet_reptie_fish', 'pet_rodent', 'pet_bird']] = df[['user_pet_dog', 'user_pet_cat', 'user_pet_reptie_fish', 'user_pet_rodent', 'user_pet_bird']]\n",
        "\n",
        "print(user)\n",
        "print(dataset)"
      ],
      "execution_count": 405,
      "outputs": [
        {
          "output_type": "stream",
          "name": "stdout",
          "text": [
            "time                        2021-10-20 11:29:52\n",
            "sex                                           1\n",
            "age                                         0.4\n",
            "air_night_airconditioner                      0\n",
            "noise_alarm                                   0\n",
            "eat_together                                  0\n",
            "share_item                             0.704225\n",
            "mate_alcohol                           0.411857\n",
            "mate_clean                             0.422535\n",
            "permission_to_enter                           1\n",
            "pet_dog                                     0.5\n",
            "pet_cat                                     0.5\n",
            "pet_reptie_fish                               0\n",
            "pet_rodent                                    0\n",
            "pet_bird                                      0\n",
            "Name: 0, dtype: object\n",
            "                  time  sex  age  ...  pet_reptie_fish  pet_rodent  pet_bird\n",
            "0  2021-10-20 11:29:52    1  0.4  ...                0           0         0\n",
            "1  2021-10-22 01:16:34    0  0.6  ...                0           0         0\n",
            "2  2021-10-22 01:29:18    1  0.2  ...                0           0         0\n",
            "3  2021-10-22 01:31:02    0  0.2  ...                0           0         0\n",
            "4  2021-10-22 01:33:35    0  0.2  ...                0           0         0\n",
            "..                 ...  ...  ...  ...              ...         ...       ...\n",
            "67 2021-10-23 00:31:12    0  0.4  ...                0           0         0\n",
            "68 2021-10-23 14:23:31    1  0.2  ...                0           0         0\n",
            "69 2021-10-23 15:38:02    1  0.8  ...                0           0         0\n",
            "70 2021-10-23 16:10:43    1  0.2  ...                0           0         0\n",
            "71 2021-10-23 19:32:47    1  0.4  ...                0           0         0\n",
            "\n",
            "[72 rows x 15 columns]\n"
          ]
        },
        {
          "output_type": "stream",
          "name": "stderr",
          "text": [
            "/usr/local/lib/python3.7/dist-packages/ipykernel_launcher.py:6: SettingWithCopyWarning: \n",
            "A value is trying to be set on a copy of a slice from a DataFrame\n",
            "\n",
            "See the caveats in the documentation: https://pandas.pydata.org/pandas-docs/stable/user_guide/indexing.html#returning-a-view-versus-a-copy\n",
            "  \n",
            "/usr/local/lib/python3.7/dist-packages/pandas/core/indexing.py:670: SettingWithCopyWarning: \n",
            "A value is trying to be set on a copy of a slice from a DataFrame\n",
            "\n",
            "See the caveats in the documentation: https://pandas.pydata.org/pandas-docs/stable/user_guide/indexing.html#returning-a-view-versus-a-copy\n",
            "  iloc._setitem_with_indexer(indexer, value)\n",
            "/usr/local/lib/python3.7/dist-packages/pandas/core/frame.py:3069: SettingWithCopyWarning: \n",
            "A value is trying to be set on a copy of a slice from a DataFrame.\n",
            "Try using .loc[row_indexer,col_indexer] = value instead\n",
            "\n",
            "See the caveats in the documentation: https://pandas.pydata.org/pandas-docs/stable/user_guide/indexing.html#returning-a-view-versus-a-copy\n",
            "  self[k1] = value[k2]\n"
          ]
        }
      ]
    },
    {
      "cell_type": "code",
      "metadata": {
        "colab": {
          "base_uri": "https://localhost:8080/"
        },
        "id": "1edBJdQsBsCW",
        "outputId": "02ee49b8-96af-4493-8336-a9021fbc1f07"
      },
      "source": [
        "if user_data['mate_smoking'] != 0.5:\n",
        "  user['smoking'] = df.iloc[0]['mate_smoking']\n",
        "  dataset['smoking'] = df['user_smoking']\n",
        "print(user)\n",
        "print(dataset)"
      ],
      "execution_count": 406,
      "outputs": [
        {
          "output_type": "stream",
          "name": "stdout",
          "text": [
            "time                        2021-10-20 11:29:52\n",
            "sex                                           1\n",
            "age                                         0.4\n",
            "air_night_airconditioner                      0\n",
            "noise_alarm                                   0\n",
            "eat_together                                  0\n",
            "share_item                             0.704225\n",
            "mate_alcohol                           0.411857\n",
            "mate_clean                             0.422535\n",
            "permission_to_enter                           1\n",
            "pet_dog                                     0.5\n",
            "pet_cat                                     0.5\n",
            "pet_reptie_fish                               0\n",
            "pet_rodent                                    0\n",
            "pet_bird                                      0\n",
            "smoking                                       0\n",
            "Name: 0, dtype: object\n",
            "                  time  sex  age  ...  pet_rodent  pet_bird  smoking\n",
            "0  2021-10-20 11:29:52    1  0.4  ...           0         0        0\n",
            "1  2021-10-22 01:16:34    0  0.6  ...           0         0        0\n",
            "2  2021-10-22 01:29:18    1  0.2  ...           0         0        0\n",
            "3  2021-10-22 01:31:02    0  0.2  ...           0         0        0\n",
            "4  2021-10-22 01:33:35    0  0.2  ...           0         0        0\n",
            "..                 ...  ...  ...  ...         ...       ...      ...\n",
            "67 2021-10-23 00:31:12    0  0.4  ...           0         0        0\n",
            "68 2021-10-23 14:23:31    1  0.2  ...           0         0        0\n",
            "69 2021-10-23 15:38:02    1  0.8  ...           0         0        0\n",
            "70 2021-10-23 16:10:43    1  0.2  ...           0         0        0\n",
            "71 2021-10-23 19:32:47    1  0.4  ...           0         0        0\n",
            "\n",
            "[72 rows x 16 columns]\n"
          ]
        },
        {
          "output_type": "stream",
          "name": "stderr",
          "text": [
            "/usr/local/lib/python3.7/dist-packages/ipykernel_launcher.py:2: SettingWithCopyWarning: \n",
            "A value is trying to be set on a copy of a slice from a DataFrame\n",
            "\n",
            "See the caveats in the documentation: https://pandas.pydata.org/pandas-docs/stable/user_guide/indexing.html#returning-a-view-versus-a-copy\n",
            "  \n",
            "/usr/local/lib/python3.7/dist-packages/pandas/core/indexing.py:670: SettingWithCopyWarning: \n",
            "A value is trying to be set on a copy of a slice from a DataFrame\n",
            "\n",
            "See the caveats in the documentation: https://pandas.pydata.org/pandas-docs/stable/user_guide/indexing.html#returning-a-view-versus-a-copy\n",
            "  iloc._setitem_with_indexer(indexer, value)\n",
            "/usr/local/lib/python3.7/dist-packages/ipykernel_launcher.py:3: SettingWithCopyWarning: \n",
            "A value is trying to be set on a copy of a slice from a DataFrame.\n",
            "Try using .loc[row_indexer,col_indexer] = value instead\n",
            "\n",
            "See the caveats in the documentation: https://pandas.pydata.org/pandas-docs/stable/user_guide/indexing.html#returning-a-view-versus-a-copy\n",
            "  This is separate from the ipykernel package so we can avoid doing imports until\n"
          ]
        }
      ]
    },
    {
      "cell_type": "code",
      "metadata": {
        "colab": {
          "base_uri": "https://localhost:8080/"
        },
        "id": "8QOXm0f1HVwj",
        "outputId": "c56b6250-28fb-4c9c-a1c9-24376aa96a71"
      },
      "source": [
        "if user_data['air_like_airconditioner'] != 0:\n",
        "  user['air_like_airconditioner'] = df.iloc[0]['air_like_airconditioner']\n",
        "  dataset['air_like_airconditioner'] = df['air_like_airconditioner']\n",
        "print(user)\n",
        "print(dataset)"
      ],
      "execution_count": 407,
      "outputs": [
        {
          "output_type": "stream",
          "name": "stdout",
          "text": [
            "time                        2021-10-20 11:29:52\n",
            "sex                                           1\n",
            "age                                         0.4\n",
            "air_night_airconditioner                      0\n",
            "noise_alarm                                   0\n",
            "eat_together                                  0\n",
            "share_item                             0.704225\n",
            "mate_alcohol                           0.411857\n",
            "mate_clean                             0.422535\n",
            "permission_to_enter                           1\n",
            "pet_dog                                     0.5\n",
            "pet_cat                                     0.5\n",
            "pet_reptie_fish                               0\n",
            "pet_rodent                                    0\n",
            "pet_bird                                      0\n",
            "smoking                                       0\n",
            "Name: 0, dtype: object\n",
            "                  time  sex  age  ...  pet_rodent  pet_bird  smoking\n",
            "0  2021-10-20 11:29:52    1  0.4  ...           0         0        0\n",
            "1  2021-10-22 01:16:34    0  0.6  ...           0         0        0\n",
            "2  2021-10-22 01:29:18    1  0.2  ...           0         0        0\n",
            "3  2021-10-22 01:31:02    0  0.2  ...           0         0        0\n",
            "4  2021-10-22 01:33:35    0  0.2  ...           0         0        0\n",
            "..                 ...  ...  ...  ...         ...       ...      ...\n",
            "67 2021-10-23 00:31:12    0  0.4  ...           0         0        0\n",
            "68 2021-10-23 14:23:31    1  0.2  ...           0         0        0\n",
            "69 2021-10-23 15:38:02    1  0.8  ...           0         0        0\n",
            "70 2021-10-23 16:10:43    1  0.2  ...           0         0        0\n",
            "71 2021-10-23 19:32:47    1  0.4  ...           0         0        0\n",
            "\n",
            "[72 rows x 16 columns]\n"
          ]
        }
      ]
    },
    {
      "cell_type": "code",
      "metadata": {
        "colab": {
          "base_uri": "https://localhost:8080/"
        },
        "id": "9ewsP3GnHyF-",
        "outputId": "807ea9ab-425e-4b29-d2ea-d0c88c615dc7"
      },
      "source": [
        "if user_data['air_like_heater'] != 0.5:\n",
        "  user['air_like_heater'] = df.iloc[0]['air_like_heater']\n",
        "  dataset['air_like_heater'] = df['air_like_heater']\n",
        "print(user)\n",
        "print(dataset)"
      ],
      "execution_count": 408,
      "outputs": [
        {
          "output_type": "stream",
          "name": "stdout",
          "text": [
            "time                        2021-10-20 11:29:52\n",
            "sex                                           1\n",
            "age                                         0.4\n",
            "air_night_airconditioner                      0\n",
            "noise_alarm                                   0\n",
            "eat_together                                  0\n",
            "share_item                             0.704225\n",
            "mate_alcohol                           0.411857\n",
            "mate_clean                             0.422535\n",
            "permission_to_enter                           1\n",
            "pet_dog                                     0.5\n",
            "pet_cat                                     0.5\n",
            "pet_reptie_fish                               0\n",
            "pet_rodent                                    0\n",
            "pet_bird                                      0\n",
            "smoking                                       0\n",
            "Name: 0, dtype: object\n",
            "                  time  sex  age  ...  pet_rodent  pet_bird  smoking\n",
            "0  2021-10-20 11:29:52    1  0.4  ...           0         0        0\n",
            "1  2021-10-22 01:16:34    0  0.6  ...           0         0        0\n",
            "2  2021-10-22 01:29:18    1  0.2  ...           0         0        0\n",
            "3  2021-10-22 01:31:02    0  0.2  ...           0         0        0\n",
            "4  2021-10-22 01:33:35    0  0.2  ...           0         0        0\n",
            "..                 ...  ...  ...  ...         ...       ...      ...\n",
            "67 2021-10-23 00:31:12    0  0.4  ...           0         0        0\n",
            "68 2021-10-23 14:23:31    1  0.2  ...           0         0        0\n",
            "69 2021-10-23 15:38:02    1  0.8  ...           0         0        0\n",
            "70 2021-10-23 16:10:43    1  0.2  ...           0         0        0\n",
            "71 2021-10-23 19:32:47    1  0.4  ...           0         0        0\n",
            "\n",
            "[72 rows x 16 columns]\n"
          ]
        }
      ]
    },
    {
      "cell_type": "code",
      "metadata": {
        "colab": {
          "base_uri": "https://localhost:8080/"
        },
        "id": "Zr_rNW7hII94",
        "outputId": "9de4cce4-e669-4d2b-b7d5-2a26e1366371"
      },
      "source": [
        "if user_data['noise_talking'] != 0:\n",
        "  user['noise_talking'] = df.iloc[0]['noise_talking']\n",
        "  dataset['noise_talking'] = df['noise_talking']\n",
        "print(user)\n",
        "print(dataset)"
      ],
      "execution_count": 409,
      "outputs": [
        {
          "output_type": "stream",
          "name": "stdout",
          "text": [
            "time                        2021-10-20 11:29:52\n",
            "sex                                           1\n",
            "age                                         0.4\n",
            "air_night_airconditioner                      0\n",
            "noise_alarm                                   0\n",
            "eat_together                                  0\n",
            "share_item                             0.704225\n",
            "mate_alcohol                           0.411857\n",
            "mate_clean                             0.422535\n",
            "permission_to_enter                           1\n",
            "pet_dog                                     0.5\n",
            "pet_cat                                     0.5\n",
            "pet_reptie_fish                               0\n",
            "pet_rodent                                    0\n",
            "pet_bird                                      0\n",
            "smoking                                       0\n",
            "Name: 0, dtype: object\n",
            "                  time  sex  age  ...  pet_rodent  pet_bird  smoking\n",
            "0  2021-10-20 11:29:52    1  0.4  ...           0         0        0\n",
            "1  2021-10-22 01:16:34    0  0.6  ...           0         0        0\n",
            "2  2021-10-22 01:29:18    1  0.2  ...           0         0        0\n",
            "3  2021-10-22 01:31:02    0  0.2  ...           0         0        0\n",
            "4  2021-10-22 01:33:35    0  0.2  ...           0         0        0\n",
            "..                 ...  ...  ...  ...         ...       ...      ...\n",
            "67 2021-10-23 00:31:12    0  0.4  ...           0         0        0\n",
            "68 2021-10-23 14:23:31    1  0.2  ...           0         0        0\n",
            "69 2021-10-23 15:38:02    1  0.8  ...           0         0        0\n",
            "70 2021-10-23 16:10:43    1  0.2  ...           0         0        0\n",
            "71 2021-10-23 19:32:47    1  0.4  ...           0         0        0\n",
            "\n",
            "[72 rows x 16 columns]\n"
          ]
        }
      ]
    },
    {
      "cell_type": "code",
      "metadata": {
        "colab": {
          "base_uri": "https://localhost:8080/"
        },
        "id": "vMCw6QdgIVkd",
        "outputId": "82f0ccbb-2f46-4ac2-e07b-e87a809e2bf1"
      },
      "source": [
        "if user_data['noise_music'] != 0:\n",
        "  user['noise_music'] = df.iloc[0]['noise_music']\n",
        "  dataset['noise_music'] = df['noise_music']\n",
        "print(user)\n",
        "print(dataset)"
      ],
      "execution_count": 410,
      "outputs": [
        {
          "output_type": "stream",
          "name": "stdout",
          "text": [
            "time                        2021-10-20 11:29:52\n",
            "sex                                           1\n",
            "age                                         0.4\n",
            "air_night_airconditioner                      0\n",
            "noise_alarm                                   0\n",
            "eat_together                                  0\n",
            "share_item                             0.704225\n",
            "mate_alcohol                           0.411857\n",
            "mate_clean                             0.422535\n",
            "permission_to_enter                           1\n",
            "pet_dog                                     0.5\n",
            "pet_cat                                     0.5\n",
            "pet_reptie_fish                               0\n",
            "pet_rodent                                    0\n",
            "pet_bird                                      0\n",
            "smoking                                       0\n",
            "Name: 0, dtype: object\n",
            "                  time  sex  age  ...  pet_rodent  pet_bird  smoking\n",
            "0  2021-10-20 11:29:52    1  0.4  ...           0         0        0\n",
            "1  2021-10-22 01:16:34    0  0.6  ...           0         0        0\n",
            "2  2021-10-22 01:29:18    1  0.2  ...           0         0        0\n",
            "3  2021-10-22 01:31:02    0  0.2  ...           0         0        0\n",
            "4  2021-10-22 01:33:35    0  0.2  ...           0         0        0\n",
            "..                 ...  ...  ...  ...         ...       ...      ...\n",
            "67 2021-10-23 00:31:12    0  0.4  ...           0         0        0\n",
            "68 2021-10-23 14:23:31    1  0.2  ...           0         0        0\n",
            "69 2021-10-23 15:38:02    1  0.8  ...           0         0        0\n",
            "70 2021-10-23 16:10:43    1  0.2  ...           0         0        0\n",
            "71 2021-10-23 19:32:47    1  0.4  ...           0         0        0\n",
            "\n",
            "[72 rows x 16 columns]\n"
          ]
        }
      ]
    },
    {
      "cell_type": "code",
      "metadata": {
        "colab": {
          "base_uri": "https://localhost:8080/"
        },
        "id": "KeDSDLBuIg6t",
        "outputId": "60242f40-5924-446e-e61c-4367a33e3157"
      },
      "source": [
        "if user_data['mate_bug_killer'] != 0:\n",
        "  user['bug_killer'] = df.iloc[0]['mate_bug_killer']\n",
        "  dataset['bug_killer'] = df['user_bug_killer']\n",
        "print(user)\n",
        "print(dataset)"
      ],
      "execution_count": 411,
      "outputs": [
        {
          "output_type": "stream",
          "name": "stdout",
          "text": [
            "time                        2021-10-20 11:29:52\n",
            "sex                                           1\n",
            "age                                         0.4\n",
            "air_night_airconditioner                      0\n",
            "noise_alarm                                   0\n",
            "eat_together                                  0\n",
            "share_item                             0.704225\n",
            "mate_alcohol                           0.411857\n",
            "mate_clean                             0.422535\n",
            "permission_to_enter                           1\n",
            "pet_dog                                     0.5\n",
            "pet_cat                                     0.5\n",
            "pet_reptie_fish                               0\n",
            "pet_rodent                                    0\n",
            "pet_bird                                      0\n",
            "smoking                                       0\n",
            "bug_killer                                    1\n",
            "Name: 0, dtype: object\n",
            "                  time  sex  age  ...  pet_bird  smoking  bug_killer\n",
            "0  2021-10-20 11:29:52    1  0.4  ...         0        0    0.573944\n",
            "1  2021-10-22 01:16:34    0  0.6  ...         0        0    0.750000\n",
            "2  2021-10-22 01:29:18    1  0.2  ...         0        0    0.000000\n",
            "3  2021-10-22 01:31:02    0  0.2  ...         0        0    1.000000\n",
            "4  2021-10-22 01:33:35    0  0.2  ...         0        0    0.750000\n",
            "..                 ...  ...  ...  ...       ...      ...         ...\n",
            "67 2021-10-23 00:31:12    0  0.4  ...         0        0    0.750000\n",
            "68 2021-10-23 14:23:31    1  0.2  ...         0        0    1.000000\n",
            "69 2021-10-23 15:38:02    1  0.8  ...         0        0    1.000000\n",
            "70 2021-10-23 16:10:43    1  0.2  ...         0        0    0.000000\n",
            "71 2021-10-23 19:32:47    1  0.4  ...         0        0    0.000000\n",
            "\n",
            "[72 rows x 17 columns]\n"
          ]
        },
        {
          "output_type": "stream",
          "name": "stderr",
          "text": [
            "/usr/local/lib/python3.7/dist-packages/ipykernel_launcher.py:2: SettingWithCopyWarning: \n",
            "A value is trying to be set on a copy of a slice from a DataFrame\n",
            "\n",
            "See the caveats in the documentation: https://pandas.pydata.org/pandas-docs/stable/user_guide/indexing.html#returning-a-view-versus-a-copy\n",
            "  \n",
            "/usr/local/lib/python3.7/dist-packages/pandas/core/indexing.py:670: SettingWithCopyWarning: \n",
            "A value is trying to be set on a copy of a slice from a DataFrame\n",
            "\n",
            "See the caveats in the documentation: https://pandas.pydata.org/pandas-docs/stable/user_guide/indexing.html#returning-a-view-versus-a-copy\n",
            "  iloc._setitem_with_indexer(indexer, value)\n",
            "/usr/local/lib/python3.7/dist-packages/ipykernel_launcher.py:3: SettingWithCopyWarning: \n",
            "A value is trying to be set on a copy of a slice from a DataFrame.\n",
            "Try using .loc[row_indexer,col_indexer] = value instead\n",
            "\n",
            "See the caveats in the documentation: https://pandas.pydata.org/pandas-docs/stable/user_guide/indexing.html#returning-a-view-versus-a-copy\n",
            "  This is separate from the ipykernel package so we can avoid doing imports until\n"
          ]
        }
      ]
    },
    {
      "cell_type": "code",
      "metadata": {
        "colab": {
          "base_uri": "https://localhost:8080/"
        },
        "id": "dTwtfXfkIy9s",
        "outputId": "194c3c55-c894-4cd1-8987-5e5332399bcd"
      },
      "source": [
        "if user_data['mate_cooking'] != 0:\n",
        "  user['cooking'] = df.iloc[0]['mate_cooking']\n",
        "  dataset['cooking'] = df['user_cooking']\n",
        "print(user)\n",
        "print(dataset)"
      ],
      "execution_count": 412,
      "outputs": [
        {
          "output_type": "stream",
          "name": "stdout",
          "text": [
            "time                        2021-10-20 11:29:52\n",
            "sex                                           1\n",
            "age                                         0.4\n",
            "air_night_airconditioner                      0\n",
            "noise_alarm                                   0\n",
            "eat_together                                  0\n",
            "share_item                             0.704225\n",
            "mate_alcohol                           0.411857\n",
            "mate_clean                             0.422535\n",
            "permission_to_enter                           1\n",
            "pet_dog                                     0.5\n",
            "pet_cat                                     0.5\n",
            "pet_reptie_fish                               0\n",
            "pet_rodent                                    0\n",
            "pet_bird                                      0\n",
            "smoking                                       0\n",
            "bug_killer                                    1\n",
            "Name: 0, dtype: object\n",
            "                  time  sex  age  ...  pet_bird  smoking  bug_killer\n",
            "0  2021-10-20 11:29:52    1  0.4  ...         0        0    0.573944\n",
            "1  2021-10-22 01:16:34    0  0.6  ...         0        0    0.750000\n",
            "2  2021-10-22 01:29:18    1  0.2  ...         0        0    0.000000\n",
            "3  2021-10-22 01:31:02    0  0.2  ...         0        0    1.000000\n",
            "4  2021-10-22 01:33:35    0  0.2  ...         0        0    0.750000\n",
            "..                 ...  ...  ...  ...       ...      ...         ...\n",
            "67 2021-10-23 00:31:12    0  0.4  ...         0        0    0.750000\n",
            "68 2021-10-23 14:23:31    1  0.2  ...         0        0    1.000000\n",
            "69 2021-10-23 15:38:02    1  0.8  ...         0        0    1.000000\n",
            "70 2021-10-23 16:10:43    1  0.2  ...         0        0    0.000000\n",
            "71 2021-10-23 19:32:47    1  0.4  ...         0        0    0.000000\n",
            "\n",
            "[72 rows x 17 columns]\n"
          ]
        }
      ]
    },
    {
      "cell_type": "code",
      "metadata": {
        "colab": {
          "base_uri": "https://localhost:8080/"
        },
        "id": "qjyT9B9CJFER",
        "outputId": "b78f799a-c1e1-4674-b706-318edb051065"
      },
      "source": [
        "distance_result = np.zeros(len(dataset))\n",
        "\n",
        "# 기준 사용자와 다른 사용자 간의 거리를 구한다.\n",
        "for i in range(1, len(dataset)):\n",
        "  distance_result[i] = distance(user, dataset.iloc[i, 1:])\n",
        "\n",
        "print(distance_result)"
      ],
      "execution_count": 413,
      "outputs": [
        {
          "output_type": "stream",
          "name": "stdout",
          "text": [
            "[0.         1.42822684 1.67475273 1.72270787 1.92362838 1.89137429\n",
            " 1.98909732 1.83821744 1.9403084  1.34342722 1.9403084  2.07762926\n",
            " 1.35177539 1.66276778 1.6882706  1.68145672 1.92024267 2.10143023\n",
            " 1.98110997 1.84671226 1.69330939 1.66276778 1.41915754 2.10503443\n",
            " 1.25590474 1.98427113 1.69330939 1.46022652 1.76181955 1.48147274\n",
            " 2.19198465 1.39738471 2.25660397 1.51498753 1.01972149 1.99995798\n",
            " 1.65146357 1.63548057 1.9563478  2.13419697 1.73200228 2.06494749\n",
            " 0.90955852 2.14277225 1.94674906 1.46296194 1.96654436 1.9403084\n",
            " 2.2288388  1.9403084  1.69808228 1.69330939 1.41415413 1.9403084\n",
            " 1.9563478  1.87477911 1.52528952 1.32845651 1.36649065 1.35177539\n",
            " 1.77207721 1.38842444 2.20318137 1.70117845 1.40617635 1.59837314\n",
            " 1.74075341 1.68145672 1.34342722 1.75719163 1.67475273 1.52102236]\n"
          ]
        }
      ]
    },
    {
      "cell_type": "code",
      "metadata": {
        "colab": {
          "base_uri": "https://localhost:8080/"
        },
        "id": "wdJU9VsTJb8T",
        "outputId": "a5cbc885-8288-4c5a-84c5-2c45d32fc71f"
      },
      "source": [
        "# 오름차순으로 정렬하여 인덱스 리턴\n",
        "print(np.argsort(distance_result))"
      ],
      "execution_count": 414,
      "outputs": [
        {
          "output_type": "stream",
          "name": "stdout",
          "text": [
            "[ 0 42 34 24 57  9 68 12 59 58 61 31 64 52 22  1 27 45 29 33 71 56 65 37\n",
            " 36 13 21  2 70 67 15 14 51 26 20 50 63  3 40 66 69 28 60  7 19 55  5 16\n",
            "  4 49 10  8 53 47 44 54 38 46 18 25  6 35 41 11 17 23 39 43 30 62 48 32]\n"
          ]
        }
      ]
    },
    {
      "cell_type": "code",
      "metadata": {
        "colab": {
          "base_uri": "https://localhost:8080/"
        },
        "id": "M6rf5P2QH9Dg",
        "outputId": "07c23a5d-54ec-46d7-f63d-e5acc53277ad"
      },
      "source": [
        "user_data"
      ],
      "execution_count": 415,
      "outputs": [
        {
          "output_type": "execute_result",
          "data": {
            "text/plain": [
              "time                        2021-10-20 11:29:52\n",
              "sex                                           1\n",
              "age                                         0.4\n",
              "mbti                                       infp\n",
              "user_smoking                                  0\n",
              "mate_smoking                                  0\n",
              "user_pet                                      0\n",
              "user_bug_killer                        0.573944\n",
              "mate_bug_killer                               1\n",
              "user_cooking                                  0\n",
              "mate_cooking                                  0\n",
              "eat_together                                  0\n",
              "share_item                             0.704225\n",
              "mate_alcohol                           0.411857\n",
              "mate_clean                             0.422535\n",
              "permission_to_enter                           1\n",
              "user_pet_dog                                  0\n",
              "user_pet_cat                                  0\n",
              "user_pet_reptie_fish                          0\n",
              "user_pet_rodent                               0\n",
              "user_pet_bird                                 0\n",
              "mate_pet                                    0.5\n",
              "mate_pet_dog                                0.5\n",
              "mate_pet_cat                                0.5\n",
              "mate_pet_reptie_fish                          0\n",
              "mate_pet_rodent                               0\n",
              "mate_pet_bird                                 0\n",
              "air_like_airconditioner                       0\n",
              "air_night_airconditioner                      0\n",
              "air_like_heater                             0.5\n",
              "noise_talking                                 0\n",
              "noise_music                                   0\n",
              "noise_alarm                                   0\n",
              "Name: 0, dtype: object"
            ]
          },
          "metadata": {},
          "execution_count": 415
        }
      ]
    }
  ]
}