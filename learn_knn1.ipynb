{
  "nbformat": 4,
  "nbformat_minor": 0,
  "metadata": {
    "colab": {
      "name": "learn_knn.ipynb",
      "provenance": [],
      "collapsed_sections": []
    },
    "kernelspec": {
      "name": "python3",
      "display_name": "Python 3"
    },
    "language_info": {
      "name": "python"
    }
  },
  "cells": [
    {
      "cell_type": "markdown",
      "metadata": {
        "id": "EYDo6xdg_bIA"
      },
      "source": [
        "# learn_knn1\n",
        "> 목표 : 대출 승인을 받을 수 있는 고객과 그렇지 않은 고객을 분류한다.\n",
        "\n",
        "- 참고 : https://ichi.pro/ko/python-eulo-knn-k-nearest-neighbor-guhyeon-80872795128174\n",
        "- 데이터 셋 : https://www.kaggle.com/burak3ergun/loan-data-set"
      ]
    },
    {
      "cell_type": "markdown",
      "metadata": {
        "id": "aHvSRHd63r6l"
      },
      "source": [
        "### 라이브러리 불러오기\n",
        "- pandas: Pandas는 Python에서 고성능 데이터 조작을 제공한다.\n",
        "\n",
        "- matplotlib: Matplotlib는 데이터 시각화에 사용되는 라이브러리이다. \n",
        "  - 막대, 파이, 선, 산점도 등\n",
        "\n",
        "- seaborn: Seaborn은 데이터 셋의 통계 그래픽을 만드는 데 사용되는 라이브러리이다. "
      ]
    },
    {
      "cell_type": "code",
      "metadata": {
        "id": "-KADL5Gq14ZN"
      },
      "source": [
        "# Importing the libraries\n",
        "import pandas as pd\n",
        "import numpy as np\n",
        "import matplotlib.pyplot as plt\n",
        "import seaborn as sns"
      ],
      "execution_count": 31,
      "outputs": []
    },
    {
      "cell_type": "markdown",
      "metadata": {
        "id": "rg3MqQdB3yRa"
      },
      "source": [
        "### 데이터 불러오기"
      ]
    },
    {
      "cell_type": "code",
      "metadata": {
        "id": "vEehM3ro2A4w"
      },
      "source": [
        "# Reading the dataset\n",
        "dataset = pd.read_csv(\"loan_data_set.csv\")"
      ],
      "execution_count": 32,
      "outputs": []
    },
    {
      "cell_type": "code",
      "metadata": {
        "colab": {
          "base_uri": "https://localhost:8080/",
          "height": 240
        },
        "id": "vSIFVknE32Fe",
        "outputId": "fbf103bd-4f2b-4ba6-d096-691ef17a5829"
      },
      "source": [
        "dataset.head()"
      ],
      "execution_count": 33,
      "outputs": [
        {
          "output_type": "execute_result",
          "data": {
            "text/html": [
              "<div>\n",
              "<style scoped>\n",
              "    .dataframe tbody tr th:only-of-type {\n",
              "        vertical-align: middle;\n",
              "    }\n",
              "\n",
              "    .dataframe tbody tr th {\n",
              "        vertical-align: top;\n",
              "    }\n",
              "\n",
              "    .dataframe thead th {\n",
              "        text-align: right;\n",
              "    }\n",
              "</style>\n",
              "<table border=\"1\" class=\"dataframe\">\n",
              "  <thead>\n",
              "    <tr style=\"text-align: right;\">\n",
              "      <th></th>\n",
              "      <th>Loan_ID</th>\n",
              "      <th>Gender</th>\n",
              "      <th>Married</th>\n",
              "      <th>Dependents</th>\n",
              "      <th>Education</th>\n",
              "      <th>Self_Employed</th>\n",
              "      <th>ApplicantIncome</th>\n",
              "      <th>CoapplicantIncome</th>\n",
              "      <th>LoanAmount</th>\n",
              "      <th>Loan_Amount_Term</th>\n",
              "      <th>Credit_History</th>\n",
              "      <th>Property_Area</th>\n",
              "      <th>Loan_Status</th>\n",
              "    </tr>\n",
              "  </thead>\n",
              "  <tbody>\n",
              "    <tr>\n",
              "      <th>0</th>\n",
              "      <td>LP001002</td>\n",
              "      <td>Male</td>\n",
              "      <td>No</td>\n",
              "      <td>0</td>\n",
              "      <td>Graduate</td>\n",
              "      <td>No</td>\n",
              "      <td>5849</td>\n",
              "      <td>0.0</td>\n",
              "      <td>NaN</td>\n",
              "      <td>360.0</td>\n",
              "      <td>1.0</td>\n",
              "      <td>Urban</td>\n",
              "      <td>Y</td>\n",
              "    </tr>\n",
              "    <tr>\n",
              "      <th>1</th>\n",
              "      <td>LP001003</td>\n",
              "      <td>Male</td>\n",
              "      <td>Yes</td>\n",
              "      <td>1</td>\n",
              "      <td>Graduate</td>\n",
              "      <td>No</td>\n",
              "      <td>4583</td>\n",
              "      <td>1508.0</td>\n",
              "      <td>128.0</td>\n",
              "      <td>360.0</td>\n",
              "      <td>1.0</td>\n",
              "      <td>Rural</td>\n",
              "      <td>N</td>\n",
              "    </tr>\n",
              "    <tr>\n",
              "      <th>2</th>\n",
              "      <td>LP001005</td>\n",
              "      <td>Male</td>\n",
              "      <td>Yes</td>\n",
              "      <td>0</td>\n",
              "      <td>Graduate</td>\n",
              "      <td>Yes</td>\n",
              "      <td>3000</td>\n",
              "      <td>0.0</td>\n",
              "      <td>66.0</td>\n",
              "      <td>360.0</td>\n",
              "      <td>1.0</td>\n",
              "      <td>Urban</td>\n",
              "      <td>Y</td>\n",
              "    </tr>\n",
              "    <tr>\n",
              "      <th>3</th>\n",
              "      <td>LP001006</td>\n",
              "      <td>Male</td>\n",
              "      <td>Yes</td>\n",
              "      <td>0</td>\n",
              "      <td>Not Graduate</td>\n",
              "      <td>No</td>\n",
              "      <td>2583</td>\n",
              "      <td>2358.0</td>\n",
              "      <td>120.0</td>\n",
              "      <td>360.0</td>\n",
              "      <td>1.0</td>\n",
              "      <td>Urban</td>\n",
              "      <td>Y</td>\n",
              "    </tr>\n",
              "    <tr>\n",
              "      <th>4</th>\n",
              "      <td>LP001008</td>\n",
              "      <td>Male</td>\n",
              "      <td>No</td>\n",
              "      <td>0</td>\n",
              "      <td>Graduate</td>\n",
              "      <td>No</td>\n",
              "      <td>6000</td>\n",
              "      <td>0.0</td>\n",
              "      <td>141.0</td>\n",
              "      <td>360.0</td>\n",
              "      <td>1.0</td>\n",
              "      <td>Urban</td>\n",
              "      <td>Y</td>\n",
              "    </tr>\n",
              "  </tbody>\n",
              "</table>\n",
              "</div>"
            ],
            "text/plain": [
              "    Loan_ID Gender Married  ... Credit_History Property_Area Loan_Status\n",
              "0  LP001002   Male      No  ...            1.0         Urban           Y\n",
              "1  LP001003   Male     Yes  ...            1.0         Rural           N\n",
              "2  LP001005   Male     Yes  ...            1.0         Urban           Y\n",
              "3  LP001006   Male     Yes  ...            1.0         Urban           Y\n",
              "4  LP001008   Male      No  ...            1.0         Urban           Y\n",
              "\n",
              "[5 rows x 13 columns]"
            ]
          },
          "metadata": {},
          "execution_count": 33
        }
      ]
    },
    {
      "cell_type": "markdown",
      "metadata": {
        "id": "X3e-hvc_APF2"
      },
      "source": [
        "### 데이터 컬럼 설명\n",
        "- Loan_Id : Loan_Id는 각 개인을 고유하게 식별하기 위해 모든 지원자에게 제공되는 ID입니다.\n",
        "- 성별 : 지원자의 성별을 나타냅니다.\n",
        "- 기혼 : 결혼 여부를 나타냅니다.\n",
        "- 부양 가족 : 신청자가 돈을 위해 다른 사람에게 의존 함을 나타냅니다.\n",
        "- 학력 : 지원자의 학력 상태를 나타냅니다.\n",
        "- 자영업자 : 지원자가 자영업자인지 여부를 나타냅니다.\n",
        "- 지원자 소득 : 지원자 의 소득을 나타냅니다.\n",
        "- CoApplicantIncome : 공동 지원자의 소득을 나타냅니다. 공동 신청자는 대출자와 공동 대출을 신청하는 사람입니다.\n",
        "- Loan_Amount : 신청자가 은행에서 대출 한 금액을 나타냅니다.\n",
        "- Loan_Amount_Term : 각 지원자의 대출 금액 조건을 나타냅니다. 정기 대출은 고정 이자율 또는 변동 이자율로 고정 금액 및 고정 상환 일정에 대해 은행에서 발행 한 대출 금액입니다.\n",
        "- Credit_Historty : 신청자 별 대출 금액 기간을 나타냅니다. 신용 기록은 채무자의 책임 상환 기록입니다.\n",
        "- Loan_Status는 (은 대출 승인 여부를 나타내는 Y 승인을위한 N이 되지 승인 )."
      ]
    },
    {
      "cell_type": "markdown",
      "metadata": {
        "id": "4u9TA8Zo4Oq5"
      },
      "source": [
        "### 결측치 처리\n"
      ]
    },
    {
      "cell_type": "markdown",
      "metadata": {
        "id": "xf8GIl6o56aQ"
      },
      "source": [
        "- 결측치 분포 확인"
      ]
    },
    {
      "cell_type": "code",
      "metadata": {
        "colab": {
          "base_uri": "https://localhost:8080/"
        },
        "id": "NpgnIMzZ4DNl",
        "outputId": "cada3d9d-66ee-4f27-9970-37a9de1aafa8"
      },
      "source": [
        "# Checking for missing values\n",
        "dataset.isnull().sum()"
      ],
      "execution_count": 34,
      "outputs": [
        {
          "output_type": "execute_result",
          "data": {
            "text/plain": [
              "Loan_ID               0\n",
              "Gender               13\n",
              "Married               3\n",
              "Dependents           15\n",
              "Education             0\n",
              "Self_Employed        32\n",
              "ApplicantIncome       0\n",
              "CoapplicantIncome     0\n",
              "LoanAmount           22\n",
              "Loan_Amount_Term     14\n",
              "Credit_History       50\n",
              "Property_Area         0\n",
              "Loan_Status           0\n",
              "dtype: int64"
            ]
          },
          "metadata": {},
          "execution_count": 34
        }
      ]
    },
    {
      "cell_type": "markdown",
      "metadata": {
        "id": "nju5AKdC5uqs"
      },
      "source": [
        "- pandas의 fillna() 함수 사용\n",
        "  - 범주형 : mode\n",
        "  - 연속형 : mean"
      ]
    },
    {
      "cell_type": "code",
      "metadata": {
        "id": "2o39BXsv4Sk4"
      },
      "source": [
        "# Filling Gender column by mode\n",
        "dataset['Gender']=dataset['Gender'].fillna(dataset['Gender'].mode().values[0])\n",
        "# Filling Married column by mode \n",
        "dataset['Married']=dataset['Married'].fillna(dataset['Married'].mode().values[0])\n",
        "# Filling Dependents column by mode\n",
        "dataset['Dependents']=dataset['Dependents'].fillna(dataset['Dependents'].mode().values[0])\n",
        "# Filling Self_Employed column by mode\n",
        "dataset['Self_Employed']=dataset['Self_Employed'].fillna(dataset['Self_Employed'].mode().values[0])\n",
        "# Filling LoanAmount column by mean\n",
        "dataset['LoanAmount']=dataset['LoanAmount'].fillna(dataset['LoanAmount'].mean())\n",
        "# Filling Loan_Amount_Term column by mode\n",
        "dataset['Loan_Amount_Term']=dataset['Loan_Amount_Term'].fillna(dataset['Loan_Amount_Term'].mode().values[0] )\n",
        "# Filling Credit_History column by mode\n",
        "dataset['Credit_History']=dataset['Credit_History'].fillna(dataset['Credit_History'].mode().values[0] )"
      ],
      "execution_count": 35,
      "outputs": []
    },
    {
      "cell_type": "code",
      "metadata": {
        "colab": {
          "base_uri": "https://localhost:8080/"
        },
        "id": "ujzlTcV65Ssj",
        "outputId": "c81c9e0c-c4b1-4e4a-803d-d4d519f925a7"
      },
      "source": [
        "# Checking for missing values\n",
        "dataset.isnull().sum()"
      ],
      "execution_count": 36,
      "outputs": [
        {
          "output_type": "execute_result",
          "data": {
            "text/plain": [
              "Loan_ID              0\n",
              "Gender               0\n",
              "Married              0\n",
              "Dependents           0\n",
              "Education            0\n",
              "Self_Employed        0\n",
              "ApplicantIncome      0\n",
              "CoapplicantIncome    0\n",
              "LoanAmount           0\n",
              "Loan_Amount_Term     0\n",
              "Credit_History       0\n",
              "Property_Area        0\n",
              "Loan_Status          0\n",
              "dtype: int64"
            ]
          },
          "metadata": {},
          "execution_count": 36
        }
      ]
    },
    {
      "cell_type": "markdown",
      "metadata": {
        "id": "W_rdDBj05zVl"
      },
      "source": [
        "- 불필요한 컬럼 삭제"
      ]
    },
    {
      "cell_type": "code",
      "metadata": {
        "id": "NNvT6k2V5hfZ"
      },
      "source": [
        "# Dropping unnecessary columns\n",
        "dataset.drop('Loan_ID', axis=1, inplace=True)"
      ],
      "execution_count": 37,
      "outputs": []
    },
    {
      "cell_type": "markdown",
      "metadata": {
        "id": "JPhuJfXh53e2"
      },
      "source": [
        "- 최종 확인"
      ]
    },
    {
      "cell_type": "code",
      "metadata": {
        "colab": {
          "base_uri": "https://localhost:8080/",
          "height": 240
        },
        "id": "g0zhBttj5kVX",
        "outputId": "d13f2327-5c2c-4eae-8b44-4b0cf30aca59"
      },
      "source": [
        "dataset.head()"
      ],
      "execution_count": 38,
      "outputs": [
        {
          "output_type": "execute_result",
          "data": {
            "text/html": [
              "<div>\n",
              "<style scoped>\n",
              "    .dataframe tbody tr th:only-of-type {\n",
              "        vertical-align: middle;\n",
              "    }\n",
              "\n",
              "    .dataframe tbody tr th {\n",
              "        vertical-align: top;\n",
              "    }\n",
              "\n",
              "    .dataframe thead th {\n",
              "        text-align: right;\n",
              "    }\n",
              "</style>\n",
              "<table border=\"1\" class=\"dataframe\">\n",
              "  <thead>\n",
              "    <tr style=\"text-align: right;\">\n",
              "      <th></th>\n",
              "      <th>Gender</th>\n",
              "      <th>Married</th>\n",
              "      <th>Dependents</th>\n",
              "      <th>Education</th>\n",
              "      <th>Self_Employed</th>\n",
              "      <th>ApplicantIncome</th>\n",
              "      <th>CoapplicantIncome</th>\n",
              "      <th>LoanAmount</th>\n",
              "      <th>Loan_Amount_Term</th>\n",
              "      <th>Credit_History</th>\n",
              "      <th>Property_Area</th>\n",
              "      <th>Loan_Status</th>\n",
              "    </tr>\n",
              "  </thead>\n",
              "  <tbody>\n",
              "    <tr>\n",
              "      <th>0</th>\n",
              "      <td>Male</td>\n",
              "      <td>No</td>\n",
              "      <td>0</td>\n",
              "      <td>Graduate</td>\n",
              "      <td>No</td>\n",
              "      <td>5849</td>\n",
              "      <td>0.0</td>\n",
              "      <td>146.412162</td>\n",
              "      <td>360.0</td>\n",
              "      <td>1.0</td>\n",
              "      <td>Urban</td>\n",
              "      <td>Y</td>\n",
              "    </tr>\n",
              "    <tr>\n",
              "      <th>1</th>\n",
              "      <td>Male</td>\n",
              "      <td>Yes</td>\n",
              "      <td>1</td>\n",
              "      <td>Graduate</td>\n",
              "      <td>No</td>\n",
              "      <td>4583</td>\n",
              "      <td>1508.0</td>\n",
              "      <td>128.000000</td>\n",
              "      <td>360.0</td>\n",
              "      <td>1.0</td>\n",
              "      <td>Rural</td>\n",
              "      <td>N</td>\n",
              "    </tr>\n",
              "    <tr>\n",
              "      <th>2</th>\n",
              "      <td>Male</td>\n",
              "      <td>Yes</td>\n",
              "      <td>0</td>\n",
              "      <td>Graduate</td>\n",
              "      <td>Yes</td>\n",
              "      <td>3000</td>\n",
              "      <td>0.0</td>\n",
              "      <td>66.000000</td>\n",
              "      <td>360.0</td>\n",
              "      <td>1.0</td>\n",
              "      <td>Urban</td>\n",
              "      <td>Y</td>\n",
              "    </tr>\n",
              "    <tr>\n",
              "      <th>3</th>\n",
              "      <td>Male</td>\n",
              "      <td>Yes</td>\n",
              "      <td>0</td>\n",
              "      <td>Not Graduate</td>\n",
              "      <td>No</td>\n",
              "      <td>2583</td>\n",
              "      <td>2358.0</td>\n",
              "      <td>120.000000</td>\n",
              "      <td>360.0</td>\n",
              "      <td>1.0</td>\n",
              "      <td>Urban</td>\n",
              "      <td>Y</td>\n",
              "    </tr>\n",
              "    <tr>\n",
              "      <th>4</th>\n",
              "      <td>Male</td>\n",
              "      <td>No</td>\n",
              "      <td>0</td>\n",
              "      <td>Graduate</td>\n",
              "      <td>No</td>\n",
              "      <td>6000</td>\n",
              "      <td>0.0</td>\n",
              "      <td>141.000000</td>\n",
              "      <td>360.0</td>\n",
              "      <td>1.0</td>\n",
              "      <td>Urban</td>\n",
              "      <td>Y</td>\n",
              "    </tr>\n",
              "  </tbody>\n",
              "</table>\n",
              "</div>"
            ],
            "text/plain": [
              "  Gender Married Dependents  ... Credit_History Property_Area  Loan_Status\n",
              "0   Male      No          0  ...            1.0         Urban            Y\n",
              "1   Male     Yes          1  ...            1.0         Rural            N\n",
              "2   Male     Yes          0  ...            1.0         Urban            Y\n",
              "3   Male     Yes          0  ...            1.0         Urban            Y\n",
              "4   Male      No          0  ...            1.0         Urban            Y\n",
              "\n",
              "[5 rows x 12 columns]"
            ]
          },
          "metadata": {},
          "execution_count": 38
        }
      ]
    },
    {
      "cell_type": "code",
      "metadata": {
        "colab": {
          "base_uri": "https://localhost:8080/"
        },
        "id": "VJUI52FK6Ac-",
        "outputId": "d3114a76-eefd-4c2a-83f2-d3e5fd5e52a1"
      },
      "source": [
        "# Number of rows and columns of train set\n",
        "dataset.shape"
      ],
      "execution_count": 39,
      "outputs": [
        {
          "output_type": "execute_result",
          "data": {
            "text/plain": [
              "(614, 12)"
            ]
          },
          "metadata": {},
          "execution_count": 39
        }
      ]
    },
    {
      "cell_type": "code",
      "metadata": {
        "colab": {
          "base_uri": "https://localhost:8080/"
        },
        "id": "vQans3ut6DV0",
        "outputId": "933f6df5-9633-4ba2-bb9f-b585941001bd"
      },
      "source": [
        "# Dataset info\n",
        "dataset.info()"
      ],
      "execution_count": 40,
      "outputs": [
        {
          "output_type": "stream",
          "name": "stdout",
          "text": [
            "<class 'pandas.core.frame.DataFrame'>\n",
            "RangeIndex: 614 entries, 0 to 613\n",
            "Data columns (total 12 columns):\n",
            " #   Column             Non-Null Count  Dtype  \n",
            "---  ------             --------------  -----  \n",
            " 0   Gender             614 non-null    object \n",
            " 1   Married            614 non-null    object \n",
            " 2   Dependents         614 non-null    object \n",
            " 3   Education          614 non-null    object \n",
            " 4   Self_Employed      614 non-null    object \n",
            " 5   ApplicantIncome    614 non-null    int64  \n",
            " 6   CoapplicantIncome  614 non-null    float64\n",
            " 7   LoanAmount         614 non-null    float64\n",
            " 8   Loan_Amount_Term   614 non-null    float64\n",
            " 9   Credit_History     614 non-null    float64\n",
            " 10  Property_Area      614 non-null    object \n",
            " 11  Loan_Status        614 non-null    object \n",
            "dtypes: float64(4), int64(1), object(7)\n",
            "memory usage: 57.7+ KB\n"
          ]
        }
      ]
    },
    {
      "cell_type": "markdown",
      "metadata": {
        "id": "hkMRCa5h6jbW"
      },
      "source": [
        "### 성별이 대출 승인에 영향을 미치는가?"
      ]
    },
    {
      "cell_type": "code",
      "metadata": {
        "colab": {
          "base_uri": "https://localhost:8080/",
          "height": 332
        },
        "id": "Fl0Hax026NnZ",
        "outputId": "809b6f53-f75b-40e6-8a3e-dc196e1d0b0b"
      },
      "source": [
        "sns.countplot(y = 'Gender', hue = 'Loan_Status', data = dataset)\n",
        "dataset['Gender'].value_counts()"
      ],
      "execution_count": 41,
      "outputs": [
        {
          "output_type": "execute_result",
          "data": {
            "text/plain": [
              "Male      502\n",
              "Female    112\n",
              "Name: Gender, dtype: int64"
            ]
          },
          "metadata": {},
          "execution_count": 41
        },
        {
          "output_type": "display_data",
          "data": {
            "image/png": "[encoded data removed]",
            "text/plain": [
              "<Figure size 432x288 with 1 Axes>"
            ]
          },
          "metadata": {
            "needs_background": "light"
          }
        }
      ]
    },
    {
      "cell_type": "markdown",
      "metadata": {
        "id": "tkVsi0iv6pfv"
      },
      "source": [
        "### 결혼 여부가 대출 승인에 영향을 미치는가?"
      ]
    },
    {
      "cell_type": "code",
      "metadata": {
        "colab": {
          "base_uri": "https://localhost:8080/",
          "height": 332
        },
        "id": "ZBnTlkMl6ds5",
        "outputId": "d38acbde-98ca-4a83-fec6-a18744c0282d"
      },
      "source": [
        "sns.countplot(y= 'Married', hue= 'Loan_Status', data= dataset)\n",
        "dataset['Married'].value_counts()"
      ],
      "execution_count": 42,
      "outputs": [
        {
          "output_type": "execute_result",
          "data": {
            "text/plain": [
              "Yes    401\n",
              "No     213\n",
              "Name: Married, dtype: int64"
            ]
          },
          "metadata": {},
          "execution_count": 42
        },
        {
          "output_type": "display_data",
          "data": {
            "image/png": "[encoded data removed]",
            "text/plain": [
              "<Figure size 432x288 with 1 Axes>"
            ]
          },
          "metadata": {
            "needs_background": "light"
          }
        }
      ]
    },
    {
      "cell_type": "markdown",
      "metadata": {
        "id": "hX2vPjgg6xu5"
      },
      "source": [
        "### 교육의 정도가 대출 승인에 영향을 미치는가?"
      ]
    },
    {
      "cell_type": "code",
      "metadata": {
        "colab": {
          "base_uri": "https://localhost:8080/",
          "height": 332
        },
        "id": "tf-zb8Mx6t2v",
        "outputId": "d8cf0c48-b26a-4c2c-a86f-99a708ac203b"
      },
      "source": [
        "sns.countplot(y = 'Education', hue = 'Loan_Status', data = dataset)\n",
        "dataset['Education'].value_counts()"
      ],
      "execution_count": 43,
      "outputs": [
        {
          "output_type": "execute_result",
          "data": {
            "text/plain": [
              "Graduate        480\n",
              "Not Graduate    134\n",
              "Name: Education, dtype: int64"
            ]
          },
          "metadata": {},
          "execution_count": 43
        },
        {
          "output_type": "display_data",
          "data": {
            "image/png": "[encoded data removed]",
            "text/plain": [
              "<Figure size 432x288 with 1 Axes>"
            ]
          },
          "metadata": {
            "needs_background": "light"
          }
        }
      ]
    },
    {
      "cell_type": "markdown",
      "metadata": {
        "id": "7efPjHlv68fE"
      },
      "source": [
        "### 고용 상태가 대출 승인에 영향을 미치는가?"
      ]
    },
    {
      "cell_type": "code",
      "metadata": {
        "colab": {
          "base_uri": "https://localhost:8080/",
          "height": 332
        },
        "id": "FsdmH2mS64OT",
        "outputId": "62217a2c-a458-4483-f312-23d360969638"
      },
      "source": [
        "sns.countplot(y= 'Self_Employed', hue= 'Loan_Status', data= dataset)\n",
        "dataset['Self_Employed'].value_counts()"
      ],
      "execution_count": 44,
      "outputs": [
        {
          "output_type": "execute_result",
          "data": {
            "text/plain": [
              "No     532\n",
              "Yes     82\n",
              "Name: Self_Employed, dtype: int64"
            ]
          },
          "metadata": {},
          "execution_count": 44
        },
        {
          "output_type": "display_data",
          "data": {
            "image/png": "[encoded data removed]",
            "text/plain": [
              "<Figure size 432x288 with 1 Axes>"
            ]
          },
          "metadata": {
            "needs_background": "light"
          }
        }
      ]
    },
    {
      "cell_type": "markdown",
      "metadata": {
        "id": "1WJm2WtA7UpL"
      },
      "source": [
        "### 신용 기록이 대출 승인에 영향을 미치는가?"
      ]
    },
    {
      "cell_type": "code",
      "metadata": {
        "colab": {
          "base_uri": "https://localhost:8080/",
          "height": 332
        },
        "id": "N76N1JyT7BcD",
        "outputId": "98fcd0ff-2662-4185-f158-a16761d6881e"
      },
      "source": [
        "sns.countplot(y= 'Credit_History', hue= 'Loan_Status', data=dataset)\n",
        "dataset['Credit_History'].value_counts()"
      ],
      "execution_count": 45,
      "outputs": [
        {
          "output_type": "execute_result",
          "data": {
            "text/plain": [
              "1.0    525\n",
              "0.0     89\n",
              "Name: Credit_History, dtype: int64"
            ]
          },
          "metadata": {},
          "execution_count": 45
        },
        {
          "output_type": "display_data",
          "data": {
            "image/png": "[encoded data removed]",
            "text/plain": [
              "<Figure size 432x288 with 1 Axes>"
            ]
          },
          "metadata": {
            "needs_background": "light"
          }
        }
      ]
    },
    {
      "cell_type": "markdown",
      "metadata": {
        "id": "mfcS9k_-7bPy"
      },
      "source": [
        "### 분석 모델 생성"
      ]
    },
    {
      "cell_type": "markdown",
      "metadata": {
        "id": "FbNVaVeF7ez_"
      },
      "source": [
        "- 범주 형 데이터를 숫자로 변환해야한다."
      ]
    },
    {
      "cell_type": "code",
      "metadata": {
        "id": "J5r9Bd4w7f7X"
      },
      "source": [
        "# Converting some object data type to int\n",
        "gender = {\"Female\": 0, \"Male\": 1}\n",
        "yes_no = {'No' : 0,'Yes' : 1}\n",
        "dependents = {'0':0,'1':1,'2':2,'3+':3}\n",
        "education = {'Not Graduate' : 0, 'Graduate' : 1}\n",
        "property = {'Semiurban' : 0, 'Urban' : 1,'Rural' : 2}\n",
        "output = {\"N\": 0, \"Y\": 1}\n",
        "\n",
        "dataset['Gender'] = dataset['Gender'].replace(gender)\n",
        "dataset['Married'] = dataset['Married'].replace(yes_no)\n",
        "dataset['Dependents'] = dataset['Dependents'].replace(dependents)\n",
        "dataset['Education'] = dataset['Education'].replace(education)\n",
        "dataset['Self_Employed'] = dataset['Self_Employed'].replace(yes_no)\n",
        "dataset['Property_Area'] = dataset['Property_Area'].replace(property)\n",
        "dataset['Loan_Status'] = dataset['Loan_Status'].replace(output)"
      ],
      "execution_count": 46,
      "outputs": []
    },
    {
      "cell_type": "code",
      "metadata": {
        "colab": {
          "base_uri": "https://localhost:8080/",
          "height": 223
        },
        "id": "Iy9xvQts70kE",
        "outputId": "3c55ad9d-d021-4efd-b821-513bad957dd3"
      },
      "source": [
        "dataset.head()"
      ],
      "execution_count": 47,
      "outputs": [
        {
          "output_type": "execute_result",
          "data": {
            "text/html": [
              "<div>\n",
              "<style scoped>\n",
              "    .dataframe tbody tr th:only-of-type {\n",
              "        vertical-align: middle;\n",
              "    }\n",
              "\n",
              "    .dataframe tbody tr th {\n",
              "        vertical-align: top;\n",
              "    }\n",
              "\n",
              "    .dataframe thead th {\n",
              "        text-align: right;\n",
              "    }\n",
              "</style>\n",
              "<table border=\"1\" class=\"dataframe\">\n",
              "  <thead>\n",
              "    <tr style=\"text-align: right;\">\n",
              "      <th></th>\n",
              "      <th>Gender</th>\n",
              "      <th>Married</th>\n",
              "      <th>Dependents</th>\n",
              "      <th>Education</th>\n",
              "      <th>Self_Employed</th>\n",
              "      <th>ApplicantIncome</th>\n",
              "      <th>CoapplicantIncome</th>\n",
              "      <th>LoanAmount</th>\n",
              "      <th>Loan_Amount_Term</th>\n",
              "      <th>Credit_History</th>\n",
              "      <th>Property_Area</th>\n",
              "      <th>Loan_Status</th>\n",
              "    </tr>\n",
              "  </thead>\n",
              "  <tbody>\n",
              "    <tr>\n",
              "      <th>0</th>\n",
              "      <td>1</td>\n",
              "      <td>0</td>\n",
              "      <td>0</td>\n",
              "      <td>1</td>\n",
              "      <td>0</td>\n",
              "      <td>5849</td>\n",
              "      <td>0.0</td>\n",
              "      <td>146.412162</td>\n",
              "      <td>360.0</td>\n",
              "      <td>1.0</td>\n",
              "      <td>1</td>\n",
              "      <td>1</td>\n",
              "    </tr>\n",
              "    <tr>\n",
              "      <th>1</th>\n",
              "      <td>1</td>\n",
              "      <td>1</td>\n",
              "      <td>1</td>\n",
              "      <td>1</td>\n",
              "      <td>0</td>\n",
              "      <td>4583</td>\n",
              "      <td>1508.0</td>\n",
              "      <td>128.000000</td>\n",
              "      <td>360.0</td>\n",
              "      <td>1.0</td>\n",
              "      <td>2</td>\n",
              "      <td>0</td>\n",
              "    </tr>\n",
              "    <tr>\n",
              "      <th>2</th>\n",
              "      <td>1</td>\n",
              "      <td>1</td>\n",
              "      <td>0</td>\n",
              "      <td>1</td>\n",
              "      <td>1</td>\n",
              "      <td>3000</td>\n",
              "      <td>0.0</td>\n",
              "      <td>66.000000</td>\n",
              "      <td>360.0</td>\n",
              "      <td>1.0</td>\n",
              "      <td>1</td>\n",
              "      <td>1</td>\n",
              "    </tr>\n",
              "    <tr>\n",
              "      <th>3</th>\n",
              "      <td>1</td>\n",
              "      <td>1</td>\n",
              "      <td>0</td>\n",
              "      <td>0</td>\n",
              "      <td>0</td>\n",
              "      <td>2583</td>\n",
              "      <td>2358.0</td>\n",
              "      <td>120.000000</td>\n",
              "      <td>360.0</td>\n",
              "      <td>1.0</td>\n",
              "      <td>1</td>\n",
              "      <td>1</td>\n",
              "    </tr>\n",
              "    <tr>\n",
              "      <th>4</th>\n",
              "      <td>1</td>\n",
              "      <td>0</td>\n",
              "      <td>0</td>\n",
              "      <td>1</td>\n",
              "      <td>0</td>\n",
              "      <td>6000</td>\n",
              "      <td>0.0</td>\n",
              "      <td>141.000000</td>\n",
              "      <td>360.0</td>\n",
              "      <td>1.0</td>\n",
              "      <td>1</td>\n",
              "      <td>1</td>\n",
              "    </tr>\n",
              "  </tbody>\n",
              "</table>\n",
              "</div>"
            ],
            "text/plain": [
              "   Gender  Married  Dependents  ...  Credit_History  Property_Area  Loan_Status\n",
              "0       1        0           0  ...             1.0              1            1\n",
              "1       1        1           1  ...             1.0              2            0\n",
              "2       1        1           0  ...             1.0              1            1\n",
              "3       1        1           0  ...             1.0              1            1\n",
              "4       1        0           0  ...             1.0              1            1\n",
              "\n",
              "[5 rows x 12 columns]"
            ]
          },
          "metadata": {},
          "execution_count": 47
        }
      ]
    },
    {
      "cell_type": "markdown",
      "metadata": {
        "id": "WS3MWb1t8JIj"
      },
      "source": [
        "- 종속 변수와 독립 변수를 분리한다."
      ]
    },
    {
      "cell_type": "code",
      "metadata": {
        "id": "l1KucxDH74iu"
      },
      "source": [
        "# Setting the value for dependent and independent variables\n",
        "x = dataset.drop('Loan_Status', 1)\n",
        "y = dataset.Loan_Status"
      ],
      "execution_count": 48,
      "outputs": []
    },
    {
      "cell_type": "markdown",
      "metadata": {
        "id": "U7ewXYBZ8di_"
      },
      "source": [
        "- test와 train 데이터로 분할 한다.\n",
        "  - train : 75%, test : 25%"
      ]
    },
    {
      "cell_type": "code",
      "metadata": {
        "id": "do5zcFI88fV0"
      },
      "source": [
        "# Splitting the dataset\n",
        "from sklearn.model_selection import train_test_split\n",
        "\n",
        "X_train, X_test, Y_train, Y_test= train_test_split(x, y, test_size= 0.25, random_state=38, stratify = y)"
      ],
      "execution_count": 49,
      "outputs": []
    },
    {
      "cell_type": "markdown",
      "metadata": {
        "id": "Qxo_bWGz9Lhy"
      },
      "source": [
        "- knn 모델 구현"
      ]
    },
    {
      "cell_type": "code",
      "metadata": {
        "colab": {
          "base_uri": "https://localhost:8080/"
        },
        "id": "1NNZVJO99NZU",
        "outputId": "50eb265c-beac-4864-f658-85504b66e56c"
      },
      "source": [
        "# Fitting the KNN model\n",
        "from sklearn.neighbors import KNeighborsClassifier\n",
        "\n",
        "knn = KNeighborsClassifier(n_neighbors = 5)\n",
        "knn.fit(X_train, Y_train)"
      ],
      "execution_count": 50,
      "outputs": [
        {
          "output_type": "execute_result",
          "data": {
            "text/plain": [
              "KNeighborsClassifier(algorithm='auto', leaf_size=30, metric='minkowski',\n",
              "                     metric_params=None, n_jobs=None, n_neighbors=5, p=2,\n",
              "                     weights='uniform')"
            ]
          },
          "metadata": {},
          "execution_count": 50
        }
      ]
    },
    {
      "cell_type": "markdown",
      "metadata": {
        "id": "wYPeYhO99XtQ"
      },
      "source": [
        "- knn 모델을 이용한 예측\n",
        "  - test 데이터 셋에 대해 대출 승인 여부를 보여준다."
      ]
    },
    {
      "cell_type": "code",
      "metadata": {
        "colab": {
          "base_uri": "https://localhost:8080/"
        },
        "id": "kSM_4S379W9W",
        "outputId": "74d31c86-dd80-407d-d286-a61da7c7f56d"
      },
      "source": [
        "# Prediction of test set\n",
        "prediction_knn = knn.predict(X_test)\n",
        "\n",
        "# Print the predicted values\n",
        "print(\"Prediction for test set: {}\".format(prediction_knn))"
      ],
      "execution_count": 51,
      "outputs": [
        {
          "output_type": "stream",
          "name": "stdout",
          "text": [
            "Prediction for test set: [1 1 0 1 0 1 1 1 1 1 1 0 1 1 1 0 1 1 1 1 1 1 1 1 1 1 1 1 1 0 1 1 1 1 1 1 1\n",
            " 1 0 1 1 1 1 1 1 1 1 1 0 1 1 1 1 1 1 1 0 1 1 1 1 1 0 1 0 1 1 1 1 0 1 1 1 1\n",
            " 1 1 1 1 0 1 1 0 1 1 1 1 1 0 1 1 1 1 0 1 1 1 1 1 1 1 1 1 1 1 1 0 1 1 1 1 1\n",
            " 1 1 1 1 1 1 1 0 1 0 1 1 0 1 1 1 1 0 1 1 1 1 1 1 1 1 1 0 1 0 1 1 1 1 1 1 1\n",
            " 1 1 1 0 1 1]\n"
          ]
        }
      ]
    },
    {
      "cell_type": "markdown",
      "metadata": {
        "id": "J-oI574i9pSI"
      },
      "source": [
        "- 예측 된 결과 값과 실제 값을 비교한다. "
      ]
    },
    {
      "cell_type": "code",
      "metadata": {
        "colab": {
          "base_uri": "https://localhost:8080/",
          "height": 203
        },
        "id": "Dlu-eYCq9ong",
        "outputId": "1caa070b-07fc-4b7a-d7b7-2779b1d9a8b4"
      },
      "source": [
        "# Actual value and the predicted value\n",
        "a = pd.DataFrame({'Actual value': Y_test, 'Predicted value': prediction_knn})\n",
        "a.head()"
      ],
      "execution_count": 52,
      "outputs": [
        {
          "output_type": "execute_result",
          "data": {
            "text/html": [
              "<div>\n",
              "<style scoped>\n",
              "    .dataframe tbody tr th:only-of-type {\n",
              "        vertical-align: middle;\n",
              "    }\n",
              "\n",
              "    .dataframe tbody tr th {\n",
              "        vertical-align: top;\n",
              "    }\n",
              "\n",
              "    .dataframe thead th {\n",
              "        text-align: right;\n",
              "    }\n",
              "</style>\n",
              "<table border=\"1\" class=\"dataframe\">\n",
              "  <thead>\n",
              "    <tr style=\"text-align: right;\">\n",
              "      <th></th>\n",
              "      <th>Actual value</th>\n",
              "      <th>Predicted value</th>\n",
              "    </tr>\n",
              "  </thead>\n",
              "  <tbody>\n",
              "    <tr>\n",
              "      <th>263</th>\n",
              "      <td>1</td>\n",
              "      <td>1</td>\n",
              "    </tr>\n",
              "    <tr>\n",
              "      <th>395</th>\n",
              "      <td>1</td>\n",
              "      <td>1</td>\n",
              "    </tr>\n",
              "    <tr>\n",
              "      <th>226</th>\n",
              "      <td>0</td>\n",
              "      <td>0</td>\n",
              "    </tr>\n",
              "    <tr>\n",
              "      <th>413</th>\n",
              "      <td>1</td>\n",
              "      <td>1</td>\n",
              "    </tr>\n",
              "    <tr>\n",
              "      <th>403</th>\n",
              "      <td>1</td>\n",
              "      <td>0</td>\n",
              "    </tr>\n",
              "  </tbody>\n",
              "</table>\n",
              "</div>"
            ],
            "text/plain": [
              "     Actual value  Predicted value\n",
              "263             1                1\n",
              "395             1                1\n",
              "226             0                0\n",
              "413             1                1\n",
              "403             1                0"
            ]
          },
          "metadata": {},
          "execution_count": 52
        }
      ]
    },
    {
      "cell_type": "markdown",
      "metadata": {
        "id": "-mNJTytR-Cid"
      },
      "source": [
        "- confusion_matrix(): 실제 값이 알려진 일련의 테스트 데이터에 대한 분류 모델의 성능을 설명하는 데 사용되는 테이블이다."
      ]
    },
    {
      "cell_type": "code",
      "metadata": {
        "colab": {
          "base_uri": "https://localhost:8080/",
          "height": 313
        },
        "id": "sWUrWx8B93nT",
        "outputId": "b83a91fd-c254-4edc-c20c-130f2fefc1ec"
      },
      "source": [
        "# Confusion matrix and classification report\n",
        "from sklearn import metrics \n",
        "from sklearn.metrics import classification_report, confusion_matrix\n",
        "\n",
        "matrix = confusion_matrix(Y_test, prediction_knn)\n",
        "sns.heatmap(matrix, annot=True, fmt=\"d\")\n",
        "plt.title('Confusion Matrix')\n",
        "plt.xlabel('Predicted')\n",
        "plt.ylabel('True')"
      ],
      "execution_count": 53,
      "outputs": [
        {
          "output_type": "execute_result",
          "data": {
            "text/plain": [
              "Text(33.0, 0.5, 'True')"
            ]
          },
          "metadata": {},
          "execution_count": 53
        },
        {
          "output_type": "display_data",
          "data": {
            "image/png": "[encoded data removed]",
            "text/plain": [
              "<Figure size 432x288 with 2 Axes>"
            ]
          },
          "metadata": {
            "needs_background": "light"
          }
        }
      ]
    },
    {
      "cell_type": "markdown",
      "metadata": {
        "id": "uRKZACSH-WJj"
      },
      "source": [
        "- classification_report(): 분류 알고리즘에서 예측 품질을 측정하는 데 사용된다."
      ]
    },
    {
      "cell_type": "code",
      "metadata": {
        "colab": {
          "base_uri": "https://localhost:8080/"
        },
        "id": "Yk1Ws-j5-IIM",
        "outputId": "5f7f2a21-4d1f-467f-fbe0-08d3a08daaa5"
      },
      "source": [
        "\n",
        "print(classification_report(Y_test, prediction_knn))"
      ],
      "execution_count": 54,
      "outputs": [
        {
          "output_type": "stream",
          "name": "stdout",
          "text": [
            "              precision    recall  f1-score   support\n",
            "\n",
            "           0       0.39      0.19      0.25        48\n",
            "           1       0.70      0.87      0.78       106\n",
            "\n",
            "    accuracy                           0.66       154\n",
            "   macro avg       0.55      0.53      0.51       154\n",
            "weighted avg       0.61      0.66      0.61       154\n",
            "\n"
          ]
        }
      ]
    },
    {
      "cell_type": "markdown",
      "metadata": {
        "id": "qIvvSzAs-hP3"
      },
      "source": [
        "### 결과 해석\n",
        "- accuracy : 정확도는 총 데이터 인스턴스 수에서 올바르게 분류 된 데이터 인스턴스의 수를 나타낸다. \n",
        "  - 분류 보고서에서 얻은 정확도는 0.66으로 모델의 정확도가 66 %임을 나타낸다. \n",
        "\n",
        "- precision : 올바른 긍정 결과 수를 분류 자에 의해 예측 된 긍정적 결과 수로 나눈 값이다.\n",
        "\n",
        "- recall : 리콜은 모델이 관련 데이터를 얼마나 정확하게 식별 할 수 있는지 측정한다.\n",
        "\n",
        "- f1-score : f1-Score는 테스트의 정확도를 측정하는 데 사용된다."
      ]
    },
    {
      "cell_type": "markdown",
      "metadata": {
        "id": "0h7GOKRx_MJu"
      },
      "source": [
        "### 결론\n",
        "\n",
        "데이터 세트에는 614 개의 레코드가 있었으며,이 중 75 %는 모델 학습용으로 제공되었고 데이터의 25 % (즉, 154 개 레코드)는 모델 테스트 용으로 제공되었다. 그리고 154 개의 레코드 중 53 개의 레코드가 잘못 분류되었다."
      ]
    }
  ]
}