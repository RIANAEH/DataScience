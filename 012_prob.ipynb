{
  "nbformat": 4,
  "nbformat_minor": 0,
  "metadata": {
    "colab": {
      "name": "012_prob.ipynb",
      "provenance": [],
      "collapsed_sections": [],
      "include_colab_link": true
    },
    "kernelspec": {
      "name": "ir",
      "display_name": "R"
    },
    "language_info": {
      "name": "R"
    }
  },
  "cells": [
    {
      "cell_type": "markdown",
      "metadata": {
        "id": "view-in-github",
        "colab_type": "text"
      },
      "source": [
        "<a href=\"https://colab.research.google.com/github/RIANAEH/DataScience/blob/main/012_prob.ipynb\" target=\"_parent\"><img src=\"https://colab.research.google.com/assets/colab-badge.svg\" alt=\"Open In Colab\"/></a>"
      ]
    },
    {
      "cell_type": "markdown",
      "metadata": {
        "id": "1VsUKY8DrfnF"
      },
      "source": [
        "확률과 확률분포\n",
        "===============\n",
        "\n",
        "확률분포\n",
        "--------\n",
        "주요 분포:\n",
        "\n",
        "|              |                            |\n",
        "|--------------|----------------------------|\n",
        "| 이항분포     | `_binom(_, size, prob)`    |\n",
        "| 다항분포     | `_multinom(_, size, prob)` |\n",
        "| 포아송분포   | `_pois(_, lambda)`         |\n",
        "| 균일분포     | `_unif(_, min, max)`       |\n",
        "| 정규분포     | `_norm(_, mean, sd)`       |\n",
        "| $t$-분포     | `_t(_, df)`                |\n",
        "| 카이제곱분포 | `_chisq(_, df)`            |\n",
        "| $F$ 분포     | `_f(_, df1, df2)`          |\n",
        "\n",
        "함수의 종류:\n",
        "\n",
        "|        |               |         |                 |\n",
        "|--------|---------------|---------|-----------------|\n",
        "| `d___` | (density)     | pdf/pmf | $f(x)$          |\n",
        "| `p___` | (probability) | cdf     | $p = F(x)$      |\n",
        "| `q___` | (quantile)    |         | $x = F^{-1}(p)$ |\n",
        "| `r___` | (random)      |         |                 |\n",
        "\n",
        "### 이항분포\n",
        "\n",
        "#### (1)\n",
        "\n",
        "앞면과 뒷면이 나올 확률이 동일한 공정한 동전을 10번 던졌을 때 앞면이 3번\n",
        "나올 확률은?"
      ]
    },
    {
      "cell_type": "code",
      "metadata": {
        "id": "E3Lzn0dprfnM",
        "colab": {
          "base_uri": "https://localhost:8080/",
          "height": 34
        },
        "outputId": "e12dfa71-6108-408e-b719-f043c9ec3575"
      },
      "source": [
        "dbinom(3, size=10, prob=0.5)"
      ],
      "execution_count": null,
      "outputs": [
        {
          "output_type": "display_data",
          "data": {
            "text/plain": [
              "[1] 0.1171875"
            ],
            "text/latex": "0.1171875",
            "text/markdown": "0.1171875",
            "text/html": [
              "0.1171875"
            ]
          },
          "metadata": {
            "tags": []
          }
        }
      ]
    },
    {
      "cell_type": "markdown",
      "metadata": {
        "id": "vskvauhGrfnO"
      },
      "source": [
        "#### (1)\n",
        "\n",
        "공정한 동전을 10번 던졌을 때 앞면의 수를 $X$라고 하자. $X$는 이항분포를\n",
        "따른다. $X$의 확률질량함수를 그래프로 그려라.\n",
        "\n",
        "- 이항분포의 확률질량함수는 히스토그램과 비슷한 형태로 그려야한다!!\n",
        "- 선의 길이가 확률을 의미한다. "
      ]
    },
    {
      "cell_type": "code",
      "metadata": {
        "id": "TyQumfkCrfnO",
        "colab": {
          "base_uri": "https://localhost:8080/",
          "height": 437
        },
        "outputId": "3d6c8337-fd87-4b2e-90fa-fe901b788c60"
      },
      "source": [
        "xs <- 0:10\n",
        "p <- dbinom(xs, size=10, prob=0.5)\n",
        "plot(xs, p, type=\"h\")"
      ],
      "execution_count": 1,
      "outputs": [
        {
          "output_type": "display_data",
          "data": {
            "image/png": "[encoded data removed]",
            "text/plain": [
              "plot without title"
            ]
          },
          "metadata": {
            "tags": [],
            "image/png": {
              "width": 420,
              "height": 420
            }
          }
        }
      ]
    },
    {
      "cell_type": "markdown",
      "metadata": {
        "id": "S1MmYJ9brfnP"
      },
      "source": [
        "#### (2)\n",
        "\n",
        "공정한 동전을 10번 던졌을 때 앞면이 8번 이상 나올 확률은?"
      ]
    },
    {
      "cell_type": "markdown",
      "metadata": {
        "id": "uVaxhKTMYjF0"
      },
      "source": [
        "- 8번 이상 나올 확률"
      ]
    },
    {
      "cell_type": "code",
      "metadata": {
        "id": "A7isMNGfrfnP",
        "colab": {
          "base_uri": "https://localhost:8080/",
          "height": 34
        },
        "outputId": "09eed5a2-f1b5-42a2-8434-0e022530e7df"
      },
      "source": [
        "sum(dbinom(8:10, size=10, prob=0.5))"
      ],
      "execution_count": null,
      "outputs": [
        {
          "output_type": "display_data",
          "data": {
            "text/plain": [
              "[1] 0.0546875"
            ],
            "text/latex": "0.0546875",
            "text/markdown": "0.0546875",
            "text/html": [
              "0.0546875"
            ]
          },
          "metadata": {
            "tags": []
          }
        }
      ]
    },
    {
      "cell_type": "code",
      "metadata": {
        "colab": {
          "base_uri": "https://localhost:8080/",
          "height": 34
        },
        "id": "NXIt6HAmrxwZ",
        "outputId": "17c35452-dbd9-45f0-9444-79971d1c52cc"
      },
      "source": [
        "1 - pbinom(7, size=10, prob=0.5)"
      ],
      "execution_count": null,
      "outputs": [
        {
          "output_type": "display_data",
          "data": {
            "text/plain": [
              "[1] 0.0546875"
            ],
            "text/latex": "0.0546875",
            "text/markdown": "0.0546875",
            "text/html": [
              "0.0546875"
            ]
          },
          "metadata": {
            "tags": []
          }
        }
      ]
    },
    {
      "cell_type": "markdown",
      "metadata": {
        "id": "V9RauZsOYsJw"
      },
      "source": [
        "- 3-8번 나올 확률"
      ]
    },
    {
      "cell_type": "code",
      "metadata": {
        "colab": {
          "base_uri": "https://localhost:8080/",
          "height": 34
        },
        "id": "W5pyHub9satA",
        "outputId": "1d2d8024-3d1b-48cd-b0c2-44f15b7a7b53"
      },
      "source": [
        "pbinom(8, size=10, prob=0.5) - pbinom(2, size=10, prob=0.5)"
      ],
      "execution_count": null,
      "outputs": [
        {
          "output_type": "display_data",
          "data": {
            "text/plain": [
              "[1] 0.9345703"
            ],
            "text/latex": "0.9345703125",
            "text/markdown": "0.9345703125",
            "text/html": [
              "0.9345703125"
            ]
          },
          "metadata": {
            "tags": []
          }
        }
      ]
    },
    {
      "cell_type": "code",
      "metadata": {
        "colab": {
          "base_uri": "https://localhost:8080/",
          "height": 34
        },
        "id": "UVI3zhlrssMg",
        "outputId": "928c22b2-0a50-4cf6-954a-4cb40e71ca7d"
      },
      "source": [
        "diff(pbinom(c(2,8), size=10, prob=0.5))"
      ],
      "execution_count": null,
      "outputs": [
        {
          "output_type": "display_data",
          "data": {
            "text/plain": [
              "[1] 0.9345703"
            ],
            "text/latex": "0.9345703125",
            "text/markdown": "0.9345703125",
            "text/html": [
              "0.9345703125"
            ]
          },
          "metadata": {
            "tags": []
          }
        }
      ]
    },
    {
      "cell_type": "markdown",
      "metadata": {
        "id": "Ua59TeGCrfnQ"
      },
      "source": [
        "#### (3)\n",
        "\n",
        "공정한 동전을 10번 던졌을 때 앞면의 수를 $X$라고 하자. $X$의\n",
        "누적분포함수를 그래프로 그려라.\n",
        "\n",
        "- 누적분포함수는 계단형 그래프!!"
      ]
    },
    {
      "cell_type": "code",
      "metadata": {
        "id": "7Uu8nuuwrfnQ",
        "colab": {
          "base_uri": "https://localhost:8080/",
          "height": 437
        },
        "outputId": "5967c5cd-df20-4c07-a616-acb2fd814955"
      },
      "source": [
        "xs <- 0:10\n",
        "ps <- pbinom(xs, size = 10, prob = 0.5)\n",
        "plot(xs, ps)\n",
        "segments(xs, ps, xs + 1, ps)"
      ],
      "execution_count": null,
      "outputs": [
        {
          "output_type": "display_data",
          "data": {
            "image/png": "[encoded data removed]",
            "text/plain": [
              "plot without title"
            ]
          },
          "metadata": {
            "tags": [],
            "image/png": {
              "width": 420,
              "height": 420
            }
          }
        }
      ]
    },
    {
      "cell_type": "markdown",
      "metadata": {
        "id": "epURJioGrfnW"
      },
      "source": [
        "#### (4)\n",
        "\n",
        "공정한 동전을 10번 던졌을 때 앞면의 수를 세는 실험을 반복한 결과 $X_1,\n",
        "\\cdots, X_n$을 생각해 보자. 이러한 난수를 $n=1000$개 생성하는 실험을\n",
        "하여라. 결과의 절대돗수와 상대돗수를 계산하고 결과를 그래프로 그려\n",
        "보아라. 이 그래프에 이론적인 확률의 그래프를 추가하여 비교하여 보아라."
      ]
    },
    {
      "cell_type": "markdown",
      "metadata": {
        "id": "j5R04VytZGM4"
      },
      "source": [
        "- 20번 동전을 던졌을 때 각각의 앞면의 개수"
      ]
    },
    {
      "cell_type": "code",
      "metadata": {
        "id": "CYcXdq_3rfnW",
        "colab": {
          "base_uri": "https://localhost:8080/",
          "height": 34
        },
        "outputId": "68369a70-7559-4d0e-ee55-141bd609c174"
      },
      "source": [
        "rbinom(20, size = 10, prob = 0.5)"
      ],
      "execution_count": null,
      "outputs": [
        {
          "output_type": "display_data",
          "data": {
            "text/plain": [
              " [1] 5 5 6 9 6 2 4 3 6 4 3 5 6 6 7 3 8 5 4 3"
            ],
            "text/latex": "\\begin{enumerate*}\n\\item 5\n\\item 5\n\\item 6\n\\item 9\n\\item 6\n\\item 2\n\\item 4\n\\item 3\n\\item 6\n\\item 4\n\\item 3\n\\item 5\n\\item 6\n\\item 6\n\\item 7\n\\item 3\n\\item 8\n\\item 5\n\\item 4\n\\item 3\n\\end{enumerate*}\n",
            "text/markdown": "1. 5\n2. 5\n3. 6\n4. 9\n5. 6\n6. 2\n7. 4\n8. 3\n9. 6\n10. 4\n11. 3\n12. 5\n13. 6\n14. 6\n15. 7\n16. 3\n17. 8\n18. 5\n19. 4\n20. 3\n\n\n",
            "text/html": [
              "<style>\n",
              ".list-inline {list-style: none; margin:0; padding: 0}\n",
              ".list-inline>li {display: inline-block}\n",
              ".list-inline>li:not(:last-child)::after {content: \"\\00b7\"; padding: 0 .5ex}\n",
              "</style>\n",
              "<ol class=list-inline><li>5</li><li>5</li><li>6</li><li>9</li><li>6</li><li>2</li><li>4</li><li>3</li><li>6</li><li>4</li><li>3</li><li>5</li><li>6</li><li>6</li><li>7</li><li>3</li><li>8</li><li>5</li><li>4</li><li>3</li></ol>\n"
            ]
          },
          "metadata": {
            "tags": []
          }
        }
      ]
    },
    {
      "cell_type": "markdown",
      "metadata": {
        "id": "Moivp0-dZjPQ"
      },
      "source": [
        "- 1000번 던졌을 때"
      ]
    },
    {
      "cell_type": "code",
      "metadata": {
        "id": "MsR8OKh_velY"
      },
      "source": [
        "x <- rbinom(1000, size = 10, prob = 0.5)"
      ],
      "execution_count": 2,
      "outputs": []
    },
    {
      "cell_type": "markdown",
      "metadata": {
        "id": "lFlCKqbsZmqN"
      },
      "source": [
        "- 절대도수 & 상대도수"
      ]
    },
    {
      "cell_type": "code",
      "metadata": {
        "colab": {
          "base_uri": "https://localhost:8080/",
          "height": 125
        },
        "id": "qRhF8b8lZqcp",
        "outputId": "95ae24f2-c558-48f7-fd04-7cf0868a940e"
      },
      "source": [
        "table(x) # 절대도수\n",
        "\n",
        "table(x) / sum(table(x)) # 상대도수 = 비율"
      ],
      "execution_count": 17,
      "outputs": [
        {
          "output_type": "display_data",
          "data": {
            "text/plain": [
              "x\n",
              "  1   2   3   4   5   6   7   8   9  10 \n",
              " 11  47 119 204 245 208 103  48  13   2 "
            ]
          },
          "metadata": {
            "tags": []
          }
        },
        {
          "output_type": "display_data",
          "data": {
            "text/plain": [
              "x\n",
              "    1     2     3     4     5     6     7     8     9    10 \n",
              "0.011 0.047 0.119 0.204 0.245 0.208 0.103 0.048 0.013 0.002 "
            ]
          },
          "metadata": {
            "tags": []
          }
        }
      ]
    },
    {
      "cell_type": "markdown",
      "metadata": {
        "id": "Cw3cZwRSZ0Kl"
      },
      "source": [
        "- 그래프"
      ]
    },
    {
      "cell_type": "code",
      "metadata": {
        "colab": {
          "base_uri": "https://localhost:8080/",
          "height": 437
        },
        "id": "yAxoVjh3wk3g",
        "outputId": "c9f22ebf-d81d-4a4a-b900-36b048f5d643"
      },
      "source": [
        "prop <- prop.table(table(x))\n",
        "plot(prop)"
      ],
      "execution_count": null,
      "outputs": [
        {
          "output_type": "display_data",
          "data": {
            "image/png": "[encoded data removed]",
            "text/plain": [
              "plot without title"
            ]
          },
          "metadata": {
            "tags": [],
            "image/png": {
              "width": 420,
              "height": 420
            }
          }
        }
      ]
    },
    {
      "cell_type": "markdown",
      "metadata": {
        "id": "QfU3LlyQxYF6"
      },
      "source": [
        "- 그래프에 x값이 factor로 그려지기 때문에 값이 없을 경우 그래프 모양에 문제가 생길 수 있다. \n",
        "- numeric으로 변환해서 그려준다. "
      ]
    },
    {
      "cell_type": "code",
      "metadata": {
        "colab": {
          "base_uri": "https://localhost:8080/",
          "height": 437
        },
        "id": "y0CZbJScw8JW",
        "outputId": "62506b09-cab7-403f-8449-190a2a3e65a7"
      },
      "source": [
        "prop <- prop.table(table(x))\n",
        "xs <- as.numeric(names(prop))\n",
        "plot(xs, prop, type=\"h\")\n",
        "points(xs, dbinom(xs, size=10, prob=0.5), col=\"red\") # 이론적인 값"
      ],
      "execution_count": null,
      "outputs": [
        {
          "output_type": "display_data",
          "data": {
            "image/png": "[encoded data removed]",
            "text/plain": [
              "plot without title"
            ]
          },
          "metadata": {
            "tags": [],
            "image/png": {
              "width": 420,
              "height": 420
            }
          }
        }
      ]
    },
    {
      "cell_type": "markdown",
      "metadata": {
        "id": "1ziReOxvZZpR"
      },
      "source": [
        "- 10000번 던졌을 때"
      ]
    },
    {
      "cell_type": "code",
      "metadata": {
        "colab": {
          "base_uri": "https://localhost:8080/",
          "height": 437
        },
        "id": "sXX8dZ1jyJkQ",
        "outputId": "89094912-2092-41a9-bf57-623b59980439"
      },
      "source": [
        "x <- rbinom(10000, size = 10, prob = 0.5)\n",
        "prop <- prop.table(table(x))\n",
        "xs <- as.numeric(names(prop))\n",
        "plot(xs, prop, type=\"h\")\n",
        "points(xs, dbinom(xs, size=10, prob=0.5), col=\"red\") # 이론적인 값"
      ],
      "execution_count": null,
      "outputs": [
        {
          "output_type": "display_data",
          "data": {
            "image/png": "[encoded data removed]",
            "text/plain": [
              "plot without title"
            ]
          },
          "metadata": {
            "tags": [],
            "image/png": {
              "width": 420,
              "height": 420
            }
          }
        }
      ]
    },
    {
      "cell_type": "markdown",
      "metadata": {
        "id": "n455DnhQrfnX"
      },
      "source": [
        "#### (5)\n",
        "\n",
        "공정한 동전을 10번 던졌을 때 앞면의 수를 세는 실험을 반복한 결과 $X_1,\n",
        "\\cdots, X_n$을 생각해 보자. 이러한 난수를 $n=1000$개 생성하는 실험을\n",
        "하여라. 이 결과의 경험적 누적 분포 함수(empirical cdf)를 그려보아라.\n",
        "`ecdf()` 함수를 이용하여라."
      ]
    },
    {
      "cell_type": "code",
      "metadata": {
        "id": "MGOLoj-2rfnX",
        "colab": {
          "base_uri": "https://localhost:8080/",
          "height": 437
        },
        "outputId": "7d2574f4-ae15-4c9e-b2a8-c0cdcf88dae7"
      },
      "source": [
        "x <- rbinom(1000, size = 10, prob = 0.5)\n",
        "plot(ecdf(x))"
      ],
      "execution_count": 5,
      "outputs": [
        {
          "output_type": "display_data",
          "data": {
            "image/png": "[encoded data removed]",
            "text/plain": [
              "Plot with title “ecdf(x)”"
            ]
          },
          "metadata": {
            "tags": [],
            "image/png": {
              "width": 420,
              "height": 420
            }
          }
        }
      ]
    },
    {
      "cell_type": "markdown",
      "metadata": {
        "id": "k6X4AB54rfnY"
      },
      "source": [
        "#### (6)\n",
        "\n",
        "예, 아니오로 답을 고르는 문제 10개로 구성된 시험을 보았다. 몇 개 이상\n",
        "맞추어야 제대로 알고 푼 것이라고 할 수 있는가? 유의수준 5%에서 무작위로\n",
        "답을 선택했다는 귀무가설이 기각되려면 몇 개 이상 맞추어야 하는가?"
      ]
    },
    {
      "cell_type": "code",
      "metadata": {
        "id": "j8xXS8sVrfnY"
      },
      "source": [
        ""
      ],
      "execution_count": null,
      "outputs": []
    },
    {
      "cell_type": "markdown",
      "metadata": {
        "id": "ZPUsoFhPrfnZ"
      },
      "source": [
        "### 포아송분포\n",
        "- 참고 : <https://rstatall.tistory.com/4>\n",
        "\n",
        "#### (1)\n",
        "\n",
        "어느 콜센터에 10분에 평균 7건의 전화가 온다. 10분 당 걸려오는 전화의\n",
        "수가 포아송분포를 따른다고 하자. 10분 동안 10건 이상의 전화가 걸려올\n",
        "확률은?"
      ]
    },
    {
      "cell_type": "code",
      "metadata": {
        "id": "gSFA4bfjrfnZ",
        "colab": {
          "base_uri": "https://localhost:8080/",
          "height": 34
        },
        "outputId": "1345e630-99c3-44c4-92d2-e981d81edc46"
      },
      "source": [
        "1 - sum(dpois(x = 0:9, lambda = 7))"
      ],
      "execution_count": 16,
      "outputs": [
        {
          "output_type": "display_data",
          "data": {
            "text/plain": [
              "[1] 0.1695041"
            ],
            "text/latex": "0.169504062761327",
            "text/markdown": "0.169504062761327",
            "text/html": [
              "0.169504062761327"
            ]
          },
          "metadata": {
            "tags": []
          }
        }
      ]
    },
    {
      "cell_type": "code",
      "metadata": {
        "colab": {
          "base_uri": "https://localhost:8080/",
          "height": 34
        },
        "id": "Nt4cD7cmd2pM",
        "outputId": "6172d4e7-4c35-44aa-fcac-1548446fc287"
      },
      "source": [
        "1- ppois(q = 9, lambda = 7)"
      ],
      "execution_count": 19,
      "outputs": [
        {
          "output_type": "display_data",
          "data": {
            "text/plain": [
              "[1] 0.1695041"
            ],
            "text/latex": "0.169504062761326",
            "text/markdown": "0.169504062761326",
            "text/html": [
              "0.169504062761326"
            ]
          },
          "metadata": {
            "tags": []
          }
        }
      ]
    },
    {
      "cell_type": "markdown",
      "metadata": {
        "id": "gHJlpe1BrfnZ"
      },
      "source": [
        "#### (2)\n",
        "\n",
        "평균 10인 포아송 분포의 확률질량함수 그래프를 그려라."
      ]
    },
    {
      "cell_type": "code",
      "metadata": {
        "id": "9yS-61tVrfnZ",
        "colab": {
          "base_uri": "https://localhost:8080/",
          "height": 437
        },
        "outputId": "b4ea6bc6-ff7a-4068-9884-4ac29a93cc06"
      },
      "source": [
        "rp <- dpois(x = 0:100, lambda = 10)\n",
        "plot(rp, type = \"l\")"
      ],
      "execution_count": 13,
      "outputs": [
        {
          "output_type": "display_data",
          "data": {
            "image/png": "[encoded data removed]",
            "text/plain": [
              "plot without title"
            ]
          },
          "metadata": {
            "tags": [],
            "image/png": {
              "width": 420,
              "height": 420
            }
          }
        }
      ]
    },
    {
      "cell_type": "markdown",
      "metadata": {
        "id": "a0pYnzK_rfna"
      },
      "source": [
        "### 정규분포\n",
        "- 참고 : <https://statools.tistory.com/9>\n",
        "\n",
        "#### (1)\n",
        "\n",
        "2017년 기준 서울 20대 초반 남성의 키는 평균 174.4cm이고 표준편차는\n",
        "5.7cm로 알려져있다. 정규분포를 따른다고 가정하자.\n",
        "\n",
        "-   임의의 한 사람의 키가 170cm 이하일 확률은?\n",
        "-   서울에 20대 초반 남성은 약 180만명이다. 이 중 키가 200cm 이상인\n",
        "    사람의 수는 몇명이나 될까?\n",
        "-   상위 10%에 속하는 경우의 키는?\n",
        "\n",
        "참고:\n",
        "\n",
        "-   서울연구원 <https://www.si.re.kr/node/61499>\n",
        "-   KOSIS 연령 및 성별 인구\n",
        "    <https://kosis.kr/statHtml/statHtml.do?orgId=101&tblId=DT_1IN1603>\n",
        "-   KOSIS 신장 변화: 성인 남자\n",
        "    <https://kosis.kr/statHtml/statHtml.do?orgId=113&tblId=DT_113_STBL_1020274>\n",
        "-   KOSIS 신장 변화: 성인 여자\n",
        "    <https://kosis.kr/statHtml/statHtml.do?orgId=113&tblId=DT_113_STBL_1020275>"
      ]
    },
    {
      "cell_type": "markdown",
      "metadata": {
        "id": "40WnvwagfC-u"
      },
      "source": [
        "-   임의의 한 사람의 키가 170cm 이하일 확률은?"
      ]
    },
    {
      "cell_type": "code",
      "metadata": {
        "id": "_h4Byh14rfna",
        "colab": {
          "base_uri": "https://localhost:8080/",
          "height": 34
        },
        "outputId": "31018077-0309-4cde-a8b5-fed03a88f3ae"
      },
      "source": [
        "pnorm(170, mean = 174.4, sd = 5.7)"
      ],
      "execution_count": 20,
      "outputs": [
        {
          "output_type": "display_data",
          "data": {
            "text/plain": [
              "[1] 0.220078"
            ],
            "text/latex": "0.220077995909204",
            "text/markdown": "0.220077995909204",
            "text/html": [
              "0.220077995909204"
            ]
          },
          "metadata": {
            "tags": []
          }
        }
      ]
    },
    {
      "cell_type": "markdown",
      "metadata": {
        "id": "iae4mEzXfG-Q"
      },
      "source": [
        "- 서울에 20대 초반 남성은 약 180만명이다. 이 중 키가 200cm 이상인 사람의 수는 몇명이나 될까?"
      ]
    },
    {
      "cell_type": "code",
      "metadata": {
        "colab": {
          "base_uri": "https://localhost:8080/",
          "height": 34
        },
        "id": "Dr3Qas2lfgMZ",
        "outputId": "0e0959d0-0c26-4905-de5a-2fc18e299502"
      },
      "source": [
        "p <- 1 - pnorm(200, mean = 174.4, sd = 5.7)\n",
        "p"
      ],
      "execution_count": 22,
      "outputs": [
        {
          "output_type": "display_data",
          "data": {
            "text/plain": [
              "[1] 3.540684e-06"
            ],
            "text/latex": "3.54068356966941e-06",
            "text/markdown": "3.54068356966941e-06",
            "text/html": [
              "3.54068356966941e-06"
            ]
          },
          "metadata": {
            "tags": []
          }
        }
      ]
    },
    {
      "cell_type": "code",
      "metadata": {
        "colab": {
          "base_uri": "https://localhost:8080/",
          "height": 34
        },
        "id": "wg2yLB7xfKQW",
        "outputId": "349b9b02-878b-47d9-8409-b7b358065400"
      },
      "source": [
        "p <- pnorm(200, mean = 174.4, sd = 5.7, lower.tail=FALSE)\n",
        "p"
      ],
      "execution_count": 23,
      "outputs": [
        {
          "output_type": "display_data",
          "data": {
            "text/plain": [
              "[1] 3.540684e-06"
            ],
            "text/latex": "3.54068356969699e-06",
            "text/markdown": "3.54068356969699e-06",
            "text/html": [
              "3.54068356969699e-06"
            ]
          },
          "metadata": {
            "tags": []
          }
        }
      ]
    },
    {
      "cell_type": "code",
      "metadata": {
        "colab": {
          "base_uri": "https://localhost:8080/",
          "height": 34
        },
        "id": "cKRVFFSjfnA2",
        "outputId": "eec39df1-f542-4e39-90cb-3f9add82ba3c"
      },
      "source": [
        "1800000 * p"
      ],
      "execution_count": 24,
      "outputs": [
        {
          "output_type": "display_data",
          "data": {
            "text/plain": [
              "[1] 6.37323"
            ],
            "text/latex": "6.37323042545458",
            "text/markdown": "6.37323042545458",
            "text/html": [
              "6.37323042545458"
            ]
          },
          "metadata": {
            "tags": []
          }
        }
      ]
    },
    {
      "cell_type": "markdown",
      "metadata": {
        "id": "fx-E3PUffwah"
      },
      "source": [
        "- 상위 10%에 속하는 경우의 키는?"
      ]
    },
    {
      "cell_type": "code",
      "metadata": {
        "colab": {
          "base_uri": "https://localhost:8080/",
          "height": 34
        },
        "id": "coNsGWjGfy4t",
        "outputId": "66c7af8a-716f-4dec-9143-363474271856"
      },
      "source": [
        "qnorm(0.1, mean = 174.4, sd = 5.7)"
      ],
      "execution_count": 25,
      "outputs": [
        {
          "output_type": "display_data",
          "data": {
            "text/plain": [
              "[1] 167.0952"
            ],
            "text/latex": "167.095156076396",
            "text/markdown": "167.095156076396",
            "text/html": [
              "167.095156076396"
            ]
          },
          "metadata": {
            "tags": []
          }
        }
      ]
    },
    {
      "cell_type": "markdown",
      "metadata": {
        "id": "XW3761lqrfnb"
      },
      "source": [
        "#### (2)\n",
        "\n",
        "2017년 기준 서울 20대 초반 여성의 키는 평균 161.2cm이고 표준편차는\n",
        "5.9cm이다. 정규분포를 따른다고 가정하자.\n",
        "\n",
        "-   남성과 여성의 키의 확률밀도함수를 그려서 비교하여라.\n",
        "-   상위 1%에 속하는 여성보다 작은 남성의 비율은?\n",
        "-   여성은 158만명, 남성은 180만명이다. 10만번째로 키가 큰 여성보다 작은\n",
        "    남성의 수는?"
      ]
    },
    {
      "cell_type": "markdown",
      "metadata": {
        "id": "XRH8Iuplz7jb"
      },
      "source": [
        "- 남성과 여성의 키의 확률밀도함수를 그려서 비교하여라.\n",
        "- 정규분포의 경우 -4, +4 사이에서 보통 커버가된다. \n",
        "- 남성의 표준편차가 더 커서 위로 올라가 있는 모습을 볼 수 있다. "
      ]
    },
    {
      "cell_type": "code",
      "metadata": {
        "id": "uUFETIN_rfnb",
        "colab": {
          "base_uri": "https://localhost:8080/",
          "height": 437
        },
        "outputId": "1c086595-44cc-4949-b062-e369fd9e8747"
      },
      "source": [
        "curve(dnorm(x, mean = 161.2, sd = 5.9), xlim = c(130, 220))\n",
        "curve(dnorm(x, mean = 174.4, sd = 5.7), add = TRUE)"
      ],
      "execution_count": null,
      "outputs": [
        {
          "output_type": "display_data",
          "data": {
            "image/png": "[encoded data removed]",
            "text/plain": [
              "plot without title"
            ]
          },
          "metadata": {
            "tags": [],
            "image/png": {
              "width": 420,
              "height": 420
            }
          }
        }
      ]
    },
    {
      "cell_type": "markdown",
      "metadata": {
        "id": "vdUr1gabgdib"
      },
      "source": [
        "- 상위 1%에 속하는 여성보다 작은 남성의 비율은?"
      ]
    },
    {
      "cell_type": "code",
      "metadata": {
        "colab": {
          "base_uri": "https://localhost:8080/",
          "height": 34
        },
        "id": "QJEj-cbfge46",
        "outputId": "f29a6e5a-56e1-4c10-ac88-9cea0ecc9742"
      },
      "source": [
        "q <- qnorm(0.01, mean = 161.2, sd = 5.9, lower.tail=FALSE)\n",
        "q"
      ],
      "execution_count": 27,
      "outputs": [
        {
          "output_type": "display_data",
          "data": {
            "text/plain": [
              "[1] 174.9255"
            ],
            "text/latex": "174.925452456841",
            "text/markdown": "174.925452456841",
            "text/html": [
              "174.925452456841"
            ]
          },
          "metadata": {
            "tags": []
          }
        }
      ]
    },
    {
      "cell_type": "code",
      "metadata": {
        "colab": {
          "base_uri": "https://localhost:8080/",
          "height": 34
        },
        "id": "Gxe4lH6bg1Fk",
        "outputId": "ebec3092-e43c-4ad9-fdf2-e96f0f858ad8"
      },
      "source": [
        "pnorm(q, mean = 174.4, sd = 5.7)"
      ],
      "execution_count": 28,
      "outputs": [
        {
          "output_type": "display_data",
          "data": {
            "text/plain": [
              "[1] 0.5367243"
            ],
            "text/latex": "0.536724329825554",
            "text/markdown": "0.536724329825554",
            "text/html": [
              "0.536724329825554"
            ]
          },
          "metadata": {
            "tags": []
          }
        }
      ]
    },
    {
      "cell_type": "markdown",
      "metadata": {
        "id": "Oj-Gm1myhCdm"
      },
      "source": [
        "- 여성은 158만명, 남성은 180만명이다. 10만번째로 키가 큰 여성보다 작은 남성의 수는?"
      ]
    },
    {
      "cell_type": "code",
      "metadata": {
        "colab": {
          "base_uri": "https://localhost:8080/",
          "height": 34
        },
        "id": "w1hssEWrhDgg",
        "outputId": "fb58d604-3a87-4b81-80f5-d3faf67bf57e"
      },
      "source": [
        "q <- qnorm(10/158, mean = 161.2, sd = 5.9)\n",
        "q"
      ],
      "execution_count": 30,
      "outputs": [
        {
          "output_type": "display_data",
          "data": {
            "text/plain": [
              "[1] 152.1865"
            ],
            "text/latex": "152.186456898424",
            "text/markdown": "152.186456898424",
            "text/html": [
              "152.186456898424"
            ]
          },
          "metadata": {
            "tags": []
          }
        }
      ]
    },
    {
      "cell_type": "code",
      "metadata": {
        "colab": {
          "base_uri": "https://localhost:8080/",
          "height": 34
        },
        "id": "O9jFjBAkhZ-T",
        "outputId": "f0b826fd-38e0-4083-ac5d-5b4f8311976d"
      },
      "source": [
        "1800000 * pnorm(q, mean = 174.4, sd = 5.7)"
      ],
      "execution_count": 32,
      "outputs": [
        {
          "output_type": "display_data",
          "data": {
            "text/plain": [
              "[1] 87.61165"
            ],
            "text/latex": "87.611647698424",
            "text/markdown": "87.611647698424",
            "text/html": [
              "87.611647698424"
            ]
          },
          "metadata": {
            "tags": []
          }
        }
      ]
    },
    {
      "cell_type": "markdown",
      "metadata": {
        "id": "TrtAKh0krfnc"
      },
      "source": [
        "#### (3)\n",
        "\n",
        "여성 $n$명을 임의로 뽑아 키를 측정하는 조사를 생각해보자. 여성의 키의\n",
        "분포 $N(161.2, 5.9^2)$에서 $n$개의 난수를 생성하면 된다. $n$을 100,\n",
        "1000, 10000 등으로 바꾸어 다음 그래프를 그려보아라.\n",
        "\n",
        "-   히스토그램을 그리고 이론적인 정규분포를 겹쳐서 그려라.\n",
        "-   경험적 누적 분포 함수를 그리고 이론적인 정규분포를 겹쳐서 그려라."
      ]
    },
    {
      "cell_type": "markdown",
      "metadata": {
        "id": "Mv96Uz6_nwX1"
      },
      "source": [
        "- 히스토그램을 그리고 이론적인 정규분포를 겹쳐서 그려라.\n",
        "- 100"
      ]
    },
    {
      "cell_type": "code",
      "metadata": {
        "id": "rsja_PZirfne",
        "colab": {
          "base_uri": "https://localhost:8080/",
          "height": 437
        },
        "outputId": "29d672ee-1497-46c2-96b0-6142bbe7e0ff"
      },
      "source": [
        "r <- rnorm(n = 100, mean = 161.2, sd = 5.9)\n",
        "hist(r, xlim = c(130, 190), prob = TRUE)\n",
        "\n",
        "curve(dnorm(x, mean = 161.2, sd = 5.9), col = \"red\", add = TRUE)"
      ],
      "execution_count": 62,
      "outputs": [
        {
          "output_type": "display_data",
          "data": {
            "image/png": "[encoded data removed]",
            "text/plain": [
              "Plot with title “Histogram of r”"
            ]
          },
          "metadata": {
            "tags": [],
            "image/png": {
              "width": 420,
              "height": 420
            }
          }
        }
      ]
    },
    {
      "cell_type": "markdown",
      "metadata": {
        "id": "eq-Ky4UjnzlL"
      },
      "source": [
        "- 1000"
      ]
    },
    {
      "cell_type": "code",
      "metadata": {
        "colab": {
          "base_uri": "https://localhost:8080/",
          "height": 437
        },
        "id": "wtxlWaSbn1EO",
        "outputId": "889d823c-7763-4e38-dd93-72dca29d75ba"
      },
      "source": [
        "r <- rnorm(n = 1000, mean = 161.2, sd = 5.9)\n",
        "hist(r, xlim = c(130, 190), prob = TRUE)\n",
        "\n",
        "curve(dnorm(x, mean = 161.2, sd = 5.9), col = \"red\", add = TRUE)"
      ],
      "execution_count": 64,
      "outputs": [
        {
          "output_type": "display_data",
          "data": {
            "image/png": "[encoded data removed]",
            "text/plain": [
              "Plot with title “Histogram of r”"
            ]
          },
          "metadata": {
            "tags": [],
            "image/png": {
              "width": 420,
              "height": 420
            }
          }
        }
      ]
    },
    {
      "cell_type": "markdown",
      "metadata": {
        "id": "NUxLqiGCn6OX"
      },
      "source": [
        "- 10000"
      ]
    },
    {
      "cell_type": "code",
      "metadata": {
        "colab": {
          "base_uri": "https://localhost:8080/",
          "height": 437
        },
        "id": "DXR72xeon7Ve",
        "outputId": "909d8485-6bd0-491c-ea86-dd8cacfe9865"
      },
      "source": [
        "r <- rnorm(n = 10000, mean = 161.2, sd = 5.9)\n",
        "hist(r, xlim = c(130, 190), prob = TRUE)\n",
        "\n",
        "curve(dnorm(x, mean = 161.2, sd = 5.9), col = \"red\", add = TRUE)"
      ],
      "execution_count": 70,
      "outputs": [
        {
          "output_type": "display_data",
          "data": {
            "image/png": "[encoded data removed]",
            "text/plain": [
              "Plot with title “Histogram of r”"
            ]
          },
          "metadata": {
            "tags": [],
            "image/png": {
              "width": 420,
              "height": 420
            }
          }
        }
      ]
    },
    {
      "cell_type": "markdown",
      "metadata": {
        "id": "6FCNUqdnoPnw"
      },
      "source": [
        "- 경험적 누적 분포 함수를 그리고 이론적인 정규분포를 겹쳐서 그려라.\n",
        "\n"
      ]
    },
    {
      "cell_type": "markdown",
      "metadata": {
        "id": "iNiDU9tcrfnf"
      },
      "source": [
        "#### (4)\n",
        "\n",
        "남성의 키는 정규분포 $N(174.4, 5.7^2)$, 여성의 키는 정규분포 $N(161.2,\n",
        "5.9^2)$을 따른다고 하자. 임의의 남성 한 명과 임의의 여성 한 명을 짝을\n",
        "지을 때 여성이 키가 더 클 확률을 구하여라.\n",
        "\n",
        "-   정규분포의 성질을 이용하여 이론적인 값을 구하여라.\n",
        "-   시뮬레이션을 이용해 계산하여 보아라."
      ]
    },
    {
      "cell_type": "code",
      "metadata": {
        "id": "w8Jrfc7zrfq4"
      },
      "source": [
        ""
      ],
      "execution_count": null,
      "outputs": []
    },
    {
      "cell_type": "markdown",
      "metadata": {
        "id": "dTSDMTNorfq5"
      },
      "source": [
        "### $t$-분포\n",
        "\n",
        "- 참고 : <https://m.blog.naver.com/PostView.naver?isHttpsRedirect=true&blogId=jungj5011&logNo=220627344869>\n",
        "\n",
        "#### (1)\n",
        "\n",
        "Cushny와 Peebles는 1904년 hyoscyamine hydrobromide의 광학 이성질체의\n",
        "수면 효과의 차이를 10명의 환자들 대상으로 실험 결과를 Journal of\n",
        "Physiology에 발표하였다. L-이성질체가 D-이성질체의 수면 효과의 차이를\n",
        "관찰하였다. 차이가 정규분포를 따른다고 가정하자. 10명 대상 실험 결과\n",
        "표본평균 1.58시간, 표본표준편차 1.23시간이었다. 수면 효과의 차이의 95%\n",
        "신뢰구간을 구하여라."
      ]
    },
    {
      "cell_type": "code",
      "metadata": {
        "id": "JIsro9C7rfq5"
      },
      "source": [
        "n <- 20\n",
        "m <- 1.58\n",
        "s <- 1.23"
      ],
      "execution_count": 76,
      "outputs": []
    },
    {
      "cell_type": "markdown",
      "metadata": {
        "id": "njpn8xtOuhDc"
      },
      "source": [
        "- 정규분포의 신뢰구간"
      ]
    },
    {
      "cell_type": "code",
      "metadata": {
        "colab": {
          "base_uri": "https://localhost:8080/",
          "height": 51
        },
        "id": "iZMEjNFHt7-o",
        "outputId": "1b175ad9-472a-497d-8f76-769b0624b1c7"
      },
      "source": [
        "error <- qnorm(p = 0.975, mean = m, sd = s)\n",
        "upper <- m + error\n",
        "round(upper, 3)\n",
        "lower <- m - error\n",
        "round(lower, 3)"
      ],
      "execution_count": 83,
      "outputs": [
        {
          "output_type": "display_data",
          "data": {
            "text/plain": [
              "[1] 5.571"
            ],
            "text/latex": "5.571",
            "text/markdown": "5.571",
            "text/html": [
              "5.571"
            ]
          },
          "metadata": {
            "tags": []
          }
        },
        {
          "output_type": "display_data",
          "data": {
            "text/plain": [
              "[1] -2.411"
            ],
            "text/latex": "-2.411",
            "text/markdown": "-2.411",
            "text/html": [
              "-2.411"
            ]
          },
          "metadata": {
            "tags": []
          }
        }
      ]
    },
    {
      "cell_type": "markdown",
      "metadata": {
        "id": "2IDIK0YRujxH"
      },
      "source": [
        "- t-분포의 신뢰구간"
      ]
    },
    {
      "cell_type": "code",
      "metadata": {
        "colab": {
          "base_uri": "https://localhost:8080/",
          "height": 51
        },
        "id": "KNRcIki4ulrS",
        "outputId": "76245338-6b09-4ffb-8082-b18361b0cb8a"
      },
      "source": [
        "error <- qt(0.975, n - 1) * s / sqrt(n)\n",
        "upper <- m + error\n",
        "round(upper, 3)\n",
        "lower <- m - error\n",
        "round(lower, 3)"
      ],
      "execution_count": 84,
      "outputs": [
        {
          "output_type": "display_data",
          "data": {
            "text/plain": [
              "[1] 2.156"
            ],
            "text/latex": "2.156",
            "text/markdown": "2.156",
            "text/html": [
              "2.156"
            ]
          },
          "metadata": {
            "tags": []
          }
        },
        {
          "output_type": "display_data",
          "data": {
            "text/plain": [
              "[1] 1.004"
            ],
            "text/latex": "1.004",
            "text/markdown": "1.004",
            "text/html": [
              "1.004"
            ]
          },
          "metadata": {
            "tags": []
          }
        }
      ]
    },
    {
      "cell_type": "markdown",
      "metadata": {
        "id": "f2-10qdMrfq5"
      },
      "source": [
        "#### (2)\n",
        "\n",
        "실제 데이터는 다음과 같다. 차이 $L - D$의 95% 신뢰구간을 구하여라.\n",
        "차이가 없다는 귀무가설을 검정하여라."
      ]
    },
    {
      "cell_type": "code",
      "metadata": {
        "id": "dLiTY8Mkrfq5"
      },
      "source": [
        "sleep <- read.table(header = TRUE, textConnection(\"\n",
        "patient   D       L\n",
        "1         0.7     1.9   \n",
        "2        -1.6     0.8\n",
        "3        -0.2     1.1\n",
        "4        -1.2     0.1\n",
        "5        -0.1    -0.1\n",
        "6         3.4     4.4\n",
        "7         3.7     5.5\n",
        "8         0.8     1.6\n",
        "9         0       4.6\n",
        "10        2.0     3.4\n",
        "\"))\n"
      ],
      "execution_count": null,
      "outputs": []
    },
    {
      "cell_type": "code",
      "metadata": {
        "colab": {
          "base_uri": "https://localhost:8080/",
          "height": 0
        },
        "id": "PsDLWjDMvIun",
        "outputId": "c2a2208e-2b8f-4dac-f402-1db5ba636e8e"
      },
      "source": [
        "str(sleep)"
      ],
      "execution_count": 86,
      "outputs": [
        {
          "output_type": "stream",
          "text": [
            "'data.frame':\t20 obs. of  3 variables:\n",
            " $ extra: num  0.7 -1.6 -0.2 -1.2 -0.1 3.4 3.7 0.8 0 2 ...\n",
            " $ group: Factor w/ 2 levels \"1\",\"2\": 1 1 1 1 1 1 1 1 1 1 ...\n",
            " $ ID   : Factor w/ 10 levels \"1\",\"2\",\"3\",\"4\",..: 1 2 3 4 5 6 7 8 9 10 ...\n"
          ],
          "name": "stdout"
        }
      ]
    },
    {
      "cell_type": "markdown",
      "metadata": {
        "id": "1OIqvzklrfq6"
      },
      "source": [
        "#### (3)\n",
        "\n",
        "표준정규분포와 $t$-분포의 밀도함수를 겹쳐서 그려서 비교하여라. 자유도에\n",
        "따라 $t$-분포가 어떻게 달라지는지 보여라."
      ]
    },
    {
      "cell_type": "code",
      "metadata": {
        "id": "Ls9gYrJ9rfq8"
      },
      "source": [
        ""
      ],
      "execution_count": null,
      "outputs": []
    },
    {
      "cell_type": "markdown",
      "metadata": {
        "id": "Hh-gr9fZrfrE"
      },
      "source": [
        "### 카이제곱분포\n",
        "\n",
        "#### (1)\n",
        "\n",
        "카이제곱분포의 확률밀도함수 그래프를 그려보아라. 자유도에 따라 어떻게\n",
        "다른지 보여라."
      ]
    },
    {
      "cell_type": "code",
      "metadata": {
        "id": "-QjVs9NorfrE"
      },
      "source": [
        ""
      ],
      "execution_count": null,
      "outputs": []
    },
    {
      "cell_type": "markdown",
      "metadata": {
        "id": "T8EbeDM6rfrF"
      },
      "source": [
        "#### (2)\n",
        "\n",
        "서로 독립이고 표준정규분포를 따르는 확률변수 $Z_1,\\cdots,Z_n$이 있을 때\n",
        "제곱의 합을 생각해 보자.\n",
        "\n",
        "$$\n",
        "X = \\sum_{i=1}^n Z_i^2\n",
        "$$\n",
        "\n",
        "이러한 확률변수 $X$의 분포가 자유도가 $n$인 카이제곱분포이다.\n",
        "시뮬레이션을 통해 이것을 보여라.\n",
        "\n",
        "-   표준정규분포를 따르는 난수 $n=8$를 생성하고 제곱의 합을 구한다.\n",
        "-   제곱의 합을 구하는 실험을 1000번 반복한다.\n",
        "-   결과의 히스토그램을 그린다.\n",
        "-   자유도가 8인 카이제곱분포의 확률밀도함수를 겹쳐 그려서 비교한다."
      ]
    },
    {
      "cell_type": "code",
      "metadata": {
        "id": "B6hSqgB1rfrF"
      },
      "source": [
        ""
      ],
      "execution_count": null,
      "outputs": []
    },
    {
      "cell_type": "markdown",
      "metadata": {
        "id": "mbSGG7l2rfrF"
      },
      "source": [
        "#### (3)\n",
        "\n",
        "멘델의 유전 법칙의 예상에 따르면 어떤 콩의 2세대의 주름 여부와 색깔에\n",
        "따른 비율이 9 : 3 : 3 : 1이라고 한다. 다음은 100개의 표본을 관찰한\n",
        "결과이다. 적합도 검정을 하여라.\n",
        "\n",
        "| 유형 | 주름 없는 노랑 | 주름 없는 초록 | 주름 있는 노랑 | 주름 있는 초록 |\n",
        "|------|----------------|----------------|----------------|----------------|\n",
        "| 이론 | 9              | 3              | 3              | 1              |\n",
        "| 관측 | 51             | 18             | 21             | 10             |"
      ]
    },
    {
      "cell_type": "code",
      "metadata": {
        "id": "iJ_WPLJerfrG"
      },
      "source": [
        ""
      ],
      "execution_count": null,
      "outputs": []
    },
    {
      "cell_type": "markdown",
      "metadata": {
        "id": "ApkKlPz3rfrG"
      },
      "source": [
        "### $F$ 분포\n",
        "\n",
        "#### (1)\n",
        "\n",
        "자유도에 따라 $F$ 분포가 어떻게 달라지는지 그래프를 그려 보여라."
      ]
    },
    {
      "cell_type": "code",
      "metadata": {
        "id": "HtW7j-A2rfrG"
      },
      "source": [
        ""
      ],
      "execution_count": null,
      "outputs": []
    },
    {
      "cell_type": "markdown",
      "metadata": {
        "id": "44r2_CwjrfrG"
      },
      "source": [
        "#### (2)\n",
        "\n",
        "서로 독립인 카이제곱분포를 따르면 확률변수의 비의 형태가 $F$ 분포가\n",
        "된다. 자유도가 각각 $k_1$, $k_2$인 카이제곱분포를 따르는 확률변수 $V_1$,\n",
        "$V_2$가 있을 때 다음과 같은 비가 자유도가 $k_1, k_2$이$F$ 분포가 된다.\n",
        "\n",
        "$$\n",
        "F = \\frac{V_1/k_1}{V2/k_2}\n",
        "$$\n",
        "\n",
        "시뮬레이션을 통해 확연하여라.\n",
        "\n",
        "-   자유도가 $k_1=30$인 카이제곱분포에서 $V_1$, 자유도가 $k_2=5$인\n",
        "    카이제곱분포에서 $V_2$ 난수를 생성한다.\n",
        "-   $F = \\frac{V_1/k_1}{V_2/k_2}$를 계산한다.\n",
        "-   이것을 1000번 반복하여 얻어진 결과의 히스토그램을 그린다.\n",
        "-   이론적인 $F$ 분포의 확률밀도함수를 겹쳐 그려서 비교한다."
      ]
    },
    {
      "cell_type": "code",
      "metadata": {
        "id": "qQAWGMMKrfrH"
      },
      "source": [
        ""
      ],
      "execution_count": null,
      "outputs": []
    },
    {
      "cell_type": "markdown",
      "metadata": {
        "id": "C_ID10FwrfrH"
      },
      "source": [
        "모집단과 표본\n",
        "-------------\n",
        "\n",
        "### 상대빈도와 확률\n",
        "\n",
        "통계적 확률(statistical probability)라는 확률을 상대빈도의 극한으로 보는\n",
        "것을 말한다. 표본의 크기가 커짐에 따라 상대빈도가 확률에 가까와지는 것을\n",
        "모의실험을 통해 확인해 보자.\n",
        "\n",
        "-   어느 공장에서 생산되는 제품의 불량률이 1%라고 하자.\n",
        "-   불량품이면 1, 정상이면 0이라고 하자.\n",
        "-   이항분포를 이용하여 $n$개의 난수를 생성하고 1의 상대도수, 즉, 평균을\n",
        "    계산하자. 이것이 표본불량률이다.\n",
        "-   표본의 크기 $n$을 늘려가며 상대도수가 어떻게 변하는지 실험하고\n",
        "    그래프로 표현하여라."
      ]
    },
    {
      "cell_type": "code",
      "metadata": {
        "id": "xnC5131UrfrH"
      },
      "source": [
        ""
      ],
      "execution_count": null,
      "outputs": []
    },
    {
      "cell_type": "markdown",
      "metadata": {
        "id": "-mIiCLGUrfrI"
      },
      "source": [
        "### 중심극한정리\n",
        "\n",
        "중심극한정리(Central Limit Theorem)은 표본의 크기가 충분히 크면 모집단의\n",
        "분포에 관계없이 표본평균의 분포가 정규분포에 가까와진다는 것이다.\n",
        "모의실험을 통해 확인해 보자.\n",
        "\n",
        "-   주사위 1개를 던져서 나오는 눈의 수 $X$의 분포를 그래프로 그려보아라.\n",
        "-   주사위 1개를 던지는 실험을 1000번 반복한 결과의 돗수를 계산하고\n",
        "    그래프로 그려보아라.\n",
        "-   주사위 2개를 던져서 나오는 눈의 합에 대해 같은 실험을 해 보아라.\n",
        "-   주사위 1개를 던져서 나오는 눈의 합에 대해 같은 실험을 해 보아라."
      ]
    },
    {
      "cell_type": "code",
      "metadata": {
        "id": "rPPF3rWrrfrI"
      },
      "source": [
        ""
      ],
      "execution_count": null,
      "outputs": []
    },
    {
      "cell_type": "markdown",
      "metadata": {
        "id": "ho7oEN7HrfrJ"
      },
      "source": [
        "### 표준오차\n",
        "\n",
        "다음과 같은 모의실험을 해보자.\n",
        "\n",
        "-   대통령 선거에서 A, B 두 후보가 출마하였다. A 후보의 지지율이\n",
        "    45%($p=0.45$)라고 하자. 실제 상황에서는 우리는 이것을 모르기 때문에\n",
        "    여론 조사를 한다. 모의실험에서는 참값을 알고 실험을 할 수 있다.\n",
        "-   랜덤하게 $n=100, 500, 1000, 5000, 10000, 50000$에게 물어보았을 때 A\n",
        "    후보를 지지하는 표본비율의 표준편차를 생각해 보자. 중심극한정리에\n",
        "    따라 표본비율은 평균이 $p$이고 분산이 $p(1-p)/n$인 정규분포로 근사할\n",
        "    수 있다.\n",
        "-   이것을 모의실험을 통해 확인해 보아라."
      ]
    },
    {
      "cell_type": "code",
      "metadata": {
        "id": "EBtVp69xrfrJ"
      },
      "source": [
        ""
      ],
      "execution_count": null,
      "outputs": []
    },
    {
      "cell_type": "markdown",
      "metadata": {
        "id": "H8vIfxaRrfrK"
      },
      "source": [
        "### 신뢰구간\n",
        "\n",
        "신뢰구간의 의미를 보여주는 모의실험을 해보자.\n",
        "\n",
        "-   평균이 $\\mu$이고 분산이 $\\sigma^2$인 정규분포에서 난수를 생성하여\n",
        "    크기 $n$인 표본을 얻는다.\n",
        "-   표본평균 $\\bar X$과 표본분산 $S^2$를 계산한다.\n",
        "-   95% 신뢰구간을 계산한다.\n",
        "-   이렇게 신뢰구간을 계산하는 실험을 $r$번 반복한다.\n",
        "-   $r$번의 실험 중 신뢰구간이 $\\mu$를 포함하지 않는 경우가 몇 번인지\n",
        "    확인한다.\n",
        "\n",
        "참고: <http://estat.me/estat/eStatU/64SampleEng.htm>"
      ]
    },
    {
      "cell_type": "code",
      "metadata": {
        "id": "rKoNmSvhrfrK"
      },
      "source": [
        ""
      ],
      "execution_count": null,
      "outputs": []
    }
  ]
}